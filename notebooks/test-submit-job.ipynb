{
 "cells": [
  {
   "cell_type": "code",
   "execution_count": 10,
   "id": "9c7a0c7e",
   "metadata": {},
   "outputs": [],
   "source": [
    "import sys"
   ]
  },
  {
   "cell_type": "code",
   "execution_count": 11,
   "id": "8c00ca60",
   "metadata": {},
   "outputs": [
    {
     "data": {
      "text/plain": [
       "'/n/groups/datta/tim_sainburg/conda_envs/peromoseq/bin/python3'"
      ]
     },
     "execution_count": 11,
     "metadata": {},
     "output_type": "execute_result"
    }
   ],
   "source": [
    "sys.executable"
   ]
  },
  {
   "cell_type": "code",
   "execution_count": 4,
   "id": "5ecc64a4",
   "metadata": {},
   "outputs": [],
   "source": [
    "from pathlib import Path"
   ]
  },
  {
   "cell_type": "code",
   "execution_count": 69,
   "id": "e0003850",
   "metadata": {},
   "outputs": [],
   "source": [
    "python_script_loc = Path('/n/groups/datta/tim_sainburg/datasets/scratch/test_python.py')\n",
    "bash_script_loc = Path('/n/groups/datta/tim_sainburg/datasets/scratch/test_bash.sh')"
   ]
  },
  {
   "cell_type": "code",
   "execution_count": 70,
   "id": "06aef2bf",
   "metadata": {},
   "outputs": [
    {
     "name": "stdout",
     "output_type": "stream",
     "text": [
      "#!/usr/bin/env bash\n",
      "#SBATCH --partition=short\n",
      "#SBATCH --job-name=test_job\n",
      "#SBATCH --cpus-per-task=1\n",
      "#SBATCH --mem=1G\n",
      "#SBATCH --time=0:01:00\n",
      "\n",
      "module load gcc/9.2.0\n",
      "\n",
      "python /n/groups/datta/tim_sainburg/datasets/scratch/test_python.py\n",
      "\n"
     ]
    }
   ],
   "source": [
    "slurm_script = f\"\"\"#!/usr/bin/env bash\n",
    "#SBATCH --partition=short\n",
    "#SBATCH --job-name=test_job\n",
    "#SBATCH --cpus-per-task=1\n",
    "#SBATCH --mem=1G\n",
    "#SBATCH --time=0:01:00\n",
    "\n",
    "module load gcc/9.2.0\n",
    "\n",
    "python {python_script_loc.as_posix()}\n",
    "\"\"\"\n",
    "print(slurm_script)"
   ]
  },
  {
   "cell_type": "code",
   "execution_count": 71,
   "id": "08b80c4b",
   "metadata": {},
   "outputs": [],
   "source": [
    "python_script = \"print('Hello World'); import time; time.sleep(60*10)\""
   ]
  },
  {
   "cell_type": "code",
   "execution_count": 72,
   "id": "e10cd956",
   "metadata": {},
   "outputs": [
    {
     "data": {
      "text/plain": [
       "52"
      ]
     },
     "execution_count": 72,
     "metadata": {},
     "output_type": "execute_result"
    }
   ],
   "source": [
    "# Create directories if they do not exist\n",
    "python_script_loc.parent.mkdir(parents=True, exist_ok=True)\n",
    "bash_script_loc.parent.mkdir(parents=True, exist_ok=True)\n",
    "\n",
    "# Write the Slurm script to file\n",
    "bash_script_loc.write_text(slurm_script)\n",
    "\n",
    "# Write the Python script to file\n",
    "python_script_loc.write_text(python_script)"
   ]
  },
  {
   "cell_type": "code",
   "execution_count": 73,
   "id": "c37cfccb",
   "metadata": {},
   "outputs": [],
   "source": [
    "import paramiko"
   ]
  },
  {
   "cell_type": "code",
   "execution_count": 74,
   "id": "0a2097a9",
   "metadata": {},
   "outputs": [
    {
     "data": {
      "text/plain": [
       "'sbatch /n/groups/datta/tim_sainburg/datasets/scratch/test_bash.sh'"
      ]
     },
     "execution_count": 74,
     "metadata": {},
     "output_type": "execute_result"
    }
   ],
   "source": [
    "submit_command = f\"sbatch {bash_script_loc}\"\n",
    "submit_command"
   ]
  },
  {
   "cell_type": "code",
   "execution_count": 75,
   "id": "d0f6ed2a",
   "metadata": {},
   "outputs": [
    {
     "name": "stdout",
     "output_type": "stream",
     "text": [
      "#!/usr/bin/env bash\r\n",
      "#SBATCH --partition=short\r\n",
      "#SBATCH --job-name=test_job\r\n",
      "#SBATCH --cpus-per-task=1\r\n",
      "#SBATCH --mem=1G\r\n",
      "#SBATCH --time=0:01:00\r\n",
      "\r\n",
      "module load gcc/9.2.0\r\n",
      "\r\n",
      "python /n/groups/datta/tim_sainburg/datasets/scratch/test_python.py\r\n"
     ]
    }
   ],
   "source": [
    "!tail /n/groups/datta/tim_sainburg/datasets/scratch/test_bash.sh"
   ]
  },
  {
   "cell_type": "code",
   "execution_count": 76,
   "id": "9aff11bc",
   "metadata": {},
   "outputs": [],
   "source": [
    "username = 'tis697'\n",
    "o2_server = 'login.o2.rc.hms.harvard.edu'"
   ]
  },
  {
   "cell_type": "code",
   "execution_count": 77,
   "id": "93d99f1e",
   "metadata": {},
   "outputs": [
    {
     "name": "stdout",
     "output_type": "stream",
     "text": [
      "Submitted batch job 43523952\n",
      "\n"
     ]
    }
   ],
   "source": [
    "ssh = paramiko.SSHClient()\n",
    "ssh.set_missing_host_key_policy(paramiko.AutoAddPolicy())\n",
    "ssh.connect(o2_server, username=username)\n",
    "stdin, stdout, stderr = ssh.exec_command(submit_command)\n",
    "output = stdout.read().decode()\n",
    "print(output)\n",
    "ssh.close()"
   ]
  },
  {
   "cell_type": "code",
   "execution_count": 78,
   "id": "73253ebc",
   "metadata": {},
   "outputs": [
    {
     "data": {
      "text/plain": [
       "'Submitted batch job 43523952\\n'"
      ]
     },
     "execution_count": 78,
     "metadata": {},
     "output_type": "execute_result"
    }
   ],
   "source": [
    "output"
   ]
  },
  {
   "cell_type": "code",
   "execution_count": 79,
   "id": "1d2c0d3c",
   "metadata": {},
   "outputs": [],
   "source": [
    "slurm_output = output"
   ]
  },
  {
   "cell_type": "code",
   "execution_count": 80,
   "id": "24f6578e",
   "metadata": {},
   "outputs": [
    {
     "data": {
      "text/plain": [
       "'Submitted batch job 43523952\\n'"
      ]
     },
     "execution_count": 80,
     "metadata": {},
     "output_type": "execute_result"
    }
   ],
   "source": [
    "slurm_output"
   ]
  },
  {
   "cell_type": "code",
   "execution_count": 81,
   "id": "c6703475",
   "metadata": {},
   "outputs": [],
   "source": [
    "if slurm_output[: len(expected_slurm_output)] != expected_slurm_output:\n",
    "    raise Exception(f\"Error submitting job: {slurm_output}\")\n",
    "job_id = slurm_output[len(expected_slurm_output) :-1]"
   ]
  },
  {
   "cell_type": "code",
   "execution_count": 84,
   "id": "7640226d",
   "metadata": {},
   "outputs": [
    {
     "name": "stdout",
     "output_type": "stream",
     "text": [
      "JobId=43523952 JobName=test_job\r\n",
      "   UserId=tis697(190153) GroupId=tis697(2190153) MCS_label=N/A\r\n",
      "   Priority=628392 Nice=0 Account=datta QOS=normal\r\n",
      "   JobState=PENDING Reason=None Dependency=(null)\r\n",
      "   Requeue=0 Restarts=0 BatchFlag=1 Reboot=0 ExitCode=0:0\r\n",
      "   RunTime=00:00:00 TimeLimit=00:01:00 TimeMin=N/A\r\n",
      "   SubmitTime=2024-08-07T11:36:12 EligibleTime=2024-08-07T11:36:12\r\n",
      "   AccrueTime=2024-08-07T11:36:12\r\n",
      "   StartTime=Unknown EndTime=Unknown Deadline=N/A\r\n",
      "   SuspendTime=None SecsPreSuspend=0 LastSchedEval=2024-08-07T11:36:12 Scheduler=Main\r\n",
      "   Partition=short AllocNode:Sid=login05:20031\r\n",
      "   ReqNodeList=(null) ExcNodeList=compute-h-17-[50-55]\r\n",
      "   NodeList=\r\n",
      "   NumNodes=1 NumCPUs=1 NumTasks=1 CPUs/Task=1 ReqB:S:C:T=0:0:*:*\r\n",
      "   ReqTRES=cpu=1,mem=1G,node=1,billing=1\r\n",
      "   AllocTRES=(null)\r\n",
      "   Socks/Node=* NtasksPerN:B:S:C=0:0:*:* CoreSpec=*\r\n",
      "   MinCPUsNode=1 MinMemoryNode=1G MinTmpDiskNode=0\r\n",
      "   Features=(null) DelayBoot=00:00:00\r\n",
      "   OverSubscribe=OK Contiguous=0 Licenses=(null) Network=(null)\r\n",
      "   Command=/n/groups/datta/tim_sainburg/datasets/scratch/test_bash.sh\r\n",
      "   WorkDir=/home/tis697\r\n",
      "   StdErr=/home/tis697/slurm-43523952.out\r\n",
      "   StdIn=/dev/null\r\n",
      "   StdOut=/home/tis697/slurm-43523952.out\r\n",
      "   Power=\r\n",
      "   \r\n",
      "\r\n"
     ]
    }
   ],
   "source": [
    "!scontrol show job {job_id}"
   ]
  },
  {
   "cell_type": "code",
   "execution_count": 88,
   "id": "753dc573",
   "metadata": {},
   "outputs": [],
   "source": [
    "check_command = f\"sacct -j {job_id} --format=JobID,State | grep -E '^[0-9]+ ' | awk '{{print $2}}'\""
   ]
  },
  {
   "cell_type": "code",
   "execution_count": 89,
   "id": "c186ac54",
   "metadata": {},
   "outputs": [
    {
     "name": "stdout",
     "output_type": "stream",
     "text": [
      "RUNNING\r\n"
     ]
    }
   ],
   "source": [
    "!{check_command}"
   ]
  },
  {
   "cell_type": "code",
   "execution_count": 90,
   "id": "bde6ea49",
   "metadata": {},
   "outputs": [
    {
     "name": "stdout",
     "output_type": "stream",
     "text": [
      "   RUNNING \r\n",
      "   RUNNING \r\n",
      "   RUNNING \r\n"
     ]
    }
   ],
   "source": [
    "!sacct -j {job_id} --format=State --noheader"
   ]
  },
  {
   "cell_type": "code",
   "execution_count": 91,
   "id": "67607cd4",
   "metadata": {},
   "outputs": [
    {
     "name": "stdout",
     "output_type": "stream",
     "text": [
      "RUNNING\n",
      "\n"
     ]
    }
   ],
   "source": [
    "ssh = paramiko.SSHClient()\n",
    "ssh.set_missing_host_key_policy(paramiko.AutoAddPolicy())\n",
    "ssh.connect(o2_server, username=username)\n",
    "stdin, stdout, stderr = ssh.exec_command(check_command)\n",
    "output = stdout.read().decode()\n",
    "print(output)\n",
    "ssh.close()"
   ]
  },
  {
   "cell_type": "code",
   "execution_count": 92,
   "id": "5e85e9e0",
   "metadata": {},
   "outputs": [
    {
     "data": {
      "text/plain": [
       "'RUNNING'"
      ]
     },
     "execution_count": 92,
     "metadata": {},
     "output_type": "execute_result"
    }
   ],
   "source": [
    "output[:-1]"
   ]
  },
  {
   "cell_type": "code",
   "execution_count": null,
   "id": "03aadd8a",
   "metadata": {},
   "outputs": [],
   "source": []
  }
 ],
 "metadata": {
  "kernelspec": {
   "display_name": "peromoseq",
   "language": "python",
   "name": "peromoseq"
  },
  "language_info": {
   "codemirror_mode": {
    "name": "ipython",
    "version": 3
   },
   "file_extension": ".py",
   "mimetype": "text/x-python",
   "name": "python",
   "nbconvert_exporter": "python",
   "pygments_lexer": "ipython3",
   "version": "3.10.13"
  }
 },
 "nbformat": 4,
 "nbformat_minor": 5
}
