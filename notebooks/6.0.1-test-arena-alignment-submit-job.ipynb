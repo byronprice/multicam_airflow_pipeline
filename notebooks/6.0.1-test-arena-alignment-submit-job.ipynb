{
 "cells": [
  {
   "cell_type": "code",
   "execution_count": 1,
   "id": "19098993",
   "metadata": {},
   "outputs": [],
   "source": [
    "%load_ext autoreload\n",
    "%autoreload 2"
   ]
  },
  {
   "cell_type": "code",
   "execution_count": 2,
   "id": "900a1f1a",
   "metadata": {},
   "outputs": [
    {
     "name": "stdout",
     "output_type": "stream",
     "text": [
      "/n/groups/datta/tim_sainburg/conda_envs/peromoseq/bin/python3\n"
     ]
    }
   ],
   "source": [
    "from pathlib import Path\n",
    "import sys\n",
    "import logging\n",
    "import inspect\n",
    "logging.basicConfig(level=logging.INFO)\n",
    "print(sys.executable)"
   ]
  },
  {
   "cell_type": "markdown",
   "id": "d4930f63",
   "metadata": {},
   "source": [
    "### Get recording info (google sheets)"
   ]
  },
  {
   "cell_type": "code",
   "execution_count": 3,
   "id": "63237b3a",
   "metadata": {},
   "outputs": [],
   "source": [
    "import requests\n",
    "import pandas as pd\n",
    "from io import BytesIO"
   ]
  },
  {
   "cell_type": "code",
   "execution_count": 4,
   "id": "5909c615",
   "metadata": {},
   "outputs": [],
   "source": [
    "# spreadsheet_url = 'https://docs.google.com/spreadsheet/ccc?key=14HIqUaSl_n-91hpAvmACY_iVY9nLKdlA6qklhxfZon0&output=csv&gid=0'\n",
    "spreadsheet_url = \"https://docs.google.com/spreadsheet/ccc?key=1jACsUmxuJ9Une59qmvzZGc1qXezKhKzD1zho2sEfcrU&output=csv&gid=0\"\n",
    "response = requests.get(spreadsheet_url)\n",
    "recording_df = pd.read_csv(BytesIO(response.content))"
   ]
  },
  {
   "cell_type": "code",
   "execution_count": 5,
   "id": "49df48f5",
   "metadata": {},
   "outputs": [
    {
     "data": {
      "text/html": [
       "<div>\n",
       "<style scoped>\n",
       "    .dataframe tbody tr th:only-of-type {\n",
       "        vertical-align: middle;\n",
       "    }\n",
       "\n",
       "    .dataframe tbody tr th {\n",
       "        vertical-align: top;\n",
       "    }\n",
       "\n",
       "    .dataframe thead th {\n",
       "        text-align: right;\n",
       "    }\n",
       "</style>\n",
       "<table border=\"1\" class=\"dataframe\">\n",
       "  <thead>\n",
       "    <tr style=\"text-align: right;\">\n",
       "      <th></th>\n",
       "      <th>Subject</th>\n",
       "      <th>duration_m</th>\n",
       "      <th>video_recording_id</th>\n",
       "      <th>ephys_id</th>\n",
       "      <th>calibration_id</th>\n",
       "      <th>video_location_on_o2</th>\n",
       "      <th>ephys_location_on_o2</th>\n",
       "      <th>calibration_location_on_o2</th>\n",
       "      <th>samplerate</th>\n",
       "      <th>username</th>\n",
       "      <th>n_ephys_streams</th>\n",
       "      <th>max_video_duration_m</th>\n",
       "    </tr>\n",
       "  </thead>\n",
       "  <tbody>\n",
       "    <tr>\n",
       "      <th>0</th>\n",
       "      <td>M04002</td>\n",
       "      <td>10</td>\n",
       "      <td>24-05-01-13-26-43-110846</td>\n",
       "      <td>2024-05-01_13-26-37</td>\n",
       "      <td>24-05-01-13-45-07-825493</td>\n",
       "      <td>/n/groups/datta/tim_sainburg/datasets/chronic2...</td>\n",
       "      <td>/n/groups/datta/tim_sainburg/datasets/chronic2...</td>\n",
       "      <td>/n/groups/datta/tim_sainburg/datasets/chronic2...</td>\n",
       "      <td>150</td>\n",
       "      <td>tis697</td>\n",
       "      <td>1</td>\n",
       "      <td>10</td>\n",
       "    </tr>\n",
       "  </tbody>\n",
       "</table>\n",
       "</div>"
      ],
      "text/plain": [
       "  Subject  duration_m        video_recording_id             ephys_id  \\\n",
       "0  M04002          10  24-05-01-13-26-43-110846  2024-05-01_13-26-37   \n",
       "\n",
       "             calibration_id  \\\n",
       "0  24-05-01-13-45-07-825493   \n",
       "\n",
       "                                video_location_on_o2  \\\n",
       "0  /n/groups/datta/tim_sainburg/datasets/chronic2...   \n",
       "\n",
       "                                ephys_location_on_o2  \\\n",
       "0  /n/groups/datta/tim_sainburg/datasets/chronic2...   \n",
       "\n",
       "                          calibration_location_on_o2  samplerate username  \\\n",
       "0  /n/groups/datta/tim_sainburg/datasets/chronic2...         150   tis697   \n",
       "\n",
       "   n_ephys_streams  max_video_duration_m  \n",
       "0                1                    10  "
      ]
     },
     "execution_count": 5,
     "metadata": {},
     "output_type": "execute_result"
    }
   ],
   "source": [
    "recording_df[:3]"
   ]
  },
  {
   "cell_type": "markdown",
   "id": "9c657989",
   "metadata": {},
   "source": [
    "### Submit job"
   ]
  },
  {
   "cell_type": "code",
   "execution_count": 6,
   "id": "7951d065",
   "metadata": {},
   "outputs": [
    {
     "name": "stderr",
     "output_type": "stream",
     "text": [
      "INFO:multicamera_airflow_pipeline.tim_240731.interface.o2:Python interpreter binary location: /n/groups/datta/tim_sainburg/conda_envs/peromoseq/bin/python3\n",
      "/n/groups/datta/tim_sainburg/conda_envs/peromoseq/lib/python3.10/site-packages/paramiko/pkey.py:100: CryptographyDeprecationWarning: TripleDES has been moved to cryptography.hazmat.decrepit.ciphers.algorithms.TripleDES and will be removed from this module in 48.0.0.\n",
      "  \"cipher\": algorithms.TripleDES,\n",
      "/n/groups/datta/tim_sainburg/conda_envs/peromoseq/lib/python3.10/site-packages/paramiko/transport.py:259: CryptographyDeprecationWarning: TripleDES has been moved to cryptography.hazmat.decrepit.ciphers.algorithms.TripleDES and will be removed from this module in 48.0.0.\n",
      "  \"class\": algorithms.TripleDES,\n"
     ]
    }
   ],
   "source": [
    "from multicamera_airflow_pipeline.tim_240731.interface.o2 import O2Runner\n",
    "from pathlib import Path\n",
    "from datetime import datetime"
   ]
  },
  {
   "cell_type": "code",
   "execution_count": 7,
   "id": "7c52b0f0",
   "metadata": {},
   "outputs": [],
   "source": [
    "for idx, recording_row in recording_df.iterrows():\n",
    "    break"
   ]
  },
  {
   "cell_type": "code",
   "execution_count": 8,
   "id": "5228937d",
   "metadata": {},
   "outputs": [
    {
     "data": {
      "text/plain": [
       "Subject                                                                  M04002\n",
       "duration_m                                                                   10\n",
       "video_recording_id                                     24-05-01-13-26-43-110846\n",
       "ephys_id                                                    2024-05-01_13-26-37\n",
       "calibration_id                                         24-05-01-13-45-07-825493\n",
       "video_location_on_o2          /n/groups/datta/tim_sainburg/datasets/chronic2...\n",
       "ephys_location_on_o2          /n/groups/datta/tim_sainburg/datasets/chronic2...\n",
       "calibration_location_on_o2    /n/groups/datta/tim_sainburg/datasets/chronic2...\n",
       "samplerate                                                                  150\n",
       "username                                                                 tis697\n",
       "n_ephys_streams                                                               1\n",
       "max_video_duration_m                                                         10\n",
       "Name: 0, dtype: object"
      ]
     },
     "execution_count": 8,
     "metadata": {},
     "output_type": "execute_result"
    }
   ],
   "source": [
    "recording_row"
   ]
  },
  {
   "cell_type": "markdown",
   "id": "fa0fa7af",
   "metadata": {},
   "source": [
    "### Job specific"
   ]
  },
  {
   "cell_type": "code",
   "execution_count": 9,
   "id": "1102e0ed",
   "metadata": {},
   "outputs": [],
   "source": [
    "import yaml\n",
    "import textwrap\n",
    "import time"
   ]
  },
  {
   "cell_type": "code",
   "execution_count": 10,
   "id": "81a7f7fa",
   "metadata": {},
   "outputs": [
    {
     "name": "stdout",
     "output_type": "stream",
     "text": [
      "2D_predictions\t    continuous_features   size_normalization  triangulation\r\n",
      "arena_alignment     egocentric_alignment  spikesorting\t      triangulation2\r\n",
      "camera_calibration  gimbal\t\t  tensorrt\r\n",
      "camera_sync\t    openephys_sync\t  tensorrt-2\r\n"
     ]
    }
   ],
   "source": [
    "!ls /n/groups/datta/tim_sainburg/datasets/scratch/240806-3d-pipeline"
   ]
  },
  {
   "cell_type": "code",
   "execution_count": 11,
   "id": "34d648d1",
   "metadata": {},
   "outputs": [],
   "source": [
    "# these are arguments\n",
    "output_directory = Path(\"/n/groups/datta/tim_sainburg/datasets/scratch/\") / \"240806-3d-pipeline\"\n",
    "job_directory = Path('/n/groups/datta/tim_sainburg/datasets/scratch/jobs')\n",
    "job_directory.mkdir(exist_ok=True, parents=True)\n",
    "config_file = Path(\"/n/groups/datta/tim_sainburg/projects/multicamera_airflow_pipeline/multicamera_airflow_pipeline/tim_240731/default_config.yaml\")"
   ]
  },
  {
   "cell_type": "code",
   "execution_count": 12,
   "id": "da71696d",
   "metadata": {},
   "outputs": [],
   "source": [
    "def convert_minutes_to_hms(minutes_float):\n",
    "    # Convert minutes to total seconds\n",
    "    total_seconds = int(minutes_float * 60)\n",
    "    \n",
    "    # Extract hours, minutes, and seconds using divmod\n",
    "    hours, remainder = divmod(total_seconds, 3600)\n",
    "    minutes, seconds = divmod(remainder, 60)\n",
    "    \n",
    "    # Format as HH:MM:SS\n",
    "    return f\"{hours:02}:{minutes:02}:{seconds:02}\""
   ]
  },
  {
   "cell_type": "code",
   "execution_count": 13,
   "id": "7483872f",
   "metadata": {},
   "outputs": [],
   "source": [
    "def check_arena_alignment_completion(arena_alignment_output_directory):\n",
    "    return (arena_alignment_output_directory / \"completed.txt\").exists()"
   ]
  },
  {
   "cell_type": "code",
   "execution_count": 14,
   "id": "f6fb5de4",
   "metadata": {
    "scrolled": true
   },
   "outputs": [],
   "source": [
    "# load config\n",
    "config_file = Path(config_file)\n",
    "config = yaml.safe_load(open(config_file, \"r\"))"
   ]
  },
  {
   "cell_type": "code",
   "execution_count": 15,
   "id": "083dceff",
   "metadata": {},
   "outputs": [],
   "source": [
    "# where the video data is located\n",
    "recording_directory = Path(recording_row.calibration_location_on_o2) / recording_row.calibration_id"
   ]
  },
  {
   "cell_type": "code",
   "execution_count": 16,
   "id": "7a69a50f",
   "metadata": {},
   "outputs": [],
   "source": [
    "# where to save output\n",
    "arena_alignment_output_directory = (\n",
    "    output_directory / \"arena_alignment\" / recording_row.video_recording_id\n",
    ")\n",
    "arena_alignment_output_directory.mkdir(parents=True, exist_ok=True)\n",
    "current_datetime_str = datetime.now().strftime(\"%Y%m%d_%H%M%S_%f\")\n",
    "remote_job_directory = job_directory / current_datetime_str"
   ]
  },
  {
   "cell_type": "code",
   "execution_count": 17,
   "id": "3bfa5c76",
   "metadata": {},
   "outputs": [
    {
     "name": "stdout",
     "output_type": "stream",
     "text": [
      "ls: cannot access {output_directory_arena_alignment}: No such file or directory\r\n"
     ]
    }
   ],
   "source": [
    "!ls {output_directory_arena_alignment}"
   ]
  },
  {
   "cell_type": "code",
   "execution_count": 18,
   "id": "85bd6f84",
   "metadata": {},
   "outputs": [
    {
     "name": "stdout",
     "output_type": "stream",
     "text": [
      "arena_alignment completed, quitting\n"
     ]
    }
   ],
   "source": [
    "# check if sync successfully completed\n",
    "if config[\"arena_alignment\"][\"recompute_completed\"] == False:\n",
    "    if check_arena_alignment_completion(arena_alignment_output_directory):\n",
    "        print(\"arena_alignment completed, quitting\")\n",
    "        # return\n",
    "    else:\n",
    "        print(\"arena_alignment incomplete, starting\")"
   ]
  },
  {
   "cell_type": "code",
   "execution_count": 19,
   "id": "44e03c87",
   "metadata": {},
   "outputs": [],
   "source": [
    "predictions_3d_file = list(\n",
    "    (output_directory / \"size_normalization\" / recording_row.video_recording_id).glob(\n",
    "        \"size_norm.*.mmap\"\n",
    "    )\n",
    ")[0]"
   ]
  },
  {
   "cell_type": "code",
   "execution_count": 20,
   "id": "e538538b",
   "metadata": {},
   "outputs": [],
   "source": [
    "assert predictions_3d_file.exists()"
   ]
  },
  {
   "cell_type": "code",
   "execution_count": 21,
   "id": "f197f5ac",
   "metadata": {},
   "outputs": [
    {
     "data": {
      "text/plain": [
       "'00:10:00'"
      ]
     },
     "execution_count": 21,
     "metadata": {},
     "output_type": "execute_result"
    }
   ],
   "source": [
    "duration_requested = convert_minutes_to_hms(\n",
    "        recording_row.duration_m * config[\"o2\"][\"arena_alignment\"][\"o2_runtime_multiplier\"]\n",
    "    )\n",
    "duration_requested"
   ]
  },
  {
   "cell_type": "code",
   "execution_count": 22,
   "id": "9317053c",
   "metadata": {},
   "outputs": [],
   "source": [
    "params = {\n",
    "    \"predictions_3d_file\": predictions_3d_file.as_posix(),\n",
    "    \"arena_alignment_output_directory\": arena_alignment_output_directory.as_posix(),\n",
    "}"
   ]
  },
  {
   "cell_type": "code",
   "execution_count": 23,
   "id": "635b1d6e",
   "metadata": {},
   "outputs": [
    {
     "name": "stderr",
     "output_type": "stream",
     "text": [
      "INFO:paramiko.transport:Connected (version 2.0, client OpenSSH_7.4)\n",
      "INFO:paramiko.transport:Auth banner: b'Problems logging in?\\nUse your lower case HMS ID, like abc123, not ABC123.\\nIf locked out, see:\\nhttps://it.hms.harvard.edu/i-want/reset-password-or-unlock-your-hms-account\\n'\n",
      "INFO:paramiko.transport:Authentication (publickey) successful!\n"
     ]
    }
   ],
   "source": [
    "# create the job runner\n",
    "runner = O2Runner(\n",
    "    job_name_prefix=f\"{recording_row.video_recording_id}_arena_alignment\",\n",
    "    remote_job_directory=remote_job_directory,\n",
    "    conda_env=\"/n/groups/datta/tim_sainburg/conda_envs/peromoseq\",\n",
    "    o2_username=recording_row.username,\n",
    "    o2_server=\"login.o2.rc.hms.harvard.edu\",\n",
    "    job_params=params,\n",
    "    o2_n_cpus=config[\"o2\"][\"arena_alignment\"][\"o2_n_cpus\"],\n",
    "    o2_memory=config[\"o2\"][\"arena_alignment\"][\"o2_memory\"],\n",
    "    o2_time_limit=duration_requested,\n",
    "    o2_queue=config[\"o2\"][\"arena_alignment\"][\"o2_queue\"],\n",
    ")"
   ]
  },
  {
   "cell_type": "code",
   "execution_count": 24,
   "id": "38fbc1be",
   "metadata": {},
   "outputs": [],
   "source": [
    "runner.python_script = textwrap.dedent(\n",
    "f\"\"\"\n",
    "# load params\n",
    "import yaml\n",
    "params_file = \"{runner.remote_job_directory / f\"{runner.job_name}.params.yaml\"}\"\n",
    "config_file = \"{config_file.as_posix()}\"\n",
    "\n",
    "params = yaml.safe_load(open(params_file, 'r'))\n",
    "config = yaml.safe_load(open(config_file, 'r'))\n",
    "\n",
    "# grab sync cameras function\n",
    "from multicamera_airflow_pipeline.tim_240731.keypoints.alignment.arena import ArenaAligner \n",
    "arena_aligner = ArenaAligner(\n",
    "    predictions_3d_file = params['predictions_3d_file'],\n",
    "    arena_alignment_output_directory = params['arena_alignment_output_directory'],\n",
    "    **config[\"arena_alignment\"]\n",
    ")\n",
    "arena_aligner.run()\n",
    "\"\"\"\n",
    ")"
   ]
  },
  {
   "cell_type": "code",
   "execution_count": 25,
   "id": "b6bb6e2f",
   "metadata": {},
   "outputs": [
    {
     "name": "stdout",
     "output_type": "stream",
     "text": [
      "\n",
      "# load params\n",
      "import yaml\n",
      "params_file = \"/n/groups/datta/tim_sainburg/datasets/scratch/jobs/20240809_134350_992051/24-05-01-13-26-43-110846_arena_alignment_24-08-09-2024-43-53-834543.params.yaml\"\n",
      "config_file = \"/n/groups/datta/tim_sainburg/projects/multicamera_airflow_pipeline/multicamera_airflow_pipeline/tim_240731/default_config.yaml\"\n",
      "\n",
      "params = yaml.safe_load(open(params_file, 'r'))\n",
      "config = yaml.safe_load(open(config_file, 'r'))\n",
      "\n",
      "# grab sync cameras function\n",
      "from multicamera_airflow_pipeline.tim_240731.keypoints.alignment.arena import ArenaAligner \n",
      "arena_aligner = ArenaAligner(\n",
      "    predictions_3d_file = params['predictions_3d_file'],\n",
      "    arena_alignment_output_directory = params['arena_alignment_output_directory'],\n",
      "    **config[\"arena_alignment\"]\n",
      ")\n",
      "arena_aligner.run()\n",
      "\n"
     ]
    }
   ],
   "source": [
    "print(runner.python_script)"
   ]
  },
  {
   "cell_type": "code",
   "execution_count": 26,
   "id": "5a4b3c74",
   "metadata": {},
   "outputs": [
    {
     "name": "stderr",
     "output_type": "stream",
     "text": [
      "INFO:multicamera_airflow_pipeline.tim_240731.interface.o2:Creating remote job directory: /n/groups/datta/tim_sainburg/datasets/scratch/jobs/20240809_134350_992051\n",
      "INFO:multicamera_airflow_pipeline.tim_240731.interface.o2:Creating remote directory: /n/groups/datta/tim_sainburg/datasets/scratch/jobs/20240809_134350_992051\n",
      "INFO:multicamera_airflow_pipeline.tim_240731.interface.o2:Successfully created remote directory: /n/groups/datta/tim_sainburg/datasets/scratch/jobs/20240809_134350_992051\n",
      "INFO:multicamera_airflow_pipeline.tim_240731.interface.o2:Writing job files to remote directory: /n/groups/datta/tim_sainburg/datasets/scratch/jobs/20240809_134350_992051\n",
      "INFO:paramiko.transport.sftp:[chan 1] Opened sftp connection (server version 3)\n",
      "INFO:multicamera_airflow_pipeline.tim_240731.interface.o2:Transferring /tmp/tmpobez9v1p to login.o2.rc.hms.harvard.edu:/n/groups/datta/tim_sainburg/datasets/scratch/jobs/20240809_134350_992051/24-05-01-13-26-43-110846_arena_alignment_24-08-09-2024-43-53-834543.py\n",
      "INFO:multicamera_airflow_pipeline.tim_240731.interface.o2:Successfully transferred /tmp/tmpobez9v1p to /n/groups/datta/tim_sainburg/datasets/scratch/jobs/20240809_134350_992051/24-05-01-13-26-43-110846_arena_alignment_24-08-09-2024-43-53-834543.py\n",
      "INFO:paramiko.transport.sftp:[chan 1] sftp session closed.\n",
      "INFO:paramiko.transport.sftp:[chan 2] Opened sftp connection (server version 3)\n",
      "INFO:multicamera_airflow_pipeline.tim_240731.interface.o2:Transferring /tmp/tmpgvfz4ay8 to login.o2.rc.hms.harvard.edu:/n/groups/datta/tim_sainburg/datasets/scratch/jobs/20240809_134350_992051/24-05-01-13-26-43-110846_arena_alignment_24-08-09-2024-43-53-834543.sh\n",
      "INFO:multicamera_airflow_pipeline.tim_240731.interface.o2:Successfully transferred /tmp/tmpgvfz4ay8 to /n/groups/datta/tim_sainburg/datasets/scratch/jobs/20240809_134350_992051/24-05-01-13-26-43-110846_arena_alignment_24-08-09-2024-43-53-834543.sh\n",
      "INFO:paramiko.transport.sftp:[chan 2] sftp session closed.\n",
      "INFO:paramiko.transport.sftp:[chan 3] Opened sftp connection (server version 3)\n",
      "INFO:multicamera_airflow_pipeline.tim_240731.interface.o2:Transferring /tmp/tmph3rvcshu to login.o2.rc.hms.harvard.edu:/n/groups/datta/tim_sainburg/datasets/scratch/jobs/20240809_134350_992051/24-05-01-13-26-43-110846_arena_alignment_24-08-09-2024-43-53-834543.params.yaml\n",
      "INFO:multicamera_airflow_pipeline.tim_240731.interface.o2:Successfully transferred /tmp/tmph3rvcshu to /n/groups/datta/tim_sainburg/datasets/scratch/jobs/20240809_134350_992051/24-05-01-13-26-43-110846_arena_alignment_24-08-09-2024-43-53-834543.params.yaml\n",
      "INFO:paramiko.transport.sftp:[chan 3] sftp session closed.\n",
      "INFO:multicamera_airflow_pipeline.tim_240731.interface.o2:Submitting job: 24-05-01-13-26-43-110846_arena_alignment_24-08-09-2024-43-53-834543\n",
      "INFO:multicamera_airflow_pipeline.tim_240731.interface.o2:Job submitted successfully with job id: 43743181\n"
     ]
    }
   ],
   "source": [
    "runner.run()"
   ]
  },
  {
   "cell_type": "code",
   "execution_count": 27,
   "id": "bb80c478",
   "metadata": {},
   "outputs": [
    {
     "name": "stderr",
     "output_type": "stream",
     "text": [
      "INFO:multicamera_airflow_pipeline.tim_240731.interface.o2:Checking job status: 43743181\n",
      "INFO:multicamera_airflow_pipeline.tim_240731.interface.o2:The job is waiting to be scheduled.\n",
      "INFO:multicamera_airflow_pipeline.tim_240731.interface.o2:Checking job status: 43743181\n",
      "INFO:multicamera_airflow_pipeline.tim_240731.interface.o2:The job has finished successfully.\n"
     ]
    }
   ],
   "source": [
    "# wait until the job is finished\n",
    "# 10000/60/24 = roughly 1 week\n",
    "for i in range(10000):\n",
    "    # check job status every n seconds\n",
    "    status = runner.check_job_status()\n",
    "    if status:\n",
    "        break\n",
    "    time.sleep(60)"
   ]
  },
  {
   "cell_type": "code",
   "execution_count": 28,
   "id": "39a95efd",
   "metadata": {},
   "outputs": [
    {
     "name": "stdout",
     "output_type": "stream",
     "text": [
      "arena alignment completed successfully\n"
     ]
    }
   ],
   "source": [
    "# check if sync successfully completed\n",
    "if check_arena_alignment_completion(arena_alignment_output_directory):\n",
    "    print('arena alignment completed successfully')\n",
    "else:\n",
    "    raise ValueError(\"arena alignment did not complete successfully.\")\n"
   ]
  },
  {
   "cell_type": "code",
   "execution_count": 29,
   "id": "1884d9f1",
   "metadata": {},
   "outputs": [
    {
     "name": "stdout",
     "output_type": "stream",
     "text": [
      "24-05-01-13-26-43-110846_ephys_sync_24-08-09-2024-28-40-929285.log\r\n",
      "24-05-01-13-26-43-110846_ephys_sync_24-08-09-2024-28-40-929285.params.yaml\r\n",
      "24-05-01-13-26-43-110846_ephys_sync_24-08-09-2024-28-40-929285.py\r\n",
      "24-05-01-13-26-43-110846_ephys_sync_24-08-09-2024-28-40-929285.sh\r\n"
     ]
    }
   ],
   "source": [
    "!ls /n/groups/datta/tim_sainburg/datasets/scratch/jobs/20240809_112840_718710/"
   ]
  },
  {
   "cell_type": "code",
   "execution_count": 30,
   "id": "c272e098",
   "metadata": {},
   "outputs": [
    {
     "name": "stdout",
     "output_type": "stream",
     "text": [
      "  File \"/n/groups/datta/tim_sainburg/projects/multicam-calibration/multicam_calibration/detection.py\", line 26, in _worker\r\n",
      "    detection = detection_fun(frame, **detection_kwargs)\r\n",
      "  File \"/n/groups/datta/tim_sainburg/projects/multicam-calibration/multicam_calibration/detection.py\", line 377, in detect_chessboard\r\n",
      "    ret, corners_approx = cv2.findChessboardCorners(\r\n",
      "cv2.error: OpenCV(4.8.1) :-1: error: (-5:Bad argument) in function 'findChessboardCorners'\r\n",
      "> Overload resolution failed:\r\n",
      ">  - Can't parse 'patternSize'. Expected sequence length 2, got 6\r\n",
      ">  - Can't parse 'patternSize'. Expected sequence length 2, got 6\r\n",
      "\r\n",
      "\r",
      "  1%|▏                             | 11/2000 [00:00<02:06, 15.74frame/s]\r",
      "  1%|▏                             | 13/2000 [00:00<02:28, 13.40frame/s]\r",
      "  1%|▏                             | 15/2000 [00:01<02:53, 11.41frame/s]\r",
      "  1%|▎                             | 17/2000 [00:01<03:09, 10.49frame/s]\r",
      "  1%|▎                             | 19/2000 [00:01<03:25,  9.66frame/s]\r",
      "  1%|▎                             | 19/2000 [00:19<03:25,  9.66frame/s]slurmstepd: error: *** JOB 43729345 ON compute-a-16-67 CANCELLED AT 2024-08-09T12:29:34 DUE TO TIME LIMIT ***\r\n"
     ]
    }
   ],
   "source": [
    "!tail /n/groups/datta/tim_sainburg/datasets/scratch/jobs/20240809_112840_718710/24-05-01-13-26-43-110846_ephys_sync_24-08-09-2024-28-40-929285.log"
   ]
  },
  {
   "cell_type": "code",
   "execution_count": null,
   "id": "a4227b87",
   "metadata": {},
   "outputs": [],
   "source": []
  }
 ],
 "metadata": {
  "kernelspec": {
   "display_name": "peromoseq",
   "language": "python",
   "name": "peromoseq"
  },
  "language_info": {
   "codemirror_mode": {
    "name": "ipython",
    "version": 3
   },
   "file_extension": ".py",
   "mimetype": "text/x-python",
   "name": "python",
   "nbconvert_exporter": "python",
   "pygments_lexer": "ipython3",
   "version": "3.10.13"
  }
 },
 "nbformat": 4,
 "nbformat_minor": 5
}
