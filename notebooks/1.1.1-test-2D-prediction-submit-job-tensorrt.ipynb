{
 "cells": [
  {
   "cell_type": "code",
   "execution_count": 1,
   "id": "19098993",
   "metadata": {},
   "outputs": [],
   "source": [
    "%load_ext autoreload\n",
    "%autoreload 2"
   ]
  },
  {
   "cell_type": "code",
   "execution_count": 2,
   "id": "900a1f1a",
   "metadata": {},
   "outputs": [
    {
     "name": "stdout",
     "output_type": "stream",
     "text": [
      "/n/groups/datta/tim_sainburg/conda_envs/peromoseq/bin/python3\n"
     ]
    }
   ],
   "source": [
    "from pathlib import Path\n",
    "import sys\n",
    "import logging\n",
    "import inspect\n",
    "logging.basicConfig(level=logging.INFO)\n",
    "print(sys.executable)"
   ]
  },
  {
   "cell_type": "markdown",
   "id": "d4930f63",
   "metadata": {},
   "source": [
    "### Get recording info (google sheets)"
   ]
  },
  {
   "cell_type": "code",
   "execution_count": 3,
   "id": "63237b3a",
   "metadata": {},
   "outputs": [],
   "source": [
    "import requests\n",
    "import pandas as pd\n",
    "from io import BytesIO"
   ]
  },
  {
   "cell_type": "code",
   "execution_count": 4,
   "id": "5909c615",
   "metadata": {},
   "outputs": [],
   "source": [
    "# spreadsheet_url = 'https://docs.google.com/spreadsheet/ccc?key=14HIqUaSl_n-91hpAvmACY_iVY9nLKdlA6qklhxfZon0&output=csv&gid=0'\n",
    "spreadsheet_url = \"https://docs.google.com/spreadsheet/ccc?key=1jACsUmxuJ9Une59qmvzZGc1qXezKhKzD1zho2sEfcrU&output=csv&gid=0\"\n",
    "response = requests.get(spreadsheet_url)\n",
    "recording_df = pd.read_csv(BytesIO(response.content))"
   ]
  },
  {
   "cell_type": "code",
   "execution_count": 5,
   "id": "49df48f5",
   "metadata": {},
   "outputs": [
    {
     "data": {
      "text/html": [
       "<div>\n",
       "<style scoped>\n",
       "    .dataframe tbody tr th:only-of-type {\n",
       "        vertical-align: middle;\n",
       "    }\n",
       "\n",
       "    .dataframe tbody tr th {\n",
       "        vertical-align: top;\n",
       "    }\n",
       "\n",
       "    .dataframe thead th {\n",
       "        text-align: right;\n",
       "    }\n",
       "</style>\n",
       "<table border=\"1\" class=\"dataframe\">\n",
       "  <thead>\n",
       "    <tr style=\"text-align: right;\">\n",
       "      <th></th>\n",
       "      <th>Subject</th>\n",
       "      <th>duration_m</th>\n",
       "      <th>video_recording_id</th>\n",
       "      <th>ephys_id</th>\n",
       "      <th>calibration_id</th>\n",
       "      <th>video_location_on_o2</th>\n",
       "      <th>ephys_location_on_o2</th>\n",
       "      <th>calibration_location_on_o2</th>\n",
       "      <th>samplerate</th>\n",
       "      <th>username</th>\n",
       "      <th>n_ephys_streams</th>\n",
       "      <th>max_video_duration_m</th>\n",
       "    </tr>\n",
       "  </thead>\n",
       "  <tbody>\n",
       "    <tr>\n",
       "      <th>0</th>\n",
       "      <td>M04002</td>\n",
       "      <td>10</td>\n",
       "      <td>24-05-01-13-26-43-110846</td>\n",
       "      <td>2024-05-01_13-26-37</td>\n",
       "      <td>24-05-01-13-45-07-825493</td>\n",
       "      <td>/n/groups/datta/tim_sainburg/datasets/chronic2...</td>\n",
       "      <td>/n/groups/datta/tim_sainburg/datasets/chronic2...</td>\n",
       "      <td>/n/groups/datta/tim_sainburg/datasets/chronic2...</td>\n",
       "      <td>150</td>\n",
       "      <td>tis697</td>\n",
       "      <td>1</td>\n",
       "      <td>10</td>\n",
       "    </tr>\n",
       "  </tbody>\n",
       "</table>\n",
       "</div>"
      ],
      "text/plain": [
       "  Subject  duration_m        video_recording_id             ephys_id  \\\n",
       "0  M04002          10  24-05-01-13-26-43-110846  2024-05-01_13-26-37   \n",
       "\n",
       "             calibration_id  \\\n",
       "0  24-05-01-13-45-07-825493   \n",
       "\n",
       "                                video_location_on_o2  \\\n",
       "0  /n/groups/datta/tim_sainburg/datasets/chronic2...   \n",
       "\n",
       "                                ephys_location_on_o2  \\\n",
       "0  /n/groups/datta/tim_sainburg/datasets/chronic2...   \n",
       "\n",
       "                          calibration_location_on_o2  samplerate username  \\\n",
       "0  /n/groups/datta/tim_sainburg/datasets/chronic2...         150   tis697   \n",
       "\n",
       "   n_ephys_streams  max_video_duration_m  \n",
       "0                1                    10  "
      ]
     },
     "execution_count": 5,
     "metadata": {},
     "output_type": "execute_result"
    }
   ],
   "source": [
    "recording_df[:3]"
   ]
  },
  {
   "cell_type": "markdown",
   "id": "9c657989",
   "metadata": {},
   "source": [
    "### Submit job"
   ]
  },
  {
   "cell_type": "code",
   "execution_count": 6,
   "id": "7951d065",
   "metadata": {},
   "outputs": [
    {
     "name": "stderr",
     "output_type": "stream",
     "text": [
      "INFO:multicamera_airflow_pipeline.tim_240731.interface.o2:Python interpreter binary location: /n/groups/datta/tim_sainburg/conda_envs/peromoseq/bin/python3\n",
      "/n/groups/datta/tim_sainburg/conda_envs/peromoseq/lib/python3.10/site-packages/paramiko/pkey.py:100: CryptographyDeprecationWarning: TripleDES has been moved to cryptography.hazmat.decrepit.ciphers.algorithms.TripleDES and will be removed from this module in 48.0.0.\n",
      "  \"cipher\": algorithms.TripleDES,\n",
      "/n/groups/datta/tim_sainburg/conda_envs/peromoseq/lib/python3.10/site-packages/paramiko/transport.py:259: CryptographyDeprecationWarning: TripleDES has been moved to cryptography.hazmat.decrepit.ciphers.algorithms.TripleDES and will be removed from this module in 48.0.0.\n",
      "  \"class\": algorithms.TripleDES,\n"
     ]
    }
   ],
   "source": [
    "from multicamera_airflow_pipeline.tim_240731.interface.o2 import O2Runner\n",
    "from pathlib import Path\n",
    "from datetime import datetime"
   ]
  },
  {
   "cell_type": "code",
   "execution_count": 7,
   "id": "7c52b0f0",
   "metadata": {},
   "outputs": [],
   "source": [
    "for idx, recording_row in recording_df.iterrows():\n",
    "    break"
   ]
  },
  {
   "cell_type": "code",
   "execution_count": 8,
   "id": "5228937d",
   "metadata": {},
   "outputs": [
    {
     "data": {
      "text/plain": [
       "Subject                                                                  M04002\n",
       "duration_m                                                                   10\n",
       "video_recording_id                                     24-05-01-13-26-43-110846\n",
       "ephys_id                                                    2024-05-01_13-26-37\n",
       "calibration_id                                         24-05-01-13-45-07-825493\n",
       "video_location_on_o2          /n/groups/datta/tim_sainburg/datasets/chronic2...\n",
       "ephys_location_on_o2          /n/groups/datta/tim_sainburg/datasets/chronic2...\n",
       "calibration_location_on_o2    /n/groups/datta/tim_sainburg/datasets/chronic2...\n",
       "samplerate                                                                  150\n",
       "username                                                                 tis697\n",
       "n_ephys_streams                                                               1\n",
       "max_video_duration_m                                                         10\n",
       "Name: 0, dtype: object"
      ]
     },
     "execution_count": 8,
     "metadata": {},
     "output_type": "execute_result"
    }
   ],
   "source": [
    "recording_row"
   ]
  },
  {
   "cell_type": "markdown",
   "id": "fa0fa7af",
   "metadata": {},
   "source": [
    "### Job specific"
   ]
  },
  {
   "cell_type": "code",
   "execution_count": 9,
   "id": "1102e0ed",
   "metadata": {},
   "outputs": [],
   "source": [
    "import yaml\n",
    "import textwrap\n",
    "import time"
   ]
  },
  {
   "cell_type": "code",
   "execution_count": 10,
   "id": "34d648d1",
   "metadata": {},
   "outputs": [],
   "source": [
    "# these are arguments\n",
    "output_directory = Path(\"/n/groups/datta/tim_sainburg/datasets/scratch/\") / \"240808-3d-pipeline\"\n",
    "job_directory = Path('/n/groups/datta/tim_sainburg/datasets/scratch/jobs')\n",
    "job_directory.mkdir(exist_ok=True, parents=True)\n",
    "config_file = Path(\"/n/groups/datta/tim_sainburg/projects/multicamera_airflow_pipeline/multicamera_airflow_pipeline/tim_240731/default_config.yaml\")"
   ]
  },
  {
   "cell_type": "code",
   "execution_count": 11,
   "id": "f35bf019",
   "metadata": {},
   "outputs": [],
   "source": [
    "def convert_minutes_to_hms(minutes_float):\n",
    "    # Convert minutes to total seconds\n",
    "    total_seconds = int(minutes_float * 60)\n",
    "    \n",
    "    # Extract hours, minutes, and seconds using divmod\n",
    "    hours, remainder = divmod(total_seconds, 3600)\n",
    "    minutes, seconds = divmod(remainder, 60)\n",
    "    \n",
    "    # Format as HH:MM:SS\n",
    "    return f\"{hours:02}:{minutes:02}:{seconds:02}\""
   ]
  },
  {
   "cell_type": "code",
   "execution_count": 12,
   "id": "7483872f",
   "metadata": {},
   "outputs": [],
   "source": [
    "def check_2d_completion(output_directory_predictions):\n",
    "    return (output_directory_predictions / \"completed.log\").exists()"
   ]
  },
  {
   "cell_type": "code",
   "execution_count": 13,
   "id": "f6fb5de4",
   "metadata": {
    "scrolled": true
   },
   "outputs": [],
   "source": [
    "# load config\n",
    "config_file = Path(config_file)\n",
    "config = yaml.safe_load(open(config_file, \"r\"))"
   ]
  },
  {
   "cell_type": "code",
   "execution_count": 14,
   "id": "e30e4ee7",
   "metadata": {},
   "outputs": [],
   "source": [
    "# where the video data is located\n",
    "recording_directory = (\n",
    "    Path(recording_row.video_location_on_o2) / recording_row.video_recording_id\n",
    ")"
   ]
  },
  {
   "cell_type": "code",
   "execution_count": 15,
   "id": "d001f754",
   "metadata": {},
   "outputs": [],
   "source": [
    "# where to save output\n",
    "output_directory_predictions = (\n",
    "    output_directory / \"2D_predictions\" / recording_row.video_recording_id\n",
    ")\n",
    "output_directory_predictions.mkdir(parents=True, exist_ok=True)\n",
    "current_datetime_str = datetime.now().strftime(\"%Y%m%d_%H%M%S_%f\")\n",
    "remote_job_directory = job_directory / current_datetime_str\n",
    "\n",
    "# duration of video files (useful if videos are not properly muxxed)\n",
    "expected_video_length_frames = recording_row.max_video_duration_m * recording_row.samplerate\n",
    "\n",
    "# where tensorrt compiled models are saved (specific to GPU, so we compute on the fly)\n",
    "tensorrt_model_directory = output_directory / \"tensorrt\"\n",
    "\n",
    "params = {\n",
    "    \"recording_directory\": recording_directory.as_posix(),\n",
    "    \"output_directory_predictions\": output_directory_predictions.as_posix(),\n",
    "    \"expected_video_length_frames\": expected_video_length_frames,\n",
    "    \"tensorrt_model_directory\": tensorrt_model_directory.as_posix(),\n",
    "}\n",
    "\n",
    "duration_requested = convert_minutes_to_hms(\n",
    "    recording_row.duration_m * config[\"o2\"][\"prediction_2d\"][\"o2_runtime_multiplier\"]\n",
    ")"
   ]
  },
  {
   "cell_type": "code",
   "execution_count": 16,
   "id": "635b1d6e",
   "metadata": {},
   "outputs": [
    {
     "name": "stderr",
     "output_type": "stream",
     "text": [
      "INFO:paramiko.transport:Connected (version 2.0, client OpenSSH_7.4)\n",
      "INFO:paramiko.transport:Auth banner: b'Problems logging in?\\nUse your lower case HMS ID, like abc123, not ABC123.\\nIf locked out, see:\\nhttps://it.hms.harvard.edu/i-want/reset-password-or-unlock-your-hms-account\\n'\n",
      "INFO:paramiko.transport:Authentication (publickey) successful!\n"
     ]
    }
   ],
   "source": [
    "# create the job runner\n",
    "runner = O2Runner(\n",
    "    job_name_prefix=f\"{recording_row.video_recording_id}_2d_predictions\",\n",
    "    remote_job_directory=remote_job_directory,\n",
    "    conda_env=\"/n/groups/datta/tim_sainburg/conda_envs/mmdeploy\",\n",
    "    o2_username=recording_row.username,\n",
    "    o2_server=\"login.o2.rc.hms.harvard.edu\",\n",
    "    job_params=params,\n",
    "    o2_n_cpus=config[\"o2\"][\"prediction_2d\"][\"o2_n_cpus\"],\n",
    "    o2_memory=config[\"o2\"][\"prediction_2d\"][\"o2_memory\"],\n",
    "    o2_time_limit=duration_requested,\n",
    "    o2_queue=config[\"o2\"][\"prediction_2d\"][\"o2_queue\"],\n",
    "    o2_exclude=config[\"o2\"][\"prediction_2d\"][\"o2_exclude\"],\n",
    "    o2_qos = config[\"o2\"][\"prediction_2d\"][\"o2_qos\"] ,\n",
    "    o2_gres = config[\"o2\"][\"prediction_2d\"][\"o2_gres\"] ,\n",
    "    do_not_submit=True\n",
    ")"
   ]
  },
  {
   "cell_type": "code",
   "execution_count": 17,
   "id": "38fbc1be",
   "metadata": {},
   "outputs": [
    {
     "name": "stdout",
     "output_type": "stream",
     "text": [
      "\n",
      "# load params\n",
      "import yaml\n",
      "params_file = \"/n/groups/datta/tim_sainburg/datasets/scratch/jobs/20240813_102305_477564/24-05-01-13-26-43-110846_2d_predictions_24-08-13-2024-23-05-503582.params.yaml\"\n",
      "config_file = \"/n/groups/datta/tim_sainburg/projects/multicamera_airflow_pipeline/multicamera_airflow_pipeline/tim_240731/default_config.yaml\"\n",
      "\n",
      "params = yaml.safe_load(open(params_file, 'r'))\n",
      "config = yaml.safe_load(open(config_file, 'r'))\n",
      "\n",
      "# covert models to tensorrt\n",
      "from multicamera_airflow_pipeline.tim_240731.keypoints.tensorrt import RTMModelConverter\n",
      "model_converter = RTMModelConverter(\n",
      "    tensorrt_output_directory = params[\"tensorrt_model_directory\"],\n",
      "    **config[\"tensorrt_conversion\"]\n",
      ")\n",
      "model_converter.run()\n",
      "\n",
      "# run predictions\n",
      "from multicamera_airflow_pipeline.tim_240731.keypoints.predict_2D import Inferencer2D\n",
      "camera_calibrator = Inferencer2D(\n",
      "    recording_directory = params[\"recording_directory\"],\n",
      "    output_directory_predictions = params[\"output_directory_predictions\"],\n",
      "    expected_video_length_frames = params[\"expected_video_length_frames\"],\n",
      "    tensorrt_model_directory = params[\"tensorrt_model_directory\"],\n",
      "    **config[\"prediction_2d\"]\n",
      ")\n",
      "camera_calibrator.run()\n",
      "\n"
     ]
    }
   ],
   "source": [
    "if config[\"prediction_2d\"][\"use_tensorrt\"]:\n",
    "    runner.python_script = textwrap.dedent(\n",
    "        f\"\"\"\n",
    "    # load params\n",
    "    import yaml\n",
    "    params_file = \"{runner.remote_job_directory / f\"{runner.job_name}.params.yaml\"}\"\n",
    "    config_file = \"{config_file.as_posix()}\"\n",
    "\n",
    "    params = yaml.safe_load(open(params_file, 'r'))\n",
    "    config = yaml.safe_load(open(config_file, 'r'))\n",
    "\n",
    "    # covert models to tensorrt\n",
    "    from multicamera_airflow_pipeline.tim_240731.keypoints.tensorrt import RTMModelConverter\n",
    "    model_converter = RTMModelConverter(\n",
    "        tensorrt_output_directory = params[\"tensorrt_model_directory\"],\n",
    "        **config[\"tensorrt_conversion\"]\n",
    "    )\n",
    "    model_converter.run()\n",
    "    \n",
    "    # run predictions\n",
    "    from multicamera_airflow_pipeline.tim_240731.keypoints.predict_2D import Inferencer2D\n",
    "    camera_calibrator = Inferencer2D(\n",
    "        recording_directory = params[\"recording_directory\"],\n",
    "        output_directory_predictions = params[\"output_directory_predictions\"],\n",
    "        expected_video_length_frames = params[\"expected_video_length_frames\"],\n",
    "        tensorrt_model_directory = params[\"tensorrt_model_directory\"],\n",
    "        **config[\"prediction_2d\"]\n",
    "    )\n",
    "    camera_calibrator.run()\n",
    "    \"\"\"\n",
    "    )\n",
    "else:\n",
    "    runner.python_script = textwrap.dedent(\n",
    "        f\"\"\"\n",
    "    # load params\n",
    "    import yaml\n",
    "    params_file = \"{runner.remote_job_directory / f\"{runner.job_name}.params.yaml\"}\"\n",
    "    config_file = \"{config_file.as_posix()}\"\n",
    "\n",
    "    params = yaml.safe_load(open(params_file, 'r'))\n",
    "    config = yaml.safe_load(open(config_file, 'r'))\n",
    "\n",
    "    # grab sync cameras function\n",
    "    from multicamera_airflow_pipeline.tim_240731.keypoints.predict_2D import Inferencer2D\n",
    "    camera_calibrator = Inferencer2D(\n",
    "        recording_directory = params[\"recording_directory\"],\n",
    "        output_directory_predictions = params[\"output_directory_predictions\"],\n",
    "        expected_video_length_frames = params[\"expected_video_length_frames\"],\n",
    "        tensorrt_model_directory = params[\"tensorrt_model_directory\"],\n",
    "        **config[\"prediction_2d\"]\n",
    "    )\n",
    "    camera_calibrator.run()\n",
    "    \"\"\"\n",
    "    )\n",
    "\n",
    "print(runner.python_script)"
   ]
  },
  {
   "cell_type": "code",
   "execution_count": 18,
   "id": "5a4b3c74",
   "metadata": {},
   "outputs": [
    {
     "name": "stderr",
     "output_type": "stream",
     "text": [
      "INFO:multicamera_airflow_pipeline.tim_240731.interface.o2:Creating remote job directory: /n/groups/datta/tim_sainburg/datasets/scratch/jobs/20240813_102305_477564\n",
      "INFO:multicamera_airflow_pipeline.tim_240731.interface.o2:Creating remote directory: /n/groups/datta/tim_sainburg/datasets/scratch/jobs/20240813_102305_477564\n",
      "INFO:multicamera_airflow_pipeline.tim_240731.interface.o2:Successfully created remote directory: /n/groups/datta/tim_sainburg/datasets/scratch/jobs/20240813_102305_477564\n",
      "INFO:multicamera_airflow_pipeline.tim_240731.interface.o2:Writing job files to remote directory: /n/groups/datta/tim_sainburg/datasets/scratch/jobs/20240813_102305_477564\n",
      "INFO:paramiko.transport.sftp:[chan 1] Opened sftp connection (server version 3)\n",
      "INFO:multicamera_airflow_pipeline.tim_240731.interface.o2:Transferring /tmp/tmpu7wundwg to login.o2.rc.hms.harvard.edu:/n/groups/datta/tim_sainburg/datasets/scratch/jobs/20240813_102305_477564/24-05-01-13-26-43-110846_2d_predictions_24-08-13-2024-23-05-503582.py\n",
      "INFO:multicamera_airflow_pipeline.tim_240731.interface.o2:Successfully transferred /tmp/tmpu7wundwg to /n/groups/datta/tim_sainburg/datasets/scratch/jobs/20240813_102305_477564/24-05-01-13-26-43-110846_2d_predictions_24-08-13-2024-23-05-503582.py\n",
      "INFO:paramiko.transport.sftp:[chan 1] sftp session closed.\n",
      "INFO:paramiko.transport.sftp:[chan 2] Opened sftp connection (server version 3)\n",
      "INFO:multicamera_airflow_pipeline.tim_240731.interface.o2:Transferring /tmp/tmp6eqdh302 to login.o2.rc.hms.harvard.edu:/n/groups/datta/tim_sainburg/datasets/scratch/jobs/20240813_102305_477564/24-05-01-13-26-43-110846_2d_predictions_24-08-13-2024-23-05-503582.sh\n",
      "INFO:multicamera_airflow_pipeline.tim_240731.interface.o2:Successfully transferred /tmp/tmp6eqdh302 to /n/groups/datta/tim_sainburg/datasets/scratch/jobs/20240813_102305_477564/24-05-01-13-26-43-110846_2d_predictions_24-08-13-2024-23-05-503582.sh\n",
      "INFO:paramiko.transport.sftp:[chan 2] sftp session closed.\n",
      "INFO:paramiko.transport.sftp:[chan 3] Opened sftp connection (server version 3)\n",
      "INFO:multicamera_airflow_pipeline.tim_240731.interface.o2:Transferring /tmp/tmpwmsn2g9t to login.o2.rc.hms.harvard.edu:/n/groups/datta/tim_sainburg/datasets/scratch/jobs/20240813_102305_477564/24-05-01-13-26-43-110846_2d_predictions_24-08-13-2024-23-05-503582.params.yaml\n",
      "INFO:multicamera_airflow_pipeline.tim_240731.interface.o2:Successfully transferred /tmp/tmpwmsn2g9t to /n/groups/datta/tim_sainburg/datasets/scratch/jobs/20240813_102305_477564/24-05-01-13-26-43-110846_2d_predictions_24-08-13-2024-23-05-503582.params.yaml\n",
      "INFO:paramiko.transport.sftp:[chan 3] sftp session closed.\n",
      "INFO:multicamera_airflow_pipeline.tim_240731.interface.o2:Submitting job: 24-05-01-13-26-43-110846_2d_predictions_24-08-13-2024-23-05-503582\n",
      "INFO:multicamera_airflow_pipeline.tim_240731.interface.o2:do_not_submit is True, not submitting job.\n"
     ]
    }
   ],
   "source": [
    "runner.run()"
   ]
  },
  {
   "cell_type": "code",
   "execution_count": 19,
   "id": "bb80c478",
   "metadata": {},
   "outputs": [
    {
     "ename": "AttributeError",
     "evalue": "'O2Runner' object has no attribute 'slurm_job_id'",
     "output_type": "error",
     "traceback": [
      "\u001b[0;31m---------------------------------------------------------------------------\u001b[0m",
      "\u001b[0;31mAttributeError\u001b[0m                            Traceback (most recent call last)",
      "Cell \u001b[0;32mIn[19], line 5\u001b[0m\n\u001b[1;32m      1\u001b[0m \u001b[38;5;66;03m# wait until the job is finished\u001b[39;00m\n\u001b[1;32m      2\u001b[0m \u001b[38;5;66;03m# 10000/60/24 = roughly 1 week\u001b[39;00m\n\u001b[1;32m      3\u001b[0m \u001b[38;5;28;01mfor\u001b[39;00m i \u001b[38;5;129;01min\u001b[39;00m \u001b[38;5;28mrange\u001b[39m(\u001b[38;5;241m10000\u001b[39m):\n\u001b[1;32m      4\u001b[0m     \u001b[38;5;66;03m# check job status every n seconds\u001b[39;00m\n\u001b[0;32m----> 5\u001b[0m     status \u001b[38;5;241m=\u001b[39m \u001b[43mrunner\u001b[49m\u001b[38;5;241;43m.\u001b[39;49m\u001b[43mcheck_job_status\u001b[49m\u001b[43m(\u001b[49m\u001b[43m)\u001b[49m\n\u001b[1;32m      6\u001b[0m     \u001b[38;5;28;01mif\u001b[39;00m status:\n\u001b[1;32m      7\u001b[0m         \u001b[38;5;28;01mbreak\u001b[39;00m\n",
      "File \u001b[0;32m/n/groups/datta/tim_sainburg/projects/multicamera_airflow_pipeline/multicamera_airflow_pipeline/tim_240731/interface/o2.py:240\u001b[0m, in \u001b[0;36mO2Runner.check_job_status\u001b[0;34m(self)\u001b[0m\n\u001b[1;32m    237\u001b[0m \u001b[38;5;28;01mif\u001b[39;00m \u001b[38;5;28mself\u001b[39m\u001b[38;5;241m.\u001b[39mssh \u001b[38;5;129;01mis\u001b[39;00m \u001b[38;5;28;01mNone\u001b[39;00m:\n\u001b[1;32m    238\u001b[0m     \u001b[38;5;28;01mraise\u001b[39;00m \u001b[38;5;167;01mConnectionError\u001b[39;00m(\u001b[38;5;124m\"\u001b[39m\u001b[38;5;124mSSH connection is not established\u001b[39m\u001b[38;5;124m\"\u001b[39m)\n\u001b[0;32m--> 240\u001b[0m \u001b[38;5;28;01mif\u001b[39;00m \u001b[38;5;129;01mnot\u001b[39;00m \u001b[38;5;28;43mself\u001b[39;49m\u001b[38;5;241;43m.\u001b[39;49m\u001b[43mslurm_job_id\u001b[49m:\n\u001b[1;32m    241\u001b[0m     \u001b[38;5;28;01mraise\u001b[39;00m \u001b[38;5;167;01mValueError\u001b[39;00m(\u001b[38;5;124m\"\u001b[39m\u001b[38;5;124mslurm_job_id is not set\u001b[39m\u001b[38;5;124m\"\u001b[39m)\n\u001b[1;32m    243\u001b[0m logger\u001b[38;5;241m.\u001b[39minfo(\u001b[38;5;124mf\u001b[39m\u001b[38;5;124m\"\u001b[39m\u001b[38;5;124mChecking job status: \u001b[39m\u001b[38;5;132;01m{\u001b[39;00m\u001b[38;5;28mself\u001b[39m\u001b[38;5;241m.\u001b[39mslurm_job_id\u001b[38;5;132;01m}\u001b[39;00m\u001b[38;5;124m\"\u001b[39m)\n",
      "\u001b[0;31mAttributeError\u001b[0m: 'O2Runner' object has no attribute 'slurm_job_id'"
     ]
    }
   ],
   "source": [
    "# wait until the job is finished\n",
    "# 10000/60/24 = roughly 1 week\n",
    "for i in range(10000):\n",
    "    # check job status every n seconds\n",
    "    status = runner.check_job_status()\n",
    "    if status:\n",
    "        break\n",
    "    time.sleep(60)"
   ]
  },
  {
   "cell_type": "code",
   "execution_count": null,
   "id": "39a95efd",
   "metadata": {},
   "outputs": [],
   "source": [
    "# check if sync successfully completed\n",
    "if check_2d_completion(output_directory_predictions):\n",
    "    print('2D prediction completed successfully')\n",
    "else:\n",
    "    raise ValueError(\"2D prediction did not complete successfully.\")\n"
   ]
  },
  {
   "cell_type": "code",
   "execution_count": null,
   "id": "1884d9f1",
   "metadata": {},
   "outputs": [],
   "source": [
    "!ls /n/groups/datta/tim_sainburg/datasets/scratch/jobs/20240809_102039_489984/"
   ]
  },
  {
   "cell_type": "code",
   "execution_count": null,
   "id": "c272e098",
   "metadata": {},
   "outputs": [],
   "source": [
    "!tail /n/groups/datta/tim_sainburg/datasets/scratch/jobs/20240809_102039_489984/24-05-01-13-26-43-110846_ephys_sync_24-08-09-2024-20-39-764709.log"
   ]
  },
  {
   "cell_type": "code",
   "execution_count": null,
   "id": "13ce1139",
   "metadata": {},
   "outputs": [],
   "source": []
  }
 ],
 "metadata": {
  "kernelspec": {
   "display_name": "peromoseq",
   "language": "python",
   "name": "peromoseq"
  },
  "language_info": {
   "codemirror_mode": {
    "name": "ipython",
    "version": 3
   },
   "file_extension": ".py",
   "mimetype": "text/x-python",
   "name": "python",
   "nbconvert_exporter": "python",
   "pygments_lexer": "ipython3",
   "version": "3.10.13"
  }
 },
 "nbformat": 4,
 "nbformat_minor": 5
}
