{
 "cells": [
  {
   "cell_type": "markdown",
   "id": "f98c3f4e",
   "metadata": {},
   "source": [
    "##### duration: 4x duration of recording (actually takes 1-2x)"
   ]
  },
  {
   "cell_type": "code",
   "execution_count": 1,
   "id": "d2da23c9",
   "metadata": {},
   "outputs": [],
   "source": [
    "%load_ext autoreload\n",
    "%autoreload 2"
   ]
  },
  {
   "cell_type": "code",
   "execution_count": 2,
   "id": "900a1f1a",
   "metadata": {},
   "outputs": [
    {
     "name": "stdout",
     "output_type": "stream",
     "text": [
      "/n/groups/datta/tim_sainburg/conda_envs/kilosort4/bin/python3\n"
     ]
    }
   ],
   "source": [
    "from pathlib import Path\n",
    "import sys\n",
    "import logging\n",
    "logging.basicConfig(level=logging.INFO)\n",
    "print(sys.executable)"
   ]
  },
  {
   "cell_type": "markdown",
   "id": "d4930f63",
   "metadata": {},
   "source": [
    "### Get recording info (google sheets)"
   ]
  },
  {
   "cell_type": "code",
   "execution_count": 3,
   "id": "63237b3a",
   "metadata": {},
   "outputs": [],
   "source": [
    "import requests\n",
    "import pandas as pd\n",
    "from io import BytesIO"
   ]
  },
  {
   "cell_type": "code",
   "execution_count": 4,
   "id": "5909c615",
   "metadata": {},
   "outputs": [],
   "source": [
    "# spreadsheet_url = 'https://docs.google.com/spreadsheet/ccc?key=14HIqUaSl_n-91hpAvmACY_iVY9nLKdlA6qklhxfZon0&output=csv&gid=0'\n",
    "spreadsheet_url = \"https://docs.google.com/spreadsheet/ccc?key=1jACsUmxuJ9Une59qmvzZGc1qXezKhKzD1zho2sEfcrU&output=csv&gid=0\"\n",
    "response = requests.get(spreadsheet_url)\n",
    "recording_df = pd.read_csv(BytesIO(response.content))"
   ]
  },
  {
   "cell_type": "code",
   "execution_count": 5,
   "id": "49df48f5",
   "metadata": {},
   "outputs": [
    {
     "data": {
      "text/html": [
       "<div>\n",
       "<style scoped>\n",
       "    .dataframe tbody tr th:only-of-type {\n",
       "        vertical-align: middle;\n",
       "    }\n",
       "\n",
       "    .dataframe tbody tr th {\n",
       "        vertical-align: top;\n",
       "    }\n",
       "\n",
       "    .dataframe thead th {\n",
       "        text-align: right;\n",
       "    }\n",
       "</style>\n",
       "<table border=\"1\" class=\"dataframe\">\n",
       "  <thead>\n",
       "    <tr style=\"text-align: right;\">\n",
       "      <th></th>\n",
       "      <th>Subject</th>\n",
       "      <th>duration_m</th>\n",
       "      <th>video_recording_id</th>\n",
       "      <th>ephys_id</th>\n",
       "      <th>calibration_id</th>\n",
       "      <th>calibration_board_shape</th>\n",
       "      <th>calibration_square_size</th>\n",
       "      <th>video_location_on_o2</th>\n",
       "      <th>ephys_location_on_o2</th>\n",
       "      <th>calibration_location_on_o2</th>\n",
       "    </tr>\n",
       "  </thead>\n",
       "  <tbody>\n",
       "    <tr>\n",
       "      <th>0</th>\n",
       "      <td>M04002</td>\n",
       "      <td>10</td>\n",
       "      <td>24-05-01-13-26-43-110846</td>\n",
       "      <td>2024-05-01_13-26-37</td>\n",
       "      <td>24-05-01-13-45-07-825493</td>\n",
       "      <td>NaN</td>\n",
       "      <td>NaN</td>\n",
       "      <td>/n/groups/datta/tim_sainburg/datasets/chronic2...</td>\n",
       "      <td>/n/groups/datta/tim_sainburg/datasets/chronic2...</td>\n",
       "      <td>/n/groups/datta/tim_sainburg/datasets/chronic2...</td>\n",
       "    </tr>\n",
       "  </tbody>\n",
       "</table>\n",
       "</div>"
      ],
      "text/plain": [
       "  Subject  duration_m        video_recording_id             ephys_id  \\\n",
       "0  M04002          10  24-05-01-13-26-43-110846  2024-05-01_13-26-37   \n",
       "\n",
       "             calibration_id  calibration_board_shape  calibration_square_size  \\\n",
       "0  24-05-01-13-45-07-825493                      NaN                      NaN   \n",
       "\n",
       "                                video_location_on_o2  \\\n",
       "0  /n/groups/datta/tim_sainburg/datasets/chronic2...   \n",
       "\n",
       "                                ephys_location_on_o2  \\\n",
       "0  /n/groups/datta/tim_sainburg/datasets/chronic2...   \n",
       "\n",
       "                          calibration_location_on_o2  \n",
       "0  /n/groups/datta/tim_sainburg/datasets/chronic2...  "
      ]
     },
     "execution_count": 5,
     "metadata": {},
     "output_type": "execute_result"
    }
   ],
   "source": [
    "recording_df[:3]"
   ]
  },
  {
   "cell_type": "markdown",
   "id": "a3d7cdc7",
   "metadata": {},
   "source": [
    "### Run spikesorting"
   ]
  },
  {
   "cell_type": "code",
   "execution_count": 6,
   "id": "5d8a95e4",
   "metadata": {},
   "outputs": [],
   "source": [
    "for idx, recording_row in recording_df.iterrows():\n",
    "    break"
   ]
  },
  {
   "cell_type": "code",
   "execution_count": 7,
   "id": "439e79c2",
   "metadata": {},
   "outputs": [],
   "source": [
    "output_directory = Path(\"/n/groups/datta/tim_sainburg/datasets/scratch/\") / \"240806-3d-pipeline\""
   ]
  },
  {
   "cell_type": "code",
   "execution_count": 18,
   "id": "8bc38bb1",
   "metadata": {},
   "outputs": [],
   "source": [
    "output_directory_spikesorting = output_directory / 'spikesorting' / recording_row.ephys_id\n",
    "output_directory_spikesorting.mkdir(parents=True, exist_ok=True)"
   ]
  },
  {
   "cell_type": "code",
   "execution_count": 19,
   "id": "32d5e35e",
   "metadata": {},
   "outputs": [],
   "source": [
    "from multicamera_airflow_pipeline.tim_240731.ephys.spikesorting_ks4 import SpikeSorter"
   ]
  },
  {
   "cell_type": "code",
   "execution_count": 20,
   "id": "99b832ee",
   "metadata": {},
   "outputs": [],
   "source": [
    "ephys_recording_directory = Path(recording_row.ephys_location_on_o2) / recording_row.ephys_id"
   ]
  },
  {
   "cell_type": "code",
   "execution_count": 25,
   "id": "eed23320",
   "metadata": {},
   "outputs": [
    {
     "name": "stderr",
     "output_type": "stream",
     "text": [
      "INFO:multicamera_airflow_pipeline.tim_240731.ephys.spikesorting_ks4:Python interpreter binary location: /n/groups/datta/tim_sainburg/conda_envs/kilosort4/bin/python3\n",
      "INFO:multicamera_airflow_pipeline.tim_240731.ephys.spikesorting_ks4:SI version 0.101.0\n",
      "INFO:multicamera_airflow_pipeline.tim_240731.ephys.spikesorting_ks4:SI location /n/groups/datta/tim_sainburg/conda_envs/kilosort4/lib/python3.10/site-packages/spikeinterface/__init__.py\n",
      "INFO:multicamera_airflow_pipeline.tim_240731.ephys.spikesorting_ks4:KS version 4\n",
      "INFO:multicamera_airflow_pipeline.tim_240731.ephys.spikesorting_ks4:KS file /n/groups/datta/tim_sainburg/conda_envs/kilosort4/lib/python3.10/site-packages/kilosort/__init__.py\n"
     ]
    }
   ],
   "source": [
    "spikesorter = SpikeSorter(\n",
    "    ephys_recording_directory = ephys_recording_directory,\n",
    "    spikesorting_output_directory = output_directory_spikesorting,\n",
    "    n_jobs=10,\n",
    "    rm_channels = [],\n",
    "    recompute_completed=False,\n",
    ")"
   ]
  },
  {
   "cell_type": "code",
   "execution_count": 26,
   "id": "4af2fed1",
   "metadata": {},
   "outputs": [
    {
     "name": "stderr",
     "output_type": "stream",
     "text": [
      "INFO:multicamera_airflow_pipeline.tim_240731.ephys.spikesorting_ks4:Running spikesorting on /n/groups/datta/tim_sainburg/datasets/chronic24/ephys/M04002/2024-05-01_13-26-37\n",
      "INFO:multicamera_airflow_pipeline.tim_240731.ephys.spikesorting_ks4:Output directory: /n/groups/datta/tim_sainburg/datasets/scratch/240806-3d-pipeline/spikesorting/2024-05-01_13-26-37\n",
      "INFO:multicamera_airflow_pipeline.tim_240731.ephys.spikesorting_ks4:Finding streams\n",
      "INFO:multicamera_airflow_pipeline.tim_240731.ephys.spikesorting_ks4:Sorting stream Record Node 107#Neuropix-PXI-100.ProbeA-AP\n",
      "INFO:multicamera_airflow_pipeline.tim_240731.ephys.spikesorting_ks4:Checking if stream Record-Node-107-Neuropix-PXI-100-ProbeA-AP is already sorted at /n/groups/datta/tim_sainburg/datasets/scratch/240806-3d-pipeline/spikesorting/2024-05-01_13-26-37/Record-Node-107-Neuropix-PXI-100-ProbeA-AP\n",
      "INFO:multicamera_airflow_pipeline.tim_240731.ephys.spikesorting_ks4:Stream Record Node 107#Neuropix-PXI-100.ProbeA-AP already sorted. Skipping.\n"
     ]
    }
   ],
   "source": [
    "spikesorter.run()"
   ]
  },
  {
   "cell_type": "code",
   "execution_count": null,
   "id": "7d710d7d",
   "metadata": {},
   "outputs": [],
   "source": []
  }
 ],
 "metadata": {
  "kernelspec": {
   "display_name": "kilosort4",
   "language": "python",
   "name": "kilosort4"
  },
  "language_info": {
   "codemirror_mode": {
    "name": "ipython",
    "version": 3
   },
   "file_extension": ".py",
   "mimetype": "text/x-python",
   "name": "python",
   "nbconvert_exporter": "python",
   "pygments_lexer": "ipython3",
   "version": "3.10.14"
  }
 },
 "nbformat": 4,
 "nbformat_minor": 5
}
