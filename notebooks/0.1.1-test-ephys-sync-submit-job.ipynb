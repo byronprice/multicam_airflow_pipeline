{
 "cells": [
  {
   "cell_type": "code",
   "execution_count": 1,
   "id": "19098993",
   "metadata": {},
   "outputs": [],
   "source": [
    "%load_ext autoreload\n",
    "%autoreload 2"
   ]
  },
  {
   "cell_type": "code",
   "execution_count": 2,
   "id": "900a1f1a",
   "metadata": {},
   "outputs": [
    {
     "name": "stdout",
     "output_type": "stream",
     "text": [
      "/home/peromoseq/anaconda3/envs/airflow/bin/python3\n"
     ]
    }
   ],
   "source": [
    "from pathlib import Path\n",
    "import sys\n",
    "import logging\n",
    "import inspect\n",
    "logging.basicConfig(level=logging.INFO)\n",
    "print(sys.executable)"
   ]
  },
  {
   "cell_type": "markdown",
   "id": "d4930f63",
   "metadata": {},
   "source": [
    "### Get recording info (google sheets)"
   ]
  },
  {
   "cell_type": "code",
   "execution_count": 3,
   "id": "63237b3a",
   "metadata": {},
   "outputs": [],
   "source": [
    "import requests\n",
    "import pandas as pd\n",
    "from io import BytesIO"
   ]
  },
  {
   "cell_type": "code",
   "execution_count": 4,
   "id": "5909c615",
   "metadata": {},
   "outputs": [],
   "source": [
    "# spreadsheet_url = 'https://docs.google.com/spreadsheet/ccc?key=14HIqUaSl_n-91hpAvmACY_iVY9nLKdlA6qklhxfZon0&output=csv&gid=0'\n",
    "spreadsheet_url = \"https://docs.google.com/spreadsheet/ccc?key=1jACsUmxuJ9Une59qmvzZGc1qXezKhKzD1zho2sEfcrU&output=csv&gid=0\"\n",
    "response = requests.get(spreadsheet_url)\n",
    "recording_df = pd.read_csv(BytesIO(response.content))"
   ]
  },
  {
   "cell_type": "code",
   "execution_count": 5,
   "id": "49df48f5",
   "metadata": {},
   "outputs": [
    {
     "data": {
      "text/html": [
       "<div>\n",
       "<style scoped>\n",
       "    .dataframe tbody tr th:only-of-type {\n",
       "        vertical-align: middle;\n",
       "    }\n",
       "\n",
       "    .dataframe tbody tr th {\n",
       "        vertical-align: top;\n",
       "    }\n",
       "\n",
       "    .dataframe thead th {\n",
       "        text-align: right;\n",
       "    }\n",
       "</style>\n",
       "<table border=\"1\" class=\"dataframe\">\n",
       "  <thead>\n",
       "    <tr style=\"text-align: right;\">\n",
       "      <th></th>\n",
       "      <th>Subject</th>\n",
       "      <th>duration_m</th>\n",
       "      <th>video_recording_id</th>\n",
       "      <th>ephys_id</th>\n",
       "      <th>calibration_id</th>\n",
       "      <th>calibration_board_shape</th>\n",
       "      <th>calibration_square_size</th>\n",
       "      <th>video_location_on_o2</th>\n",
       "      <th>ephys_location_on_o2</th>\n",
       "      <th>calibration_location_on_o2</th>\n",
       "      <th>samplerate</th>\n",
       "    </tr>\n",
       "  </thead>\n",
       "  <tbody>\n",
       "    <tr>\n",
       "      <th>0</th>\n",
       "      <td>M04002</td>\n",
       "      <td>10</td>\n",
       "      <td>24-05-01-13-26-43-110846</td>\n",
       "      <td>2024-05-01_13-26-37</td>\n",
       "      <td>24-05-01-13-45-07-825493</td>\n",
       "      <td>NaN</td>\n",
       "      <td>NaN</td>\n",
       "      <td>/n/groups/datta/tim_sainburg/datasets/chronic2...</td>\n",
       "      <td>/n/groups/datta/tim_sainburg/datasets/chronic2...</td>\n",
       "      <td>/n/groups/datta/tim_sainburg/datasets/chronic2...</td>\n",
       "      <td>150</td>\n",
       "    </tr>\n",
       "  </tbody>\n",
       "</table>\n",
       "</div>"
      ],
      "text/plain": [
       "  Subject  duration_m        video_recording_id             ephys_id  \\\n",
       "0  M04002          10  24-05-01-13-26-43-110846  2024-05-01_13-26-37   \n",
       "\n",
       "             calibration_id  calibration_board_shape  calibration_square_size  \\\n",
       "0  24-05-01-13-45-07-825493                      NaN                      NaN   \n",
       "\n",
       "                                video_location_on_o2  \\\n",
       "0  /n/groups/datta/tim_sainburg/datasets/chronic2...   \n",
       "\n",
       "                                ephys_location_on_o2  \\\n",
       "0  /n/groups/datta/tim_sainburg/datasets/chronic2...   \n",
       "\n",
       "                          calibration_location_on_o2  samplerate  \n",
       "0  /n/groups/datta/tim_sainburg/datasets/chronic2...         150  "
      ]
     },
     "execution_count": 5,
     "metadata": {},
     "output_type": "execute_result"
    }
   ],
   "source": [
    "recording_df[:3]"
   ]
  },
  {
   "cell_type": "markdown",
   "id": "9c657989",
   "metadata": {},
   "source": [
    "### Submit job"
   ]
  },
  {
   "cell_type": "code",
   "execution_count": 6,
   "id": "882016bd",
   "metadata": {},
   "outputs": [],
   "source": [
    "output_directory = Path(\"/n/groups/datta/tim_sainburg/datasets/scratch/\") / \"240808-3d-pipeline\""
   ]
  },
  {
   "cell_type": "code",
   "execution_count": 7,
   "id": "7951d065",
   "metadata": {},
   "outputs": [
    {
     "name": "stderr",
     "output_type": "stream",
     "text": [
      "INFO:multicamera_airflow_pipeline.tim_240731.interface.o2:Python interpreter binary location: /home/peromoseq/anaconda3/envs/airflow/bin/python3\n",
      "/home/peromoseq/anaconda3/envs/airflow/lib/python3.8/site-packages/tqdm/auto.py:21: TqdmWarning: IProgress not found. Please update jupyter and ipywidgets. See https://ipywidgets.readthedocs.io/en/stable/user_install.html\n",
      "  from .autonotebook import tqdm as notebook_tqdm\n"
     ]
    }
   ],
   "source": [
    "from multicamera_airflow_pipeline.tim_240731.interface.o2 import O2Runner\n",
    "from pathlib import Path\n",
    "from datetime import datetime"
   ]
  },
  {
   "cell_type": "code",
   "execution_count": 8,
   "id": "7c52b0f0",
   "metadata": {},
   "outputs": [],
   "source": [
    "for idx, recording_row in recording_df.iterrows():\n",
    "    break"
   ]
  },
  {
   "cell_type": "code",
   "execution_count": 9,
   "id": "5228937d",
   "metadata": {},
   "outputs": [
    {
     "data": {
      "text/plain": [
       "Subject                                                                  M04002\n",
       "duration_m                                                                   10\n",
       "video_recording_id                                     24-05-01-13-26-43-110846\n",
       "ephys_id                                                    2024-05-01_13-26-37\n",
       "calibration_id                                         24-05-01-13-45-07-825493\n",
       "calibration_board_shape                                                     NaN\n",
       "calibration_square_size                                                     NaN\n",
       "video_location_on_o2          /n/groups/datta/tim_sainburg/datasets/chronic2...\n",
       "ephys_location_on_o2          /n/groups/datta/tim_sainburg/datasets/chronic2...\n",
       "calibration_location_on_o2    /n/groups/datta/tim_sainburg/datasets/chronic2...\n",
       "samplerate                                                                  150\n",
       "Name: 0, dtype: object"
      ]
     },
     "execution_count": 9,
     "metadata": {},
     "output_type": "execute_result"
    }
   ],
   "source": [
    "recording_row"
   ]
  },
  {
   "cell_type": "code",
   "execution_count": 10,
   "id": "88fab8dd",
   "metadata": {},
   "outputs": [],
   "source": [
    "def convert_minutes_to_hms(minutes_float):\n",
    "    # Convert minutes to total seconds\n",
    "    total_seconds = int(minutes_float * 60)\n",
    "    \n",
    "    # Extract hours, minutes, and seconds using divmod\n",
    "    hours, remainder = divmod(total_seconds, 3600)\n",
    "    minutes, seconds = divmod(remainder, 60)\n",
    "    \n",
    "    # Format as HH:MM:SS\n",
    "    return f\"{hours:02}:{minutes:02}:{seconds:02}\""
   ]
  },
  {
   "cell_type": "code",
   "execution_count": 11,
   "id": "b6995c9e",
   "metadata": {},
   "outputs": [],
   "source": [
    "duration_requested = convert_minutes_to_hms(recording_row.duration_m)"
   ]
  },
  {
   "cell_type": "code",
   "execution_count": 12,
   "id": "503798e3",
   "metadata": {},
   "outputs": [],
   "source": [
    "samplerate = recording_row.samplerate\n",
    "#trigger_pin = recording_row.trigger_pin"
   ]
  },
  {
   "cell_type": "code",
   "execution_count": 13,
   "id": "896830f1",
   "metadata": {},
   "outputs": [],
   "source": [
    "job_directory = Path('/n/groups/datta/tim_sainburg/datasets/scratch/jobs')\n",
    "job_directory.mkdir(exist_ok=True, parents=True)"
   ]
  },
  {
   "cell_type": "code",
   "execution_count": 14,
   "id": "9317053c",
   "metadata": {},
   "outputs": [
    {
     "data": {
      "text/plain": [
       "'20240808_151100_078322'"
      ]
     },
     "execution_count": 14,
     "metadata": {},
     "output_type": "execute_result"
    }
   ],
   "source": [
    "current_datetime_str = datetime.now().strftime('%Y%m%d_%H%M%S_%f')\n",
    "current_datetime_str"
   ]
  },
  {
   "cell_type": "code",
   "execution_count": 15,
   "id": "a22b22a6",
   "metadata": {},
   "outputs": [],
   "source": [
    "remote_job_directory = job_directory / current_datetime_str"
   ]
  },
  {
   "cell_type": "code",
   "execution_count": 16,
   "id": "506dd9e5",
   "metadata": {},
   "outputs": [],
   "source": [
    "# where the data is located\n",
    "recording_directory = Path(recording_row.video_location_on_o2) / recording_row.video_recording_id\n",
    "# where to save data\n",
    "output_directory_camera_sync = output_directory / 'camera_sync2' / recording_row.video_recording_id\n",
    "output_directory_camera_sync.mkdir(parents=True, exist_ok=True)"
   ]
  },
  {
   "cell_type": "code",
   "execution_count": 17,
   "id": "fa54dbb7",
   "metadata": {},
   "outputs": [],
   "source": [
    "config_file = Path(\"/n/groups/datta/tim_sainburg/projects/multicamera_airflow_pipeline/multicamera_airflow_pipeline/tim_240731/default_config.yaml\")"
   ]
  },
  {
   "cell_type": "code",
   "execution_count": 18,
   "id": "c545bcfa",
   "metadata": {},
   "outputs": [],
   "source": [
    "import yaml; "
   ]
  },
  {
   "cell_type": "code",
   "execution_count": 19,
   "id": "7ae63640",
   "metadata": {},
   "outputs": [],
   "source": [
    "config = yaml.safe_load(open(config_file, 'r'))"
   ]
  },
  {
   "cell_type": "code",
   "execution_count": 20,
   "id": "255d3521",
   "metadata": {},
   "outputs": [
    {
     "data": {
      "text/plain": [
       "{'sync_cameras': {'trigger_pin': 2}}"
      ]
     },
     "execution_count": 20,
     "metadata": {},
     "output_type": "execute_result"
    }
   ],
   "source": [
    "config"
   ]
  },
  {
   "cell_type": "code",
   "execution_count": 21,
   "id": "e76a694a",
   "metadata": {},
   "outputs": [],
   "source": [
    "params = {\n",
    "    \"recording_directory\": recording_directory.as_posix(),\n",
    "    \"output_directory_camera_sync\": output_directory_camera_sync.as_posix(),\n",
    "    \"samplerate\": samplerate,\n",
    "    #\"trigger_pin\": trigger_pin,\n",
    "}"
   ]
  },
  {
   "cell_type": "code",
   "execution_count": 22,
   "id": "403f25d8",
   "metadata": {},
   "outputs": [
    {
     "name": "stderr",
     "output_type": "stream",
     "text": [
      "INFO:paramiko.transport:Connected (version 2.0, client OpenSSH_7.4)\n",
      "INFO:paramiko.transport:Auth banner: b'Problems logging in?\\nUse your lower case HMS ID, like abc123, not ABC123.\\nIf locked out, see:\\nhttps://it.hms.harvard.edu/i-want/reset-password-or-unlock-your-hms-account\\n'\n",
      "INFO:paramiko.transport:Authentication (publickey) successful!\n"
     ]
    }
   ],
   "source": [
    "runner = O2Runner(\n",
    "    job_name_prefix = 'test_submit_camera_sync',\n",
    "    remote_job_directory = remote_job_directory,\n",
    "    conda_env = \"/n/groups/datta/tim_sainburg/conda_envs/peromoseq\",\n",
    "    o2_username = \"tis697\",\n",
    "    o2_server=\"login.o2.rc.hms.harvard.edu\",\n",
    "    job_params = params, \n",
    "    o2_n_cpus = 1,\n",
    "    o2_memory=\"2G\",\n",
    "    o2_time_limit=duration_requested,\n",
    "    o2_queue=\"priority\",\n",
    ")"
   ]
  },
  {
   "cell_type": "code",
   "execution_count": 23,
   "id": "f11cb229",
   "metadata": {},
   "outputs": [],
   "source": [
    "def sync_cameras(params, config):\n",
    "    from multicamera_airflow_pipeline.tim_240731.sync.sync_cameras import CameraSynchronizer\n",
    "    synchronizer = CameraSynchronizer(\n",
    "        recording_directory = params[\"recording_directory\"],\n",
    "        output_directory = params[\"output_directory_camera_sync\"],\n",
    "        samplerate = params[\"samplerate\"], # camera sample rate\n",
    "        #trigger_pin = params[\"trigger_pin\"], # Which pin camera trigger was on\n",
    "        **config\n",
    "    )\n",
    "    synchronizer.run()"
   ]
  },
  {
   "cell_type": "code",
   "execution_count": 24,
   "id": "9caea63c",
   "metadata": {},
   "outputs": [],
   "source": [
    "runner.python_script = f\"\"\"\n",
    "# load params\n",
    "import yaml\n",
    "params_file = \"{runner.remote_job_directory / f\"{runner.job_name}.params.yaml\"}\"\n",
    "config_file = \"{config_file.as_posix()}\"\n",
    "\n",
    "params = yaml.safe_load(open(params_file, 'r'))\n",
    "config = yaml.safe_load(open(config_file, 'r'))\n",
    "    \n",
    "# grab sync cameras function\n",
    "{inspect.getsource(sync_cameras)}\n",
    "\n",
    "# run \n",
    "sync_cameras(params, config[\"sync_cameras\"])\n",
    "\"\"\""
   ]
  },
  {
   "cell_type": "code",
   "execution_count": 25,
   "id": "8e2541bc",
   "metadata": {},
   "outputs": [
    {
     "name": "stdout",
     "output_type": "stream",
     "text": [
      "\n",
      "# load params\n",
      "import yaml\n",
      "params_file = \"/n/groups/datta/tim_sainburg/datasets/scratch/jobs/20240808_151100_078322/test_submit_camera_sync_24-08-08-2024-11-00-205605.params.yaml\"\n",
      "config_file = \"/n/groups/datta/tim_sainburg/projects/multicamera_airflow_pipeline/multicamera_airflow_pipeline/tim_240731/default_config.yaml\"\n",
      "\n",
      "params = yaml.safe_load(open(params_file, 'r'))\n",
      "config = yaml.safe_load(open(config_file, 'r'))\n",
      "    \n",
      "# grab sync cameras function\n",
      "def sync_cameras(params, config):\n",
      "    from multicamera_airflow_pipeline.tim_240731.sync.sync_cameras import CameraSynchronizer\n",
      "    synchronizer = CameraSynchronizer(\n",
      "        recording_directory = params[\"recording_directory\"],\n",
      "        output_directory = params[\"output_directory_camera_sync\"],\n",
      "        samplerate = params[\"samplerate\"], # camera sample rate\n",
      "        #trigger_pin = params[\"trigger_pin\"], # Which pin camera trigger was on\n",
      "        **config\n",
      "    )\n",
      "    synchronizer.run()\n",
      "\n",
      "\n",
      "# run \n",
      "sync_cameras(params, config[\"sync_cameras\"])\n",
      "\n"
     ]
    }
   ],
   "source": [
    "print(runner.python_script)"
   ]
  },
  {
   "cell_type": "code",
   "execution_count": 26,
   "id": "f4f8f0a2",
   "metadata": {
    "scrolled": false
   },
   "outputs": [
    {
     "name": "stderr",
     "output_type": "stream",
     "text": [
      "INFO:multicamera_airflow_pipeline.tim_240731.interface.o2:Creating remote job directory: /n/groups/datta/tim_sainburg/datasets/scratch/jobs/20240808_151100_078322\n",
      "INFO:multicamera_airflow_pipeline.tim_240731.interface.o2:Creating remote directory: /n/groups/datta/tim_sainburg/datasets/scratch/jobs/20240808_151100_078322\n",
      "INFO:multicamera_airflow_pipeline.tim_240731.interface.o2:Successfully created remote directory: /n/groups/datta/tim_sainburg/datasets/scratch/jobs/20240808_151100_078322\n",
      "INFO:multicamera_airflow_pipeline.tim_240731.interface.o2:Writing job files to remote directory: /n/groups/datta/tim_sainburg/datasets/scratch/jobs/20240808_151100_078322\n",
      "INFO:paramiko.transport.sftp:[chan 1] Opened sftp connection (server version 3)\n",
      "INFO:multicamera_airflow_pipeline.tim_240731.interface.o2:Transferring /tmp/tmpiko3669r to login.o2.rc.hms.harvard.edu:/n/groups/datta/tim_sainburg/datasets/scratch/jobs/20240808_151100_078322/test_submit_camera_sync_24-08-08-2024-11-00-205605.py\n",
      "INFO:multicamera_airflow_pipeline.tim_240731.interface.o2:Successfully transferred /tmp/tmpiko3669r to /n/groups/datta/tim_sainburg/datasets/scratch/jobs/20240808_151100_078322/test_submit_camera_sync_24-08-08-2024-11-00-205605.py\n",
      "INFO:paramiko.transport.sftp:[chan 1] sftp session closed.\n",
      "INFO:paramiko.transport.sftp:[chan 2] Opened sftp connection (server version 3)\n",
      "INFO:multicamera_airflow_pipeline.tim_240731.interface.o2:Transferring /tmp/tmpt598ji4n to login.o2.rc.hms.harvard.edu:/n/groups/datta/tim_sainburg/datasets/scratch/jobs/20240808_151100_078322/test_submit_camera_sync_24-08-08-2024-11-00-205605.sh\n",
      "INFO:multicamera_airflow_pipeline.tim_240731.interface.o2:Successfully transferred /tmp/tmpt598ji4n to /n/groups/datta/tim_sainburg/datasets/scratch/jobs/20240808_151100_078322/test_submit_camera_sync_24-08-08-2024-11-00-205605.sh\n",
      "INFO:paramiko.transport.sftp:[chan 2] sftp session closed.\n",
      "INFO:paramiko.transport.sftp:[chan 3] Opened sftp connection (server version 3)\n",
      "INFO:multicamera_airflow_pipeline.tim_240731.interface.o2:Transferring /tmp/tmpz3yfuxbv to login.o2.rc.hms.harvard.edu:/n/groups/datta/tim_sainburg/datasets/scratch/jobs/20240808_151100_078322/test_submit_camera_sync_24-08-08-2024-11-00-205605.params.yaml\n",
      "INFO:multicamera_airflow_pipeline.tim_240731.interface.o2:Successfully transferred /tmp/tmpz3yfuxbv to /n/groups/datta/tim_sainburg/datasets/scratch/jobs/20240808_151100_078322/test_submit_camera_sync_24-08-08-2024-11-00-205605.params.yaml\n",
      "INFO:paramiko.transport.sftp:[chan 3] sftp session closed.\n",
      "INFO:multicamera_airflow_pipeline.tim_240731.interface.o2:Submitting job: test_submit_camera_sync_24-08-08-2024-11-00-205605\n",
      "INFO:multicamera_airflow_pipeline.tim_240731.interface.o2:Job submitted successfully with job id: 43641811\n"
     ]
    }
   ],
   "source": [
    "runner.run()"
   ]
  },
  {
   "cell_type": "code",
   "execution_count": 27,
   "id": "a8c9cf62",
   "metadata": {},
   "outputs": [],
   "source": [
    "import time"
   ]
  },
  {
   "cell_type": "code",
   "execution_count": 28,
   "id": "0780d8f1",
   "metadata": {
    "scrolled": true
   },
   "outputs": [
    {
     "name": "stderr",
     "output_type": "stream",
     "text": [
      "INFO:multicamera_airflow_pipeline.tim_240731.interface.o2:Checking job status: 43641811\n",
      "INFO:multicamera_airflow_pipeline.tim_240731.interface.o2:The job is currently running.\n",
      "INFO:multicamera_airflow_pipeline.tim_240731.interface.o2:Checking job status: 43641811\n",
      "INFO:multicamera_airflow_pipeline.tim_240731.interface.o2:The job has finished successfully.\n"
     ]
    }
   ],
   "source": [
    "# 10000/60/24 = roughly 1 week\n",
    "for i in range(10000):\n",
    "    # check job status every n seconds\n",
    "    status = runner.check_job_status()\n",
    "    if status:\n",
    "        break\n",
    "    time.sleep(60)"
   ]
  },
  {
   "cell_type": "code",
   "execution_count": 29,
   "id": "5cbeac4a",
   "metadata": {},
   "outputs": [],
   "source": [
    "def check_camera_sync_completion(output_directory):\n",
    "    output_directory = Path(output_directory)\n",
    "    if (output_directory / \"camera_sync.csv\").exists():\n",
    "        return True\n",
    "    else:\n",
    "        return False"
   ]
  },
  {
   "cell_type": "code",
   "execution_count": 30,
   "id": "abc372e0",
   "metadata": {},
   "outputs": [
    {
     "data": {
      "text/plain": [
       "True"
      ]
     },
     "execution_count": 30,
     "metadata": {},
     "output_type": "execute_result"
    }
   ],
   "source": [
    "check_camera_sync_completion(params['output_directory_camera_sync'])"
   ]
  },
  {
   "cell_type": "code",
   "execution_count": 31,
   "id": "808365f6",
   "metadata": {},
   "outputs": [
    {
     "data": {
      "text/plain": [
       "'sacct -j 43641811'"
      ]
     },
     "execution_count": 31,
     "metadata": {},
     "output_type": "execute_result"
    }
   ],
   "source": [
    "f\"sacct -j {runner.slurm_job_id}\""
   ]
  },
  {
   "cell_type": "code",
   "execution_count": 32,
   "id": "1fc939cf",
   "metadata": {},
   "outputs": [
    {
     "data": {
      "text/plain": [
       "PosixPath('/n/groups/datta/tim_sainburg/datasets/scratch/jobs/20240808_151100_078322/test_submit_camera_sync_24-08-08-2024-11-00-205605.log')"
      ]
     },
     "execution_count": 32,
     "metadata": {},
     "output_type": "execute_result"
    }
   ],
   "source": [
    "runner.output_log"
   ]
  },
  {
   "cell_type": "code",
   "execution_count": 33,
   "id": "9aafd570",
   "metadata": {},
   "outputs": [],
   "source": [
    "!tail {runner.output_log}"
   ]
  },
  {
   "cell_type": "code",
   "execution_count": 34,
   "id": "4341f9a2",
   "metadata": {},
   "outputs": [],
   "source": [
    "import textwrap"
   ]
  },
  {
   "cell_type": "code",
   "execution_count": 38,
   "id": "a792c143",
   "metadata": {},
   "outputs": [],
   "source": [
    "test = textwrap.dedent(\n",
    "f\"\"\"\n",
    "    # load params\n",
    "    import yaml\n",
    "    params_file = \"{runner.remote_job_directory / f\"{runner.job_name}.params.yaml\"}\"\n",
    "    config_file = \"{config_file.as_posix()}\"\n",
    "\n",
    "    params = yaml.safe_load(open(params_file, 'r'))\n",
    "    config = yaml.safe_load(open(config_file, 'r'))\n",
    "\n",
    "    # grab sync cameras function\n",
    "    from multicamera_airflow_pipeline.tim_240731.sync.sync_cameras import CameraSynchronizer\n",
    "    synchronizer = CameraSynchronizer(\n",
    "        recording_directory=params[\"recording_directory\"],\n",
    "        output_directory=params[\"output_directory_camera_sync\"],\n",
    "        samplerate=params[\"samplerate\"],  # camera sample rate\n",
    "        # trigger_pin=params[\"trigger_pin\"],  # Which pin camera trigger was on\n",
    "        **config,\n",
    "    )\n",
    "    synchronizer.run()\n",
    "\n",
    "    # run \n",
    "    sync_cameras(params, config[\"sync_cameras\"])\n",
    "    \"\"\"\n",
    ")"
   ]
  },
  {
   "cell_type": "code",
   "execution_count": 39,
   "id": "801ccaaa",
   "metadata": {},
   "outputs": [
    {
     "name": "stdout",
     "output_type": "stream",
     "text": [
      "\n",
      "# load params\n",
      "import yaml\n",
      "params_file = \"/n/groups/datta/tim_sainburg/datasets/scratch/jobs/20240808_151100_078322/test_submit_camera_sync_24-08-08-2024-11-00-205605.params.yaml\"\n",
      "config_file = \"/n/groups/datta/tim_sainburg/projects/multicamera_airflow_pipeline/multicamera_airflow_pipeline/tim_240731/default_config.yaml\"\n",
      "\n",
      "params = yaml.safe_load(open(params_file, 'r'))\n",
      "config = yaml.safe_load(open(config_file, 'r'))\n",
      "\n",
      "# grab sync cameras function\n",
      "from multicamera_airflow_pipeline.tim_240731.sync.sync_cameras import CameraSynchronizer\n",
      "synchronizer = CameraSynchronizer(\n",
      "    recording_directory=params[\"recording_directory\"],\n",
      "    output_directory=params[\"output_directory_camera_sync\"],\n",
      "    samplerate=params[\"samplerate\"],  # camera sample rate\n",
      "    # trigger_pin=params[\"trigger_pin\"],  # Which pin camera trigger was on\n",
      "    **config,\n",
      ")\n",
      "synchronizer.run()\n",
      "\n",
      "# run \n",
      "sync_cameras(params, config[\"sync_cameras\"])\n",
      "\n"
     ]
    }
   ],
   "source": [
    "print(test)"
   ]
  },
  {
   "cell_type": "code",
   "execution_count": null,
   "id": "69f0fd0f",
   "metadata": {},
   "outputs": [],
   "source": []
  }
 ],
 "metadata": {
  "kernelspec": {
   "display_name": "airflow",
   "language": "python",
   "name": "airflow"
  },
  "language_info": {
   "codemirror_mode": {
    "name": "ipython",
    "version": 3
   },
   "file_extension": ".py",
   "mimetype": "text/x-python",
   "name": "python",
   "nbconvert_exporter": "python",
   "pygments_lexer": "ipython3",
   "version": "3.8.19"
  }
 },
 "nbformat": 4,
 "nbformat_minor": 5
}
