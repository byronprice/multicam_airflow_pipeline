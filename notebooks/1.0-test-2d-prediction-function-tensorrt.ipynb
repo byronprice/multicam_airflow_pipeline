{
 "cells": [
  {
   "cell_type": "code",
   "execution_count": 6,
   "id": "52e8cd58",
   "metadata": {},
   "outputs": [
    {
     "data": {
      "text/plain": [
       "'/n/groups/datta/tim_sainburg/conda_envs/openmmlab/bin/python3'"
      ]
     },
     "execution_count": 6,
     "metadata": {},
     "output_type": "execute_result"
    }
   ],
   "source": [
    "import sys\n",
    "sys.executable"
   ]
  },
  {
   "cell_type": "code",
   "execution_count": 1,
   "id": "31fb07d5",
   "metadata": {},
   "outputs": [],
   "source": [
    "# module load cuda/11.7"
   ]
  },
  {
   "cell_type": "code",
   "execution_count": 2,
   "id": "b4c34a43",
   "metadata": {},
   "outputs": [],
   "source": [
    "# export TENSORRT_DIR=$/n/groups/datta/tim_sainburg/tensorrt/TensorRT-8.2.3.0\n",
    "# export LD_LIBRARY_PATH=${TENSORRT_DIR}/lib:$LD_LIBRARY_PATH"
   ]
  },
  {
   "cell_type": "code",
   "execution_count": 3,
   "id": "68ec39ac",
   "metadata": {},
   "outputs": [],
   "source": [
    "import mmengine"
   ]
  },
  {
   "cell_type": "code",
   "execution_count": 5,
   "id": "54730a05",
   "metadata": {},
   "outputs": [
    {
     "ename": "ModuleNotFoundError",
     "evalue": "No module named 'mmdeploy_runtime'",
     "output_type": "error",
     "traceback": [
      "\u001b[0;31m---------------------------------------------------------------------------\u001b[0m",
      "\u001b[0;31mModuleNotFoundError\u001b[0m                       Traceback (most recent call last)",
      "Cell \u001b[0;32mIn[5], line 1\u001b[0m\n\u001b[0;32m----> 1\u001b[0m \u001b[38;5;28;01mfrom\u001b[39;00m \u001b[38;5;21;01mmmdeploy_runtime\u001b[39;00m \u001b[38;5;28;01mimport\u001b[39;00m Detector, PoseDetector\n\u001b[1;32m      2\u001b[0m \u001b[38;5;28;01mfrom\u001b[39;00m \u001b[38;5;21;01mmmdeploy_runtime\u001b[39;00m \u001b[38;5;28;01mimport\u001b[39;00m PoseTracker \u001b[38;5;66;03m# not used here, but this runs both simultaneously\u001b[39;00m\n\u001b[1;32m      3\u001b[0m \u001b[38;5;28;01mfrom\u001b[39;00m \u001b[38;5;21;01mmmpipeline\u001b[39;00m\u001b[38;5;21;01m.\u001b[39;00m\u001b[38;5;21;01mmmpose\u001b[39;00m\u001b[38;5;21;01m.\u001b[39;00m\u001b[38;5;21;01mskeletons\u001b[39;00m\u001b[38;5;21;01m.\u001b[39;00m\u001b[38;5;21;01msainburg25pt\u001b[39;00m \u001b[38;5;28;01mimport\u001b[39;00m dataset_info\n",
      "\u001b[0;31mModuleNotFoundError\u001b[0m: No module named 'mmdeploy_runtime'"
     ]
    }
   ],
   "source": [
    "from mmdeploy_runtime import Detector, PoseDetector\n",
    "from mmdeploy_runtime import PoseTracker # not used here, but this runs both simultaneously\n",
    "from mmpipeline.mmpose.skeletons.sainburg25pt import dataset_info "
   ]
  },
  {
   "cell_type": "code",
   "execution_count": 5,
   "id": "0f4c99dd",
   "metadata": {},
   "outputs": [],
   "source": [
    "#import tensorrt\n",
    "#import pycuda"
   ]
  },
  {
   "cell_type": "code",
   "execution_count": 6,
   "id": "c5d8a598",
   "metadata": {},
   "outputs": [
    {
     "name": "stdout",
     "output_type": "stream",
     "text": [
      "[2024-08-07 16:30:22.560] [mmdeploy] [info] [model.cpp:35] [DirectoryModel] Load model: \"/n/groups/datta/tim_sainburg/datasets/scratch/240806-3d-pipeline/tensorrt-2/rtmdet_tiny_8xb32-300e_coco_chronic_24-05-04-17-51-58_216661/Tesla_V100S-PCIE-32GB/\"\n",
      "[2024-08-07 16:30:23.099] [mmdeploy] [error] [trt_net.cpp:28] TRTNet: 1: [stdArchiveReader.cpp::StdArchiveReader::30] Error Code 1: Serialization (Serialization assertion magicTagRead == magicTag failed.Magic tag does not match)\n",
      "[2024-08-07 16:30:23.099] [mmdeploy] [error] [trt_net.cpp:28] TRTNet: 4: [runtime.cpp::deserializeCudaEngine::50] Error Code 4: Internal Error (Engine deserialization failed.)\n",
      "[2024-08-07 16:30:23.099] [mmdeploy] [error] [trt_net.cpp:75] failed to deserialize TRT CUDA engine\n",
      "[2024-08-07 16:30:23.102] [mmdeploy] [error] [net_module.cpp:54] Failed to create Net backend: tensorrt, config: {\n",
      "  \"context\": {\n",
      "    \"device\": \"<any>\",\n",
      "    \"model\": \"<any>\",\n",
      "    \"stream\": \"<any>\"\n",
      "  },\n",
      "  \"input\": [\n",
      "    \"prep_output\"\n",
      "  ],\n",
      "  \"input_map\": {\n",
      "    \"img\": \"input\"\n",
      "  },\n",
      "  \"is_batched\": false,\n",
      "  \"module\": \"Net\",\n",
      "  \"name\": \"rtmdet\",\n",
      "  \"output\": [\n",
      "    \"infer_output\"\n",
      "  ],\n",
      "  \"output_map\": {},\n",
      "  \"type\": \"Task\"\n",
      "}\n",
      "[2024-08-07 16:30:23.102] [mmdeploy] [error] [task.cpp:99] error parsing config: {\n",
      "  \"context\": {\n",
      "    \"device\": \"<any>\",\n",
      "    \"model\": \"<any>\",\n",
      "    \"stream\": \"<any>\"\n",
      "  },\n",
      "  \"input\": [\n",
      "    \"prep_output\"\n",
      "  ],\n",
      "  \"input_map\": {\n",
      "    \"img\": \"input\"\n",
      "  },\n",
      "  \"is_batched\": false,\n",
      "  \"module\": \"Net\",\n",
      "  \"name\": \"rtmdet\",\n",
      "  \"output\": [\n",
      "    \"infer_output\"\n",
      "  ],\n",
      "  \"output_map\": {},\n",
      "  \"type\": \"Task\"\n",
      "}\n"
     ]
    }
   ],
   "source": [
    "# create object detector\n",
    "detector = Detector(\n",
    "    #model_path=\"/n/groups/datta/tim_sainburg/projects/24-01-05-multicamera_keypoints_mm2d/models/tensortt/rtmdetection_fp32_Tesla_V100S-PCIE-32GB-0__24-08-07-15-53-50_038653\", device_name=\"cuda\"\n",
    "    model_path=\"/n/groups/datta/tim_sainburg/datasets/scratch/240806-3d-pipeline/tensorrt-2/rtmdet_tiny_8xb32-300e_coco_chronic_24-05-04-17-51-58_216661/Tesla_V100S-PCIE-32GB/\", device_name=\"cuda\"\n",
    ")"
   ]
  },
  {
   "cell_type": "code",
   "execution_count": 9,
   "id": "7ebfab94",
   "metadata": {},
   "outputs": [],
   "source": [
    "import numpy as np"
   ]
  },
  {
   "cell_type": "code",
   "execution_count": null,
   "id": "514da213",
   "metadata": {},
   "outputs": [],
   "source": [
    "#detector(np.zeros((100,100,3)))"
   ]
  },
  {
   "cell_type": "code",
   "execution_count": null,
   "id": "6fe980ee",
   "metadata": {},
   "outputs": [],
   "source": []
  },
  {
   "cell_type": "markdown",
   "id": "6f361e85",
   "metadata": {},
   "source": [
    "##### Duration: ???"
   ]
  },
  {
   "cell_type": "code",
   "execution_count": 1,
   "id": "d2da23c9",
   "metadata": {},
   "outputs": [],
   "source": [
    "%load_ext autoreload\n",
    "%autoreload 2"
   ]
  },
  {
   "cell_type": "code",
   "execution_count": 2,
   "id": "900a1f1a",
   "metadata": {},
   "outputs": [
    {
     "name": "stdout",
     "output_type": "stream",
     "text": [
      "/n/groups/datta/tim_sainburg/conda_envs/mmdeploy/bin/python3\n"
     ]
    }
   ],
   "source": [
    "from pathlib import Path\n",
    "import sys\n",
    "import logging\n",
    "logging.basicConfig(level=logging.INFO)\n",
    "print(sys.executable)"
   ]
  },
  {
   "cell_type": "code",
   "execution_count": 3,
   "id": "c273f6e6",
   "metadata": {},
   "outputs": [
    {
     "name": "stderr",
     "output_type": "stream",
     "text": [
      "INFO:multicamera_airflow_pipeline.tim_240731.keypoints.predict_2D:Python interpreter binary location: /n/groups/datta/tim_sainburg/conda_envs/mmdeploy/bin/python3\n"
     ]
    }
   ],
   "source": [
    "from multicamera_airflow_pipeline.tim_240731.keypoints.predict_2D import Inferencer2D"
   ]
  },
  {
   "cell_type": "markdown",
   "id": "d4930f63",
   "metadata": {},
   "source": [
    "### Get recording info (google sheets)"
   ]
  },
  {
   "cell_type": "code",
   "execution_count": 4,
   "id": "63237b3a",
   "metadata": {},
   "outputs": [],
   "source": [
    "import requests\n",
    "import pandas as pd\n",
    "from io import BytesIO"
   ]
  },
  {
   "cell_type": "code",
   "execution_count": 5,
   "id": "5909c615",
   "metadata": {},
   "outputs": [],
   "source": [
    "# spreadsheet_url = 'https://docs.google.com/spreadsheet/ccc?key=14HIqUaSl_n-91hpAvmACY_iVY9nLKdlA6qklhxfZon0&output=csv&gid=0'\n",
    "spreadsheet_url = \"https://docs.google.com/spreadsheet/ccc?key=1jACsUmxuJ9Une59qmvzZGc1qXezKhKzD1zho2sEfcrU&output=csv&gid=0\"\n",
    "response = requests.get(spreadsheet_url)\n",
    "recording_df = pd.read_csv(BytesIO(response.content))"
   ]
  },
  {
   "cell_type": "code",
   "execution_count": 6,
   "id": "49df48f5",
   "metadata": {},
   "outputs": [
    {
     "data": {
      "text/html": [
       "<div>\n",
       "<style scoped>\n",
       "    .dataframe tbody tr th:only-of-type {\n",
       "        vertical-align: middle;\n",
       "    }\n",
       "\n",
       "    .dataframe tbody tr th {\n",
       "        vertical-align: top;\n",
       "    }\n",
       "\n",
       "    .dataframe thead th {\n",
       "        text-align: right;\n",
       "    }\n",
       "</style>\n",
       "<table border=\"1\" class=\"dataframe\">\n",
       "  <thead>\n",
       "    <tr style=\"text-align: right;\">\n",
       "      <th></th>\n",
       "      <th>Subject</th>\n",
       "      <th>duration_m</th>\n",
       "      <th>video_recording_id</th>\n",
       "      <th>ephys_id</th>\n",
       "      <th>calibration_id</th>\n",
       "      <th>calibration_board_shape</th>\n",
       "      <th>calibration_square_size</th>\n",
       "      <th>video_location_on_o2</th>\n",
       "      <th>ephys_location_on_o2</th>\n",
       "      <th>calibration_location_on_o2</th>\n",
       "      <th>samplerate</th>\n",
       "    </tr>\n",
       "  </thead>\n",
       "  <tbody>\n",
       "    <tr>\n",
       "      <th>0</th>\n",
       "      <td>M04002</td>\n",
       "      <td>10</td>\n",
       "      <td>24-05-01-13-26-43-110846</td>\n",
       "      <td>2024-05-01_13-26-37</td>\n",
       "      <td>24-05-01-13-45-07-825493</td>\n",
       "      <td>NaN</td>\n",
       "      <td>NaN</td>\n",
       "      <td>/n/groups/datta/tim_sainburg/datasets/chronic2...</td>\n",
       "      <td>/n/groups/datta/tim_sainburg/datasets/chronic2...</td>\n",
       "      <td>/n/groups/datta/tim_sainburg/datasets/chronic2...</td>\n",
       "      <td>150</td>\n",
       "    </tr>\n",
       "  </tbody>\n",
       "</table>\n",
       "</div>"
      ],
      "text/plain": [
       "  Subject  duration_m        video_recording_id             ephys_id  \\\n",
       "0  M04002          10  24-05-01-13-26-43-110846  2024-05-01_13-26-37   \n",
       "\n",
       "             calibration_id  calibration_board_shape  calibration_square_size  \\\n",
       "0  24-05-01-13-45-07-825493                      NaN                      NaN   \n",
       "\n",
       "                                video_location_on_o2  \\\n",
       "0  /n/groups/datta/tim_sainburg/datasets/chronic2...   \n",
       "\n",
       "                                ephys_location_on_o2  \\\n",
       "0  /n/groups/datta/tim_sainburg/datasets/chronic2...   \n",
       "\n",
       "                          calibration_location_on_o2  samplerate  \n",
       "0  /n/groups/datta/tim_sainburg/datasets/chronic2...         150  "
      ]
     },
     "execution_count": 6,
     "metadata": {},
     "output_type": "execute_result"
    }
   ],
   "source": [
    "recording_df[:3]"
   ]
  },
  {
   "cell_type": "markdown",
   "id": "a3d7cdc7",
   "metadata": {},
   "source": [
    "### Run 2D prediction"
   ]
  },
  {
   "cell_type": "code",
   "execution_count": 7,
   "id": "5d8a95e4",
   "metadata": {},
   "outputs": [],
   "source": [
    "for idx, recording_row in recording_df.iterrows():\n",
    "    break"
   ]
  },
  {
   "cell_type": "code",
   "execution_count": 8,
   "id": "8bc38bb1",
   "metadata": {},
   "outputs": [],
   "source": [
    "output_directory = Path(\"/n/groups/datta/tim_sainburg/datasets/scratch/\") / \"240806-3d-pipeline\""
   ]
  },
  {
   "cell_type": "code",
   "execution_count": 9,
   "id": "5193fb79",
   "metadata": {},
   "outputs": [],
   "source": [
    "output_directory_2D = output_directory/ \"2D_predictions\" "
   ]
  },
  {
   "cell_type": "code",
   "execution_count": 10,
   "id": "248ec752",
   "metadata": {},
   "outputs": [],
   "source": [
    "output_directory_2D.mkdir(parents=True, exist_ok=True)"
   ]
  },
  {
   "cell_type": "code",
   "execution_count": 11,
   "id": "aa447fe6",
   "metadata": {},
   "outputs": [
    {
     "data": {
      "text/plain": [
       "'/n/groups/datta/tim_sainburg/datasets/chronic24/video/M04002/'"
      ]
     },
     "execution_count": 11,
     "metadata": {},
     "output_type": "execute_result"
    }
   ],
   "source": [
    "recording_row.video_location_on_o2"
   ]
  },
  {
   "cell_type": "code",
   "execution_count": 12,
   "id": "7151ee66",
   "metadata": {},
   "outputs": [],
   "source": [
    "video_directory = Path(recording_row.video_location_on_o2) / recording_row.video_recording_id"
   ]
  },
  {
   "cell_type": "code",
   "execution_count": 13,
   "id": "0e98aee7",
   "metadata": {},
   "outputs": [],
   "source": [
    "pose_checkpoint = \"/n/groups/datta/tim_sainburg/projects/24-01-05-multicamera_keypoints_mm2d/models/rtmpose/rtmpose-m_8xb64-210e_ap10k-256x256_24-05-04-21-35-13_305524/best_PCK_epoch_200.pth\"\n",
    "pose_config = '/n/groups/datta/tim_sainburg/projects/24-01-05-multicamera_keypoints_mm2d/models/rtmpose/rtmpose-m_8xb64-210e_ap10k-256x256_24-05-04-21-35-13_305524/config.py'\n",
    "det_checkpoint = '/n/groups/datta/tim_sainburg/projects/24-01-05-multicamera_keypoints_mm2d/models/rtmdet/rtmdet_tiny_8xb32-300e_coco_chronic_24-05-04-17-51-58_216661/epoch_400.pth'\n",
    "det_config = '/n/groups/datta/tim_sainburg/projects/24-01-05-multicamera_keypoints_mm2d/models/rtmdet/rtmdet_tiny_8xb32-300e_coco_chronic_24-05-04-17-51-58_216661/config.py'"
   ]
  },
  {
   "cell_type": "code",
   "execution_count": 14,
   "id": "47707612",
   "metadata": {},
   "outputs": [],
   "source": [
    "tensorrt_path = \"/n/groups/datta/tim_sainburg/datasets/scratch/240806-3d-pipeline/tensorrt\"\n",
    "rtmpose_model_name = 'rtmpose-m_8xb64-210e_ap10k-256x256_24-05-04-21-35-13_305524'\n",
    "rtmdetection_model_name = 'rtmdet_tiny_8xb32-300e_coco_chronic_24-05-04-17-51-58_216661'"
   ]
  },
  {
   "cell_type": "code",
   "execution_count": 15,
   "id": "6b2ec243",
   "metadata": {},
   "outputs": [
    {
     "name": "stderr",
     "output_type": "stream",
     "text": [
      "INFO:multicamera_airflow_pipeline.tim_240731.keypoints.predict_2D:Using CUDA device: Tesla_V100S-PCIE-32GB\n",
      "INFO:multicamera_airflow_pipeline.tim_240731.keypoints.predict_2D:Using tensorrt, loading models\n",
      "loading libmmdeploy_trt_net.so ...\n",
      "INFO:multicamera_airflow_pipeline.tim_240731.keypoints.predict_2D:Init completed\n",
      "failed to load library libmmdeploy_trt_net.so\n",
      "loading libmmdeploy_ort_net.so ...\n"
     ]
    }
   ],
   "source": [
    "inferencer = Inferencer2D(\n",
    "    video_directory,\n",
    "    output_directory = output_directory_2D / recording_row.video_recording_id,\n",
    "    pose_estimator_config = pose_config,\n",
    "    pose_estimator_checkpoint = pose_checkpoint,\n",
    "    detector_config = det_config,\n",
    "    detector_checkpoint = det_checkpoint,\n",
    "    tensorrt_rtmdetection_model_name = rtmdetection_model_name,\n",
    "    tensorrt_rtmpose_model_name = rtmpose_model_name,\n",
    "    tensorrt_model_directory = tensorrt_path,\n",
    "    use_tensorrt = True,\n",
    ")"
   ]
  },
  {
   "cell_type": "markdown",
   "id": "e7ba556f",
   "metadata": {},
   "source": [
    "### Load pose models"
   ]
  },
  {
   "cell_type": "code",
   "execution_count": 21,
   "id": "cef14621",
   "metadata": {},
   "outputs": [],
   "source": [
    "from motpy import Detection, MultiObjectTracker\n",
    "from mmdet.apis import init_detector, inference_detector\n",
    "from mmpose.utils import adapt_mmdet_pipeline\n",
    "from mmpose.apis import inference_topdown, init_model as init_pose_estimator"
   ]
  },
  {
   "cell_type": "code",
   "execution_count": 22,
   "id": "52f18f7f",
   "metadata": {},
   "outputs": [
    {
     "name": "stdout",
     "output_type": "stream",
     "text": [
      "Loads checkpoint by local backend from path: /n/groups/datta/tim_sainburg/projects/24-01-05-multicamera_keypoints_mm2d/models/rtmpose/rtmpose-m_8xb64-210e_ap10k-256x256_24-05-04-21-35-13_305524/best_PCK_epoch_200.pth\n"
     ]
    }
   ],
   "source": [
    "pose_estimator = init_pose_estimator(\n",
    "    inferencer.pose_estimator_config,\n",
    "    inferencer.pose_estimator_checkpoint,\n",
    "    device=\"cuda\",\n",
    "    cfg_options=dict(model=dict(test_cfg=dict(output_heatmaps=False))),\n",
    ")"
   ]
  },
  {
   "cell_type": "code",
   "execution_count": 23,
   "id": "e16e778b",
   "metadata": {},
   "outputs": [
    {
     "name": "stdout",
     "output_type": "stream",
     "text": [
      "Loads checkpoint by local backend from path: /n/groups/datta/tim_sainburg/projects/24-01-05-multicamera_keypoints_mm2d/models/rtmdet/rtmdet_tiny_8xb32-300e_coco_chronic_24-05-04-17-51-58_216661/epoch_400.pth\n"
     ]
    }
   ],
   "source": [
    "detector = init_detector(\n",
    "    inferencer.detector_config, inferencer.detector_checkpoint, device=\"cuda\"\n",
    ")"
   ]
  },
  {
   "cell_type": "markdown",
   "id": "99b45339",
   "metadata": {},
   "source": [
    "### Load tensortt models"
   ]
  },
  {
   "cell_type": "code",
   "execution_count": null,
   "id": "eaa337db",
   "metadata": {},
   "outputs": [],
   "source": [
    "tensortt_detector = Detector(model_path='/n/groups/datta/tim_sainburg/datasets/scratch/240806-3d-pipeline/tensorrt/rtmdet_tiny_8xb32-300e_coco_chronic_24-05-04-17-51-58_216661/Tesla_V100S-PCIE-32GB', device_name=\"cuda\")"
   ]
  },
  {
   "cell_type": "code",
   "execution_count": 21,
   "id": "06ad01fb",
   "metadata": {
    "scrolled": true
   },
   "outputs": [
    {
     "name": "stdout",
     "output_type": "stream",
     "text": [
      "deploy.json  end2end.engine  output_pytorch.jpg   pipeline.json\r\n",
      "detail.json  end2end.onnx    output_tensorrt.jpg\r\n"
     ]
    }
   ],
   "source": [
    "!ls /n/groups/datta/tim_sainburg/datasets/scratch/240806-3d-pipeline/tensorrt/rtmdet_tiny_8xb32-300e_coco_chronic_24-05-04-17-51-58_216661/Tesla_V100S-PCIE-32GB"
   ]
  },
  {
   "cell_type": "code",
   "execution_count": 20,
   "id": "38969fc4",
   "metadata": {},
   "outputs": [
    {
     "data": {
      "text/plain": [
       "'/n/groups/datta/tim_sainburg/datasets/scratch/240806-3d-pipeline/tensorrt/rtmdet_tiny_8xb32-300e_coco_chronic_24-05-04-17-51-58_216661/Tesla_V100S-PCIE-32GB'"
      ]
     },
     "execution_count": 20,
     "metadata": {},
     "output_type": "execute_result"
    }
   ],
   "source": [
    "inferencer.tensorrt_detection_model_path.as_posix()"
   ]
  },
  {
   "cell_type": "code",
   "execution_count": 18,
   "id": "8f669ee2",
   "metadata": {
    "scrolled": true
   },
   "outputs": [
    {
     "name": "stdout",
     "output_type": "stream",
     "text": [
      "[2024-08-07 15:42:26.954] [mmdeploy] [info] [model.cpp:35] [DirectoryModel] Load model: \"/n/groups/datta/tim_sainburg/datasets/scratch/240806-3d-pipeline/tensorrt/rtmdet_tiny_8xb32-300e_coco_chronic_24-05-04-17-51-58_216661/Tesla_V100S-PCIE-32GB\"\n",
      "[2024-08-07 15:42:26.955] [mmdeploy] [error] [net_module.cpp:47] Net backend not found: tensorrt, available backends: [(\"onnxruntime\", 0)]\n",
      "[2024-08-07 15:42:26.955] [mmdeploy] [error] [task.cpp:99] error parsing config: {\n",
      "  \"context\": {\n",
      "    \"device\": \"<any>\",\n",
      "    \"model\": \"<any>\",\n",
      "    \"stream\": \"<any>\"\n",
      "  },\n",
      "  \"input\": [\n",
      "    \"prep_output\"\n",
      "  ],\n",
      "  \"input_map\": {\n",
      "    \"img\": \"input\"\n",
      "  },\n",
      "  \"is_batched\": false,\n",
      "  \"module\": \"Net\",\n",
      "  \"name\": \"rtmdet\",\n",
      "  \"output\": [\n",
      "    \"infer_output\"\n",
      "  ],\n",
      "  \"output_map\": {},\n",
      "  \"type\": \"Task\"\n",
      "}\n"
     ]
    }
   ],
   "source": [
    "tensortt_detector = inferencer.Detector(\n",
    "    model_path=inferencer.tensorrt_detection_model_path.as_posix(), device_name=\"cuda\"\n",
    ")"
   ]
  },
  {
   "cell_type": "code",
   "execution_count": 19,
   "id": "d0c0c451",
   "metadata": {},
   "outputs": [
    {
     "name": "stdout",
     "output_type": "stream",
     "text": [
      "[2024-08-07 15:42:27.358] [mmdeploy] [info] [model.cpp:35] [DirectoryModel] Load model: \"/n/groups/datta/tim_sainburg/datasets/scratch/240806-3d-pipeline/tensorrt/rtmpose-m_8xb64-210e_ap10k-256x256_24-05-04-21-35-13_305524/Tesla_V100S-PCIE-32GB\"\n",
      "[2024-08-07 15:42:27.359] [mmdeploy] [error] [net_module.cpp:47] Net backend not found: tensorrt, available backends: [(\"onnxruntime\", 0)]\n",
      "[2024-08-07 15:42:27.359] [mmdeploy] [error] [task.cpp:99] error parsing config: {\n",
      "  \"context\": {\n",
      "    \"device\": \"<any>\",\n",
      "    \"model\": \"<any>\",\n",
      "    \"stream\": \"<any>\"\n",
      "  },\n",
      "  \"input\": [\n",
      "    \"prep_output\"\n",
      "  ],\n",
      "  \"input_map\": {\n",
      "    \"img\": \"input\"\n",
      "  },\n",
      "  \"is_batched\": true,\n",
      "  \"module\": \"Net\",\n",
      "  \"name\": \"topdownposeestimator\",\n",
      "  \"output\": [\n",
      "    \"infer_output\"\n",
      "  ],\n",
      "  \"output_map\": {},\n",
      "  \"type\": \"Task\"\n",
      "}\n"
     ]
    }
   ],
   "source": [
    "tensortt_pose_estimator = inferencer.PoseDetector(\n",
    "    model_path=inferencer.tensorrt_pose_estimator_path.as_posix(), device_name=\"cuda\"\n",
    ")"
   ]
  },
  {
   "cell_type": "markdown",
   "id": "d9234643",
   "metadata": {},
   "source": [
    "### Test run"
   ]
  },
  {
   "cell_type": "code",
   "execution_count": 28,
   "id": "24de6d28",
   "metadata": {},
   "outputs": [
    {
     "data": {
      "text/plain": [
       "PosixPath('/n/groups/datta/tim_sainburg/datasets/chronic24/video/M04002/24-05-01-13-26-43-110846/24-05-01-13-26-43-110846')"
      ]
     },
     "execution_count": 28,
     "metadata": {},
     "output_type": "execute_result"
    }
   ],
   "source": [
    "inferencer.video_directory"
   ]
  },
  {
   "cell_type": "code",
   "execution_count": 34,
   "id": "67a11723",
   "metadata": {},
   "outputs": [],
   "source": [
    "inferencer.all_videos = list(inferencer.video_directory.glob(\"*.mp4\"))"
   ]
  },
  {
   "cell_type": "code",
   "execution_count": 36,
   "id": "6b6c0216",
   "metadata": {},
   "outputs": [],
   "source": [
    "video_path = inferencer.all_videos[0]"
   ]
  },
  {
   "cell_type": "code",
   "execution_count": 57,
   "id": "55d291a5",
   "metadata": {},
   "outputs": [],
   "source": [
    "import cv2\n",
    "import numpy as np\n",
    "from tqdm.auto import tqdm"
   ]
  },
  {
   "cell_type": "code",
   "execution_count": 50,
   "id": "303695ce",
   "metadata": {},
   "outputs": [],
   "source": [
    "detection_interval=5\n",
    "n_animals=1\n",
    "total_frames=None\n",
    "use_motpy=True\n",
    "n_motpy_tracks=3\n",
    "use_tensorrt=False\n",
    "n_keypoints = 25"
   ]
  },
  {
   "cell_type": "code",
   "execution_count": 51,
   "id": "bd2f4d86",
   "metadata": {},
   "outputs": [],
   "source": [
    "video = cv2.VideoCapture(video_path.as_posix())"
   ]
  },
  {
   "cell_type": "code",
   "execution_count": 52,
   "id": "8e5d9171",
   "metadata": {},
   "outputs": [],
   "source": [
    "total_frames = 90000"
   ]
  },
  {
   "cell_type": "code",
   "execution_count": 53,
   "id": "6e0eb891",
   "metadata": {},
   "outputs": [],
   "source": [
    "if total_frames is None:\n",
    "    total_frames = int(video.get(cv2.CAP_PROP_FRAME_COUNT))\n",
    "if total_frames < 0:\n",
    "    logger.info(f\"Manually counting frames for {video_path}\")\n",
    "    # count frames manually\n",
    "    total_frames = 0\n",
    "    with tqdm(desc=\"counting frames\") as pbar:\n",
    "        while True:\n",
    "            ret, frame = video.read()\n",
    "            if not ret:\n",
    "                break\n",
    "            total_frames += 1\n",
    "            pbar.update(1)\n",
    "    logger.info(f\"Total frames: {total_frames}\")\n",
    "    # release and reallocate video\n",
    "    video.release()\n",
    "    video = cv2.VideoCapture(video_path.as_posix())\n"
   ]
  },
  {
   "cell_type": "code",
   "execution_count": 54,
   "id": "678edadc",
   "metadata": {},
   "outputs": [],
   "source": [
    "# allocate arrays\n",
    "detection_coords = np.zeros((total_frames, n_animals, 4))\n",
    "detection_conf = np.zeros((total_frames, n_animals, 1))\n",
    "keypoint_coords = np.zeros((total_frames, n_animals, n_keypoints, 2))\n",
    "keypoint_conf = np.zeros((total_frames, n_animals, n_keypoints))"
   ]
  },
  {
   "cell_type": "code",
   "execution_count": 55,
   "id": "a570ddcd",
   "metadata": {},
   "outputs": [],
   "source": [
    "tracker = MultiObjectTracker(dt=0.1)\n",
    "animal_ids = {str(i): i for i in range(n_animals)}\n",
    "bboxes_motpy = np.zeros((n_animals, 4))\n",
    "confs_motpy = np.zeros((n_animals, 1))\n",
    "detection_changes = np.zeros((total_frames, n_animals, 1))\n",
    "missing_detections = np.zeros((total_frames, n_animals, 1))"
   ]
  },
  {
   "cell_type": "code",
   "execution_count": 58,
   "id": "06684e3c",
   "metadata": {},
   "outputs": [
    {
     "data": {
      "application/vnd.jupyter.widget-view+json": {
       "model_id": "a0675778d022480c86cdca163681246d",
       "version_major": 2,
       "version_minor": 0
      },
      "text/plain": [
       "  0%|          | 0/90000 [00:00<?, ?it/s]"
      ]
     },
     "metadata": {},
     "output_type": "display_data"
    }
   ],
   "source": [
    "n_frames = 0\n",
    "for frame_id in tqdm(range(total_frames), leave=False):\n",
    "    success, frame = video.read()\n",
    "    if not success:\n",
    "        break\n",
    "    break"
   ]
  },
  {
   "cell_type": "code",
   "execution_count": 59,
   "id": "79991594",
   "metadata": {},
   "outputs": [
    {
     "name": "stderr",
     "output_type": "stream",
     "text": [
      "/n/groups/datta/tim_sainburg/conda_envs/mmdeploy/lib/python3.10/site-packages/torch/functional.py:504: UserWarning: torch.meshgrid: in an upcoming release, it will be required to pass the indexing argument. (Triggered internally at /opt/conda/conda-bld/pytorch_1699449201336/work/aten/src/ATen/native/TensorShape.cpp:3526.)\n",
      "  return _VF.meshgrid(tensors, **kwargs)  # type: ignore[attr-defined]\n"
     ]
    }
   ],
   "source": [
    "result = inference_detector(detector, frame)"
   ]
  },
  {
   "cell_type": "code",
   "execution_count": 60,
   "id": "3a8465b3",
   "metadata": {},
   "outputs": [
    {
     "data": {
      "text/plain": [
       "<DetDataSample(\n",
       "\n",
       "    META INFORMATION\n",
       "    ori_shape: (1200, 1220)\n",
       "    img_id: 0\n",
       "    scale_factor: (0.5245901639344263, 0.525)\n",
       "    img_shape: (640, 640)\n",
       "    img_path: None\n",
       "    batch_input_shape: (640, 640)\n",
       "    pad_shape: (640, 640)\n",
       "\n",
       "    DATA FIELDS\n",
       "    ignored_instances: <InstanceData(\n",
       "        \n",
       "            META INFORMATION\n",
       "        \n",
       "            DATA FIELDS\n",
       "            bboxes: tensor([], device='cuda:0', size=(0, 4))\n",
       "            labels: tensor([], device='cuda:0', dtype=torch.int64)\n",
       "        ) at 0x7ff141d0bc10>\n",
       "    pred_instances: <InstanceData(\n",
       "        \n",
       "            META INFORMATION\n",
       "        \n",
       "            DATA FIELDS\n",
       "            scores: tensor([0.9092, 0.0210, 0.0201, 0.0194, 0.0178, 0.0126, 0.0122, 0.0112, 0.0105,\n",
       "                        0.0103, 0.0100, 0.0100, 0.0095, 0.0094, 0.0093, 0.0090, 0.0090, 0.0084,\n",
       "                        0.0083, 0.0083, 0.0082, 0.0081, 0.0080, 0.0080, 0.0078, 0.0077, 0.0076,\n",
       "                        0.0074, 0.0072, 0.0072, 0.0071, 0.0070, 0.0070, 0.0070, 0.0069, 0.0068,\n",
       "                        0.0068, 0.0067, 0.0067, 0.0066, 0.0066, 0.0066, 0.0065, 0.0064, 0.0063,\n",
       "                        0.0063, 0.0063, 0.0063, 0.0062, 0.0062, 0.0061, 0.0059, 0.0058, 0.0057,\n",
       "                        0.0057, 0.0056, 0.0056, 0.0056, 0.0056, 0.0055, 0.0055, 0.0055, 0.0055,\n",
       "                        0.0055, 0.0054, 0.0054, 0.0054, 0.0053, 0.0053, 0.0052, 0.0052, 0.0052,\n",
       "                        0.0052, 0.0051, 0.0051, 0.0051, 0.0051, 0.0051, 0.0051, 0.0051, 0.0051,\n",
       "                        0.0050, 0.0049, 0.0049, 0.0049, 0.0049, 0.0048, 0.0048, 0.0048, 0.0047,\n",
       "                        0.0047, 0.0047, 0.0047, 0.0046, 0.0046, 0.0046, 0.0046, 0.0045, 0.0045,\n",
       "                        0.0044, 0.0044, 0.0044, 0.0044, 0.0044, 0.0043, 0.0042, 0.0042, 0.0042,\n",
       "                        0.0041, 0.0041, 0.0041, 0.0040, 0.0040, 0.0040, 0.0040, 0.0040, 0.0039,\n",
       "                        0.0039, 0.0038, 0.0038, 0.0038, 0.0038, 0.0037, 0.0037, 0.0037, 0.0037,\n",
       "                        0.0037, 0.0036, 0.0036, 0.0036, 0.0035, 0.0035, 0.0035, 0.0035, 0.0035,\n",
       "                        0.0035, 0.0035, 0.0034, 0.0034, 0.0034, 0.0034, 0.0034, 0.0034, 0.0034,\n",
       "                        0.0034, 0.0034, 0.0033, 0.0033, 0.0033, 0.0033, 0.0033, 0.0033, 0.0033,\n",
       "                        0.0033, 0.0033, 0.0033, 0.0033, 0.0032, 0.0032, 0.0032, 0.0032, 0.0032,\n",
       "                        0.0032, 0.0032, 0.0032, 0.0032, 0.0031, 0.0031, 0.0031, 0.0031, 0.0031,\n",
       "                        0.0031, 0.0031, 0.0031, 0.0031, 0.0031, 0.0030, 0.0030, 0.0030, 0.0030,\n",
       "                        0.0030, 0.0030, 0.0030, 0.0030, 0.0030, 0.0030, 0.0030, 0.0030, 0.0029,\n",
       "                        0.0029, 0.0029, 0.0029, 0.0029, 0.0029, 0.0029, 0.0029, 0.0029, 0.0029,\n",
       "                        0.0029, 0.0029, 0.0029, 0.0029, 0.0028, 0.0028, 0.0028, 0.0028, 0.0028,\n",
       "                        0.0028, 0.0028, 0.0028, 0.0028, 0.0028, 0.0027, 0.0027, 0.0027, 0.0027,\n",
       "                        0.0027, 0.0027, 0.0027, 0.0027, 0.0027, 0.0027, 0.0027, 0.0027, 0.0027,\n",
       "                        0.0027, 0.0026, 0.0026, 0.0026, 0.0026, 0.0026, 0.0026, 0.0026, 0.0026,\n",
       "                        0.0026, 0.0026, 0.0026, 0.0026, 0.0025, 0.0025, 0.0025, 0.0025, 0.0025,\n",
       "                        0.0025, 0.0025, 0.0025, 0.0025, 0.0025, 0.0025, 0.0024, 0.0024, 0.0024,\n",
       "                        0.0024, 0.0024, 0.0024, 0.0024, 0.0024, 0.0024, 0.0024, 0.0024, 0.0024,\n",
       "                        0.0024, 0.0024, 0.0024, 0.0023, 0.0023, 0.0023, 0.0023, 0.0023, 0.0023,\n",
       "                        0.0023, 0.0023, 0.0023, 0.0023, 0.0023, 0.0023, 0.0022, 0.0022, 0.0022,\n",
       "                        0.0022, 0.0022, 0.0022, 0.0022, 0.0022, 0.0022, 0.0022, 0.0022, 0.0022,\n",
       "                        0.0022, 0.0022, 0.0022, 0.0022, 0.0022, 0.0022, 0.0022, 0.0022, 0.0022,\n",
       "                        0.0021, 0.0021, 0.0021], device='cuda:0')\n",
       "            bboxes: tensor([[ 846.0837,  398.0108, 1081.8966,  667.3192],\n",
       "                        [ 784.1225,  493.8004, 1100.8865,  859.4259],\n",
       "                        [ 716.9501,  381.5718, 1052.2632,  671.5124],\n",
       "                        ...,\n",
       "                        [  61.6816,   75.2549,  170.2311,  174.7903],\n",
       "                        [ 702.6734,  226.9292,  928.8569,  413.5195],\n",
       "                        [ 614.6292,  523.5351,  996.8179,  894.2366]], device='cuda:0')\n",
       "            labels: tensor([0, 0, 0, 0, 0, 0, 0, 0, 0, 0, 0, 0, 0, 0, 0, 0, 0, 0, 0, 0, 0, 0, 0, 0,\n",
       "                        0, 0, 0, 0, 0, 0, 0, 0, 0, 0, 0, 0, 0, 0, 0, 0, 0, 0, 0, 0, 0, 0, 0, 0,\n",
       "                        0, 0, 0, 0, 0, 0, 0, 0, 0, 0, 0, 0, 0, 0, 0, 0, 0, 0, 0, 0, 0, 0, 0, 0,\n",
       "                        0, 0, 0, 0, 0, 0, 0, 0, 0, 0, 0, 0, 0, 0, 0, 0, 0, 0, 0, 0, 0, 0, 0, 0,\n",
       "                        0, 0, 0, 0, 0, 0, 0, 0, 0, 0, 0, 0, 0, 0, 0, 0, 0, 0, 0, 0, 0, 0, 0, 0,\n",
       "                        0, 0, 0, 0, 0, 0, 0, 0, 0, 0, 0, 0, 0, 0, 0, 0, 0, 0, 0, 0, 0, 0, 0, 0,\n",
       "                        0, 0, 0, 0, 0, 0, 0, 0, 0, 0, 0, 0, 0, 0, 0, 0, 0, 0, 0, 0, 0, 0, 0, 0,\n",
       "                        0, 0, 0, 0, 0, 0, 0, 0, 0, 0, 0, 0, 0, 0, 0, 0, 0, 0, 0, 0, 0, 0, 0, 0,\n",
       "                        0, 0, 0, 0, 0, 0, 0, 0, 0, 0, 0, 0, 0, 0, 0, 0, 0, 0, 0, 0, 0, 0, 0, 0,\n",
       "                        0, 0, 0, 0, 0, 0, 0, 0, 0, 0, 0, 0, 0, 0, 0, 0, 0, 0, 0, 0, 0, 0, 0, 0,\n",
       "                        0, 0, 0, 0, 0, 0, 0, 0, 0, 0, 0, 0, 0, 0, 0, 0, 0, 0, 0, 0, 0, 0, 0, 0,\n",
       "                        0, 0, 0, 0, 0, 0, 0, 0, 0, 0, 0, 0, 0, 0, 0, 0, 0, 0, 0, 0, 0, 0, 0, 0,\n",
       "                        0, 0, 0, 0, 0, 0, 0, 0, 0, 0, 0, 0], device='cuda:0')\n",
       "        ) at 0x7ff141d0aef0>\n",
       "    gt_instances: <InstanceData(\n",
       "        \n",
       "            META INFORMATION\n",
       "        \n",
       "            DATA FIELDS\n",
       "            bboxes: tensor([], device='cuda:0', size=(0, 4))\n",
       "            labels: tensor([], device='cuda:0', dtype=torch.int64)\n",
       "        ) at 0x7ff141d0bf70>\n",
       ") at 0x7ff141d09690>"
      ]
     },
     "execution_count": 60,
     "metadata": {},
     "output_type": "execute_result"
    }
   ],
   "source": [
    "result"
   ]
  },
  {
   "cell_type": "code",
   "execution_count": 61,
   "id": "42657ef6",
   "metadata": {},
   "outputs": [],
   "source": [
    "bboxes = result.pred_instances[\"bboxes\"][:n_motpy_tracks].cpu().numpy()\n",
    "conf = result.pred_instances[\"scores\"][:n_motpy_tracks].cpu().numpy()"
   ]
  },
  {
   "cell_type": "code",
   "execution_count": 62,
   "id": "da8c5a38",
   "metadata": {},
   "outputs": [
    {
     "data": {
      "text/plain": [
       "array([[ 846.08374,  398.01083, 1081.8966 ,  667.3192 ],\n",
       "       [ 784.1225 ,  493.80035, 1100.8865 ,  859.4259 ],\n",
       "       [ 716.9501 ,  381.5718 , 1052.2632 ,  671.5124 ]], dtype=float32)"
      ]
     },
     "execution_count": 62,
     "metadata": {},
     "output_type": "execute_result"
    }
   ],
   "source": [
    "bboxes"
   ]
  },
  {
   "cell_type": "code",
   "execution_count": 63,
   "id": "8607cb4b",
   "metadata": {},
   "outputs": [
    {
     "data": {
      "text/plain": [
       "array([0.90918607, 0.02103002, 0.02012494], dtype=float32)"
      ]
     },
     "execution_count": 63,
     "metadata": {},
     "output_type": "execute_result"
    }
   ],
   "source": [
    "conf"
   ]
  },
  {
   "cell_type": "code",
   "execution_count": null,
   "id": "abdd394b",
   "metadata": {},
   "outputs": [],
   "source": [
    "test = tensortt_detector(frame)"
   ]
  },
  {
   "cell_type": "code",
   "execution_count": 1,
   "id": "20942bec",
   "metadata": {},
   "outputs": [
    {
     "ename": "NameError",
     "evalue": "name 'test' is not defined",
     "output_type": "error",
     "traceback": [
      "\u001b[0;31m---------------------------------------------------------------------------\u001b[0m",
      "\u001b[0;31mNameError\u001b[0m                                 Traceback (most recent call last)",
      "Cell \u001b[0;32mIn[1], line 1\u001b[0m\n\u001b[0;32m----> 1\u001b[0m \u001b[43mtest\u001b[49m\n",
      "\u001b[0;31mNameError\u001b[0m: name 'test' is not defined"
     ]
    }
   ],
   "source": [
    "test"
   ]
  },
  {
   "cell_type": "markdown",
   "id": "141665cd",
   "metadata": {},
   "source": [
    "### Test run"
   ]
  },
  {
   "cell_type": "code",
   "execution_count": 13,
   "id": "1a153dfd",
   "metadata": {},
   "outputs": [
    {
     "name": "stdout",
     "output_type": "stream",
     "text": [
      "Loads checkpoint by local backend from path: /n/groups/datta/tim_sainburg/projects/24-01-05-multicamera_keypoints_mm2d/models/rtmpose/rtmpose-m_8xb64-210e_ap10k-256x256_24-05-04-21-35-13_305524/best_PCK_epoch_200.pth\n",
      "Loads checkpoint by local backend from path: /n/groups/datta/tim_sainburg/projects/24-01-05-multicamera_keypoints_mm2d/models/rtmdet/rtmdet_tiny_8xb32-300e_coco_chronic_24-05-04-17-51-58_216661/epoch_400.pth\n"
     ]
    },
    {
     "data": {
      "application/vnd.jupyter.widget-view+json": {
       "model_id": "b69584e3847149b4affc4b2f86534a1a",
       "version_major": 2,
       "version_minor": 0
      },
      "text/plain": [
       "  0%|          | 0/12 [00:00<?, ?it/s]"
      ]
     },
     "metadata": {},
     "output_type": "display_data"
    },
    {
     "name": "stderr",
     "output_type": "stream",
     "text": [
      "INFO:multicamera_airflow_pipeline.tim_240731.keypoints.predict_2D:Manually counting frames for /n/groups/datta/tim_sainburg/datasets/chronic24/video/M04002/24-05-01-13-26-43-110846/24-05-01-13-26-43-110846.BackBottom.0.mp4\n",
      "INFO:multicamera_airflow_pipeline.tim_240731.keypoints.predict_2D:Total frames: 90000\n"
     ]
    },
    {
     "data": {
      "application/vnd.jupyter.widget-view+json": {
       "model_id": "",
       "version_major": 2,
       "version_minor": 0
      },
      "text/plain": [
       "  0%|          | 0/90000 [00:00<?, ?it/s]"
      ]
     },
     "metadata": {},
     "output_type": "display_data"
    },
    {
     "name": "stdout",
     "output_type": "stream",
     "text": [
      "07/31 17:08:44 - mmengine - \u001b[5m\u001b[4m\u001b[33mWARNING\u001b[0m - The current default scope \"mmdet\" is not \"mmpose\", `init_default_scope` will force set the currentdefault scope to \"mmpose\".\n"
     ]
    },
    {
     "name": "stderr",
     "output_type": "stream",
     "text": [
      "/n/groups/datta/tim_sainburg/conda_envs/mmdeploy/lib/python3.10/site-packages/torch/functional.py:504: UserWarning: torch.meshgrid: in an upcoming release, it will be required to pass the indexing argument. (Triggered internally at /opt/conda/conda-bld/pytorch_1699449201336/work/aten/src/ATen/native/TensorShape.cpp:3526.)\n",
      "  return _VF.meshgrid(tensors, **kwargs)  # type: ignore[attr-defined]\n",
      "INFO:multicamera_airflow_pipeline.tim_240731.keypoints.predict_2D:Manually counting frames for /n/groups/datta/tim_sainburg/datasets/chronic24/video/M04002/24-05-01-13-26-43-110846/24-05-01-13-26-43-110846.BackBottom.90000.mp4\n",
      "INFO:multicamera_airflow_pipeline.tim_240731.keypoints.predict_2D:Total frames: 9\n"
     ]
    },
    {
     "data": {
      "application/vnd.jupyter.widget-view+json": {
       "model_id": "",
       "version_major": 2,
       "version_minor": 0
      },
      "text/plain": [
       "  0%|          | 0/9 [00:00<?, ?it/s]"
      ]
     },
     "metadata": {},
     "output_type": "display_data"
    },
    {
     "name": "stderr",
     "output_type": "stream",
     "text": [
      "INFO:multicamera_airflow_pipeline.tim_240731.keypoints.predict_2D:Manually counting frames for /n/groups/datta/tim_sainburg/datasets/chronic24/video/M04002/24-05-01-13-26-43-110846/24-05-01-13-26-43-110846.BackLeft.0.mp4\n",
      "INFO:multicamera_airflow_pipeline.tim_240731.keypoints.predict_2D:Total frames: 90000\n"
     ]
    },
    {
     "data": {
      "application/vnd.jupyter.widget-view+json": {
       "model_id": "",
       "version_major": 2,
       "version_minor": 0
      },
      "text/plain": [
       "  0%|          | 0/90000 [00:00<?, ?it/s]"
      ]
     },
     "metadata": {},
     "output_type": "display_data"
    },
    {
     "name": "stderr",
     "output_type": "stream",
     "text": [
      "INFO:multicamera_airflow_pipeline.tim_240731.keypoints.predict_2D:Manually counting frames for /n/groups/datta/tim_sainburg/datasets/chronic24/video/M04002/24-05-01-13-26-43-110846/24-05-01-13-26-43-110846.BackLeft.90000.mp4\n",
      "INFO:multicamera_airflow_pipeline.tim_240731.keypoints.predict_2D:Total frames: 9\n"
     ]
    },
    {
     "data": {
      "application/vnd.jupyter.widget-view+json": {
       "model_id": "",
       "version_major": 2,
       "version_minor": 0
      },
      "text/plain": [
       "  0%|          | 0/9 [00:00<?, ?it/s]"
      ]
     },
     "metadata": {},
     "output_type": "display_data"
    },
    {
     "name": "stderr",
     "output_type": "stream",
     "text": [
      "INFO:multicamera_airflow_pipeline.tim_240731.keypoints.predict_2D:Manually counting frames for /n/groups/datta/tim_sainburg/datasets/chronic24/video/M04002/24-05-01-13-26-43-110846/24-05-01-13-26-43-110846.BackRight.0.mp4\n",
      "INFO:multicamera_airflow_pipeline.tim_240731.keypoints.predict_2D:Total frames: 90000\n"
     ]
    },
    {
     "data": {
      "application/vnd.jupyter.widget-view+json": {
       "model_id": "",
       "version_major": 2,
       "version_minor": 0
      },
      "text/plain": [
       "  0%|          | 0/90000 [00:00<?, ?it/s]"
      ]
     },
     "metadata": {},
     "output_type": "display_data"
    },
    {
     "name": "stderr",
     "output_type": "stream",
     "text": [
      "INFO:multicamera_airflow_pipeline.tim_240731.keypoints.predict_2D:Manually counting frames for /n/groups/datta/tim_sainburg/datasets/chronic24/video/M04002/24-05-01-13-26-43-110846/24-05-01-13-26-43-110846.BackRight.90000.mp4\n",
      "INFO:multicamera_airflow_pipeline.tim_240731.keypoints.predict_2D:Total frames: 9\n"
     ]
    },
    {
     "data": {
      "application/vnd.jupyter.widget-view+json": {
       "model_id": "",
       "version_major": 2,
       "version_minor": 0
      },
      "text/plain": [
       "  0%|          | 0/9 [00:00<?, ?it/s]"
      ]
     },
     "metadata": {},
     "output_type": "display_data"
    },
    {
     "name": "stderr",
     "output_type": "stream",
     "text": [
      "INFO:multicamera_airflow_pipeline.tim_240731.keypoints.predict_2D:Manually counting frames for /n/groups/datta/tim_sainburg/datasets/chronic24/video/M04002/24-05-01-13-26-43-110846/24-05-01-13-26-43-110846.FrontBottom.0.mp4\n",
      "INFO:multicamera_airflow_pipeline.tim_240731.keypoints.predict_2D:Total frames: 90000\n"
     ]
    },
    {
     "data": {
      "application/vnd.jupyter.widget-view+json": {
       "model_id": "",
       "version_major": 2,
       "version_minor": 0
      },
      "text/plain": [
       "  0%|          | 0/90000 [00:00<?, ?it/s]"
      ]
     },
     "metadata": {},
     "output_type": "display_data"
    },
    {
     "name": "stderr",
     "output_type": "stream",
     "text": [
      "INFO:multicamera_airflow_pipeline.tim_240731.keypoints.predict_2D:Manually counting frames for /n/groups/datta/tim_sainburg/datasets/chronic24/video/M04002/24-05-01-13-26-43-110846/24-05-01-13-26-43-110846.FrontBottom.90000.mp4\n",
      "INFO:multicamera_airflow_pipeline.tim_240731.keypoints.predict_2D:Total frames: 9\n"
     ]
    },
    {
     "data": {
      "application/vnd.jupyter.widget-view+json": {
       "model_id": "",
       "version_major": 2,
       "version_minor": 0
      },
      "text/plain": [
       "  0%|          | 0/9 [00:00<?, ?it/s]"
      ]
     },
     "metadata": {},
     "output_type": "display_data"
    },
    {
     "name": "stderr",
     "output_type": "stream",
     "text": [
      "INFO:multicamera_airflow_pipeline.tim_240731.keypoints.predict_2D:Manually counting frames for /n/groups/datta/tim_sainburg/datasets/chronic24/video/M04002/24-05-01-13-26-43-110846/24-05-01-13-26-43-110846.FrontLeft.0.mp4\n",
      "INFO:multicamera_airflow_pipeline.tim_240731.keypoints.predict_2D:Total frames: 90000\n"
     ]
    },
    {
     "data": {
      "application/vnd.jupyter.widget-view+json": {
       "model_id": "",
       "version_major": 2,
       "version_minor": 0
      },
      "text/plain": [
       "  0%|          | 0/90000 [00:00<?, ?it/s]"
      ]
     },
     "metadata": {},
     "output_type": "display_data"
    },
    {
     "name": "stderr",
     "output_type": "stream",
     "text": [
      "INFO:multicamera_airflow_pipeline.tim_240731.keypoints.predict_2D:Manually counting frames for /n/groups/datta/tim_sainburg/datasets/chronic24/video/M04002/24-05-01-13-26-43-110846/24-05-01-13-26-43-110846.FrontLeft.90000.mp4\n",
      "INFO:multicamera_airflow_pipeline.tim_240731.keypoints.predict_2D:Total frames: 9\n"
     ]
    },
    {
     "data": {
      "application/vnd.jupyter.widget-view+json": {
       "model_id": "",
       "version_major": 2,
       "version_minor": 0
      },
      "text/plain": [
       "  0%|          | 0/9 [00:00<?, ?it/s]"
      ]
     },
     "metadata": {},
     "output_type": "display_data"
    },
    {
     "name": "stderr",
     "output_type": "stream",
     "text": [
      "INFO:multicamera_airflow_pipeline.tim_240731.keypoints.predict_2D:Manually counting frames for /n/groups/datta/tim_sainburg/datasets/chronic24/video/M04002/24-05-01-13-26-43-110846/24-05-01-13-26-43-110846.FrontRight.0.mp4\n",
      "INFO:multicamera_airflow_pipeline.tim_240731.keypoints.predict_2D:Total frames: 90000\n"
     ]
    },
    {
     "data": {
      "application/vnd.jupyter.widget-view+json": {
       "model_id": "",
       "version_major": 2,
       "version_minor": 0
      },
      "text/plain": [
       "  0%|          | 0/90000 [00:00<?, ?it/s]"
      ]
     },
     "metadata": {},
     "output_type": "display_data"
    },
    {
     "name": "stderr",
     "output_type": "stream",
     "text": [
      "INFO:multicamera_airflow_pipeline.tim_240731.keypoints.predict_2D:Manually counting frames for /n/groups/datta/tim_sainburg/datasets/chronic24/video/M04002/24-05-01-13-26-43-110846/24-05-01-13-26-43-110846.FrontRight.90000.mp4\n",
      "INFO:multicamera_airflow_pipeline.tim_240731.keypoints.predict_2D:Total frames: 9\n"
     ]
    },
    {
     "data": {
      "application/vnd.jupyter.widget-view+json": {
       "model_id": "",
       "version_major": 2,
       "version_minor": 0
      },
      "text/plain": [
       "  0%|          | 0/9 [00:00<?, ?it/s]"
      ]
     },
     "metadata": {},
     "output_type": "display_data"
    }
   ],
   "source": [
    "inferencer.run()"
   ]
  },
  {
   "cell_type": "code",
   "execution_count": null,
   "id": "0e5c69e4",
   "metadata": {},
   "outputs": [],
   "source": []
  }
 ],
 "metadata": {
  "kernelspec": {
   "display_name": "openmmpose",
   "language": "python",
   "name": "openmmpose"
  },
  "language_info": {
   "codemirror_mode": {
    "name": "ipython",
    "version": 3
   },
   "file_extension": ".py",
   "mimetype": "text/x-python",
   "name": "python",
   "nbconvert_exporter": "python",
   "pygments_lexer": "ipython3",
   "version": "3.10.13"
  }
 },
 "nbformat": 4,
 "nbformat_minor": 5
}
