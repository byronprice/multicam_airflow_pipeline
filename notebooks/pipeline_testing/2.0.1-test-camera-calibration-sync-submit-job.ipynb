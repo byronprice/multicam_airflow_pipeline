{
 "cells": [
  {
   "cell_type": "code",
   "execution_count": 1,
   "id": "19098993",
   "metadata": {},
   "outputs": [],
   "source": [
    "%load_ext autoreload\n",
    "%autoreload 2"
   ]
  },
  {
   "cell_type": "code",
   "execution_count": 2,
   "id": "900a1f1a",
   "metadata": {},
   "outputs": [
    {
     "name": "stdout",
     "output_type": "stream",
     "text": [
      "/n/groups/datta/tim_sainburg/conda_envs/peromoseq/bin/python3\n"
     ]
    }
   ],
   "source": [
    "from pathlib import Path\n",
    "import sys\n",
    "import logging\n",
    "import inspect\n",
    "logging.basicConfig(level=logging.INFO)\n",
    "print(sys.executable)"
   ]
  },
  {
   "cell_type": "markdown",
   "id": "d4930f63",
   "metadata": {},
   "source": [
    "### Get recording info (google sheets)"
   ]
  },
  {
   "cell_type": "code",
   "execution_count": 3,
   "id": "63237b3a",
   "metadata": {},
   "outputs": [],
   "source": [
    "import requests\n",
    "import pandas as pd\n",
    "from io import BytesIO"
   ]
  },
  {
   "cell_type": "code",
   "execution_count": 4,
   "id": "5909c615",
   "metadata": {},
   "outputs": [],
   "source": [
    "# spreadsheet_url = 'https://docs.google.com/spreadsheet/ccc?key=14HIqUaSl_n-91hpAvmACY_iVY9nLKdlA6qklhxfZon0&output=csv&gid=0'\n",
    "spreadsheet_url = \"https://docs.google.com/spreadsheet/ccc?key=1jACsUmxuJ9Une59qmvzZGc1qXezKhKzD1zho2sEfcrU&output=csv&gid=0\"\n",
    "response = requests.get(spreadsheet_url)\n",
    "recording_df = pd.read_csv(BytesIO(response.content))"
   ]
  },
  {
   "cell_type": "code",
   "execution_count": 5,
   "id": "49df48f5",
   "metadata": {},
   "outputs": [
    {
     "data": {
      "text/html": [
       "<div>\n",
       "<style scoped>\n",
       "    .dataframe tbody tr th:only-of-type {\n",
       "        vertical-align: middle;\n",
       "    }\n",
       "\n",
       "    .dataframe tbody tr th {\n",
       "        vertical-align: top;\n",
       "    }\n",
       "\n",
       "    .dataframe thead th {\n",
       "        text-align: right;\n",
       "    }\n",
       "</style>\n",
       "<table border=\"1\" class=\"dataframe\">\n",
       "  <thead>\n",
       "    <tr style=\"text-align: right;\">\n",
       "      <th></th>\n",
       "      <th>Subject</th>\n",
       "      <th>duration_m</th>\n",
       "      <th>video_recording_id</th>\n",
       "      <th>ephys_id</th>\n",
       "      <th>calibration_id</th>\n",
       "      <th>video_location_on_o2</th>\n",
       "      <th>ephys_location_on_o2</th>\n",
       "      <th>calibration_location_on_o2</th>\n",
       "      <th>samplerate</th>\n",
       "      <th>username</th>\n",
       "      <th>n_ephys_streams</th>\n",
       "      <th>max_video_duration_m</th>\n",
       "    </tr>\n",
       "  </thead>\n",
       "  <tbody>\n",
       "    <tr>\n",
       "      <th>0</th>\n",
       "      <td>M04002</td>\n",
       "      <td>10</td>\n",
       "      <td>24-05-01-13-26-43-110846</td>\n",
       "      <td>2024-05-01_13-26-37</td>\n",
       "      <td>24-05-01-13-45-07-825493</td>\n",
       "      <td>/n/groups/datta/tim_sainburg/datasets/chronic2...</td>\n",
       "      <td>/n/groups/datta/tim_sainburg/datasets/chronic2...</td>\n",
       "      <td>/n/groups/datta/tim_sainburg/datasets/chronic2...</td>\n",
       "      <td>150</td>\n",
       "      <td>tis697</td>\n",
       "      <td>1</td>\n",
       "      <td>10</td>\n",
       "    </tr>\n",
       "  </tbody>\n",
       "</table>\n",
       "</div>"
      ],
      "text/plain": [
       "  Subject  duration_m        video_recording_id             ephys_id  \\\n",
       "0  M04002          10  24-05-01-13-26-43-110846  2024-05-01_13-26-37   \n",
       "\n",
       "             calibration_id  \\\n",
       "0  24-05-01-13-45-07-825493   \n",
       "\n",
       "                                video_location_on_o2  \\\n",
       "0  /n/groups/datta/tim_sainburg/datasets/chronic2...   \n",
       "\n",
       "                                ephys_location_on_o2  \\\n",
       "0  /n/groups/datta/tim_sainburg/datasets/chronic2...   \n",
       "\n",
       "                          calibration_location_on_o2  samplerate username  \\\n",
       "0  /n/groups/datta/tim_sainburg/datasets/chronic2...         150   tis697   \n",
       "\n",
       "   n_ephys_streams  max_video_duration_m  \n",
       "0                1                    10  "
      ]
     },
     "execution_count": 5,
     "metadata": {},
     "output_type": "execute_result"
    }
   ],
   "source": [
    "recording_df[:3]"
   ]
  },
  {
   "cell_type": "markdown",
   "id": "9c657989",
   "metadata": {},
   "source": [
    "### Submit job"
   ]
  },
  {
   "cell_type": "code",
   "execution_count": 6,
   "id": "7951d065",
   "metadata": {},
   "outputs": [
    {
     "name": "stderr",
     "output_type": "stream",
     "text": [
      "INFO:multicamera_airflow_pipeline.tim_240731.interface.o2:Python interpreter binary location: /n/groups/datta/tim_sainburg/conda_envs/peromoseq/bin/python3\n",
      "/n/groups/datta/tim_sainburg/conda_envs/peromoseq/lib/python3.10/site-packages/paramiko/pkey.py:100: CryptographyDeprecationWarning: TripleDES has been moved to cryptography.hazmat.decrepit.ciphers.algorithms.TripleDES and will be removed from this module in 48.0.0.\n",
      "  \"cipher\": algorithms.TripleDES,\n",
      "/n/groups/datta/tim_sainburg/conda_envs/peromoseq/lib/python3.10/site-packages/paramiko/transport.py:259: CryptographyDeprecationWarning: TripleDES has been moved to cryptography.hazmat.decrepit.ciphers.algorithms.TripleDES and will be removed from this module in 48.0.0.\n",
      "  \"class\": algorithms.TripleDES,\n"
     ]
    }
   ],
   "source": [
    "from multicamera_airflow_pipeline.tim_240731.interface.o2 import O2Runner\n",
    "from pathlib import Path\n",
    "from datetime import datetime"
   ]
  },
  {
   "cell_type": "code",
   "execution_count": 7,
   "id": "7c52b0f0",
   "metadata": {},
   "outputs": [],
   "source": [
    "for idx, recording_row in recording_df.iterrows():\n",
    "    break"
   ]
  },
  {
   "cell_type": "code",
   "execution_count": 8,
   "id": "5228937d",
   "metadata": {},
   "outputs": [
    {
     "data": {
      "text/plain": [
       "Subject                                                                  M04002\n",
       "duration_m                                                                   10\n",
       "video_recording_id                                     24-05-01-13-26-43-110846\n",
       "ephys_id                                                    2024-05-01_13-26-37\n",
       "calibration_id                                         24-05-01-13-45-07-825493\n",
       "video_location_on_o2          /n/groups/datta/tim_sainburg/datasets/chronic2...\n",
       "ephys_location_on_o2          /n/groups/datta/tim_sainburg/datasets/chronic2...\n",
       "calibration_location_on_o2    /n/groups/datta/tim_sainburg/datasets/chronic2...\n",
       "samplerate                                                                  150\n",
       "username                                                                 tis697\n",
       "n_ephys_streams                                                               1\n",
       "max_video_duration_m                                                         10\n",
       "Name: 0, dtype: object"
      ]
     },
     "execution_count": 8,
     "metadata": {},
     "output_type": "execute_result"
    }
   ],
   "source": [
    "recording_row"
   ]
  },
  {
   "cell_type": "markdown",
   "id": "fa0fa7af",
   "metadata": {},
   "source": [
    "### Job specific"
   ]
  },
  {
   "cell_type": "code",
   "execution_count": 9,
   "id": "1102e0ed",
   "metadata": {},
   "outputs": [],
   "source": [
    "import yaml\n",
    "import textwrap\n",
    "import time"
   ]
  },
  {
   "cell_type": "code",
   "execution_count": 21,
   "id": "34d648d1",
   "metadata": {},
   "outputs": [],
   "source": [
    "# these are arguments\n",
    "#output_directory = Path(\"/n/groups/datta/tim_sainburg/datasets/scratch/\") / \"240808-3d-pipeline\"\n",
    "output_directory = Path(\"/n/groups/datta/kpts_pipeline/tim_240731/results\")\n",
    "job_directory = Path('/n/groups/datta/tim_sainburg/datasets/scratch/jobs')\n",
    "job_directory.mkdir(exist_ok=True, parents=True)\n",
    "config_file = Path(\"/n/groups/datta/tim_sainburg/projects/multicamera_airflow_pipeline/multicamera_airflow_pipeline/tim_240731/default_config.yaml\")"
   ]
  },
  {
   "cell_type": "code",
   "execution_count": null,
   "id": "e800b94b",
   "metadata": {},
   "outputs": [],
   "source": []
  },
  {
   "cell_type": "code",
   "execution_count": null,
   "id": "43e2934b",
   "metadata": {},
   "outputs": [],
   "source": []
  },
  {
   "cell_type": "code",
   "execution_count": null,
   "id": "61b16f72",
   "metadata": {},
   "outputs": [],
   "source": []
  },
  {
   "cell_type": "code",
   "execution_count": 11,
   "id": "7483872f",
   "metadata": {},
   "outputs": [],
   "source": [
    "def check_calibration_completion(output_directory_camera_calibration):\n",
    "    if (output_directory_camera_calibration / \"gimbal\" / \"camera_params.h5\").exists():\n",
    "        return True\n",
    "    else:\n",
    "        return False"
   ]
  },
  {
   "cell_type": "code",
   "execution_count": 12,
   "id": "f6fb5de4",
   "metadata": {
    "scrolled": true
   },
   "outputs": [],
   "source": [
    "# load config\n",
    "config_file = Path(config_file)\n",
    "config = yaml.safe_load(open(config_file, \"r\"))"
   ]
  },
  {
   "cell_type": "code",
   "execution_count": 13,
   "id": "b344a855",
   "metadata": {},
   "outputs": [
    {
     "data": {
      "text/plain": [
       "{'sync_cameras': {'trigger_pin': 2, 'recompute_completed': False},\n",
       " 'sync_ephys': {'npx_samplerate': 30000,\n",
       "  'search_window_s': 300,\n",
       "  'frame_window': 1000,\n",
       "  'recompute_completed': False},\n",
       " 'camera_calibration': {'board_shape': [5, 7],\n",
       "  'square_size': 12.5,\n",
       "  'n_frames_to_sample': 2000,\n",
       "  'n_jobs': 10,\n",
       "  'recompute_completed': False},\n",
       " 'triangulation': {'n_jobs': 5,\n",
       "  'keep_top_k': 3,\n",
       "  'leave_one_out_center_threshold_mm': 50,\n",
       "  'threshold_distance_from_parent_mm': 50,\n",
       "  'mmap_dtype': 'float32',\n",
       "  'print_nans': True,\n",
       "  'mean_filt_samples': 11,\n",
       "  'mean_filt_distance_thresh_px': 150,\n",
       "  'perform_top_k_filtering': False,\n",
       "  'recompute_completed': False},\n",
       " 'size_normalization': {'rigid_bones': False,\n",
       "  'root_joint': 'spine_base',\n",
       "  'subsample': None,\n",
       "  'n_jobs': 10,\n",
       "  'plot_steps': True,\n",
       "  'recompute_completed': False},\n",
       " 'arena_alignment': {'batch_size': 100000,\n",
       "  'plot_steps': True,\n",
       "  'recompute_completed': False},\n",
       " 'egocentric_alignment': {'batch_size': 20000,\n",
       "  'distance_from_median_thresh': 50,\n",
       "  'plot_steps': True,\n",
       "  'recompute_completed': False},\n",
       " 'continuous_features': {'recompute_completed': False,\n",
       "  'speed_kernel_size_ms': 150,\n",
       "  'acceleration_kernel_size_ms': 150,\n",
       "  'heading_kernel_size_ms': 33,\n",
       "  'angular_velocity_kernel_size_ms': 150,\n",
       "  'angular_acceleration_kernel_size_ms': 150,\n",
       "  'spine_curvature_kernel_size_ms': 150,\n",
       "  'limb_velocity_kernel_size_ms': 150,\n",
       "  'limb_acceleration_kernel_size_ms': 150,\n",
       "  'limb_correlation_window_size_ms': 1000,\n",
       "  'acceleration_keypoints_kernel_size_ms': 150,\n",
       "  'wall_positions_x': [-200, 200],\n",
       "  'wall_positions_y': [-200, 200]},\n",
       " 'spikesorting': {'n_jobs': 10,\n",
       "  'rm_channels': [],\n",
       "  'amplitude_cutoff_thresh': 0.1,\n",
       "  'isi_violations_ratio_thresh': 1,\n",
       "  'presence_ratio_thresh': 0.9,\n",
       "  'plot_samples': True,\n",
       "  'recompute_completed': False},\n",
       " 'gimbal': {'recompute_completed': False,\n",
       "  'train': {'num_iters_train': 1000,\n",
       "   'num_states': 50,\n",
       "   'indices_egocentric': [0, 2],\n",
       "   'max_inlier_var': 100,\n",
       "   'conf_sigmoid_gain': 20,\n",
       "   'conf_sigmoid_center': 0.5,\n",
       "   'thresh_bad_keypoints_mads': 10,\n",
       "   'constant_inlier_variance': 25,\n",
       "   'outlier_thresh_mm': 150,\n",
       "   'obs_outlier_variance': '1e6',\n",
       "   'pos_dt_variance': 1,\n",
       "   'num_leapfrog_steps': 5,\n",
       "   'step_size': 0.1,\n",
       "   'training_subsample_frames': None,\n",
       "   'plot_triangulation_error': False,\n",
       "   'plot_joint_directions': True,\n",
       "   'plot_fit_likelihood': True,\n",
       "   'plot_inference_likelihood': False,\n",
       "   'remove_samples_with_nans': False,\n",
       "   'recompute_completed': False},\n",
       "  'inference': {'num_iters_inference': 100,\n",
       "   'n_initialization_epochs': 50,\n",
       "   'num_states': 50,\n",
       "   'indices_egocentric': [0, 2],\n",
       "   'max_inlier_var': 100,\n",
       "   'thresh_bad_keypoints_mads': 10,\n",
       "   'constant_inlier_variance': 25,\n",
       "   'outlier_thresh_mm': 150,\n",
       "   'obs_outlier_variance': 1000000.0,\n",
       "   'pos_dt_variance': 1,\n",
       "   'num_leapfrog_steps': 5,\n",
       "   'step_size': 0.1,\n",
       "   'conf_sigmoid_gain': 20,\n",
       "   'conf_sigmoid_center': 0.1,\n",
       "   'batch_size': 200000,\n",
       "   'distance_from_median_thresh': 50,\n",
       "   'testing': False,\n",
       "   'recompute_completed': False}},\n",
       " 'prediction_2d': {'pose_estimator_config': '/n/groups/datta/tim_sainburg/projects/24-01-05-multicamera_keypoints_mm2d/models/rtmpose/rtmpose-m_8xb64-210e_ap10k-256x256_24-05-04-21-35-13_305524/config.py',\n",
       "  'pose_estimator_checkpoint': '/n/groups/datta/tim_sainburg/projects/24-01-05-multicamera_keypoints_mm2d/models/rtmpose/rtmpose-m_8xb64-210e_ap10k-256x256_24-05-04-21-35-13_305524/best_PCK_epoch_200.pth',\n",
       "  'detector_config': '/n/groups/datta/tim_sainburg/projects/24-01-05-multicamera_keypoints_mm2d/models/rtmdet/rtmdet_tiny_8xb32-300e_coco_chronic_24-05-04-17-51-58_216661/config.py',\n",
       "  'detector_checkpoint': '/n/groups/datta/tim_sainburg/projects/24-01-05-multicamera_keypoints_mm2d/models/rtmdet/rtmdet_tiny_8xb32-300e_coco_chronic_24-05-04-17-51-58_216661/epoch_400.pth',\n",
       "  'tensorrt_rtmpose_model_name': 'rtmpose-m_8xb64-210e_ap10k-256x256_24-05-04-21-35-13_305524',\n",
       "  'tensorrt_rtmdetection_model_name': 'rtmdet_tiny_8xb32-300e_coco_chronic_24-05-04-17-51-58_216661',\n",
       "  'n_keypoints': 25,\n",
       "  'n_animals': 1,\n",
       "  'detection_interval': 1,\n",
       "  'use_motpy': True,\n",
       "  'n_motpy_tracks': 3,\n",
       "  'use_tensorrt': True,\n",
       "  'recompute_completed': False},\n",
       " 'tensorrt_conversion': {'path_to_rmpose_config': '/n/groups/datta/tim_sainburg/projects/24-01-05-multicamera_keypoints_mm2d/models/rtmpose/rtmpose-m_8xb64-210e_ap10k-256x256_24-05-04-21-35-13_305524/config.py',\n",
       "  'path_to_rmpose_checkpoint': '/n/groups/datta/tim_sainburg/projects/24-01-05-multicamera_keypoints_mm2d/models/rtmpose/rtmpose-m_8xb64-210e_ap10k-256x256_24-05-04-21-35-13_305524/best_PCK_epoch_200.pth',\n",
       "  'path_to_rtmdetection_config': '/n/groups/datta/tim_sainburg/projects/24-01-05-multicamera_keypoints_mm2d/models/rtmdet/rtmdet_tiny_8xb32-300e_coco_chronic_24-05-04-17-51-58_216661/config.py',\n",
       "  'path_to_rtmdetection_checkpoint': '/n/groups/datta/tim_sainburg/projects/24-01-05-multicamera_keypoints_mm2d/models/rtmdet/rtmdet_tiny_8xb32-300e_coco_chronic_24-05-04-17-51-58_216661/epoch_400.pth',\n",
       "  'rtmdetection_model_name': 'rtmdet_tiny_8xb32-300e_coco_chronic_24-05-04-17-51-58_216661',\n",
       "  'rtmpose_model_name': 'rtmpose-m_8xb64-210e_ap10k-256x256_24-05-04-21-35-13_305524',\n",
       "  'skeleton_py_file': '/n/groups/datta/tim_sainburg/projects/multicamera_airflow_pipeline/multicamera_airflow_pipeline/tim_240731/skeletons/sainburg25pt.py',\n",
       "  'conda_env': '/n/groups/datta/tim_sainburg/conda_envs/mmdeploy',\n",
       "  'path_to_mmdeploy': '/n/groups/datta/tim_sainburg/projects/mmdeploy/',\n",
       "  'path_to_demo_image_detection': '/n/groups/datta/tim_sainburg/projects/24-01-05-multicamera_keypoints_mm2d/example_data/test_mouse.png',\n",
       "  'path_to_demo_image_pose': '/n/groups/datta/tim_sainburg/projects/24-01-05-multicamera_keypoints_mm2d/example_data/test_mouse_cropped.png',\n",
       "  'path_to_mmdetection_config': '/n/groups/datta/tim_sainburg/projects/mmdeploy/configs/mmdet/detection/detection_tensorrt_static-320x320.py',\n",
       "  'path_to_mmpose_config': '/n/groups/datta/tim_sainburg/projects/mmdeploy/configs/mmpose/pose-detection_simcc_tensorrt_dynamic-256x256.py'},\n",
       " 'o2': {'sync_cameras': {'o2_memory': '16G',\n",
       "   'o2_n_cpus': 1,\n",
       "   'o2_queue': 'short,priority',\n",
       "   'o2_runtime_multiplier': 1},\n",
       "  'sync_ephys': {'o2_memory': '16G',\n",
       "   'o2_n_cpus': 1,\n",
       "   'o2_queue': 'short,priority',\n",
       "   'o2_runtime_multiplier': 1},\n",
       "  'camera_calibration': {'o2_memory': '16G',\n",
       "   'o2_n_cpus': 10,\n",
       "   'o2_queue': 'short,priority',\n",
       "   'o2_time_limit': '2:00:00'},\n",
       "  'prediction_2d': {'o2_memory': '64G',\n",
       "   'o2_n_cpus': 20,\n",
       "   'o2_queue': 'gpu_quad,gpu',\n",
       "   'o2_runtime_multiplier': 20,\n",
       "   'o2_exclude': 'compute-g-16-175,compute-g-16-176,compute-g-16-177,compute-g-16-194,compute-g-16-197',\n",
       "   'o2_qos': 'gpuquad_qos',\n",
       "   'o2_gres': 'gpu:1'},\n",
       "  'prediction_2d_tensorrt': {'o2_memory': '64G',\n",
       "   'o2_n_cpus': 6,\n",
       "   'o2_queue': 'gpu_quad,gpu',\n",
       "   'o2_runtime_multiplier': 20,\n",
       "   'o2_exclude': 'compute-g-16-175,compute-g-16-176,compute-g-16-177,compute-g-16-194,compute-g-16-197',\n",
       "   'o2_qos': 'gpuquad_qos',\n",
       "   'o2_gres': 'gpu:1'},\n",
       "  'spikesorting': {'o2_memory': '64G',\n",
       "   'o2_n_cpus': 20,\n",
       "   'o2_queue': 'gpu_quad,gpu',\n",
       "   'o2_runtime_multiplier': 4,\n",
       "   'o2_exclude': 'compute-g-16-175,compute-g-16-176,compute-g-16-177,compute-g-16-194,compute-g-16-197',\n",
       "   'o2_qos': 'gpuquad_qos',\n",
       "   'o2_gres': 'gpu:1'},\n",
       "  'gimbal': {'o2_memory': '64G',\n",
       "   'o2_n_cpus': 10,\n",
       "   'o2_queue': 'gpu_quad,gpu',\n",
       "   'o2_runtime_multiplier': 10,\n",
       "   'o2_exclude': 'compute-g-16-175,compute-g-16-176,compute-g-16-177,compute-g-16-194,compute-g-16-197',\n",
       "   'o2_qos': 'gpuquad_qos',\n",
       "   'o2_gres': 'gpu:1'},\n",
       "  'triangulation': {'o2_memory': '32G',\n",
       "   'o2_n_cpus': 5,\n",
       "   'o2_queue': 'short,priority',\n",
       "   'o2_runtime_multiplier': 2},\n",
       "  'size_normalization': {'o2_memory': '16G',\n",
       "   'o2_n_cpus': 10,\n",
       "   'o2_queue': 'short,priority',\n",
       "   'o2_runtime_multiplier': 1},\n",
       "  'arena_alignment': {'o2_memory': '16G',\n",
       "   'o2_n_cpus': 1,\n",
       "   'o2_queue': 'short,priority',\n",
       "   'o2_runtime_multiplier': 1},\n",
       "  'egocentric_alignment': {'o2_memory': '16G',\n",
       "   'o2_n_cpus': 1,\n",
       "   'o2_queue': 'short,priority',\n",
       "   'o2_runtime_multiplier': 1},\n",
       "  'continuous_features': {'o2_memory': '16G',\n",
       "   'o2_n_cpus': 1,\n",
       "   'o2_queue': 'short,priority',\n",
       "   'o2_runtime_multiplier': 1}}}"
      ]
     },
     "execution_count": 13,
     "metadata": {},
     "output_type": "execute_result"
    }
   ],
   "source": [
    "config"
   ]
  },
  {
   "cell_type": "code",
   "execution_count": 14,
   "id": "083dceff",
   "metadata": {},
   "outputs": [],
   "source": [
    "# where the video data is located\n",
    "recording_directory = Path(recording_row.calibration_location_on_o2) / recording_row.calibration_id"
   ]
  },
  {
   "cell_type": "code",
   "execution_count": 15,
   "id": "7a69a50f",
   "metadata": {},
   "outputs": [],
   "source": [
    "# where to save output\n",
    "output_directory_camera_calibration = (\n",
    "    output_directory / \"camera_calibration\" / recording_row.calibration_id\n",
    ")\n",
    "output_directory_camera_calibration.mkdir(parents=True, exist_ok=True)\n",
    "current_datetime_str = datetime.now().strftime(\"%Y%m%d_%H%M%S_%f\")\n",
    "remote_job_directory = job_directory / current_datetime_str"
   ]
  },
  {
   "cell_type": "code",
   "execution_count": 17,
   "id": "378503ea",
   "metadata": {},
   "outputs": [
    {
     "data": {
      "text/plain": [
       "PosixPath('/n/groups/datta/tim_sainburg/datasets/scratch/240808-3d-pipeline/camera_calibration/24-05-01-13-45-07-825493')"
      ]
     },
     "execution_count": 17,
     "metadata": {},
     "output_type": "execute_result"
    }
   ],
   "source": [
    "output_directory_camera_calibration"
   ]
  },
  {
   "cell_type": "code",
   "execution_count": 18,
   "id": "7c4671fa",
   "metadata": {},
   "outputs": [],
   "source": [
    "!ls /n/groups/datta/tim_sainburg/datasets/scratch/240808-3d-pipeline/camera_calibration/24-05-01-13-45-07-825493"
   ]
  },
  {
   "cell_type": "code",
   "execution_count": 16,
   "id": "85bd6f84",
   "metadata": {},
   "outputs": [
    {
     "name": "stdout",
     "output_type": "stream",
     "text": [
      "Calibration incomplete, starting\n"
     ]
    }
   ],
   "source": [
    "# check if sync successfully completed\n",
    "if config[\"camera_calibration\"][\"recompute_completed\"] == False:\n",
    "    if check_calibration_completion(output_directory_camera_calibration):\n",
    "        print(\"Calibration completed, quitting\")\n",
    "        # return\n",
    "    else:\n",
    "        print(\"Calibration incomplete, starting\")"
   ]
  },
  {
   "cell_type": "code",
   "execution_count": 17,
   "id": "9317053c",
   "metadata": {},
   "outputs": [],
   "source": [
    "params = {\n",
    "    \"calibration_video_directory\": recording_directory.as_posix(),\n",
    "    \"output_directory_camera_calibration\": output_directory_camera_calibration.as_posix(),\n",
    "}"
   ]
  },
  {
   "cell_type": "code",
   "execution_count": 18,
   "id": "635b1d6e",
   "metadata": {},
   "outputs": [
    {
     "name": "stderr",
     "output_type": "stream",
     "text": [
      "INFO:paramiko.transport:Connected (version 2.0, client OpenSSH_7.4)\n",
      "INFO:paramiko.transport:Auth banner: b'Problems logging in?\\nUse your lower case HMS ID, like abc123, not ABC123.\\nIf locked out, see:\\nhttps://it.hms.harvard.edu/i-want/reset-password-or-unlock-your-hms-account\\n'\n",
      "INFO:paramiko.transport:Authentication (publickey) successful!\n"
     ]
    }
   ],
   "source": [
    "# create the job runner\n",
    "runner = O2Runner(\n",
    "    job_name_prefix=f\"{recording_row.video_recording_id}_calibration\",\n",
    "    remote_job_directory=remote_job_directory,\n",
    "    conda_env=\"/n/groups/datta/tim_sainburg/conda_envs/peromoseq\",\n",
    "    o2_username=recording_row.username,\n",
    "    o2_server=\"login.o2.rc.hms.harvard.edu\",\n",
    "    job_params=params,\n",
    "    o2_n_cpus=config[\"o2\"][\"camera_calibration\"][\"o2_n_cpus\"],\n",
    "    o2_memory=config[\"o2\"][\"camera_calibration\"][\"o2_memory\"],\n",
    "    o2_time_limit=config[\"o2\"][\"camera_calibration\"][\"o2_time_limit\"],\n",
    "    o2_queue=config[\"o2\"][\"camera_calibration\"][\"o2_queue\"],\n",
    ")"
   ]
  },
  {
   "cell_type": "code",
   "execution_count": 19,
   "id": "38fbc1be",
   "metadata": {},
   "outputs": [],
   "source": [
    "runner.python_script = textwrap.dedent(\n",
    "f\"\"\"\n",
    "# load params\n",
    "import yaml\n",
    "params_file = \"{runner.remote_job_directory / f\"{runner.job_name}.params.yaml\"}\"\n",
    "config_file = \"{config_file.as_posix()}\"\n",
    "\n",
    "params = yaml.safe_load(open(params_file, 'r'))\n",
    "config = yaml.safe_load(open(config_file, 'r'))\n",
    "\n",
    "# grab sync cameras function\n",
    "from multicamera_airflow_pipeline.tim_240731.calibration import Calibrator \n",
    "camera_calibrator = Calibrator(\n",
    "    calibration_video_directory = params[\"calibration_video_directory\"],\n",
    "    calibration_output_directory = params[\"output_directory_camera_calibration\"],\n",
    "    **config[\"camera_calibration\"]\n",
    ")\n",
    "camera_calibrator.run()\n",
    "\"\"\"\n",
    ")"
   ]
  },
  {
   "cell_type": "code",
   "execution_count": 20,
   "id": "b6bb6e2f",
   "metadata": {},
   "outputs": [
    {
     "name": "stdout",
     "output_type": "stream",
     "text": [
      "\n",
      "# load params\n",
      "import yaml\n",
      "params_file = \"/n/groups/datta/tim_sainburg/datasets/scratch/jobs/20240809_124626_627203/24-05-01-13-26-43-110846_calibration_24-08-09-2024-46-26-813260.params.yaml\"\n",
      "config_file = \"/n/groups/datta/tim_sainburg/projects/multicamera_airflow_pipeline/multicamera_airflow_pipeline/tim_240731/default_config.yaml\"\n",
      "\n",
      "params = yaml.safe_load(open(params_file, 'r'))\n",
      "config = yaml.safe_load(open(config_file, 'r'))\n",
      "\n",
      "# grab sync cameras function\n",
      "from multicamera_airflow_pipeline.tim_240731.calibration import Calibrator \n",
      "camera_calibrator = Calibrator(\n",
      "    calibration_video_directory = params[\"calibration_video_directory\"],\n",
      "    calibration_output_directory = params[\"output_directory_camera_calibration\"],\n",
      "    **config[\"camera_calibration\"]\n",
      ")\n",
      "camera_calibrator.run()\n",
      "\n"
     ]
    }
   ],
   "source": [
    "print(runner.python_script)"
   ]
  },
  {
   "cell_type": "code",
   "execution_count": 21,
   "id": "5a4b3c74",
   "metadata": {},
   "outputs": [
    {
     "name": "stderr",
     "output_type": "stream",
     "text": [
      "INFO:multicamera_airflow_pipeline.tim_240731.interface.o2:Creating remote job directory: /n/groups/datta/tim_sainburg/datasets/scratch/jobs/20240809_124626_627203\n",
      "INFO:multicamera_airflow_pipeline.tim_240731.interface.o2:Creating remote directory: /n/groups/datta/tim_sainburg/datasets/scratch/jobs/20240809_124626_627203\n",
      "INFO:multicamera_airflow_pipeline.tim_240731.interface.o2:Successfully created remote directory: /n/groups/datta/tim_sainburg/datasets/scratch/jobs/20240809_124626_627203\n",
      "INFO:multicamera_airflow_pipeline.tim_240731.interface.o2:Writing job files to remote directory: /n/groups/datta/tim_sainburg/datasets/scratch/jobs/20240809_124626_627203\n",
      "INFO:paramiko.transport.sftp:[chan 1] Opened sftp connection (server version 3)\n",
      "INFO:multicamera_airflow_pipeline.tim_240731.interface.o2:Transferring /tmp/tmp6e0jud35 to login.o2.rc.hms.harvard.edu:/n/groups/datta/tim_sainburg/datasets/scratch/jobs/20240809_124626_627203/24-05-01-13-26-43-110846_calibration_24-08-09-2024-46-26-813260.py\n",
      "INFO:multicamera_airflow_pipeline.tim_240731.interface.o2:Successfully transferred /tmp/tmp6e0jud35 to /n/groups/datta/tim_sainburg/datasets/scratch/jobs/20240809_124626_627203/24-05-01-13-26-43-110846_calibration_24-08-09-2024-46-26-813260.py\n",
      "INFO:paramiko.transport.sftp:[chan 1] sftp session closed.\n",
      "INFO:paramiko.transport.sftp:[chan 2] Opened sftp connection (server version 3)\n",
      "INFO:multicamera_airflow_pipeline.tim_240731.interface.o2:Transferring /tmp/tmpw8_34em6 to login.o2.rc.hms.harvard.edu:/n/groups/datta/tim_sainburg/datasets/scratch/jobs/20240809_124626_627203/24-05-01-13-26-43-110846_calibration_24-08-09-2024-46-26-813260.sh\n",
      "INFO:multicamera_airflow_pipeline.tim_240731.interface.o2:Successfully transferred /tmp/tmpw8_34em6 to /n/groups/datta/tim_sainburg/datasets/scratch/jobs/20240809_124626_627203/24-05-01-13-26-43-110846_calibration_24-08-09-2024-46-26-813260.sh\n",
      "INFO:paramiko.transport.sftp:[chan 2] sftp session closed.\n",
      "INFO:paramiko.transport.sftp:[chan 3] Opened sftp connection (server version 3)\n",
      "INFO:multicamera_airflow_pipeline.tim_240731.interface.o2:Transferring /tmp/tmpt46yozxd to login.o2.rc.hms.harvard.edu:/n/groups/datta/tim_sainburg/datasets/scratch/jobs/20240809_124626_627203/24-05-01-13-26-43-110846_calibration_24-08-09-2024-46-26-813260.params.yaml\n",
      "INFO:multicamera_airflow_pipeline.tim_240731.interface.o2:Successfully transferred /tmp/tmpt46yozxd to /n/groups/datta/tim_sainburg/datasets/scratch/jobs/20240809_124626_627203/24-05-01-13-26-43-110846_calibration_24-08-09-2024-46-26-813260.params.yaml\n",
      "INFO:paramiko.transport.sftp:[chan 3] sftp session closed.\n",
      "INFO:multicamera_airflow_pipeline.tim_240731.interface.o2:Submitting job: 24-05-01-13-26-43-110846_calibration_24-08-09-2024-46-26-813260\n",
      "INFO:multicamera_airflow_pipeline.tim_240731.interface.o2:Job submitted successfully with job id: 43741156\n"
     ]
    }
   ],
   "source": [
    "runner.run()"
   ]
  },
  {
   "cell_type": "code",
   "execution_count": 22,
   "id": "bb80c478",
   "metadata": {},
   "outputs": [
    {
     "name": "stderr",
     "output_type": "stream",
     "text": [
      "INFO:multicamera_airflow_pipeline.tim_240731.interface.o2:Checking job status: 43741156\n",
      "INFO:multicamera_airflow_pipeline.tim_240731.interface.o2:Unknown job state: \n",
      "INFO:multicamera_airflow_pipeline.tim_240731.interface.o2:Checking job status: 43741156\n",
      "INFO:multicamera_airflow_pipeline.tim_240731.interface.o2:The job is currently running.\n",
      "INFO:multicamera_airflow_pipeline.tim_240731.interface.o2:Checking job status: 43741156\n",
      "INFO:multicamera_airflow_pipeline.tim_240731.interface.o2:The job is currently running.\n",
      "INFO:multicamera_airflow_pipeline.tim_240731.interface.o2:Checking job status: 43741156\n",
      "INFO:multicamera_airflow_pipeline.tim_240731.interface.o2:The job is currently running.\n",
      "INFO:multicamera_airflow_pipeline.tim_240731.interface.o2:Checking job status: 43741156\n",
      "INFO:multicamera_airflow_pipeline.tim_240731.interface.o2:The job is currently running.\n",
      "INFO:multicamera_airflow_pipeline.tim_240731.interface.o2:Checking job status: 43741156\n",
      "INFO:multicamera_airflow_pipeline.tim_240731.interface.o2:The job is currently running.\n",
      "INFO:multicamera_airflow_pipeline.tim_240731.interface.o2:Checking job status: 43741156\n",
      "INFO:multicamera_airflow_pipeline.tim_240731.interface.o2:The job is currently running.\n",
      "INFO:multicamera_airflow_pipeline.tim_240731.interface.o2:Checking job status: 43741156\n",
      "INFO:multicamera_airflow_pipeline.tim_240731.interface.o2:The job is currently running.\n",
      "INFO:multicamera_airflow_pipeline.tim_240731.interface.o2:Checking job status: 43741156\n",
      "INFO:multicamera_airflow_pipeline.tim_240731.interface.o2:The job is currently running.\n",
      "INFO:multicamera_airflow_pipeline.tim_240731.interface.o2:Checking job status: 43741156\n",
      "INFO:multicamera_airflow_pipeline.tim_240731.interface.o2:The job is currently running.\n",
      "INFO:multicamera_airflow_pipeline.tim_240731.interface.o2:Checking job status: 43741156\n",
      "INFO:multicamera_airflow_pipeline.tim_240731.interface.o2:The job is currently running.\n",
      "INFO:multicamera_airflow_pipeline.tim_240731.interface.o2:Checking job status: 43741156\n",
      "INFO:multicamera_airflow_pipeline.tim_240731.interface.o2:The job is currently running.\n",
      "INFO:multicamera_airflow_pipeline.tim_240731.interface.o2:Checking job status: 43741156\n",
      "INFO:multicamera_airflow_pipeline.tim_240731.interface.o2:The job is currently running.\n",
      "INFO:multicamera_airflow_pipeline.tim_240731.interface.o2:Checking job status: 43741156\n",
      "INFO:multicamera_airflow_pipeline.tim_240731.interface.o2:The job is currently running.\n",
      "INFO:multicamera_airflow_pipeline.tim_240731.interface.o2:Checking job status: 43741156\n",
      "INFO:multicamera_airflow_pipeline.tim_240731.interface.o2:The job is currently running.\n",
      "INFO:multicamera_airflow_pipeline.tim_240731.interface.o2:Checking job status: 43741156\n",
      "INFO:multicamera_airflow_pipeline.tim_240731.interface.o2:The job is currently running.\n",
      "INFO:multicamera_airflow_pipeline.tim_240731.interface.o2:Checking job status: 43741156\n",
      "INFO:multicamera_airflow_pipeline.tim_240731.interface.o2:The job is currently running.\n",
      "INFO:multicamera_airflow_pipeline.tim_240731.interface.o2:Checking job status: 43741156\n",
      "INFO:multicamera_airflow_pipeline.tim_240731.interface.o2:The job is currently running.\n",
      "INFO:multicamera_airflow_pipeline.tim_240731.interface.o2:Checking job status: 43741156\n",
      "INFO:multicamera_airflow_pipeline.tim_240731.interface.o2:The job is currently running.\n",
      "INFO:multicamera_airflow_pipeline.tim_240731.interface.o2:Checking job status: 43741156\n",
      "INFO:multicamera_airflow_pipeline.tim_240731.interface.o2:The job is currently running.\n",
      "INFO:multicamera_airflow_pipeline.tim_240731.interface.o2:Checking job status: 43741156\n",
      "INFO:multicamera_airflow_pipeline.tim_240731.interface.o2:The job is currently running.\n",
      "INFO:multicamera_airflow_pipeline.tim_240731.interface.o2:Checking job status: 43741156\n",
      "INFO:multicamera_airflow_pipeline.tim_240731.interface.o2:The job is currently running.\n",
      "INFO:multicamera_airflow_pipeline.tim_240731.interface.o2:Checking job status: 43741156\n",
      "INFO:multicamera_airflow_pipeline.tim_240731.interface.o2:The job is currently running.\n",
      "INFO:multicamera_airflow_pipeline.tim_240731.interface.o2:Checking job status: 43741156\n",
      "INFO:multicamera_airflow_pipeline.tim_240731.interface.o2:The job is currently running.\n",
      "INFO:multicamera_airflow_pipeline.tim_240731.interface.o2:Checking job status: 43741156\n",
      "INFO:multicamera_airflow_pipeline.tim_240731.interface.o2:The job is currently running.\n",
      "INFO:multicamera_airflow_pipeline.tim_240731.interface.o2:Checking job status: 43741156\n",
      "INFO:multicamera_airflow_pipeline.tim_240731.interface.o2:The job is currently running.\n",
      "INFO:multicamera_airflow_pipeline.tim_240731.interface.o2:Checking job status: 43741156\n",
      "INFO:multicamera_airflow_pipeline.tim_240731.interface.o2:The job is currently running.\n",
      "INFO:multicamera_airflow_pipeline.tim_240731.interface.o2:Checking job status: 43741156\n",
      "INFO:multicamera_airflow_pipeline.tim_240731.interface.o2:The job is currently running.\n",
      "INFO:multicamera_airflow_pipeline.tim_240731.interface.o2:Checking job status: 43741156\n",
      "INFO:multicamera_airflow_pipeline.tim_240731.interface.o2:The job is currently running.\n",
      "INFO:multicamera_airflow_pipeline.tim_240731.interface.o2:Checking job status: 43741156\n",
      "INFO:multicamera_airflow_pipeline.tim_240731.interface.o2:The job is currently running.\n",
      "INFO:multicamera_airflow_pipeline.tim_240731.interface.o2:Checking job status: 43741156\n",
      "INFO:multicamera_airflow_pipeline.tim_240731.interface.o2:The job is currently running.\n",
      "INFO:multicamera_airflow_pipeline.tim_240731.interface.o2:Checking job status: 43741156\n",
      "INFO:multicamera_airflow_pipeline.tim_240731.interface.o2:The job is currently running.\n",
      "INFO:multicamera_airflow_pipeline.tim_240731.interface.o2:Checking job status: 43741156\n",
      "INFO:multicamera_airflow_pipeline.tim_240731.interface.o2:The job is currently running.\n",
      "INFO:multicamera_airflow_pipeline.tim_240731.interface.o2:Checking job status: 43741156\n",
      "INFO:multicamera_airflow_pipeline.tim_240731.interface.o2:The job is currently running.\n",
      "INFO:multicamera_airflow_pipeline.tim_240731.interface.o2:Checking job status: 43741156\n",
      "INFO:multicamera_airflow_pipeline.tim_240731.interface.o2:The job is currently running.\n",
      "INFO:multicamera_airflow_pipeline.tim_240731.interface.o2:Checking job status: 43741156\n",
      "INFO:multicamera_airflow_pipeline.tim_240731.interface.o2:The job is currently running.\n",
      "INFO:multicamera_airflow_pipeline.tim_240731.interface.o2:Checking job status: 43741156\n",
      "INFO:multicamera_airflow_pipeline.tim_240731.interface.o2:The job is currently running.\n",
      "INFO:multicamera_airflow_pipeline.tim_240731.interface.o2:Checking job status: 43741156\n",
      "INFO:multicamera_airflow_pipeline.tim_240731.interface.o2:The job is currently running.\n",
      "INFO:multicamera_airflow_pipeline.tim_240731.interface.o2:Checking job status: 43741156\n",
      "INFO:multicamera_airflow_pipeline.tim_240731.interface.o2:The job is currently running.\n",
      "INFO:multicamera_airflow_pipeline.tim_240731.interface.o2:Checking job status: 43741156\n",
      "INFO:multicamera_airflow_pipeline.tim_240731.interface.o2:The job is currently running.\n",
      "INFO:multicamera_airflow_pipeline.tim_240731.interface.o2:Checking job status: 43741156\n",
      "INFO:multicamera_airflow_pipeline.tim_240731.interface.o2:The job is currently running.\n",
      "INFO:multicamera_airflow_pipeline.tim_240731.interface.o2:Checking job status: 43741156\n",
      "INFO:multicamera_airflow_pipeline.tim_240731.interface.o2:The job is currently running.\n",
      "INFO:multicamera_airflow_pipeline.tim_240731.interface.o2:Checking job status: 43741156\n",
      "INFO:multicamera_airflow_pipeline.tim_240731.interface.o2:The job is currently running.\n",
      "INFO:multicamera_airflow_pipeline.tim_240731.interface.o2:Checking job status: 43741156\n",
      "INFO:multicamera_airflow_pipeline.tim_240731.interface.o2:The job is currently running.\n",
      "INFO:multicamera_airflow_pipeline.tim_240731.interface.o2:Checking job status: 43741156\n",
      "INFO:multicamera_airflow_pipeline.tim_240731.interface.o2:The job is currently running.\n",
      "INFO:multicamera_airflow_pipeline.tim_240731.interface.o2:Checking job status: 43741156\n",
      "INFO:multicamera_airflow_pipeline.tim_240731.interface.o2:The job is currently running.\n",
      "INFO:multicamera_airflow_pipeline.tim_240731.interface.o2:Checking job status: 43741156\n",
      "INFO:multicamera_airflow_pipeline.tim_240731.interface.o2:The job is currently running.\n"
     ]
    },
    {
     "name": "stderr",
     "output_type": "stream",
     "text": [
      "INFO:multicamera_airflow_pipeline.tim_240731.interface.o2:Checking job status: 43741156\n",
      "INFO:multicamera_airflow_pipeline.tim_240731.interface.o2:The job is currently running.\n",
      "INFO:multicamera_airflow_pipeline.tim_240731.interface.o2:Checking job status: 43741156\n",
      "INFO:multicamera_airflow_pipeline.tim_240731.interface.o2:The job is currently running.\n",
      "INFO:multicamera_airflow_pipeline.tim_240731.interface.o2:Checking job status: 43741156\n",
      "INFO:multicamera_airflow_pipeline.tim_240731.interface.o2:The job is currently running.\n",
      "INFO:multicamera_airflow_pipeline.tim_240731.interface.o2:Checking job status: 43741156\n",
      "INFO:multicamera_airflow_pipeline.tim_240731.interface.o2:The job is currently running.\n",
      "INFO:multicamera_airflow_pipeline.tim_240731.interface.o2:Checking job status: 43741156\n",
      "INFO:multicamera_airflow_pipeline.tim_240731.interface.o2:The job is currently running.\n",
      "INFO:multicamera_airflow_pipeline.tim_240731.interface.o2:Checking job status: 43741156\n",
      "INFO:multicamera_airflow_pipeline.tim_240731.interface.o2:The job is currently running.\n",
      "INFO:multicamera_airflow_pipeline.tim_240731.interface.o2:Checking job status: 43741156\n",
      "INFO:multicamera_airflow_pipeline.tim_240731.interface.o2:The job has finished successfully.\n"
     ]
    }
   ],
   "source": [
    "# wait until the job is finished\n",
    "# 10000/60/24 = roughly 1 week\n",
    "for i in range(10000):\n",
    "    # check job status every n seconds\n",
    "    status = runner.check_job_status()\n",
    "    if status:\n",
    "        break\n",
    "    time.sleep(60)"
   ]
  },
  {
   "cell_type": "code",
   "execution_count": 23,
   "id": "39a95efd",
   "metadata": {},
   "outputs": [
    {
     "name": "stdout",
     "output_type": "stream",
     "text": [
      "Ephys sync completed successfully\n"
     ]
    }
   ],
   "source": [
    "# check if sync successfully completed\n",
    "if check_calibration_completion(output_directory_camera_calibration):\n",
    "    print('Ephys sync completed successfully')\n",
    "else:\n",
    "    raise ValueError(\"Ephys sync did not complete successfully.\")\n"
   ]
  },
  {
   "cell_type": "code",
   "execution_count": 24,
   "id": "1884d9f1",
   "metadata": {},
   "outputs": [
    {
     "name": "stdout",
     "output_type": "stream",
     "text": [
      "24-05-01-13-26-43-110846_ephys_sync_24-08-09-2024-28-40-929285.log\r\n",
      "24-05-01-13-26-43-110846_ephys_sync_24-08-09-2024-28-40-929285.params.yaml\r\n",
      "24-05-01-13-26-43-110846_ephys_sync_24-08-09-2024-28-40-929285.py\r\n",
      "24-05-01-13-26-43-110846_ephys_sync_24-08-09-2024-28-40-929285.sh\r\n"
     ]
    }
   ],
   "source": [
    "!ls /n/groups/datta/tim_sainburg/datasets/scratch/jobs/20240809_112840_718710/"
   ]
  },
  {
   "cell_type": "code",
   "execution_count": 25,
   "id": "c272e098",
   "metadata": {},
   "outputs": [
    {
     "name": "stdout",
     "output_type": "stream",
     "text": [
      "  File \"/n/groups/datta/tim_sainburg/projects/multicam-calibration/multicam_calibration/detection.py\", line 26, in _worker\r\n",
      "    detection = detection_fun(frame, **detection_kwargs)\r\n",
      "  File \"/n/groups/datta/tim_sainburg/projects/multicam-calibration/multicam_calibration/detection.py\", line 377, in detect_chessboard\r\n",
      "    ret, corners_approx = cv2.findChessboardCorners(\r\n",
      "cv2.error: OpenCV(4.8.1) :-1: error: (-5:Bad argument) in function 'findChessboardCorners'\r\n",
      "> Overload resolution failed:\r\n",
      ">  - Can't parse 'patternSize'. Expected sequence length 2, got 6\r\n",
      ">  - Can't parse 'patternSize'. Expected sequence length 2, got 6\r\n",
      "\r\n",
      "\r",
      "  1%|▏                             | 11/2000 [00:00<02:06, 15.74frame/s]\r",
      "  1%|▏                             | 13/2000 [00:00<02:28, 13.40frame/s]\r",
      "  1%|▏                             | 15/2000 [00:01<02:53, 11.41frame/s]\r",
      "  1%|▎                             | 17/2000 [00:01<03:09, 10.49frame/s]\r",
      "  1%|▎                             | 19/2000 [00:01<03:25,  9.66frame/s]\r",
      "  1%|▎                             | 19/2000 [00:19<03:25,  9.66frame/s]slurmstepd: error: *** JOB 43729345 ON compute-a-16-67 CANCELLED AT 2024-08-09T12:29:34 DUE TO TIME LIMIT ***\r\n"
     ]
    }
   ],
   "source": [
    "!tail /n/groups/datta/tim_sainburg/datasets/scratch/jobs/20240809_112840_718710/24-05-01-13-26-43-110846_ephys_sync_24-08-09-2024-28-40-929285.log"
   ]
  },
  {
   "cell_type": "code",
   "execution_count": null,
   "id": "16b5ee57",
   "metadata": {},
   "outputs": [],
   "source": []
  }
 ],
 "metadata": {
  "kernelspec": {
   "display_name": "peromoseq",
   "language": "python",
   "name": "peromoseq"
  },
  "language_info": {
   "codemirror_mode": {
    "name": "ipython",
    "version": 3
   },
   "file_extension": ".py",
   "mimetype": "text/x-python",
   "name": "python",
   "nbconvert_exporter": "python",
   "pygments_lexer": "ipython3",
   "version": "3.10.13"
  }
 },
 "nbformat": 4,
 "nbformat_minor": 5
}
