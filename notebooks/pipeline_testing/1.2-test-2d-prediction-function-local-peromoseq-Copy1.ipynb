{
 "cells": [
  {
   "cell_type": "code",
   "execution_count": 1,
   "id": "d6b30eea",
   "metadata": {},
   "outputs": [],
   "source": [
    "%load_ext autoreload\n",
    "%autoreload 2"
   ]
  },
  {
   "cell_type": "code",
   "execution_count": 2,
   "id": "e4415039",
   "metadata": {},
   "outputs": [],
   "source": [
    "import os\n",
    "os.environ[\"CUDA_DEVICE_ORDER\"]=\"PCI_BUS_ID\"   # see issue #152\n",
    "os.environ[\"CUDA_VISIBLE_DEVICES\"]=\"2\""
   ]
  },
  {
   "cell_type": "code",
   "execution_count": 3,
   "id": "52e8cd58",
   "metadata": {},
   "outputs": [
    {
     "data": {
      "text/plain": [
       "'/home/peromoseq/anaconda3/envs/mmdeploy/bin/python3'"
      ]
     },
     "execution_count": 3,
     "metadata": {},
     "output_type": "execute_result"
    }
   ],
   "source": [
    "import sys\n",
    "sys.executable"
   ]
  },
  {
   "cell_type": "markdown",
   "id": "877e8db4",
   "metadata": {},
   "source": [
    "### important\n",
    "- must be `module load cuda/11.7`"
   ]
  },
  {
   "cell_type": "markdown",
   "id": "6f361e85",
   "metadata": {},
   "source": [
    "##### Duration: ???"
   ]
  },
  {
   "cell_type": "code",
   "execution_count": 4,
   "id": "900a1f1a",
   "metadata": {},
   "outputs": [
    {
     "name": "stdout",
     "output_type": "stream",
     "text": [
      "/home/peromoseq/anaconda3/envs/mmdeploy/bin/python3\n"
     ]
    }
   ],
   "source": [
    "from pathlib import Path\n",
    "import sys\n",
    "import logging\n",
    "logging.basicConfig(level=logging.INFO)\n",
    "print(sys.executable)"
   ]
  },
  {
   "cell_type": "code",
   "execution_count": 5,
   "id": "c273f6e6",
   "metadata": {},
   "outputs": [
    {
     "name": "stderr",
     "output_type": "stream",
     "text": [
      "INFO:multicamera_airflow_pipeline.tim_240731.keypoints.predict_2D:Python interpreter binary location: /home/peromoseq/anaconda3/envs/mmdeploy/bin/python3\n"
     ]
    }
   ],
   "source": [
    "from multicamera_airflow_pipeline.tim_240731.keypoints.predict_2D import Inferencer2D"
   ]
  },
  {
   "cell_type": "markdown",
   "id": "d4930f63",
   "metadata": {},
   "source": [
    "### Get recording info (google sheets)"
   ]
  },
  {
   "cell_type": "code",
   "execution_count": 6,
   "id": "63237b3a",
   "metadata": {},
   "outputs": [],
   "source": [
    "import requests\n",
    "import pandas as pd\n",
    "from io import BytesIO"
   ]
  },
  {
   "cell_type": "code",
   "execution_count": 7,
   "id": "5909c615",
   "metadata": {},
   "outputs": [],
   "source": [
    "# spreadsheet_url = 'https://docs.google.com/spreadsheet/ccc?key=14HIqUaSl_n-91hpAvmACY_iVY9nLKdlA6qklhxfZon0&output=csv&gid=0'\n",
    "spreadsheet_url = \"https://docs.google.com/spreadsheet/ccc?key=1jACsUmxuJ9Une59qmvzZGc1qXezKhKzD1zho2sEfcrU&output=csv&gid=0\"\n",
    "response = requests.get(spreadsheet_url)\n",
    "recording_df = pd.read_csv(BytesIO(response.content))"
   ]
  },
  {
   "cell_type": "code",
   "execution_count": 8,
   "id": "49df48f5",
   "metadata": {},
   "outputs": [
    {
     "data": {
      "text/html": [
       "<div>\n",
       "<style scoped>\n",
       "    .dataframe tbody tr th:only-of-type {\n",
       "        vertical-align: middle;\n",
       "    }\n",
       "\n",
       "    .dataframe tbody tr th {\n",
       "        vertical-align: top;\n",
       "    }\n",
       "\n",
       "    .dataframe thead th {\n",
       "        text-align: right;\n",
       "    }\n",
       "</style>\n",
       "<table border=\"1\" class=\"dataframe\">\n",
       "  <thead>\n",
       "    <tr style=\"text-align: right;\">\n",
       "      <th></th>\n",
       "      <th>Subject</th>\n",
       "      <th>duration_m</th>\n",
       "      <th>video_recording_id</th>\n",
       "      <th>ephys_id</th>\n",
       "      <th>calibration_id</th>\n",
       "      <th>video_location_on_o2</th>\n",
       "      <th>ephys_location_on_o2</th>\n",
       "      <th>calibration_location_on_o2</th>\n",
       "      <th>samplerate</th>\n",
       "      <th>username</th>\n",
       "      <th>n_ephys_streams</th>\n",
       "      <th>max_video_duration_m</th>\n",
       "    </tr>\n",
       "  </thead>\n",
       "  <tbody>\n",
       "    <tr>\n",
       "      <th>0</th>\n",
       "      <td>M04002</td>\n",
       "      <td>10</td>\n",
       "      <td>24-05-01-13-26-43-110846</td>\n",
       "      <td>2024-05-01_13-26-37</td>\n",
       "      <td>24-05-01-13-45-07-825493</td>\n",
       "      <td>/n/groups/datta/tim_sainburg/datasets/chronic2...</td>\n",
       "      <td>/n/groups/datta/tim_sainburg/datasets/chronic2...</td>\n",
       "      <td>/n/groups/datta/tim_sainburg/datasets/chronic2...</td>\n",
       "      <td>150</td>\n",
       "      <td>tis697</td>\n",
       "      <td>1</td>\n",
       "      <td>10</td>\n",
       "    </tr>\n",
       "    <tr>\n",
       "      <th>1</th>\n",
       "      <td>M04003</td>\n",
       "      <td>30</td>\n",
       "      <td>24-05-01-13-51-17-581428</td>\n",
       "      <td>2024-05-01_13-51-09</td>\n",
       "      <td>24-05-01-13-45-07-825493</td>\n",
       "      <td>/n/groups/datta/tim_sainburg/datasets/chronic2...</td>\n",
       "      <td>/n/groups/datta/tim_sainburg/datasets/chronic2...</td>\n",
       "      <td>/n/groups/datta/tim_sainburg/datasets/chronic2...</td>\n",
       "      <td>150</td>\n",
       "      <td>tis697</td>\n",
       "      <td>1</td>\n",
       "      <td>10</td>\n",
       "    </tr>\n",
       "    <tr>\n",
       "      <th>2</th>\n",
       "      <td>M04002</td>\n",
       "      <td>30</td>\n",
       "      <td>24-05-01-15-37-07-757018</td>\n",
       "      <td>2024-05-01_15-36-57</td>\n",
       "      <td>24-05-01-13-45-07-825493</td>\n",
       "      <td>/n/groups/datta/tim_sainburg/datasets/chronic2...</td>\n",
       "      <td>/n/groups/datta/tim_sainburg/datasets/chronic2...</td>\n",
       "      <td>/n/groups/datta/tim_sainburg/datasets/chronic2...</td>\n",
       "      <td>150</td>\n",
       "      <td>tis697</td>\n",
       "      <td>1</td>\n",
       "      <td>10</td>\n",
       "    </tr>\n",
       "  </tbody>\n",
       "</table>\n",
       "</div>"
      ],
      "text/plain": [
       "  Subject  duration_m        video_recording_id             ephys_id  \\\n",
       "0  M04002          10  24-05-01-13-26-43-110846  2024-05-01_13-26-37   \n",
       "1  M04003          30  24-05-01-13-51-17-581428  2024-05-01_13-51-09   \n",
       "2  M04002          30  24-05-01-15-37-07-757018  2024-05-01_15-36-57   \n",
       "\n",
       "             calibration_id  \\\n",
       "0  24-05-01-13-45-07-825493   \n",
       "1  24-05-01-13-45-07-825493   \n",
       "2  24-05-01-13-45-07-825493   \n",
       "\n",
       "                                video_location_on_o2  \\\n",
       "0  /n/groups/datta/tim_sainburg/datasets/chronic2...   \n",
       "1  /n/groups/datta/tim_sainburg/datasets/chronic2...   \n",
       "2  /n/groups/datta/tim_sainburg/datasets/chronic2...   \n",
       "\n",
       "                                ephys_location_on_o2  \\\n",
       "0  /n/groups/datta/tim_sainburg/datasets/chronic2...   \n",
       "1  /n/groups/datta/tim_sainburg/datasets/chronic2...   \n",
       "2  /n/groups/datta/tim_sainburg/datasets/chronic2...   \n",
       "\n",
       "                          calibration_location_on_o2  samplerate username  \\\n",
       "0  /n/groups/datta/tim_sainburg/datasets/chronic2...         150   tis697   \n",
       "1  /n/groups/datta/tim_sainburg/datasets/chronic2...         150   tis697   \n",
       "2  /n/groups/datta/tim_sainburg/datasets/chronic2...         150   tis697   \n",
       "\n",
       "   n_ephys_streams  max_video_duration_m  \n",
       "0                1                    10  \n",
       "1                1                    10  \n",
       "2                1                    10  "
      ]
     },
     "execution_count": 8,
     "metadata": {},
     "output_type": "execute_result"
    }
   ],
   "source": [
    "recording_df[:3]"
   ]
  },
  {
   "cell_type": "markdown",
   "id": "a3d7cdc7",
   "metadata": {},
   "source": [
    "### Run 2D prediction"
   ]
  },
  {
   "cell_type": "code",
   "execution_count": 9,
   "id": "5d8a95e4",
   "metadata": {},
   "outputs": [],
   "source": [
    "for idx, recording_row in recording_df.iterrows():\n",
    "    break"
   ]
  },
  {
   "cell_type": "code",
   "execution_count": 10,
   "id": "8bc38bb1",
   "metadata": {},
   "outputs": [],
   "source": [
    "output_directory = Path(\"/n/groups/datta/tim_sainburg/datasets/scratch/\") / \"240806-3d-pipeline\""
   ]
  },
  {
   "cell_type": "code",
   "execution_count": 11,
   "id": "95ae0426",
   "metadata": {},
   "outputs": [
    {
     "name": "stderr",
     "output_type": "stream",
     "text": [
      "INFO:multicamera_airflow_pipeline.tim_240731.keypoints.tensorrt:Python interpreter binary location: /home/peromoseq/anaconda3/envs/mmdeploy/bin/python3\n",
      "INFO:multicamera_airflow_pipeline.tim_240731.keypoints.tensorrt:Using CUDA device: NVIDIA_GeForce_RTX_4070_Ti\n"
     ]
    }
   ],
   "source": [
    "from multicamera_airflow_pipeline.tim_240731.keypoints.tensorrt import RTMModelConverter\n",
    "output_directory_tensorrt = output_directory / 'tensorrt'\n",
    "output_directory_tensorrt.mkdir(parents=True, exist_ok=True)\n",
    "\n",
    "# https://o2portal.rc.hms.harvard.edu/node/compute-g-17-148.o2.rc.hms.harvard.edu/59141/notebooks/tim_sainburg/projects/23-09-29-peromoseq/notebooks/keypoints/mmpose/24-01-11-deploy-2d-predictions-on-local/24-05-08-convert-pose-model.ipynb\n",
    "rtmpose_model_name = 'rtmpose-m_8xb64-210e_ap10k-256x256_24-05-04-21-35-13_305524'\n",
    "path_to_rmpose_config = Path('/n/groups/datta/tim_sainburg/projects/24-01-05-multicamera_keypoints_mm2d/models/rtmpose/rtmpose-m_8xb64-210e_ap10k-256x256_24-05-04-21-35-13_305524/config.py')\n",
    "path_to_rmpose_checkpoint = Path('/n/groups/datta/tim_sainburg/projects/24-01-05-multicamera_keypoints_mm2d/models/rtmpose/rtmpose-m_8xb64-210e_ap10k-256x256_24-05-04-21-35-13_305524/best_PCK_epoch_200.pth')\n",
    "\n",
    "# https://o2portal.rc.hms.harvard.edu/node/compute-g-17-148.o2.rc.hms.harvard.edu/59141/notebooks/tim_sainburg/projects/23-09-29-peromoseq/notebooks/keypoints/mmpose/24-01-11-deploy-2d-predictions-on-local/240508-convert-detection-model-fp32.ipynb\n",
    "rtmdetection_model_name = 'rtmdet_tiny_8xb32-300e_coco_chronic_24-05-04-17-51-58_216661'\n",
    "path_to_rtmdetection_config = Path('/n/groups/datta/tim_sainburg/projects/24-01-05-multicamera_keypoints_mm2d/models/rtmdet/rtmdet_tiny_8xb32-300e_coco_chronic_24-05-04-17-51-58_216661/config.py')\n",
    "path_to_rtmdetection_checkpoint = Path('/n/groups/datta/tim_sainburg/projects/24-01-05-multicamera_keypoints_mm2d/models/rtmdet/rtmdet_tiny_8xb32-300e_coco_chronic_24-05-04-17-51-58_216661/epoch_400.pth')\n",
    "\n",
    "model_converter = RTMModelConverter(\n",
    "    path_to_rmpose_config = path_to_rmpose_config,\n",
    "    path_to_rmpose_checkpoint = path_to_rmpose_checkpoint,\n",
    "    path_to_rtmdetection_config = path_to_rtmdetection_config,\n",
    "    path_to_rtmdetection_checkpoint = path_to_rtmdetection_checkpoint,\n",
    "    tensorrt_output_directory = output_directory_tensorrt,\n",
    "    rtmdetection_model_name = rtmdetection_model_name,\n",
    "    rtmpose_model_name = rtmpose_model_name,\n",
    "    conda_env = \"/home/peromoseq/anaconda3/envs/mmdeploy\",\n",
    "    is_local=True\n",
    ")"
   ]
  },
  {
   "cell_type": "code",
   "execution_count": 12,
   "id": "ad4e26d4",
   "metadata": {},
   "outputs": [
    {
     "data": {
      "text/plain": [
       "PosixPath('/n/groups/datta/tim_sainburg/datasets/scratch/240806-3d-pipeline/tensorrt')"
      ]
     },
     "execution_count": 12,
     "metadata": {},
     "output_type": "execute_result"
    }
   ],
   "source": [
    "output_directory_tensorrt"
   ]
  },
  {
   "cell_type": "code",
   "execution_count": 13,
   "id": "a4f3ea13",
   "metadata": {},
   "outputs": [
    {
     "name": "stderr",
     "output_type": "stream",
     "text": [
      "INFO:multicamera_airflow_pipeline.tim_240731.keypoints.tensorrt:Converting detection model to tensorrt. input: /n/groups/datta/tim_sainburg/datasets/scratch/240806-3d-pipeline/tensorrt/rtmdet_tiny_8xb32-300e_coco_chronic_24-05-04-17-51-58_216661/NVIDIA_GeForce_RTX_4070_Ti\n",
      "INFO:multicamera_airflow_pipeline.tim_240731.keypoints.tensorrt:Checking if tensorrt model exists at: /n/groups/datta/tim_sainburg/datasets/scratch/240806-3d-pipeline/tensorrt/rtmdet_tiny_8xb32-300e_coco_chronic_24-05-04-17-51-58_216661/NVIDIA_GeForce_RTX_4070_Ti\n",
      "INFO:multicamera_airflow_pipeline.tim_240731.keypoints.tensorrt:TensorRT detection model already exists.\n",
      "INFO:multicamera_airflow_pipeline.tim_240731.keypoints.tensorrt:Converting pose model to tensorrt. input: /n/groups/datta/tim_sainburg/datasets/scratch/240806-3d-pipeline/tensorrt/rtmpose-m_8xb64-210e_ap10k-256x256_24-05-04-21-35-13_305524/NVIDIA_GeForce_RTX_4070_Ti\n",
      "INFO:multicamera_airflow_pipeline.tim_240731.keypoints.tensorrt:Checking if tensorrt model exists at: /n/groups/datta/tim_sainburg/datasets/scratch/240806-3d-pipeline/tensorrt/rtmpose-m_8xb64-210e_ap10k-256x256_24-05-04-21-35-13_305524/NVIDIA_GeForce_RTX_4070_Ti\n",
      "INFO:multicamera_airflow_pipeline.tim_240731.keypoints.tensorrt:TensorRT pose model already exists.\n"
     ]
    }
   ],
   "source": [
    "model_converter.run()"
   ]
  },
  {
   "cell_type": "code",
   "execution_count": 14,
   "id": "5193fb79",
   "metadata": {},
   "outputs": [],
   "source": [
    "output_directory_2D = output_directory/ \"2D_predictions-2\" "
   ]
  },
  {
   "cell_type": "code",
   "execution_count": 15,
   "id": "248ec752",
   "metadata": {},
   "outputs": [],
   "source": [
    "output_directory_2D.mkdir(parents=True, exist_ok=True)"
   ]
  },
  {
   "cell_type": "code",
   "execution_count": 16,
   "id": "aa447fe6",
   "metadata": {},
   "outputs": [
    {
     "data": {
      "text/plain": [
       "'/n/groups/datta/tim_sainburg/datasets/chronic24/video/M04002/'"
      ]
     },
     "execution_count": 16,
     "metadata": {},
     "output_type": "execute_result"
    }
   ],
   "source": [
    "recording_row.video_location_on_o2"
   ]
  },
  {
   "cell_type": "code",
   "execution_count": 17,
   "id": "7151ee66",
   "metadata": {},
   "outputs": [],
   "source": [
    "video_directory = Path(recording_row.video_location_on_o2) / recording_row.video_recording_id"
   ]
  },
  {
   "cell_type": "code",
   "execution_count": 18,
   "id": "0e98aee7",
   "metadata": {},
   "outputs": [],
   "source": [
    "pose_checkpoint = \"/n/groups/datta/tim_sainburg/projects/24-01-05-multicamera_keypoints_mm2d/models/rtmpose/rtmpose-m_8xb64-210e_ap10k-256x256_24-05-04-21-35-13_305524/best_PCK_epoch_200.pth\"\n",
    "pose_config = '/n/groups/datta/tim_sainburg/projects/24-01-05-multicamera_keypoints_mm2d/models/rtmpose/rtmpose-m_8xb64-210e_ap10k-256x256_24-05-04-21-35-13_305524/config.py'\n",
    "det_checkpoint = '/n/groups/datta/tim_sainburg/projects/24-01-05-multicamera_keypoints_mm2d/models/rtmdet/rtmdet_tiny_8xb32-300e_coco_chronic_24-05-04-17-51-58_216661/epoch_400.pth'\n",
    "det_config = '/n/groups/datta/tim_sainburg/projects/24-01-05-multicamera_keypoints_mm2d/models/rtmdet/rtmdet_tiny_8xb32-300e_coco_chronic_24-05-04-17-51-58_216661/config.py'"
   ]
  },
  {
   "cell_type": "code",
   "execution_count": 19,
   "id": "47707612",
   "metadata": {},
   "outputs": [],
   "source": [
    "#tensorrt_path = \"/n/groups/datta/tim_sainburg/datasets/scratch/240806-3d-pipeline/tensorrt\"\n",
    "rtmpose_model_name = 'rtmpose-m_8xb64-210e_ap10k-256x256_24-05-04-21-35-13_305524'\n",
    "rtmdetection_model_name = 'rtmdet_tiny_8xb32-300e_coco_chronic_24-05-04-17-51-58_216661'"
   ]
  },
  {
   "cell_type": "code",
   "execution_count": 20,
   "id": "1ffb0328",
   "metadata": {},
   "outputs": [],
   "source": [
    "output_directory_predictions = output_directory_2D / recording_row.video_recording_id"
   ]
  },
  {
   "cell_type": "code",
   "execution_count": 21,
   "id": "85ddde42",
   "metadata": {},
   "outputs": [],
   "source": [
    "tensorrt_model_directory = output_directory / \"tensorrt\""
   ]
  },
  {
   "cell_type": "code",
   "execution_count": 22,
   "id": "1694cea8",
   "metadata": {},
   "outputs": [],
   "source": [
    "output_directory_predictions = output_directory_2D / (recording_row.video_recording_id + '_tensorrt')"
   ]
  },
  {
   "cell_type": "code",
   "execution_count": 23,
   "id": "a6ad064d",
   "metadata": {},
   "outputs": [
    {
     "data": {
      "text/plain": [
       "PosixPath('/n/groups/datta/tim_sainburg/datasets/scratch/240806-3d-pipeline/2D_predictions-2/24-05-01-13-26-43-110846_tensorrt')"
      ]
     },
     "execution_count": 23,
     "metadata": {},
     "output_type": "execute_result"
    }
   ],
   "source": [
    "output_directory_predictions"
   ]
  },
  {
   "cell_type": "code",
   "execution_count": 24,
   "id": "13a7c078",
   "metadata": {},
   "outputs": [],
   "source": [
    "expected_video_length_frames = recording_row.max_video_duration_m * recording_row.samplerate"
   ]
  },
  {
   "cell_type": "code",
   "execution_count": 25,
   "id": "6b2ec243",
   "metadata": {},
   "outputs": [
    {
     "name": "stderr",
     "output_type": "stream",
     "text": [
      "INFO:multicamera_airflow_pipeline.tim_240731.keypoints.predict_2D:Using CUDA device: NVIDIA_GeForce_RTX_4070_Ti\n",
      "INFO:multicamera_airflow_pipeline.tim_240731.keypoints.predict_2D:Using Tensorrt: False\n",
      "INFO:multicamera_airflow_pipeline.tim_240731.keypoints.predict_2D:Init completed\n"
     ]
    }
   ],
   "source": [
    "inferencer = Inferencer2D(\n",
    "    video_directory,\n",
    "    output_directory_predictions = output_directory_predictions,\n",
    "    pose_estimator_config = pose_config,\n",
    "    pose_estimator_checkpoint = pose_checkpoint,\n",
    "    detector_config = det_config,\n",
    "    detector_checkpoint = det_checkpoint,\n",
    "    tensorrt_rtmdetection_model_name = rtmdetection_model_name,\n",
    "    tensorrt_rtmpose_model_name = rtmpose_model_name,\n",
    "    tensorrt_model_directory = tensorrt_model_directory,\n",
    "    use_tensorrt = False,\n",
    "    expected_video_length_frames = 90000,\n",
    ")"
   ]
  },
  {
   "cell_type": "code",
   "execution_count": null,
   "id": "1a153dfd",
   "metadata": {
    "scrolled": true
   },
   "outputs": [
    {
     "name": "stderr",
     "output_type": "stream",
     "text": [
      "INFO:multicamera_airflow_pipeline.tim_240731.keypoints.predict_2D:Running 2D inference over videos\n",
      "INFO:multicamera_airflow_pipeline.tim_240731.keypoints.predict_2D:Video processing incomplete, running\n",
      "INFO:multicamera_airflow_pipeline.tim_240731.keypoints.predict_2D:Processing 12 videos\n"
     ]
    },
    {
     "data": {
      "application/vnd.jupyter.widget-view+json": {
       "model_id": "485e007eb30a483dbb96791800063c7f",
       "version_major": 2,
       "version_minor": 0
      },
      "text/plain": [
       "processing videos:   0%|          | 0/12 [00:00<?, ?it/s]"
      ]
     },
     "metadata": {},
     "output_type": "display_data"
    },
    {
     "name": "stdout",
     "output_type": "stream",
     "text": [
      "Loads checkpoint by local backend from path: /n/groups/datta/tim_sainburg/projects/24-01-05-multicamera_keypoints_mm2d/models/rtmpose/rtmpose-m_8xb64-210e_ap10k-256x256_24-05-04-21-35-13_305524/best_PCK_epoch_200.pth\n",
      "Loads checkpoint by local backend from path: /n/groups/datta/tim_sainburg/projects/24-01-05-multicamera_keypoints_mm2d/models/rtmdet/rtmdet_tiny_8xb32-300e_coco_chronic_24-05-04-17-51-58_216661/epoch_400.pth\n"
     ]
    },
    {
     "name": "stderr",
     "output_type": "stream",
     "text": [
      "INFO:multicamera_airflow_pipeline.tim_240731.keypoints.predict_2D:models loaded (not tensorrt)\n"
     ]
    },
    {
     "data": {
      "application/vnd.jupyter.widget-view+json": {
       "model_id": "34987873c77b4dc5af542557f66e3899",
       "version_major": 2,
       "version_minor": 0
      },
      "text/plain": [
       "frames:   0%|          | 0/90000 [00:00<?, ?it/s]"
      ]
     },
     "metadata": {},
     "output_type": "display_data"
    },
    {
     "name": "stdout",
     "output_type": "stream",
     "text": [
      "08/19 12:57:12 - mmengine - \u001b[5m\u001b[4m\u001b[33mWARNING\u001b[0m - The current default scope \"mmdet\" is not \"mmpose\", `init_default_scope` will force set the currentdefault scope to \"mmpose\".\n"
     ]
    },
    {
     "name": "stderr",
     "output_type": "stream",
     "text": [
      "/home/peromoseq/anaconda3/envs/mmdeploy/lib/python3.8/site-packages/torch/functional.py:504: UserWarning: torch.meshgrid: in an upcoming release, it will be required to pass the indexing argument. (Triggered internally at /opt/conda/conda-bld/pytorch_1702400400184/work/aten/src/ATen/native/TensorShape.cpp:3526.)\n",
      "  return _VF.meshgrid(tensors, **kwargs)  # type: ignore[attr-defined]\n"
     ]
    }
   ],
   "source": [
    "inferencer.run()"
   ]
  },
  {
   "cell_type": "code",
   "execution_count": null,
   "id": "6c485fcb",
   "metadata": {},
   "outputs": [],
   "source": [
    "from mmdet.apis import init_detector\n",
    "from mmpose.utils import adapt_mmdet_pipeline\n",
    "from mmpose.apis import init_model as init_pose_estimator"
   ]
  },
  {
   "cell_type": "code",
   "execution_count": null,
   "id": "0e5c69e4",
   "metadata": {},
   "outputs": [],
   "source": [
    "pose_estimator_config = Path(pose_config)\n",
    "pose_estimator_checkpoint = Path(pose_checkpoint)\n",
    "detector_config = Path(det_config)\n",
    "detector_checkpoint = Path(det_checkpoint)"
   ]
  },
  {
   "cell_type": "code",
   "execution_count": null,
   "id": "a2726d1b",
   "metadata": {},
   "outputs": [],
   "source": [
    "pose_estimator = init_pose_estimator(\n",
    "    pose_estimator_config.as_posix(),\n",
    "    pose_estimator_checkpoint.as_posix(),\n",
    "    device=\"cuda\",\n",
    "    cfg_options=dict(model=dict(test_cfg=dict(output_heatmaps=False))),\n",
    ")"
   ]
  },
  {
   "cell_type": "code",
   "execution_count": null,
   "id": "b52bb09a",
   "metadata": {},
   "outputs": [],
   "source": [
    "detector = init_detector(\n",
    "    detector_config.as_posix(), detector_checkpoint.as_posix(), device=\"cuda\"\n",
    ")"
   ]
  },
  {
   "cell_type": "code",
   "execution_count": null,
   "id": "2b5b7439",
   "metadata": {},
   "outputs": [],
   "source": [
    "detector.cfg = adapt_mmdet_pipeline(detector.cfg)"
   ]
  }
 ],
 "metadata": {
  "kernelspec": {
   "display_name": "mmdeploy",
   "language": "python",
   "name": "mmdeploy"
  },
  "language_info": {
   "codemirror_mode": {
    "name": "ipython",
    "version": 3
   },
   "file_extension": ".py",
   "mimetype": "text/x-python",
   "name": "python",
   "nbconvert_exporter": "python",
   "pygments_lexer": "ipython3",
   "version": "3.8.18"
  }
 },
 "nbformat": 4,
 "nbformat_minor": 5
}
