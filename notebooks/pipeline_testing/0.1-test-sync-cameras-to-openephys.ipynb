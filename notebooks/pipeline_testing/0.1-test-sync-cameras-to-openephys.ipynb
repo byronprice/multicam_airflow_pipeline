{
 "cells": [
  {
   "cell_type": "markdown",
   "id": "6e489d6b",
   "metadata": {},
   "source": [
    "##### duration: nearly instant"
   ]
  },
  {
   "cell_type": "code",
   "execution_count": 41,
   "id": "d2da23c9",
   "metadata": {},
   "outputs": [
    {
     "name": "stdout",
     "output_type": "stream",
     "text": [
      "The autoreload extension is already loaded. To reload it, use:\n",
      "  %reload_ext autoreload\n"
     ]
    }
   ],
   "source": [
    "%load_ext autoreload\n",
    "%autoreload 2"
   ]
  },
  {
   "cell_type": "code",
   "execution_count": 42,
   "id": "900a1f1a",
   "metadata": {},
   "outputs": [
    {
     "name": "stdout",
     "output_type": "stream",
     "text": [
      "/n/groups/datta/tim_sainburg/conda_envs/peromoseq/bin/python3\n"
     ]
    }
   ],
   "source": [
    "from pathlib import Path\n",
    "import sys\n",
    "import logging\n",
    "logging.basicConfig(level=logging.INFO)\n",
    "print(sys.executable)"
   ]
  },
  {
   "cell_type": "markdown",
   "id": "d4930f63",
   "metadata": {},
   "source": [
    "### Get recording info (google sheets)"
   ]
  },
  {
   "cell_type": "code",
   "execution_count": 43,
   "id": "63237b3a",
   "metadata": {},
   "outputs": [],
   "source": [
    "import requests\n",
    "import pandas as pd\n",
    "from io import BytesIO"
   ]
  },
  {
   "cell_type": "code",
   "execution_count": 44,
   "id": "5909c615",
   "metadata": {},
   "outputs": [],
   "source": [
    "# spreadsheet_url = 'https://docs.google.com/spreadsheet/ccc?key=14HIqUaSl_n-91hpAvmACY_iVY9nLKdlA6qklhxfZon0&output=csv&gid=0'\n",
    "spreadsheet_url = \"https://docs.google.com/spreadsheet/ccc?key=1jACsUmxuJ9Une59qmvzZGc1qXezKhKzD1zho2sEfcrU&output=csv&gid=0\"\n",
    "response = requests.get(spreadsheet_url)\n",
    "recording_df = pd.read_csv(BytesIO(response.content))"
   ]
  },
  {
   "cell_type": "code",
   "execution_count": 45,
   "id": "49df48f5",
   "metadata": {},
   "outputs": [
    {
     "data": {
      "text/html": [
       "<div>\n",
       "<style scoped>\n",
       "    .dataframe tbody tr th:only-of-type {\n",
       "        vertical-align: middle;\n",
       "    }\n",
       "\n",
       "    .dataframe tbody tr th {\n",
       "        vertical-align: top;\n",
       "    }\n",
       "\n",
       "    .dataframe thead th {\n",
       "        text-align: right;\n",
       "    }\n",
       "</style>\n",
       "<table border=\"1\" class=\"dataframe\">\n",
       "  <thead>\n",
       "    <tr style=\"text-align: right;\">\n",
       "      <th></th>\n",
       "      <th>Subject</th>\n",
       "      <th>duration_m</th>\n",
       "      <th>video_recording_id</th>\n",
       "      <th>ephys_id</th>\n",
       "      <th>calibration_id</th>\n",
       "      <th>calibration_board_shape</th>\n",
       "      <th>calibration_square_size</th>\n",
       "      <th>location_on_o2</th>\n",
       "      <th>ephys_location_on_o2</th>\n",
       "    </tr>\n",
       "  </thead>\n",
       "  <tbody>\n",
       "    <tr>\n",
       "      <th>0</th>\n",
       "      <td>M04002</td>\n",
       "      <td>10</td>\n",
       "      <td>24-05-01-13-26-43-110846</td>\n",
       "      <td>2024-05-01_13-26-37</td>\n",
       "      <td>24-05-01-13-45-07-825493</td>\n",
       "      <td>NaN</td>\n",
       "      <td>NaN</td>\n",
       "      <td>/n/groups/datta/tim_sainburg/datasets/chronic2...</td>\n",
       "      <td>/n/groups/datta/tim_sainburg/datasets/chronic2...</td>\n",
       "    </tr>\n",
       "  </tbody>\n",
       "</table>\n",
       "</div>"
      ],
      "text/plain": [
       "  Subject  duration_m        video_recording_id             ephys_id  \\\n",
       "0  M04002          10  24-05-01-13-26-43-110846  2024-05-01_13-26-37   \n",
       "\n",
       "             calibration_id  calibration_board_shape  calibration_square_size  \\\n",
       "0  24-05-01-13-45-07-825493                      NaN                      NaN   \n",
       "\n",
       "                                      location_on_o2  \\\n",
       "0  /n/groups/datta/tim_sainburg/datasets/chronic2...   \n",
       "\n",
       "                                ephys_location_on_o2  \n",
       "0  /n/groups/datta/tim_sainburg/datasets/chronic2...  "
      ]
     },
     "execution_count": 45,
     "metadata": {},
     "output_type": "execute_result"
    }
   ],
   "source": [
    "recording_df[:3]"
   ]
  },
  {
   "cell_type": "code",
   "execution_count": 46,
   "id": "3dbe13ef",
   "metadata": {},
   "outputs": [
    {
     "data": {
      "text/plain": [
       "'/n/groups/datta/tim_sainburg/datasets/chronic24/video/M04002/24-05-01-13-26-43-110846'"
      ]
     },
     "execution_count": 46,
     "metadata": {},
     "output_type": "execute_result"
    }
   ],
   "source": [
    "recording_df.iloc[0].location_on_o2"
   ]
  },
  {
   "cell_type": "markdown",
   "id": "a3d7cdc7",
   "metadata": {},
   "source": [
    "### Run sync"
   ]
  },
  {
   "cell_type": "code",
   "execution_count": 47,
   "id": "5d8a95e4",
   "metadata": {},
   "outputs": [],
   "source": [
    "for idx, recording_row in recording_df.iterrows():\n",
    "    break"
   ]
  },
  {
   "cell_type": "code",
   "execution_count": 48,
   "id": "aa8ac58a",
   "metadata": {},
   "outputs": [],
   "source": [
    "CAMERA_SAMPLERATE = 150\n",
    "TRIGGER_PIN = 2\n",
    "NPX_SAMPLERATE = 30000"
   ]
  },
  {
   "cell_type": "code",
   "execution_count": 49,
   "id": "439e79c2",
   "metadata": {},
   "outputs": [],
   "source": [
    "output_directory = Path(\"/n/groups/datta/tim_sainburg/datasets/scratch/\") / \"240806-3d-pipeline\""
   ]
  },
  {
   "cell_type": "code",
   "execution_count": 50,
   "id": "8bc38bb1",
   "metadata": {},
   "outputs": [],
   "source": [
    "output_directory_openephys_sync = output_directory / 'openephys_sync' / recording_row.ephys_id\n",
    "output_directory_openephys_sync.mkdir(parents=True, exist_ok=True)"
   ]
  },
  {
   "cell_type": "code",
   "execution_count": 51,
   "id": "32d5e35e",
   "metadata": {},
   "outputs": [],
   "source": [
    "from multicamera_airflow_pipeline.tim_240731.sync.sync_cameras_to_openephys import OpenEphysSynchronizer"
   ]
  },
  {
   "cell_type": "code",
   "execution_count": 52,
   "id": "eed23320",
   "metadata": {},
   "outputs": [],
   "source": [
    "synchronizer = OpenEphysSynchronizer(\n",
    "    camera_sync_file = output_directory  / 'camera_sync' / 'camera_sync.csv',\n",
    "    ephys_recording_path = Path(recording_row.ephys_location_on_o2) / recording_row.ephys_id,\n",
    "    ephys_sync_output_directory = output_directory_openephys_sync,\n",
    "    NPX_SAMPLERATE = NPX_SAMPLERATE,\n",
    "    CAMERA_SAMPLERATE = CAMERA_SAMPLERATE,\n",
    ")"
   ]
  },
  {
   "cell_type": "code",
   "execution_count": 53,
   "id": "6166995e",
   "metadata": {},
   "outputs": [
    {
     "name": "stderr",
     "output_type": "stream",
     "text": [
      "INFO:multicamera_airflow_pipeline.tim_240731.sync.sync_cameras_to_openephys:Syncing Record Node 107#Neuropix-PXI-100.ProbeA-AP\n"
     ]
    },
    {
     "data": {
      "application/vnd.jupyter.widget-view+json": {
       "model_id": "",
       "version_major": 2,
       "version_minor": 0
      },
      "text/plain": [
       "  0%|          | 0/44953 [00:00<?, ?it/s]"
      ]
     },
     "metadata": {},
     "output_type": "display_data"
    },
    {
     "data": {
      "application/vnd.jupyter.widget-view+json": {
       "model_id": "",
       "version_major": 2,
       "version_minor": 0
      },
      "text/plain": [
       "  0%|          | 0/44953 [00:00<?, ?it/s]"
      ]
     },
     "metadata": {},
     "output_type": "display_data"
    },
    {
     "data": {
      "application/vnd.jupyter.widget-view+json": {
       "model_id": "",
       "version_major": 2,
       "version_minor": 0
      },
      "text/plain": [
       "doing correlation:   0%|          | 0/46479 [00:00<?, ?it/s]"
      ]
     },
     "metadata": {},
     "output_type": "display_data"
    },
    {
     "name": "stderr",
     "output_type": "stream",
     "text": [
      "INFO:multicamera_airflow_pipeline.tim_240731.sync.sync_cameras_to_openephys:\t creating ephys alignment mmap\n",
      "INFO:multicamera_airflow_pipeline.tim_240731.sync.sync_cameras_to_openephys:Syncing Record Node 107#Neuropix-PXI-100.ProbeA-LFP\n"
     ]
    }
   ],
   "source": [
    "synchronizer.run()"
   ]
  },
  {
   "cell_type": "code",
   "execution_count": 54,
   "id": "3aa7a212",
   "metadata": {},
   "outputs": [
    {
     "name": "stdout",
     "output_type": "stream",
     "text": [
      "Record Node 107#Neuropix-PXI-100.ProbeA-AP\r\n",
      "Record Node 107#Neuropix-PXI-100.ProbeA-LFP\r\n"
     ]
    }
   ],
   "source": [
    "!ls {output_directory_openephys_sync}"
   ]
  },
  {
   "cell_type": "code",
   "execution_count": 55,
   "id": "bc212776",
   "metadata": {},
   "outputs": [
    {
     "name": "stdout",
     "output_type": "stream",
     "text": [
      "alignment.jpg  correlation.jpg\tephys_alignment.mmap\r\n"
     ]
    }
   ],
   "source": [
    "!ls \"/n/groups/datta/tim_sainburg/datasets/scratch/240806-3d-pipeline/openephys_sync/Record Node 107#Neuropix-PXI-100.ProbeA-AP\""
   ]
  },
  {
   "cell_type": "code",
   "execution_count": null,
   "id": "90e708b7",
   "metadata": {},
   "outputs": [],
   "source": []
  }
 ],
 "metadata": {
  "kernelspec": {
   "display_name": "Python (peromoseq)",
   "language": "python",
   "name": "peromoseq"
  },
  "language_info": {
   "codemirror_mode": {
    "name": "ipython",
    "version": 3
   },
   "file_extension": ".py",
   "mimetype": "text/x-python",
   "name": "python",
   "nbconvert_exporter": "python",
   "pygments_lexer": "ipython3",
   "version": "3.10.13"
  }
 },
 "nbformat": 4,
 "nbformat_minor": 5
}
