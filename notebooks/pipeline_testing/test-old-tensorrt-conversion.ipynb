{
 "cells": [
  {
   "cell_type": "code",
   "execution_count": 2,
   "id": "941107b2",
   "metadata": {},
   "outputs": [],
   "source": [
    "%load_ext autoreload\n",
    "%autoreload 2"
   ]
  },
  {
   "cell_type": "markdown",
   "id": "28bf1cbb-d53b-4f57-aca4-cc5b7a5f95e1",
   "metadata": {},
   "source": [
    "# Covert models to tensorrt\n",
    "In this notebook, we take the trained models from the previous notebooks and convert them to tensorrt models, which perform inference much faster. "
   ]
  },
  {
   "cell_type": "code",
   "execution_count": 3,
   "id": "e4ab374b",
   "metadata": {},
   "outputs": [],
   "source": [
    "# Set up the environment variables\n",
    "PATH_TO_MMDEPLOY = \"/n/groups/datta/tim_sainburg/projects/mmdeploy/\""
   ]
  },
  {
   "cell_type": "markdown",
   "id": "948add1c",
   "metadata": {},
   "source": [
    "### Choose GPU\n",
    "Each model is compiled for the specific GPU on your machine"
   ]
  },
  {
   "cell_type": "code",
   "execution_count": 4,
   "id": "cb02a04c",
   "metadata": {},
   "outputs": [],
   "source": [
    "import torch"
   ]
  },
  {
   "cell_type": "code",
   "execution_count": 5,
   "id": "b845d56f",
   "metadata": {},
   "outputs": [],
   "source": [
    "device_number = 0"
   ]
  },
  {
   "cell_type": "code",
   "execution_count": 6,
   "id": "9ad2d18f",
   "metadata": {},
   "outputs": [
    {
     "name": "stdout",
     "output_type": "stream",
     "text": [
      "Tesla_V100S-PCIE-32GB\n"
     ]
    }
   ],
   "source": [
    "device_name = torch.cuda.get_device_name(device_number).replace(' ', '_')\n",
    "print(device_name)"
   ]
  },
  {
   "cell_type": "markdown",
   "id": "093815db",
   "metadata": {},
   "source": [
    "### Register the new dataset\n",
    "- this is needed to build the dataset into the end-to-end model"
   ]
  },
  {
   "cell_type": "code",
   "execution_count": 7,
   "id": "d3952633",
   "metadata": {},
   "outputs": [],
   "source": [
    "from mmpipeline.paths import PACKAGE_DIR, MODEL_DIR"
   ]
  },
  {
   "cell_type": "code",
   "execution_count": 8,
   "id": "d844d742",
   "metadata": {},
   "outputs": [
    {
     "data": {
      "text/plain": [
       "PosixPath('/n/groups/datta/tim_sainburg/projects/24-01-05-multicamera_keypoints_mm2d/mmpipeline')"
      ]
     },
     "execution_count": 8,
     "metadata": {},
     "output_type": "execute_result"
    }
   ],
   "source": [
    "PACKAGE_DIR"
   ]
  },
  {
   "cell_type": "code",
   "execution_count": 9,
   "id": "c19592de-43dd-4c78-b9d4-79e64fc61868",
   "metadata": {},
   "outputs": [],
   "source": [
    "from mmpose.registry import DATASETS\n",
    "from mmpose.datasets.datasets.base import BaseCocoStyleDataset"
   ]
  },
  {
   "cell_type": "code",
   "execution_count": 10,
   "id": "208b79a4",
   "metadata": {},
   "outputs": [],
   "source": [
    "# this file contains info about the dataset (keypoints, skeleton, etc) needed for traiing\n",
    "dataset_info_loc =  PACKAGE_DIR / 'mmpose' / 'skeletons' / 'sainburg25pt.py'"
   ]
  },
  {
   "cell_type": "code",
   "execution_count": 11,
   "id": "f530c123",
   "metadata": {},
   "outputs": [],
   "source": [
    "@DATASETS.register_module()\n",
    "class CoCo25pt(BaseCocoStyleDataset):\n",
    "    METAINFO: dict = dict(from_file=dataset_info_loc)"
   ]
  },
  {
   "cell_type": "markdown",
   "id": "7c3b6269",
   "metadata": {},
   "source": [
    "### Choose models"
   ]
  },
  {
   "cell_type": "markdown",
   "id": "20c67f6d",
   "metadata": {},
   "source": [
    "##### rtmdetection"
   ]
  },
  {
   "cell_type": "code",
   "execution_count": 12,
   "id": "254c0114",
   "metadata": {},
   "outputs": [
    {
     "name": "stdout",
     "output_type": "stream",
     "text": [
      "rtmdet_small_8xb32-300e_coco_24-04-03-11-48-16_097276\r\n",
      "rtmdet_small_8xb32-300e_coco_24-04-08-15-07-37_128403\r\n",
      "rtmdet_small_8xb32-300e_coco_24-04-08-15-12-06_128206\r\n",
      "rtmdet_small_8xb32-300e_coco_chronic_24-04-08-16-27-57_624033\r\n",
      "rtmdet_small_8xb32-300e_coco_chronic_24-04-09-09-12-45_918715\r\n",
      "rtmdet_small_8xb32-300e_coco_chronic_24-04-09-09-13-14_300317\r\n",
      "rtmdet_small_8xb32-300e_coco_chronic_24-04-23-17-28-05_902429\r\n",
      "rtmdet_small_8xb32-300e_coco_chronic_24-04-23-17-29-07_780522\r\n",
      "rtmdet_small_8xb32-300e_coco_chronic_24-04-24-07-51-48_566383\r\n",
      "rtmdet_small_8xb32-300e_coco_chronic_24-04-24-15-33-45_897225\r\n",
      "rtmdet_small_8xb32-300e_coco_chronic_24-04-24-15-51-46_880349\r\n",
      "rtmdet_tiny_8xb32-300e_coco_24-01-05-11-25-00_102726\r\n",
      "rtmdet_tiny_8xb32-300e_coco_24-01-05-11-25-00_102726_continue_training\r\n",
      "rtmdet_tiny_8xb32-300e_coco_24-04-02-21-42-29_162984\r\n",
      "rtmdet_tiny_8xb32-300e_coco_24-04-02-21-47-57_346352\r\n",
      "rtmdet_tiny_8xb32-300e_coco_24-04-02-21-48-31_242533\r\n",
      "rtmdet_tiny_8xb32-300e_coco_chronic_24-05-01-20-55-31_302965\r\n",
      "rtmdet_tiny_8xb32-300e_coco_chronic_24-05-01-21-01-01_715429\r\n",
      "rtmdet_tiny_8xb32-300e_coco_chronic_24-05-03-00-20-15_595257\r\n",
      "rtmdet_tiny_8xb32-300e_coco_chronic_24-05-03-00-22-57_408515\r\n",
      "rtmdet_tiny_8xb32-300e_coco_chronic_24-05-03-00-28-39_548741\r\n",
      "rtmdet_tiny_8xb32-300e_coco_chronic_24-05-04-17-44-06_448862\r\n",
      "rtmdet_tiny_8xb32-300e_coco_chronic_24-05-04-17-51-58_216661\r\n"
     ]
    }
   ],
   "source": [
    "!ls {(MODEL_DIR / 'rtmdet').as_posix()}"
   ]
  },
  {
   "cell_type": "code",
   "execution_count": 13,
   "id": "65cf71b4",
   "metadata": {},
   "outputs": [],
   "source": [
    "model_folder_rtmdetection = MODEL_DIR / 'rtmdet' / 'rtmdet_tiny_8xb32-300e_coco_chronic_24-05-04-17-51-58_216661'"
   ]
  },
  {
   "cell_type": "code",
   "execution_count": 14,
   "id": "9a8d9dea",
   "metadata": {},
   "outputs": [
    {
     "name": "stdout",
     "output_type": "stream",
     "text": [
      "20240504_175210  epoch_400.pth\tepoch_650.pth  epoch_900.pth\r\n",
      "config.py\t epoch_450.pth\tepoch_700.pth  epoch_950.pth\r\n",
      "epoch_250.pth\t epoch_500.pth\tepoch_750.pth  last_checkpoint\r\n",
      "epoch_300.pth\t epoch_550.pth\tepoch_800.pth  rtmdet_tiny_8xb32-300e_coco.py\r\n",
      "epoch_350.pth\t epoch_600.pth\tepoch_850.pth\r\n"
     ]
    }
   ],
   "source": [
    "!ls {(model_folder_rtmdetection).as_posix()}"
   ]
  },
  {
   "cell_type": "code",
   "execution_count": 15,
   "id": "fbda979f",
   "metadata": {},
   "outputs": [],
   "source": [
    "path_to_rtmdetection_config = (model_folder_rtmdetection / 'config.py').as_posix()\n",
    "path_to_rtmdetection_weights = (model_folder_rtmdetection / 'epoch_400.pth').as_posix()"
   ]
  },
  {
   "cell_type": "code",
   "execution_count": 16,
   "id": "8f029ede",
   "metadata": {},
   "outputs": [
    {
     "data": {
      "text/plain": [
       "'/n/groups/datta/tim_sainburg/projects/24-01-05-multicamera_keypoints_mm2d/models/rtmdet/rtmdet_tiny_8xb32-300e_coco_chronic_24-05-04-17-51-58_216661/epoch_400.pth'"
      ]
     },
     "execution_count": 16,
     "metadata": {},
     "output_type": "execute_result"
    }
   ],
   "source": [
    "path_to_rtmdetection_weights"
   ]
  },
  {
   "cell_type": "code",
   "execution_count": 17,
   "id": "fe2848aa",
   "metadata": {},
   "outputs": [
    {
     "data": {
      "text/plain": [
       "'/n/groups/datta/tim_sainburg/projects/24-01-05-multicamera_keypoints_mm2d/models/rtmdet/rtmdet_tiny_8xb32-300e_coco_chronic_24-05-04-17-51-58_216661/config.py'"
      ]
     },
     "execution_count": 17,
     "metadata": {},
     "output_type": "execute_result"
    }
   ],
   "source": [
    "path_to_rtmdetection_config"
   ]
  },
  {
   "cell_type": "markdown",
   "id": "4ed2f335",
   "metadata": {},
   "source": [
    "### Convert detection model to tensortt"
   ]
  },
  {
   "cell_type": "code",
   "execution_count": 18,
   "id": "ef09efbc",
   "metadata": {},
   "outputs": [],
   "source": [
    "import sys\n",
    "from datetime import datetime\n",
    "from pathlib import Path\n",
    "import subprocess"
   ]
  },
  {
   "cell_type": "code",
   "execution_count": 19,
   "id": "4e30c642",
   "metadata": {},
   "outputs": [],
   "source": [
    "import mmengine"
   ]
  },
  {
   "cell_type": "code",
   "execution_count": 20,
   "id": "ba0415d4",
   "metadata": {},
   "outputs": [
    {
     "name": "stdout",
     "output_type": "stream",
     "text": [
      "/n/groups/datta/tim_sainburg/conda_envs/mmdeploy\n"
     ]
    }
   ],
   "source": [
    "conda_env = (Path(sys.executable).parents[1]).as_posix()\n",
    "print(conda_env)"
   ]
  },
  {
   "cell_type": "code",
   "execution_count": 21,
   "id": "33db8d2a",
   "metadata": {},
   "outputs": [],
   "source": [
    "# choose the demo image\n",
    "path_to_demo_image = (PACKAGE_DIR.parent / 'example_data/test_mouse.png').as_posix()"
   ]
  },
  {
   "cell_type": "code",
   "execution_count": 22,
   "id": "d7ffcf75",
   "metadata": {},
   "outputs": [],
   "source": [
    "#sys.path.append((Path(PATH_TO_MMDEPLOY) / 'tools').as_posix())\n",
    "#import deploy"
   ]
  },
  {
   "cell_type": "code",
   "execution_count": 23,
   "id": "23c03a7c",
   "metadata": {},
   "outputs": [
    {
     "name": "stdout",
     "output_type": "stream",
     "text": [
      "detection_ascend_dynamic-800x1344.py\r\n",
      "detection_ascend_static-640x640.py\r\n",
      "detection_coreml_static-800x1344.py\r\n",
      "detection_onnxruntime_dynamic.py\r\n",
      "detection_onnxruntime-fp16_dynamic.py\r\n",
      "detection_onnxruntime_static.py\r\n",
      "detection_openvino_dynamic-300x300.py\r\n",
      "detection_openvino_dynamic-640x640.py\r\n",
      "detection_openvino_dynamic-800x1344.py\r\n",
      "detection_pplnn_dynamic-800x1344.py\r\n",
      "detection_rknn-fp16_static-320x320.py\r\n",
      "detection_rknn-int8_static-320x320.py\r\n",
      "detection_rknn-int8_static-640x640.py\r\n",
      "detection_sdk_dynamic.py\r\n",
      "detection_tensorrt_dynamic-300x300-512x512.py\r\n",
      "detection_tensorrt_dynamic-320x320-1344x1344.py\r\n",
      "detection_tensorrt_dynamic-64x64-608x608.py\r\n",
      "detection_tensorrt_dynamic-64x64-800x800.py\r\n",
      "detection_tensorrt-fp16_dynamic-300x300-512x512.py\r\n",
      "detection_tensorrt-fp16_dynamic-320x320-1344x1344.py\r\n",
      "detection_tensorrt-fp16_dynamic-64x64-608x608.py\r\n",
      "detection_tensorrt-fp16_dynamic-64x64-800x800.py\r\n",
      "detection_tensorrt-fp16_static-320x320.py\r\n",
      "detection_tensorrt-fp16_static-800x1344.py\r\n",
      "detection_tensorrt-int8_dynamic-300x300-512x512.py\r\n",
      "detection_tensorrt-int8_dynamic-320x320-1344x1344.py\r\n",
      "detection_tensorrt-int8_dynamic-64x64-608x608.py\r\n",
      "detection_tensorrt-int8_dynamic-64x64-800x800.py\r\n",
      "detection_tensorrt-int8_static-320x320.py\r\n",
      "detection_tensorrt-int8_static-800x1344.py\r\n",
      "detection_tensorrt_static-300x300.py\r\n",
      "detection_tensorrt_static-320x320-deleteme.py\r\n",
      "detection_tensorrt_static-320x320.py\r\n",
      "detection_tensorrt_static-640x640.py\r\n",
      "detection_tensorrt_static-800x1344.py\r\n",
      "detection_torchscript.py\r\n",
      "detection_tvm-ansor_static-800x1344.py\r\n",
      "detection_tvm-autotvm_static-300x300.py\r\n",
      "detection_tvm-autotvm_static-800x1344.py\r\n",
      "detection_vacc-fp16_static_416x416.py\r\n",
      "detection_vacc-int8_static_416x416.py\r\n",
      "single-stage_ncnn_dynamic.py\r\n",
      "single-stage_ncnn-fp16_static-320x320.py\r\n",
      "single-stage_ncnn_static-300x300.py\r\n",
      "single-stage_ncnn_static-320x320.py\r\n",
      "single-stage_ncnn_static-416x416.py\r\n",
      "single-stage_ncnn_static-640x640.py\r\n",
      "single-stage_ncnn_static-800x1344.py\r\n",
      "two-stage_partition_ncnn_static.py\r\n",
      "yolov3_partition_onnxruntime_static.py\r\n"
     ]
    }
   ],
   "source": [
    "!ls /n/groups/datta/tim_sainburg/projects/mmdeploy/configs/mmdet/detection/"
   ]
  },
  {
   "cell_type": "code",
   "execution_count": 24,
   "id": "2a4b0091",
   "metadata": {},
   "outputs": [],
   "source": [
    "# select how to deploy (e.g. tensortt vs onyx)\n",
    "path_to_deploy_config = (Path(PATH_TO_MMDEPLOY) / 'configs/mmdet/detection/detection_tensorrt_static-320x320.py').as_posix()"
   ]
  },
  {
   "cell_type": "code",
   "execution_count": 25,
   "id": "28bcd21c",
   "metadata": {},
   "outputs": [
    {
     "data": {
      "text/plain": [
       "'/n/groups/datta/tim_sainburg/projects/mmdeploy/configs/mmdet/detection/detection_tensorrt_static-320x320.py'"
      ]
     },
     "execution_count": 25,
     "metadata": {},
     "output_type": "execute_result"
    }
   ],
   "source": [
    "path_to_deploy_config"
   ]
  },
  {
   "cell_type": "code",
   "execution_count": 26,
   "id": "04c29614",
   "metadata": {},
   "outputs": [],
   "source": [
    "# choose the working directory\n",
    "prefix = f'rtmdetection_fp32_{device_name}-{device_number}_'\n",
    "formatted_datetime = datetime.now().strftime(\"%y-%m-%d-%H-%M-%S_%f\")\n",
    "working_directory = (MODEL_DIR / 'tensortt' / f\"{prefix}_{formatted_datetime}\").as_posix()"
   ]
  },
  {
   "cell_type": "code",
   "execution_count": 27,
   "id": "d8da86de",
   "metadata": {},
   "outputs": [
    {
     "name": "stdout",
     "output_type": "stream",
     "text": [
      "\n",
      "module load cuda/11.7\n",
      "source activate /n/groups/datta/tim_sainburg/conda_envs/mmdeploy;\n",
      "\n",
      "\n",
      "# Run the command to convert RTMDet\n",
      "python /n/groups/datta/tim_sainburg/projects/mmdeploy/tools/deploy.py     /n/groups/datta/tim_sainburg/projects/mmdeploy/configs/mmdet/detection/detection_tensorrt_static-320x320.py     /n/groups/datta/tim_sainburg/projects/24-01-05-multicamera_keypoints_mm2d/models/rtmdet/rtmdet_tiny_8xb32-300e_coco_chronic_24-05-04-17-51-58_216661/config.py     /n/groups/datta/tim_sainburg/projects/24-01-05-multicamera_keypoints_mm2d/models/rtmdet/rtmdet_tiny_8xb32-300e_coco_chronic_24-05-04-17-51-58_216661/epoch_400.pth     /n/groups/datta/tim_sainburg/projects/24-01-05-multicamera_keypoints_mm2d/example_data/test_mouse.png     --work-dir /n/groups/datta/tim_sainburg/projects/24-01-05-multicamera_keypoints_mm2d/models/tensortt/rtmdetection_fp32_Tesla_V100S-PCIE-32GB-0__24-08-07-14-19-10_374392     --device cuda:0     --show     --dump-info  # dump sdk info\n",
      "\n"
     ]
    }
   ],
   "source": [
    "model_conversion_script = f\"\"\"\n",
    "module load cuda/11.7\n",
    "source activate {conda_env};\n",
    "\n",
    "\n",
    "# Run the command to convert RTMDet\n",
    "python {PATH_TO_MMDEPLOY}tools/deploy.py \\\n",
    "    {path_to_deploy_config} \\\n",
    "    {path_to_rtmdetection_config} \\\n",
    "    {path_to_rtmdetection_weights} \\\n",
    "    {path_to_demo_image} \\\n",
    "    --work-dir {working_directory} \\\n",
    "    --device cuda:{device_number} \\\n",
    "    --show \\\n",
    "    --dump-info  # dump sdk info\n",
    "\"\"\"\n",
    "print(model_conversion_script)"
   ]
  },
  {
   "cell_type": "code",
   "execution_count": 28,
   "id": "70fead91",
   "metadata": {},
   "outputs": [
    {
     "name": "stdout",
     "output_type": "stream",
     "text": [
      "\n",
      "The following have been reloaded with a version change:\n",
      "  1) cuda/12.1 => cuda/11.7\n",
      "\n",
      "08/07 14:19:45 - mmengine - \u001b[5m\u001b[4m\u001b[33mWARNING\u001b[0m - Failed to search registry with scope \"mmdet\" in the \"Codebases\" registry tree. As a workaround, the current \"Codebases\" registry in \"mmdeploy\" is used to build instance. This may cause unexpected failure when running the built modules. Please check whether \"mmdet\" is a correct scope, or whether the registry is initialized.\n",
      "08/07 14:19:45 - mmengine - \u001b[5m\u001b[4m\u001b[33mWARNING\u001b[0m - Failed to search registry with scope \"mmdet\" in the \"mmdet_tasks\" registry tree. As a workaround, the current \"mmdet_tasks\" registry in \"mmdeploy\" is used to build instance. This may cause unexpected failure when running the built modules. Please check whether \"mmdet\" is a correct scope, or whether the registry is initialized.\n",
      "08/07 14:19:53 - mmengine - \u001b[4m\u001b[97mINFO\u001b[0m - Start pipeline mmdeploy.apis.pytorch2onnx.torch2onnx in subprocess\n",
      "08/07 14:19:57 - mmengine - \u001b[5m\u001b[4m\u001b[33mWARNING\u001b[0m - Failed to search registry with scope \"mmdet\" in the \"Codebases\" registry tree. As a workaround, the current \"Codebases\" registry in \"mmdeploy\" is used to build instance. This may cause unexpected failure when running the built modules. Please check whether \"mmdet\" is a correct scope, or whether the registry is initialized.\n",
      "08/07 14:19:57 - mmengine - \u001b[5m\u001b[4m\u001b[33mWARNING\u001b[0m - Failed to search registry with scope \"mmdet\" in the \"mmdet_tasks\" registry tree. As a workaround, the current \"mmdet_tasks\" registry in \"mmdeploy\" is used to build instance. This may cause unexpected failure when running the built modules. Please check whether \"mmdet\" is a correct scope, or whether the registry is initialized.\n",
      "Loads checkpoint by local backend from path: /n/groups/datta/tim_sainburg/projects/24-01-05-multicamera_keypoints_mm2d/models/rtmdet/rtmdet_tiny_8xb32-300e_coco_chronic_24-05-04-17-51-58_216661/epoch_400.pth\n",
      "08/07 14:19:57 - mmengine - \u001b[5m\u001b[4m\u001b[33mWARNING\u001b[0m - DeprecationWarning: get_onnx_config will be deprecated in the future. \n",
      "08/07 14:19:57 - mmengine - \u001b[4m\u001b[97mINFO\u001b[0m - Export PyTorch model to ONNX: /n/groups/datta/tim_sainburg/projects/24-01-05-multicamera_keypoints_mm2d/models/tensortt/rtmdetection_fp32_Tesla_V100S-PCIE-32GB-0__24-08-07-14-19-10_374392/end2end.onnx.\n",
      "08/07 14:19:58 - mmengine - \u001b[5m\u001b[4m\u001b[33mWARNING\u001b[0m - Can not find torch.nn.functional._scaled_dot_product_attention, function rewrite will not be applied\n",
      "08/07 14:19:58 - mmengine - \u001b[5m\u001b[4m\u001b[33mWARNING\u001b[0m - Can not find mmdet.models.utils.transformer.PatchMerging.forward, function rewrite will not be applied\n",
      "/n/groups/datta/tim_sainburg/conda_envs/mmdeploy/lib/python3.10/site-packages/mmdeploy/codebase/mmdet/models/detectors/single_stage.py:80: TracerWarning: Iterating over a tensor might cause the trace to be incorrect. Passing a tensor of different shape won't change the number of iterations executed (and might lead to errors or silently give incorrect results).\n",
      "  img_shape = [int(val) for val in img_shape]\n",
      "/n/groups/datta/tim_sainburg/conda_envs/mmdeploy/lib/python3.10/site-packages/mmdeploy/codebase/mmdet/models/detectors/single_stage.py:80: TracerWarning: Converting a tensor to a Python integer might cause the trace to be incorrect. We can't record the data flow of Python values, so this value will be treated as a constant in the future. This means that the trace might not generalize to other inputs!\n",
      "  img_shape = [int(val) for val in img_shape]\n",
      "/n/groups/datta/tim_sainburg/conda_envs/mmdeploy/lib/python3.10/site-packages/mmdeploy/core/optimizers/function_marker.py:160: TracerWarning: Converting a tensor to a Python integer might cause the trace to be incorrect. We can't record the data flow of Python values, so this value will be treated as a constant in the future. This means that the trace might not generalize to other inputs!\n",
      "  ys_shape = tuple(int(s) for s in ys.shape)\n",
      "/n/groups/datta/tim_sainburg/conda_envs/mmdeploy/lib/python3.10/site-packages/torch/functional.py:504: UserWarning: torch.meshgrid: in an upcoming release, it will be required to pass the indexing argument. (Triggered internally at /opt/conda/conda-bld/pytorch_1699449201336/work/aten/src/ATen/native/TensorShape.cpp:3526.)\n",
      "  return _VF.meshgrid(tensors, **kwargs)  # type: ignore[attr-defined]\n",
      "/n/groups/datta/tim_sainburg/conda_envs/mmdeploy/lib/python3.10/site-packages/mmdeploy/mmcv/ops/nms.py:474: TracerWarning: Converting a tensor to a Python integer might cause the trace to be incorrect. We can't record the data flow of Python values, so this value will be treated as a constant in the future. This means that the trace might not generalize to other inputs!\n",
      "  int(scores.shape[-1]),\n",
      "/n/groups/datta/tim_sainburg/conda_envs/mmdeploy/lib/python3.10/site-packages/mmdeploy/mmcv/ops/nms.py:148: TracerWarning: Converting a tensor to a Python boolean might cause the trace to be incorrect. We can't record the data flow of Python values, so this value will be treated as a constant in the future. This means that the trace might not generalize to other inputs!\n",
      "  out_boxes = min(num_boxes, after_topk)\n",
      "[W shape_type_inference.cpp:1974] Warning: The shape inference of mmdeploy::TRTBatchedNMS type is missing, so it may result in wrong shape inference for the exported graph. Please consider adding it in symbolic function. (function UpdateReliable)\n",
      "[W shape_type_inference.cpp:1974] Warning: The shape inference of mmdeploy::TRTBatchedNMS type is missing, so it may result in wrong shape inference for the exported graph. Please consider adding it in symbolic function. (function UpdateReliable)\n",
      "08/07 14:20:00 - mmengine - \u001b[4m\u001b[97mINFO\u001b[0m - Execute onnx optimize passes.\n",
      "08/07 14:20:00 - mmengine - \u001b[5m\u001b[4m\u001b[33mWARNING\u001b[0m - Can not optimize model, please build torchscipt extension.\n",
      "More details: https://github.com/open-mmlab/mmdeploy/tree/main/docs/en/experimental/onnx_optimizer.md\n",
      "08/07 14:20:01 - mmengine - \u001b[4m\u001b[97mINFO\u001b[0m - Finish pipeline mmdeploy.apis.pytorch2onnx.torch2onnx\n",
      "08/07 14:20:16 - mmengine - \u001b[4m\u001b[97mINFO\u001b[0m - Start pipeline mmdeploy.apis.utils.utils.to_backend in subprocess\n",
      "08/07 14:20:16 - mmengine - \u001b[4m\u001b[97mINFO\u001b[0m - Successfully loaded tensorrt plugins from /n/groups/datta/tim_sainburg/conda_envs/mmdeploy/lib/python3.10/site-packages/mmdeploy/lib/libmmdeploy_tensorrt_ops.so\n",
      "[08/07/2024-14:20:16] [TRT] [I] [MemUsageChange] Init CUDA: CPU +12, GPU +0, now: CPU 121, GPU 1710 (MiB)\n",
      "[08/07/2024-14:20:22] [TRT] [I] [MemUsageChange] Init builder kernel library: CPU +339, GPU +74, now: CPU 537, GPU 1784 (MiB)\n",
      "[08/07/2024-14:20:22] [TRT] [I] ----------------------------------------------------------------\n",
      "[08/07/2024-14:20:22] [TRT] [I] Input filename:   /n/groups/datta/tim_sainburg/projects/24-01-05-multicamera_keypoints_mm2d/models/tensortt/rtmdetection_fp32_Tesla_V100S-PCIE-32GB-0__24-08-07-14-19-10_374392/end2end.onnx\n",
      "[08/07/2024-14:20:22] [TRT] [I] ONNX IR version:  0.0.6\n",
      "[08/07/2024-14:20:22] [TRT] [I] Opset version:    11\n",
      "[08/07/2024-14:20:22] [TRT] [I] Producer name:    pytorch\n",
      "[08/07/2024-14:20:22] [TRT] [I] Producer version: 2.1.1\n",
      "[08/07/2024-14:20:22] [TRT] [I] Domain:           \n",
      "[08/07/2024-14:20:22] [TRT] [I] Model version:    0\n",
      "[08/07/2024-14:20:22] [TRT] [I] Doc string:       \n",
      "[08/07/2024-14:20:22] [TRT] [I] ----------------------------------------------------------------\n",
      "[08/07/2024-14:20:22] [TRT] [W] onnx2trt_utils.cpp:374: Your ONNX model has been generated with INT64 weights, while TensorRT does not natively support INT64. Attempting to cast down to INT32.\n",
      "[08/07/2024-14:20:22] [TRT] [I] No importer registered for op: TRTBatchedNMS. Attempting to import as plugin.\n",
      "[08/07/2024-14:20:22] [TRT] [I] Searching for plugin: TRTBatchedNMS, plugin_version: 1, plugin_namespace: \n",
      "[08/07/2024-14:20:22] [TRT] [I] Successfully created plugin: TRTBatchedNMS\n",
      "[08/07/2024-14:20:22] [TRT] [I] BuilderFlag::kTF32 is set but hardware does not support TF32. Disabling TF32.\n",
      "[08/07/2024-14:20:22] [TRT] [I] Graph optimization time: 0.0960969 seconds.\n",
      "[08/07/2024-14:20:22] [TRT] [I] [MemUsageChange] Init cuBLAS/cuBLASLt: CPU +6, GPU +10, now: CPU 570, GPU 1794 (MiB)\n",
      "[08/07/2024-14:20:22] [TRT] [I] [MemUsageChange] Init cuDNN: CPU +2, GPU +10, now: CPU 572, GPU 1804 (MiB)\n",
      "[08/07/2024-14:20:22] [TRT] [I] BuilderFlag::kTF32 is set but hardware does not support TF32. Disabling TF32.\n",
      "[08/07/2024-14:20:22] [TRT] [I] Local timing cache in use. Profiling results in this builder pass will not be stored.\n"
     ]
    },
    {
     "name": "stdout",
     "output_type": "stream",
     "text": [
      "[08/07/2024-14:21:58] [TRT] [I] Detected 1 inputs and 2 output network tensors.\n",
      "[08/07/2024-14:21:58] [TRT] [I] Total Host Persistent Memory: 387072\n",
      "[08/07/2024-14:21:58] [TRT] [I] Total Device Persistent Memory: 11264\n",
      "[08/07/2024-14:21:58] [TRT] [I] Total Scratch Memory: 197120\n",
      "[08/07/2024-14:21:58] [TRT] [I] [MemUsageStats] Peak memory usage of TRT CPU/GPU memory allocators: CPU 6 MiB, GPU 23 MiB\n",
      "[08/07/2024-14:21:58] [TRT] [I] [BlockAssignment] Started assigning block shifts. This will take 258 steps to complete.\n",
      "[08/07/2024-14:21:58] [TRT] [I] [BlockAssignment] Algorithm ShiftNTopDown took 13.8765ms to assign 11 blocks to 258 nodes requiring 6708736 bytes.\n",
      "[08/07/2024-14:21:58] [TRT] [I] Total Activation Memory: 6707200\n",
      "[08/07/2024-14:21:58] [TRT] [I] [MemUsageChange] Init cuBLAS/cuBLASLt: CPU +0, GPU +8, now: CPU 659, GPU 1918 (MiB)\n",
      "[08/07/2024-14:21:58] [TRT] [I] [MemUsageChange] Init cuDNN: CPU +0, GPU +10, now: CPU 659, GPU 1928 (MiB)\n",
      "[08/07/2024-14:21:58] [TRT] [I] [MemUsageChange] TensorRT-managed allocation in building engine: CPU +3, GPU +23, now: CPU 3, GPU 23 (MiB)\n",
      "08/07 14:21:58 - mmengine - \u001b[4m\u001b[97mINFO\u001b[0m - Finish pipeline mmdeploy.apis.utils.utils.to_backend\n",
      "08/07 14:21:59 - mmengine - \u001b[4m\u001b[97mINFO\u001b[0m - visualize tensorrt model start.\n",
      "08/07 14:22:16 - mmengine - \u001b[5m\u001b[4m\u001b[33mWARNING\u001b[0m - Failed to search registry with scope \"mmdet\" in the \"Codebases\" registry tree. As a workaround, the current \"Codebases\" registry in \"mmdeploy\" is used to build instance. This may cause unexpected failure when running the built modules. Please check whether \"mmdet\" is a correct scope, or whether the registry is initialized.\n",
      "08/07 14:22:16 - mmengine - \u001b[5m\u001b[4m\u001b[33mWARNING\u001b[0m - Failed to search registry with scope \"mmdet\" in the \"mmdet_tasks\" registry tree. As a workaround, the current \"mmdet_tasks\" registry in \"mmdeploy\" is used to build instance. This may cause unexpected failure when running the built modules. Please check whether \"mmdet\" is a correct scope, or whether the registry is initialized.\n",
      "08/07 14:22:17 - mmengine - \u001b[5m\u001b[4m\u001b[33mWARNING\u001b[0m - Failed to search registry with scope \"mmdet\" in the \"backend_detectors\" registry tree. As a workaround, the current \"backend_detectors\" registry in \"mmdeploy\" is used to build instance. This may cause unexpected failure when running the built modules. Please check whether \"mmdet\" is a correct scope, or whether the registry is initialized.\n",
      "08/07 14:22:17 - mmengine - \u001b[4m\u001b[97mINFO\u001b[0m - Successfully loaded tensorrt plugins from /n/groups/datta/tim_sainburg/conda_envs/mmdeploy/lib/python3.10/site-packages/mmdeploy/lib/libmmdeploy_tensorrt_ops.so\n",
      "08/07 14:22:17 - mmengine - \u001b[4m\u001b[97mINFO\u001b[0m - Successfully loaded tensorrt plugins from /n/groups/datta/tim_sainburg/conda_envs/mmdeploy/lib/python3.10/site-packages/mmdeploy/lib/libmmdeploy_tensorrt_ops.so\n",
      "08/07 14:22:17 - mmengine - \u001b[5m\u001b[4m\u001b[33mWARNING\u001b[0m - render and display result skipped for headless device, exception no display name and no $DISPLAY environment variable\n",
      "08/07 14:22:19 - mmengine - \u001b[4m\u001b[97mINFO\u001b[0m - visualize tensorrt model success.\n",
      "08/07 14:22:19 - mmengine - \u001b[4m\u001b[97mINFO\u001b[0m - visualize pytorch model start.\n",
      "08/07 14:22:28 - mmengine - \u001b[5m\u001b[4m\u001b[33mWARNING\u001b[0m - Failed to search registry with scope \"mmdet\" in the \"Codebases\" registry tree. As a workaround, the current \"Codebases\" registry in \"mmdeploy\" is used to build instance. This may cause unexpected failure when running the built modules. Please check whether \"mmdet\" is a correct scope, or whether the registry is initialized.\n",
      "08/07 14:22:28 - mmengine - \u001b[5m\u001b[4m\u001b[33mWARNING\u001b[0m - Failed to search registry with scope \"mmdet\" in the \"mmdet_tasks\" registry tree. As a workaround, the current \"mmdet_tasks\" registry in \"mmdeploy\" is used to build instance. This may cause unexpected failure when running the built modules. Please check whether \"mmdet\" is a correct scope, or whether the registry is initialized.\n",
      "/n/groups/datta/tim_sainburg/conda_envs/mmdeploy/lib/python3.10/site-packages/torch/functional.py:504: UserWarning: torch.meshgrid: in an upcoming release, it will be required to pass the indexing argument. (Triggered internally at /opt/conda/conda-bld/pytorch_1699449201336/work/aten/src/ATen/native/TensorShape.cpp:3526.)\n",
      "  return _VF.meshgrid(tensors, **kwargs)  # type: ignore[attr-defined]\n",
      "Loads checkpoint by local backend from path: /n/groups/datta/tim_sainburg/projects/24-01-05-multicamera_keypoints_mm2d/models/rtmdet/rtmdet_tiny_8xb32-300e_coco_chronic_24-05-04-17-51-58_216661/epoch_400.pth\n",
      "08/07 14:22:31 - mmengine - \u001b[5m\u001b[4m\u001b[33mWARNING\u001b[0m - render and display result skipped for headless device, exception no display name and no $DISPLAY environment variable\n",
      "08/07 14:22:32 - mmengine - \u001b[4m\u001b[97mINFO\u001b[0m - visualize pytorch model success.\n",
      "08/07 14:22:32 - mmengine - \u001b[4m\u001b[97mINFO\u001b[0m - All process success.\n"
     ]
    },
    {
     "data": {
      "text/plain": [
       "0"
      ]
     },
     "execution_count": 28,
     "metadata": {},
     "output_type": "execute_result"
    }
   ],
   "source": [
    "process = subprocess.Popen(\n",
    "    model_conversion_script,\n",
    "    shell=True,\n",
    "    stdout=subprocess.PIPE,\n",
    "    stderr=subprocess.STDOUT,\n",
    "    bufsize=1,\n",
    "    universal_newlines=True,\n",
    "    executable=\"/bin/bash\"\n",
    ")\n",
    "# Read output line by line as it is produced\n",
    "for line in process.stdout:\n",
    "    print(line, end='')\n",
    "    \n",
    "# Wait for the subprocess to finish\n",
    "process.wait()"
   ]
  },
  {
   "cell_type": "markdown",
   "id": "5a4e8b86",
   "metadata": {},
   "source": [
    "##### Confirm everything worked\n",
    "If everything worked you should see an end2end.engine file"
   ]
  },
  {
   "cell_type": "code",
   "execution_count": 29,
   "id": "d428e0f6",
   "metadata": {},
   "outputs": [
    {
     "name": "stdout",
     "output_type": "stream",
     "text": [
      "/n/groups/datta/tim_sainburg/projects/24-01-05-multicamera_keypoints_mm2d/models/tensortt/rtmdetection_fp32_Tesla_V100S-PCIE-32GB-0__24-08-07-14-19-10_374392\n"
     ]
    }
   ],
   "source": [
    "print(working_directory)"
   ]
  },
  {
   "cell_type": "code",
   "execution_count": 30,
   "id": "f56f985e",
   "metadata": {},
   "outputs": [
    {
     "name": "stdout",
     "output_type": "stream",
     "text": [
      "deploy.json  end2end.engine  output_pytorch.jpg   pipeline.json\r\n",
      "detail.json  end2end.onnx    output_tensorrt.jpg\r\n"
     ]
    }
   ],
   "source": [
    "!ls {working_directory}"
   ]
  },
  {
   "cell_type": "code",
   "execution_count": 31,
   "id": "7863915d",
   "metadata": {},
   "outputs": [],
   "source": [
    "import matplotlib.pyplot as plt"
   ]
  },
  {
   "cell_type": "code",
   "execution_count": 32,
   "id": "8ad6be2c",
   "metadata": {},
   "outputs": [],
   "source": [
    "image = plt.imread(Path(working_directory) / 'output_tensorrt.jpg')"
   ]
  },
  {
   "cell_type": "code",
   "execution_count": 33,
   "id": "51a82ac2",
   "metadata": {},
   "outputs": [
    {
     "data": {
      "text/plain": [
       "<matplotlib.image.AxesImage at 0x7f947241bdc0>"
      ]
     },
     "execution_count": 33,
     "metadata": {},
     "output_type": "execute_result"
    },
    {
     "data": {
      "image/png": "[encoded data removed]",
      "text/plain": [
       "<Figure size 640x480 with 1 Axes>"
      ]
     },
     "metadata": {},
     "output_type": "display_data"
    }
   ],
   "source": [
    "plt.imshow(image)"
   ]
  },
  {
   "cell_type": "code",
   "execution_count": 34,
   "id": "bff75af2",
   "metadata": {},
   "outputs": [
    {
     "name": "stdout",
     "output_type": "stream",
     "text": [
      "240314-chronic-calibration  all_species.npy\t   hmm\t      nacho\r\n",
      "all_cycle.npy\t\t    all_syllables.pickle   indv.npy   sleap\r\n",
      "all_distance.npy\t    animation.mp4\t   jarvis     snub\r\n",
      "all_offset_front_back.npy   CalibrationParameters  keypoints  test-keypoints\r\n",
      "all_phase.npy\t\t    changepoint\t\t   kpms       z_umap.npy\r\n",
      "all_projections.npy\t    gimbal\t\t   mmpose\r\n"
     ]
    }
   ],
   "source": [
    "!ls '/n/groups/datta/tim_sainburg/projects/23-09-29-peromoseq/data'"
   ]
  },
  {
   "cell_type": "code",
   "execution_count": null,
   "id": "aa4cad02",
   "metadata": {},
   "outputs": [],
   "source": []
  },
  {
   "cell_type": "code",
   "execution_count": null,
   "id": "dc8d9938",
   "metadata": {},
   "outputs": [],
   "source": []
  },
  {
   "cell_type": "code",
   "execution_count": null,
   "id": "b04a9ecc",
   "metadata": {},
   "outputs": [],
   "source": []
  }
 ],
 "metadata": {
  "kernelspec": {
   "display_name": "mmdeploy",
   "language": "python",
   "name": "mmdeploy"
  },
  "language_info": {
   "codemirror_mode": {
    "name": "ipython",
    "version": 3
   },
   "file_extension": ".py",
   "mimetype": "text/x-python",
   "name": "python",
   "nbconvert_exporter": "python",
   "pygments_lexer": "ipython3",
   "version": "3.10.13"
  }
 },
 "nbformat": 4,
 "nbformat_minor": 5
}
