{
 "cells": [
  {
   "cell_type": "markdown",
   "id": "a5469971",
   "metadata": {},
   "source": [
    "#### Duration: nearly instant"
   ]
  },
  {
   "cell_type": "code",
   "execution_count": 1,
   "id": "d2da23c9",
   "metadata": {},
   "outputs": [],
   "source": [
    "%load_ext autoreload\n",
    "%autoreload 2"
   ]
  },
  {
   "cell_type": "code",
   "execution_count": 2,
   "id": "900a1f1a",
   "metadata": {},
   "outputs": [
    {
     "name": "stdout",
     "output_type": "stream",
     "text": [
      "/n/groups/datta/tim_sainburg/conda_envs/mmdeploy/bin/python3\n"
     ]
    }
   ],
   "source": [
    "from pathlib import Path\n",
    "import sys\n",
    "import logging\n",
    "logging.basicConfig(level=logging.INFO)\n",
    "print(sys.executable)"
   ]
  },
  {
   "cell_type": "code",
   "execution_count": 3,
   "id": "c273f6e6",
   "metadata": {},
   "outputs": [
    {
     "name": "stderr",
     "output_type": "stream",
     "text": [
      "INFO:multicamera_airflow_pipeline.tim_240731.keypoints.predict_2D:Python interpreter binary location: /n/groups/datta/tim_sainburg/conda_envs/mmdeploy/bin/python3\n"
     ]
    }
   ],
   "source": [
    "from multicamera_airflow_pipeline.tim_240731.keypoints.predict_2D import Inferencer2D"
   ]
  },
  {
   "cell_type": "markdown",
   "id": "d4930f63",
   "metadata": {},
   "source": [
    "### Get recording info (google sheets)"
   ]
  },
  {
   "cell_type": "code",
   "execution_count": 4,
   "id": "63237b3a",
   "metadata": {},
   "outputs": [],
   "source": [
    "import requests\n",
    "import pandas as pd\n",
    "from io import BytesIO"
   ]
  },
  {
   "cell_type": "code",
   "execution_count": 5,
   "id": "5909c615",
   "metadata": {},
   "outputs": [],
   "source": [
    "# spreadsheet_url = 'https://docs.google.com/spreadsheet/ccc?key=14HIqUaSl_n-91hpAvmACY_iVY9nLKdlA6qklhxfZon0&output=csv&gid=0'\n",
    "spreadsheet_url = \"https://docs.google.com/spreadsheet/ccc?key=1jACsUmxuJ9Une59qmvzZGc1qXezKhKzD1zho2sEfcrU&output=csv&gid=0\"\n",
    "response = requests.get(spreadsheet_url)\n",
    "recording_df = pd.read_csv(BytesIO(response.content))"
   ]
  },
  {
   "cell_type": "code",
   "execution_count": 6,
   "id": "49df48f5",
   "metadata": {},
   "outputs": [
    {
     "data": {
      "text/html": [
       "<div>\n",
       "<style scoped>\n",
       "    .dataframe tbody tr th:only-of-type {\n",
       "        vertical-align: middle;\n",
       "    }\n",
       "\n",
       "    .dataframe tbody tr th {\n",
       "        vertical-align: top;\n",
       "    }\n",
       "\n",
       "    .dataframe thead th {\n",
       "        text-align: right;\n",
       "    }\n",
       "</style>\n",
       "<table border=\"1\" class=\"dataframe\">\n",
       "  <thead>\n",
       "    <tr style=\"text-align: right;\">\n",
       "      <th></th>\n",
       "      <th>Subject</th>\n",
       "      <th>duration_m</th>\n",
       "      <th>video_recording_id</th>\n",
       "      <th>ephys_id</th>\n",
       "      <th>calibration_id</th>\n",
       "      <th>calibration_board_shape</th>\n",
       "      <th>calibration_square_size</th>\n",
       "      <th>location_on_o2</th>\n",
       "    </tr>\n",
       "  </thead>\n",
       "  <tbody>\n",
       "    <tr>\n",
       "      <th>0</th>\n",
       "      <td>M04002</td>\n",
       "      <td>10</td>\n",
       "      <td>24-05-01-13-26-43-110846</td>\n",
       "      <td>2024-05-01_13-26-37</td>\n",
       "      <td>24-05-01-13-45-07-825493</td>\n",
       "      <td>NaN</td>\n",
       "      <td>NaN</td>\n",
       "      <td>/n/groups/datta/tim_sainburg/datasets/chronic2...</td>\n",
       "    </tr>\n",
       "  </tbody>\n",
       "</table>\n",
       "</div>"
      ],
      "text/plain": [
       "  Subject  duration_m        video_recording_id             ephys_id  \\\n",
       "0  M04002          10  24-05-01-13-26-43-110846  2024-05-01_13-26-37   \n",
       "\n",
       "             calibration_id  calibration_board_shape  calibration_square_size  \\\n",
       "0  24-05-01-13-45-07-825493                      NaN                      NaN   \n",
       "\n",
       "                                      location_on_o2  \n",
       "0  /n/groups/datta/tim_sainburg/datasets/chronic2...  "
      ]
     },
     "execution_count": 6,
     "metadata": {},
     "output_type": "execute_result"
    }
   ],
   "source": [
    "recording_df[:3]"
   ]
  },
  {
   "cell_type": "markdown",
   "id": "a3d7cdc7",
   "metadata": {},
   "source": [
    "### Run sync"
   ]
  },
  {
   "cell_type": "code",
   "execution_count": 19,
   "id": "5d8a95e4",
   "metadata": {},
   "outputs": [
    {
     "name": "stderr",
     "output_type": "stream",
     "text": [
      "INFO:multicamera_airflow_pipeline.tim_240731.sync.sync_cameras:Python interpreter binary location: /n/groups/datta/tim_sainburg/conda_envs/mmdeploy/bin/python3\n"
     ]
    }
   ],
   "source": [
    "for idx, recording_row in recording_df.iterrows():\n",
    "    break"
   ]
  },
  {
   "cell_type": "code",
   "execution_count": 20,
   "id": "540d1b62",
   "metadata": {},
   "outputs": [],
   "source": [
    "SAMPLERATE = 150\n",
    "TRIGGER_PIN = 2"
   ]
  },
  {
   "cell_type": "code",
   "execution_count": 21,
   "id": "70da145f",
   "metadata": {},
   "outputs": [],
   "source": [
    "output_directory = Path(\"/n/groups/datta/tim_sainburg/datasets/scratch/\") / \"240806-3d-pipeline\""
   ]
  },
  {
   "cell_type": "code",
   "execution_count": 22,
   "id": "8bc38bb1",
   "metadata": {},
   "outputs": [],
   "source": [
    "output_directory_camera_sync = output_directory / 'camera_sync' / recording_row.video_recording_id\n",
    "output_directory_camera_sync.mkdir(parents=True, exist_ok=True)"
   ]
  },
  {
   "cell_type": "code",
   "execution_count": 23,
   "id": "14f5d2d6",
   "metadata": {},
   "outputs": [],
   "source": [
    "from multicamera_airflow_pipeline.tim_240731.sync.sync_cameras import CameraSynchronizer"
   ]
  },
  {
   "cell_type": "code",
   "execution_count": 24,
   "id": "ba3e5991",
   "metadata": {},
   "outputs": [],
   "source": [
    "video_directory = Path(recording_row.video_location_on_o2 / recording_row.video_recording_id)"
   ]
  },
  {
   "cell_type": "code",
   "execution_count": 25,
   "id": "223c260d",
   "metadata": {},
   "outputs": [],
   "source": [
    "synchronizer = CameraSynchronizer(\n",
    "    recording_directory = video_directory,\n",
    "    output_directory = output_directory_camera_sync,\n",
    "    SAMPLERATE = SAMPLERATE, # camera sample rate\n",
    "    TRIGGER_PIN = 2, # Which pin camera trigger was on\n",
    ")"
   ]
  },
  {
   "cell_type": "code",
   "execution_count": 26,
   "id": "7937b729",
   "metadata": {},
   "outputs": [
    {
     "name": "stderr",
     "output_type": "stream",
     "text": [
      "INFO:multicamera_airflow_pipeline.tim_240731.sync.sync_cameras:Loading video config, metadata, and triggerdata\n",
      "INFO:multicamera_airflow_pipeline.tim_240731.sync.sync_cameras:\t aligning frames for camera: BackBottom\n",
      "INFO:multicamera_airflow_pipeline.tim_240731.sync.sync_cameras:\t aligning frames for camera: BackLeft\n",
      "INFO:multicamera_airflow_pipeline.tim_240731.sync.sync_cameras:\t aligning frames for camera: BackRight\n",
      "INFO:multicamera_airflow_pipeline.tim_240731.sync.sync_cameras:\t aligning frames for camera: FrontBottom\n",
      "INFO:multicamera_airflow_pipeline.tim_240731.sync.sync_cameras:\t aligning frames for camera: FrontLeft\n",
      "INFO:multicamera_airflow_pipeline.tim_240731.sync.sync_cameras:\t aligning frames for camera: FrontRight\n"
     ]
    }
   ],
   "source": [
    "synchronizer.run()"
   ]
  },
  {
   "cell_type": "code",
   "execution_count": 27,
   "id": "c5a2e517",
   "metadata": {},
   "outputs": [
    {
     "name": "stdout",
     "output_type": "stream",
     "text": [
      "camera_sync.csv\r\n"
     ]
    }
   ],
   "source": [
    "!ls {output_directory_camera_sync}"
   ]
  },
  {
   "cell_type": "code",
   "execution_count": 30,
   "id": "fc6d51ad",
   "metadata": {},
   "outputs": [
    {
     "name": "stdout",
     "output_type": "stream",
     "text": [
      ",trigger_times,trigger_states,BackBottom_frames,BackLeft_frames,BackRight_frames,FrontBottom_frames,FrontLeft_frames,FrontRight_frames,datetime_est\r\n",
      "0,0.0,0,0,0,0,0,0,0,1714584403.110846\r\n",
      "1,6666.0,0,1,1,1,1,1,1,1714584403.117512\r\n",
      "2,13332.0,1,2,2,2,2,2,2,1714584403.124178\r\n",
      "3,19998.0,1,3,3,3,3,3,3,1714584403.130844\r\n",
      "4,26664.0,1,4,4,4,4,4,4,1714584403.13751\r\n",
      "5,33330.0,0,5,5,5,5,5,5,1714584403.144176\r\n",
      "6,39996.0,0,6,6,6,6,6,6,1714584403.150842\r\n",
      "7,46662.0,0,7,7,7,7,7,7,1714584403.157508\r\n",
      "8,53328.0,0,8,8,8,8,8,8,1714584403.164174\r\n"
     ]
    }
   ],
   "source": [
    "!head {output_directory_camera_sync/'camera_sync.csv'}"
   ]
  },
  {
   "cell_type": "code",
   "execution_count": 29,
   "id": "d45c4d32",
   "metadata": {},
   "outputs": [
    {
     "data": {
      "text/html": [
       "<div>\n",
       "<style scoped>\n",
       "    .dataframe tbody tr th:only-of-type {\n",
       "        vertical-align: middle;\n",
       "    }\n",
       "\n",
       "    .dataframe tbody tr th {\n",
       "        vertical-align: top;\n",
       "    }\n",
       "\n",
       "    .dataframe thead th {\n",
       "        text-align: right;\n",
       "    }\n",
       "</style>\n",
       "<table border=\"1\" class=\"dataframe\">\n",
       "  <thead>\n",
       "    <tr style=\"text-align: right;\">\n",
       "      <th></th>\n",
       "      <th>Unnamed: 0</th>\n",
       "      <th>trigger_times</th>\n",
       "      <th>trigger_states</th>\n",
       "      <th>BackBottom_frames</th>\n",
       "      <th>BackLeft_frames</th>\n",
       "      <th>BackRight_frames</th>\n",
       "      <th>FrontBottom_frames</th>\n",
       "      <th>FrontLeft_frames</th>\n",
       "      <th>FrontRight_frames</th>\n",
       "      <th>datetime_est</th>\n",
       "    </tr>\n",
       "  </thead>\n",
       "  <tbody>\n",
       "    <tr>\n",
       "      <th>0</th>\n",
       "      <td>0</td>\n",
       "      <td>0.0</td>\n",
       "      <td>0</td>\n",
       "      <td>0</td>\n",
       "      <td>0</td>\n",
       "      <td>0</td>\n",
       "      <td>0</td>\n",
       "      <td>0</td>\n",
       "      <td>0</td>\n",
       "      <td>1.714584e+09</td>\n",
       "    </tr>\n",
       "    <tr>\n",
       "      <th>1</th>\n",
       "      <td>1</td>\n",
       "      <td>6666.0</td>\n",
       "      <td>0</td>\n",
       "      <td>1</td>\n",
       "      <td>1</td>\n",
       "      <td>1</td>\n",
       "      <td>1</td>\n",
       "      <td>1</td>\n",
       "      <td>1</td>\n",
       "      <td>1.714584e+09</td>\n",
       "    </tr>\n",
       "    <tr>\n",
       "      <th>2</th>\n",
       "      <td>2</td>\n",
       "      <td>13332.0</td>\n",
       "      <td>1</td>\n",
       "      <td>2</td>\n",
       "      <td>2</td>\n",
       "      <td>2</td>\n",
       "      <td>2</td>\n",
       "      <td>2</td>\n",
       "      <td>2</td>\n",
       "      <td>1.714584e+09</td>\n",
       "    </tr>\n",
       "  </tbody>\n",
       "</table>\n",
       "</div>"
      ],
      "text/plain": [
       "   Unnamed: 0  trigger_times  trigger_states  BackBottom_frames  \\\n",
       "0           0            0.0               0                  0   \n",
       "1           1         6666.0               0                  1   \n",
       "2           2        13332.0               1                  2   \n",
       "\n",
       "   BackLeft_frames  BackRight_frames  FrontBottom_frames  FrontLeft_frames  \\\n",
       "0                0                 0                   0                 0   \n",
       "1                1                 1                   1                 1   \n",
       "2                2                 2                   2                 2   \n",
       "\n",
       "   FrontRight_frames  datetime_est  \n",
       "0                  0  1.714584e+09  \n",
       "1                  1  1.714584e+09  \n",
       "2                  2  1.714584e+09  "
      ]
     },
     "execution_count": 29,
     "metadata": {},
     "output_type": "execute_result"
    }
   ],
   "source": [
    "pd.read_csv(output_directory_camera_sync/'camera_sync.csv')[:3]"
   ]
  },
  {
   "cell_type": "code",
   "execution_count": null,
   "id": "05a0ccec",
   "metadata": {},
   "outputs": [],
   "source": []
  }
 ],
 "metadata": {
  "kernelspec": {
   "display_name": "Python (peromoseq)",
   "language": "python",
   "name": "peromoseq"
  },
  "language_info": {
   "codemirror_mode": {
    "name": "ipython",
    "version": 3
   },
   "file_extension": ".py",
   "mimetype": "text/x-python",
   "name": "python",
   "nbconvert_exporter": "python",
   "pygments_lexer": "ipython3",
   "version": "3.10.13"
  }
 },
 "nbformat": 4,
 "nbformat_minor": 5
}
