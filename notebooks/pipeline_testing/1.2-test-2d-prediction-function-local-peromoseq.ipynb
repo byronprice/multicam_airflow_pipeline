{
 "cells": [
  {
   "cell_type": "code",
   "execution_count": 1,
   "id": "d6b30eea",
   "metadata": {},
   "outputs": [],
   "source": [
    "%load_ext autoreload\n",
    "%autoreload 2"
   ]
  },
  {
   "cell_type": "code",
   "execution_count": 2,
   "id": "e4415039",
   "metadata": {},
   "outputs": [],
   "source": [
    "import os\n",
    "os.environ[\"CUDA_DEVICE_ORDER\"]=\"PCI_BUS_ID\"   # see issue #152\n",
    "os.environ[\"CUDA_VISIBLE_DEVICES\"]=\"2\""
   ]
  },
  {
   "cell_type": "code",
   "execution_count": 3,
   "id": "52e8cd58",
   "metadata": {},
   "outputs": [
    {
     "data": {
      "text/plain": [
       "'/home/peromoseq/anaconda3/envs/mmdeploy/bin/python3'"
      ]
     },
     "execution_count": 3,
     "metadata": {},
     "output_type": "execute_result"
    }
   ],
   "source": [
    "import sys\n",
    "sys.executable"
   ]
  },
  {
   "cell_type": "markdown",
   "id": "877e8db4",
   "metadata": {},
   "source": [
    "### important\n",
    "- must be `module load cuda/11.7`"
   ]
  },
  {
   "cell_type": "markdown",
   "id": "6f361e85",
   "metadata": {},
   "source": [
    "##### Duration: ???"
   ]
  },
  {
   "cell_type": "code",
   "execution_count": 4,
   "id": "900a1f1a",
   "metadata": {},
   "outputs": [
    {
     "name": "stdout",
     "output_type": "stream",
     "text": [
      "/home/peromoseq/anaconda3/envs/mmdeploy/bin/python3\n"
     ]
    }
   ],
   "source": [
    "from pathlib import Path\n",
    "import sys\n",
    "import logging\n",
    "logging.basicConfig(level=logging.INFO)\n",
    "print(sys.executable)"
   ]
  },
  {
   "cell_type": "code",
   "execution_count": 5,
   "id": "c273f6e6",
   "metadata": {},
   "outputs": [
    {
     "name": "stderr",
     "output_type": "stream",
     "text": [
      "INFO:multicamera_airflow_pipeline.tim_240731.keypoints.predict_2D:Python interpreter binary location: /home/peromoseq/anaconda3/envs/mmdeploy/bin/python3\n"
     ]
    }
   ],
   "source": [
    "from multicamera_airflow_pipeline.tim_240731.keypoints.predict_2D import Inferencer2D"
   ]
  },
  {
   "cell_type": "markdown",
   "id": "d4930f63",
   "metadata": {},
   "source": [
    "### Get recording info (google sheets)"
   ]
  },
  {
   "cell_type": "code",
   "execution_count": 6,
   "id": "63237b3a",
   "metadata": {},
   "outputs": [],
   "source": [
    "import requests\n",
    "import pandas as pd\n",
    "from io import BytesIO"
   ]
  },
  {
   "cell_type": "code",
   "execution_count": 7,
   "id": "5909c615",
   "metadata": {},
   "outputs": [],
   "source": [
    "# spreadsheet_url = 'https://docs.google.com/spreadsheet/ccc?key=14HIqUaSl_n-91hpAvmACY_iVY9nLKdlA6qklhxfZon0&output=csv&gid=0'\n",
    "spreadsheet_url = \"https://docs.google.com/spreadsheet/ccc?key=1jACsUmxuJ9Une59qmvzZGc1qXezKhKzD1zho2sEfcrU&output=csv&gid=0\"\n",
    "response = requests.get(spreadsheet_url)\n",
    "recording_df = pd.read_csv(BytesIO(response.content))"
   ]
  },
  {
   "cell_type": "code",
   "execution_count": 8,
   "id": "49df48f5",
   "metadata": {},
   "outputs": [
    {
     "data": {
      "text/html": [
       "<div>\n",
       "<style scoped>\n",
       "    .dataframe tbody tr th:only-of-type {\n",
       "        vertical-align: middle;\n",
       "    }\n",
       "\n",
       "    .dataframe tbody tr th {\n",
       "        vertical-align: top;\n",
       "    }\n",
       "\n",
       "    .dataframe thead th {\n",
       "        text-align: right;\n",
       "    }\n",
       "</style>\n",
       "<table border=\"1\" class=\"dataframe\">\n",
       "  <thead>\n",
       "    <tr style=\"text-align: right;\">\n",
       "      <th></th>\n",
       "      <th>Subject</th>\n",
       "      <th>duration_m</th>\n",
       "      <th>video_recording_id</th>\n",
       "      <th>ephys_id</th>\n",
       "      <th>calibration_id</th>\n",
       "      <th>video_location_on_o2</th>\n",
       "      <th>ephys_location_on_o2</th>\n",
       "      <th>calibration_location_on_o2</th>\n",
       "      <th>samplerate</th>\n",
       "      <th>username</th>\n",
       "      <th>n_ephys_streams</th>\n",
       "      <th>max_video_duration_m</th>\n",
       "    </tr>\n",
       "  </thead>\n",
       "  <tbody>\n",
       "    <tr>\n",
       "      <th>0</th>\n",
       "      <td>M04002</td>\n",
       "      <td>10</td>\n",
       "      <td>24-05-01-13-26-43-110846</td>\n",
       "      <td>2024-05-01_13-26-37</td>\n",
       "      <td>24-05-01-13-45-07-825493</td>\n",
       "      <td>/n/groups/datta/tim_sainburg/datasets/chronic2...</td>\n",
       "      <td>/n/groups/datta/tim_sainburg/datasets/chronic2...</td>\n",
       "      <td>/n/groups/datta/tim_sainburg/datasets/chronic2...</td>\n",
       "      <td>150</td>\n",
       "      <td>tis697</td>\n",
       "      <td>1</td>\n",
       "      <td>10</td>\n",
       "    </tr>\n",
       "  </tbody>\n",
       "</table>\n",
       "</div>"
      ],
      "text/plain": [
       "  Subject  duration_m        video_recording_id             ephys_id  \\\n",
       "0  M04002          10  24-05-01-13-26-43-110846  2024-05-01_13-26-37   \n",
       "\n",
       "             calibration_id  \\\n",
       "0  24-05-01-13-45-07-825493   \n",
       "\n",
       "                                video_location_on_o2  \\\n",
       "0  /n/groups/datta/tim_sainburg/datasets/chronic2...   \n",
       "\n",
       "                                ephys_location_on_o2  \\\n",
       "0  /n/groups/datta/tim_sainburg/datasets/chronic2...   \n",
       "\n",
       "                          calibration_location_on_o2  samplerate username  \\\n",
       "0  /n/groups/datta/tim_sainburg/datasets/chronic2...         150   tis697   \n",
       "\n",
       "   n_ephys_streams  max_video_duration_m  \n",
       "0                1                    10  "
      ]
     },
     "execution_count": 8,
     "metadata": {},
     "output_type": "execute_result"
    }
   ],
   "source": [
    "recording_df[:3]"
   ]
  },
  {
   "cell_type": "markdown",
   "id": "a3d7cdc7",
   "metadata": {},
   "source": [
    "### Run 2D prediction"
   ]
  },
  {
   "cell_type": "code",
   "execution_count": 9,
   "id": "5d8a95e4",
   "metadata": {},
   "outputs": [],
   "source": [
    "for idx, recording_row in recording_df.iterrows():\n",
    "    break"
   ]
  },
  {
   "cell_type": "code",
   "execution_count": 10,
   "id": "8bc38bb1",
   "metadata": {},
   "outputs": [],
   "source": [
    "output_directory = Path(\"/n/groups/datta/tim_sainburg/datasets/scratch/\") / \"240806-3d-pipeline\""
   ]
  },
  {
   "cell_type": "code",
   "execution_count": 11,
   "id": "95ae0426",
   "metadata": {},
   "outputs": [
    {
     "name": "stderr",
     "output_type": "stream",
     "text": [
      "INFO:multicamera_airflow_pipeline.tim_240731.keypoints.tensorrt:Python interpreter binary location: /home/peromoseq/anaconda3/envs/mmdeploy/bin/python3\n",
      "INFO:multicamera_airflow_pipeline.tim_240731.keypoints.tensorrt:Using CUDA device: NVIDIA_GeForce_RTX_4070_Ti\n"
     ]
    }
   ],
   "source": [
    "from multicamera_airflow_pipeline.tim_240731.keypoints.tensorrt import RTMModelConverter\n",
    "output_directory_tensorrt = output_directory / 'tensorrt'\n",
    "output_directory_tensorrt.mkdir(parents=True, exist_ok=True)\n",
    "\n",
    "# https://o2portal.rc.hms.harvard.edu/node/compute-g-17-148.o2.rc.hms.harvard.edu/59141/notebooks/tim_sainburg/projects/23-09-29-peromoseq/notebooks/keypoints/mmpose/24-01-11-deploy-2d-predictions-on-local/24-05-08-convert-pose-model.ipynb\n",
    "rtmpose_model_name = 'rtmpose-m_8xb64-210e_ap10k-256x256_24-05-04-21-35-13_305524'\n",
    "path_to_rmpose_config = Path('/n/groups/datta/tim_sainburg/projects/24-01-05-multicamera_keypoints_mm2d/models/rtmpose/rtmpose-m_8xb64-210e_ap10k-256x256_24-05-04-21-35-13_305524/config.py')\n",
    "path_to_rmpose_checkpoint = Path('/n/groups/datta/tim_sainburg/projects/24-01-05-multicamera_keypoints_mm2d/models/rtmpose/rtmpose-m_8xb64-210e_ap10k-256x256_24-05-04-21-35-13_305524/best_PCK_epoch_200.pth')\n",
    "\n",
    "# https://o2portal.rc.hms.harvard.edu/node/compute-g-17-148.o2.rc.hms.harvard.edu/59141/notebooks/tim_sainburg/projects/23-09-29-peromoseq/notebooks/keypoints/mmpose/24-01-11-deploy-2d-predictions-on-local/240508-convert-detection-model-fp32.ipynb\n",
    "rtmdetection_model_name = 'rtmdet_tiny_8xb32-300e_coco_chronic_24-05-04-17-51-58_216661'\n",
    "path_to_rtmdetection_config = Path('/n/groups/datta/tim_sainburg/projects/24-01-05-multicamera_keypoints_mm2d/models/rtmdet/rtmdet_tiny_8xb32-300e_coco_chronic_24-05-04-17-51-58_216661/config.py')\n",
    "path_to_rtmdetection_checkpoint = Path('/n/groups/datta/tim_sainburg/projects/24-01-05-multicamera_keypoints_mm2d/models/rtmdet/rtmdet_tiny_8xb32-300e_coco_chronic_24-05-04-17-51-58_216661/epoch_400.pth')\n",
    "\n",
    "model_converter = RTMModelConverter(\n",
    "    path_to_rmpose_config = path_to_rmpose_config,\n",
    "    path_to_rmpose_checkpoint = path_to_rmpose_checkpoint,\n",
    "    path_to_rtmdetection_config = path_to_rtmdetection_config,\n",
    "    path_to_rtmdetection_checkpoint = path_to_rtmdetection_checkpoint,\n",
    "    tensorrt_output_directory = output_directory_tensorrt,\n",
    "    rtmdetection_model_name = rtmdetection_model_name,\n",
    "    rtmpose_model_name = rtmpose_model_name,\n",
    "    conda_env = \"/home/peromoseq/anaconda3/envs/mmdeploy\",\n",
    "    is_local=True\n",
    ")"
   ]
  },
  {
   "cell_type": "code",
   "execution_count": 13,
   "id": "ad4e26d4",
   "metadata": {},
   "outputs": [
    {
     "name": "stderr",
     "output_type": "stream",
     "text": [
      "INFO:multicamera_airflow_pipeline.tim_240731.keypoints.tensorrt:Python interpreter binary location: /home/peromoseq/anaconda3/envs/mmdeploy/bin/python3\n"
     ]
    },
    {
     "data": {
      "text/plain": [
       "PosixPath('/n/groups/datta/tim_sainburg/datasets/scratch/240806-3d-pipeline/tensorrt')"
      ]
     },
     "execution_count": 13,
     "metadata": {},
     "output_type": "execute_result"
    }
   ],
   "source": [
    "output_directory_tensorrt"
   ]
  },
  {
   "cell_type": "code",
   "execution_count": 12,
   "id": "a4f3ea13",
   "metadata": {},
   "outputs": [
    {
     "name": "stderr",
     "output_type": "stream",
     "text": [
      "INFO:multicamera_airflow_pipeline.tim_240731.keypoints.tensorrt:TensorRT detection model already exists.\n"
     ]
    },
    {
     "name": "stdout",
     "output_type": "stream",
     "text": [
      "source $(conda info --base)/etc/profile.d/conda.sh;\n",
      "conda activate /home/peromoseq/anaconda3/envs/mmdeploy;\n",
      "export PYTHONPATH=/tmp/tmpz7gn981u:$PYTHONPATH;\n",
      "python /n/groups/datta/tim_sainburg/projects/mmdeploy/tools/deploy.py /n/groups/datta/tim_sainburg/projects/mmdeploy/configs/mmpose/pose-detection_simcc_tensorrt_dynamic-256x256.py /n/groups/datta/tim_sainburg/projects/24-01-05-multicamera_keypoints_mm2d/models/rtmpose/rtmpose-m_8xb64-210e_ap10k-256x256_24-05-04-21-35-13_305524/config.py /n/groups/datta/tim_sainburg/projects/24-01-05-multicamera_keypoints_mm2d/models/rtmpose/rtmpose-m_8xb64-210e_ap10k-256x256_24-05-04-21-35-13_305524/best_PCK_epoch_200.pth /n/groups/datta/tim_sainburg/projects/24-01-05-multicamera_keypoints_mm2d/example_data/test_mouse_cropped.png --work-dir /n/groups/datta/tim_sainburg/datasets/scratch/240806-3d-pipeline/tensorrt/rtmpose-m_8xb64-210e_ap10k-256x256_24-05-04-21-35-13_305524/NVIDIA_GeForce_RTX_4070_Ti --device cuda:0 --show --dump-info\n",
      "08/13 14:15:03 - mmengine - \u001b[5m\u001b[4m\u001b[33mWARNING\u001b[0m - Failed to search registry with scope \"mmpose\" in the \"Codebases\" registry tree. As a workaround, the current \"Codebases\" registry in \"mmdeploy\" is used to build instance. This may cause unexpected failure when running the built modules. Please check whether \"mmpose\" is a correct scope, or whether the registry is initialized.\n",
      "08/13 14:15:03 - mmengine - \u001b[5m\u001b[4m\u001b[33mWARNING\u001b[0m - Failed to search registry with scope \"mmpose\" in the \"mmpose_tasks\" registry tree. As a workaround, the current \"mmpose_tasks\" registry in \"mmdeploy\" is used to build instance. This may cause unexpected failure when running the built modules. Please check whether \"mmpose\" is a correct scope, or whether the registry is initialized.\n",
      "08/13 14:15:06 - mmengine - \u001b[4m\u001b[97mINFO\u001b[0m - Start pipeline mmdeploy.apis.pytorch2onnx.torch2onnx in subprocess\n",
      "08/13 14:15:09 - mmengine - \u001b[5m\u001b[4m\u001b[33mWARNING\u001b[0m - Failed to search registry with scope \"mmpose\" in the \"Codebases\" registry tree. As a workaround, the current \"Codebases\" registry in \"mmdeploy\" is used to build instance. This may cause unexpected failure when running the built modules. Please check whether \"mmpose\" is a correct scope, or whether the registry is initialized.\n",
      "08/13 14:15:09 - mmengine - \u001b[5m\u001b[4m\u001b[33mWARNING\u001b[0m - Failed to search registry with scope \"mmpose\" in the \"mmpose_tasks\" registry tree. As a workaround, the current \"mmpose_tasks\" registry in \"mmdeploy\" is used to build instance. This may cause unexpected failure when running the built modules. Please check whether \"mmpose\" is a correct scope, or whether the registry is initialized.\n",
      "Loads checkpoint by local backend from path: /n/groups/datta/tim_sainburg/projects/24-01-05-multicamera_keypoints_mm2d/models/rtmpose/rtmpose-m_8xb64-210e_ap10k-256x256_24-05-04-21-35-13_305524/best_PCK_epoch_200.pth\n",
      "08/13 14:15:11 - mmengine - \u001b[5m\u001b[4m\u001b[33mWARNING\u001b[0m - DeprecationWarning: get_onnx_config will be deprecated in the future. \n",
      "08/13 14:15:11 - mmengine - \u001b[4m\u001b[97mINFO\u001b[0m - Export PyTorch model to ONNX: /n/groups/datta/tim_sainburg/datasets/scratch/240806-3d-pipeline/tensorrt/rtmpose-m_8xb64-210e_ap10k-256x256_24-05-04-21-35-13_305524/NVIDIA_GeForce_RTX_4070_Ti/end2end.onnx.\n",
      "08/13 14:15:11 - mmengine - \u001b[5m\u001b[4m\u001b[33mWARNING\u001b[0m - Can not find torch.nn.functional._scaled_dot_product_attention, function rewrite will not be applied\n",
      "08/13 14:15:11 - mmengine - \u001b[5m\u001b[4m\u001b[33mWARNING\u001b[0m - Can not find mmdet.models.utils.transformer.PatchMerging.forward, function rewrite will not be applied\n",
      "08/13 14:15:13 - mmengine - \u001b[4m\u001b[97mINFO\u001b[0m - Execute onnx optimize passes.\n",
      "08/13 14:15:13 - mmengine - \u001b[5m\u001b[4m\u001b[33mWARNING\u001b[0m - Can not optimize model, please build torchscipt extension.\n",
      "More details: https://github.com/open-mmlab/mmdeploy/tree/main/docs/en/experimental/onnx_optimizer.md\n",
      "08/13 14:15:14 - mmengine - \u001b[4m\u001b[97mINFO\u001b[0m - Finish pipeline mmdeploy.apis.pytorch2onnx.torch2onnx\n",
      "08/13 14:15:17 - mmengine - \u001b[4m\u001b[97mINFO\u001b[0m - Start pipeline mmdeploy.apis.utils.utils.to_backend in subprocess\n",
      "08/13 14:15:18 - mmengine - \u001b[4m\u001b[97mINFO\u001b[0m - Successfully loaded tensorrt plugins from /home/peromoseq/anaconda3/envs/mmdeploy/lib/python3.8/site-packages/mmdeploy/lib/libmmdeploy_tensorrt_ops.so\n",
      "[08/13/2024-14:15:18] [TRT] [I] [MemUsageChange] Init CUDA: CPU +11, GPU +0, now: CPU 135, GPU 200 (MiB)\n",
      "[08/13/2024-14:15:22] [TRT] [I] [MemUsageChange] Init builder kernel library: CPU +1226, GPU +268, now: CPU 1437, GPU 468 (MiB)\n",
      "[08/13/2024-14:15:22] [TRT] [I] ----------------------------------------------------------------\n",
      "[08/13/2024-14:15:22] [TRT] [I] Input filename:   /n/groups/datta/tim_sainburg/datasets/scratch/240806-3d-pipeline/tensorrt/rtmpose-m_8xb64-210e_ap10k-256x256_24-05-04-21-35-13_305524/NVIDIA_GeForce_RTX_4070_Ti/end2end.onnx\n",
      "[08/13/2024-14:15:22] [TRT] [I] ONNX IR version:  0.0.6\n",
      "[08/13/2024-14:15:22] [TRT] [I] Opset version:    11\n",
      "[08/13/2024-14:15:22] [TRT] [I] Producer name:    pytorch\n",
      "[08/13/2024-14:15:22] [TRT] [I] Producer version: 2.1.2\n",
      "[08/13/2024-14:15:22] [TRT] [I] Domain:           \n",
      "[08/13/2024-14:15:22] [TRT] [I] Model version:    0\n",
      "[08/13/2024-14:15:22] [TRT] [I] Doc string:       \n",
      "[08/13/2024-14:15:22] [TRT] [I] ----------------------------------------------------------------\n",
      "[08/13/2024-14:15:23] [TRT] [W] onnx2trt_utils.cpp:374: Your ONNX model has been generated with INT64 weights, while TensorRT does not natively support INT64. Attempting to cast down to INT32.\n",
      "[08/13/2024-14:15:23] [TRT] [I] Graph optimization time: 0.0235255 seconds.\n",
      "[08/13/2024-14:15:23] [TRT] [I] Local timing cache in use. Profiling results in this builder pass will not be stored.\n",
      "[08/13/2024-14:17:33] [TRT] [I] Detected 1 inputs and 2 output network tensors.\n",
      "[08/13/2024-14:17:33] [TRT] [I] Total Host Persistent Memory: 389808\n",
      "[08/13/2024-14:17:33] [TRT] [I] Total Device Persistent Memory: 2048\n",
      "[08/13/2024-14:17:33] [TRT] [I] Total Scratch Memory: 4608\n",
      "[08/13/2024-14:17:33] [TRT] [I] [MemUsageStats] Peak memory usage of TRT CPU/GPU memory allocators: CPU 19 MiB, GPU 67 MiB\n",
      "[08/13/2024-14:17:33] [TRT] [I] [BlockAssignment] Started assigning block shifts. This will take 210 steps to complete.\n",
      "[08/13/2024-14:17:33] [TRT] [I] [BlockAssignment] Algorithm ShiftNTopDown took 5.3354ms to assign 8 blocks to 210 nodes requiring 33082368 bytes.\n",
      "[08/13/2024-14:17:33] [TRT] [I] Total Activation Memory: 33081344\n",
      "[08/13/2024-14:17:33] [TRT] [I] [MemUsageChange] TensorRT-managed allocation in building engine: CPU +5, GPU +67, now: CPU 5, GPU 67 (MiB)\n",
      "08/13 14:17:35 - mmengine - \u001b[4m\u001b[97mINFO\u001b[0m - Finish pipeline mmdeploy.apis.utils.utils.to_backend\n",
      "08/13 14:17:35 - mmengine - \u001b[4m\u001b[97mINFO\u001b[0m - visualize tensorrt model start.\n",
      "08/13 14:17:48 - mmengine - \u001b[5m\u001b[4m\u001b[33mWARNING\u001b[0m - Failed to search registry with scope \"mmpose\" in the \"Codebases\" registry tree. As a workaround, the current \"Codebases\" registry in \"mmdeploy\" is used to build instance. This may cause unexpected failure when running the built modules. Please check whether \"mmpose\" is a correct scope, or whether the registry is initialized.\n",
      "08/13 14:17:48 - mmengine - \u001b[5m\u001b[4m\u001b[33mWARNING\u001b[0m - Failed to search registry with scope \"mmpose\" in the \"mmpose_tasks\" registry tree. As a workaround, the current \"mmpose_tasks\" registry in \"mmdeploy\" is used to build instance. This may cause unexpected failure when running the built modules. Please check whether \"mmpose\" is a correct scope, or whether the registry is initialized.\n",
      "08/13 14:17:48 - mmengine - \u001b[5m\u001b[4m\u001b[33mWARNING\u001b[0m - Failed to search registry with scope \"mmpose\" in the \"backend_segmentors\" registry tree. As a workaround, the current \"backend_segmentors\" registry in \"mmdeploy\" is used to build instance. This may cause unexpected failure when running the built modules. Please check whether \"mmpose\" is a correct scope, or whether the registry is initialized.\n",
      "08/13 14:17:48 - mmengine - \u001b[4m\u001b[97mINFO\u001b[0m - Successfully loaded tensorrt plugins from /home/peromoseq/anaconda3/envs/mmdeploy/lib/python3.8/site-packages/mmdeploy/lib/libmmdeploy_tensorrt_ops.so\n",
      "08/13 14:17:48 - mmengine - \u001b[4m\u001b[97mINFO\u001b[0m - Successfully loaded tensorrt plugins from /home/peromoseq/anaconda3/envs/mmdeploy/lib/python3.8/site-packages/mmdeploy/lib/libmmdeploy_tensorrt_ops.so\n"
     ]
    },
    {
     "name": "stdout",
     "output_type": "stream",
     "text": [
      "08/13 14:17:51 - mmengine - \u001b[4m\u001b[97mINFO\u001b[0m - visualize tensorrt model success.\n",
      "08/13 14:17:51 - mmengine - \u001b[4m\u001b[97mINFO\u001b[0m - visualize pytorch model start.\n",
      "08/13 14:17:57 - mmengine - \u001b[5m\u001b[4m\u001b[33mWARNING\u001b[0m - Failed to search registry with scope \"mmpose\" in the \"Codebases\" registry tree. As a workaround, the current \"Codebases\" registry in \"mmdeploy\" is used to build instance. This may cause unexpected failure when running the built modules. Please check whether \"mmpose\" is a correct scope, or whether the registry is initialized.\n",
      "08/13 14:17:57 - mmengine - \u001b[5m\u001b[4m\u001b[33mWARNING\u001b[0m - Failed to search registry with scope \"mmpose\" in the \"mmpose_tasks\" registry tree. As a workaround, the current \"mmpose_tasks\" registry in \"mmdeploy\" is used to build instance. This may cause unexpected failure when running the built modules. Please check whether \"mmpose\" is a correct scope, or whether the registry is initialized.\n"
     ]
    },
    {
     "ename": "KeyboardInterrupt",
     "evalue": "",
     "output_type": "error",
     "traceback": [
      "\u001b[0;31m---------------------------------------------------------------------------\u001b[0m",
      "\u001b[0;31mKeyboardInterrupt\u001b[0m                         Traceback (most recent call last)",
      "Cell \u001b[0;32mIn[12], line 1\u001b[0m\n\u001b[0;32m----> 1\u001b[0m \u001b[43mmodel_converter\u001b[49m\u001b[38;5;241;43m.\u001b[39;49m\u001b[43mrun\u001b[49m\u001b[43m(\u001b[49m\u001b[43m)\u001b[49m\n",
      "File \u001b[0;32m/n/groups/datta/tim_sainburg/projects/multicamera_airflow_pipeline/multicamera_airflow_pipeline/tim_240731/keypoints/tensorrt.py:217\u001b[0m, in \u001b[0;36mRTMModelConverter.run\u001b[0;34m(self)\u001b[0m\n\u001b[1;32m    215\u001b[0m \u001b[38;5;28;01mdef\u001b[39;00m \u001b[38;5;21mrun\u001b[39m(\u001b[38;5;28mself\u001b[39m):\n\u001b[1;32m    216\u001b[0m     \u001b[38;5;28mself\u001b[39m\u001b[38;5;241m.\u001b[39mconvert_detection_to_tensorrt()\n\u001b[0;32m--> 217\u001b[0m     \u001b[38;5;28;43mself\u001b[39;49m\u001b[38;5;241;43m.\u001b[39;49m\u001b[43mconvert_pose_to_tensorrt\u001b[49m\u001b[43m(\u001b[49m\u001b[43m)\u001b[49m\n",
      "File \u001b[0;32m/n/groups/datta/tim_sainburg/projects/multicamera_airflow_pipeline/multicamera_airflow_pipeline/tim_240731/keypoints/tensorrt.py:140\u001b[0m, in \u001b[0;36mRTMModelConverter.convert_pose_to_tensorrt\u001b[0;34m(self)\u001b[0m\n\u001b[1;32m    130\u001b[0m process \u001b[38;5;241m=\u001b[39m subprocess\u001b[38;5;241m.\u001b[39mPopen(\n\u001b[1;32m    131\u001b[0m     model_conversion_script,\n\u001b[1;32m    132\u001b[0m     shell\u001b[38;5;241m=\u001b[39m\u001b[38;5;28;01mTrue\u001b[39;00m,\n\u001b[0;32m   (...)\u001b[0m\n\u001b[1;32m    137\u001b[0m     executable\u001b[38;5;241m=\u001b[39m\u001b[38;5;124m\"\u001b[39m\u001b[38;5;124m/bin/bash\u001b[39m\u001b[38;5;124m\"\u001b[39m \u001b[38;5;28;01mif\u001b[39;00m \u001b[38;5;28mself\u001b[39m\u001b[38;5;241m.\u001b[39mis_local \u001b[38;5;28;01melse\u001b[39;00m \u001b[38;5;28;01mNone\u001b[39;00m,\n\u001b[1;32m    138\u001b[0m )\n\u001b[1;32m    139\u001b[0m \u001b[38;5;66;03m# Read output line by line as it is produced\u001b[39;00m\n\u001b[0;32m--> 140\u001b[0m \u001b[38;5;28;01mfor\u001b[39;00m line \u001b[38;5;129;01min\u001b[39;00m process\u001b[38;5;241m.\u001b[39mstdout:\n\u001b[1;32m    141\u001b[0m     \u001b[38;5;28mprint\u001b[39m(line, end\u001b[38;5;241m=\u001b[39m\u001b[38;5;124m\"\u001b[39m\u001b[38;5;124m\"\u001b[39m)\n\u001b[1;32m    143\u001b[0m \u001b[38;5;66;03m# Wait for the subprocess to finish\u001b[39;00m\n",
      "\u001b[0;31mKeyboardInterrupt\u001b[0m: "
     ]
    }
   ],
   "source": [
    "model_converter.run()"
   ]
  },
  {
   "cell_type": "code",
   "execution_count": null,
   "id": "5193fb79",
   "metadata": {},
   "outputs": [],
   "source": [
    "output_directory_2D = output_directory/ \"2D_predictions\" "
   ]
  },
  {
   "cell_type": "code",
   "execution_count": null,
   "id": "248ec752",
   "metadata": {},
   "outputs": [],
   "source": [
    "output_directory_2D.mkdir(parents=True, exist_ok=True)"
   ]
  },
  {
   "cell_type": "code",
   "execution_count": null,
   "id": "aa447fe6",
   "metadata": {},
   "outputs": [],
   "source": [
    "recording_row.video_location_on_o2"
   ]
  },
  {
   "cell_type": "code",
   "execution_count": null,
   "id": "7151ee66",
   "metadata": {},
   "outputs": [],
   "source": [
    "video_directory = Path(recording_row.video_location_on_o2) / recording_row.video_recording_id"
   ]
  },
  {
   "cell_type": "code",
   "execution_count": null,
   "id": "0e98aee7",
   "metadata": {},
   "outputs": [],
   "source": [
    "pose_checkpoint = \"/n/groups/datta/tim_sainburg/projects/24-01-05-multicamera_keypoints_mm2d/models/rtmpose/rtmpose-m_8xb64-210e_ap10k-256x256_24-05-04-21-35-13_305524/best_PCK_epoch_200.pth\"\n",
    "pose_config = '/n/groups/datta/tim_sainburg/projects/24-01-05-multicamera_keypoints_mm2d/models/rtmpose/rtmpose-m_8xb64-210e_ap10k-256x256_24-05-04-21-35-13_305524/config.py'\n",
    "det_checkpoint = '/n/groups/datta/tim_sainburg/projects/24-01-05-multicamera_keypoints_mm2d/models/rtmdet/rtmdet_tiny_8xb32-300e_coco_chronic_24-05-04-17-51-58_216661/epoch_400.pth'\n",
    "det_config = '/n/groups/datta/tim_sainburg/projects/24-01-05-multicamera_keypoints_mm2d/models/rtmdet/rtmdet_tiny_8xb32-300e_coco_chronic_24-05-04-17-51-58_216661/config.py'"
   ]
  },
  {
   "cell_type": "code",
   "execution_count": null,
   "id": "47707612",
   "metadata": {},
   "outputs": [],
   "source": [
    "#tensorrt_path = \"/n/groups/datta/tim_sainburg/datasets/scratch/240806-3d-pipeline/tensorrt\"\n",
    "rtmpose_model_name = 'rtmpose-m_8xb64-210e_ap10k-256x256_24-05-04-21-35-13_305524'\n",
    "rtmdetection_model_name = 'rtmdet_tiny_8xb32-300e_coco_chronic_24-05-04-17-51-58_216661'"
   ]
  },
  {
   "cell_type": "code",
   "execution_count": null,
   "id": "1ffb0328",
   "metadata": {},
   "outputs": [],
   "source": [
    "output_directory_predictions = output_directory_2D / recording_row.video_recording_id"
   ]
  },
  {
   "cell_type": "code",
   "execution_count": null,
   "id": "85ddde42",
   "metadata": {},
   "outputs": [],
   "source": [
    "tensorrt_model_directory = output_directory / \"tensorrt\""
   ]
  },
  {
   "cell_type": "code",
   "execution_count": null,
   "id": "1694cea8",
   "metadata": {},
   "outputs": [],
   "source": [
    "output_directory_predictions = output_directory_2D / (recording_row.video_recording_id + '_tensorrt')"
   ]
  },
  {
   "cell_type": "code",
   "execution_count": null,
   "id": "a6ad064d",
   "metadata": {},
   "outputs": [],
   "source": [
    "output_directory_predictions"
   ]
  },
  {
   "cell_type": "code",
   "execution_count": null,
   "id": "13a7c078",
   "metadata": {},
   "outputs": [],
   "source": [
    "expected_video_length_frames = recording_row.max_video_duration_m * recording_row.samplerate"
   ]
  },
  {
   "cell_type": "code",
   "execution_count": null,
   "id": "6b2ec243",
   "metadata": {},
   "outputs": [],
   "source": [
    "inferencer = Inferencer2D(\n",
    "    video_directory,\n",
    "    output_directory_predictions = output_directory_predictions,\n",
    "    pose_estimator_config = pose_config,\n",
    "    pose_estimator_checkpoint = pose_checkpoint,\n",
    "    detector_config = det_config,\n",
    "    detector_checkpoint = det_checkpoint,\n",
    "    tensorrt_rtmdetection_model_name = rtmdetection_model_name,\n",
    "    tensorrt_rtmpose_model_name = rtmpose_model_name,\n",
    "    tensorrt_model_directory = tensorrt_model_directory,\n",
    "    use_tensorrt = True,\n",
    ")"
   ]
  },
  {
   "cell_type": "code",
   "execution_count": null,
   "id": "1a153dfd",
   "metadata": {},
   "outputs": [],
   "source": [
    "inferencer.run()"
   ]
  },
  {
   "cell_type": "code",
   "execution_count": null,
   "id": "0e5c69e4",
   "metadata": {},
   "outputs": [],
   "source": []
  }
 ],
 "metadata": {
  "kernelspec": {
   "display_name": "mmdeploy",
   "language": "python",
   "name": "mmdeploy"
  },
  "language_info": {
   "codemirror_mode": {
    "name": "ipython",
    "version": 3
   },
   "file_extension": ".py",
   "mimetype": "text/x-python",
   "name": "python",
   "nbconvert_exporter": "python",
   "pygments_lexer": "ipython3",
   "version": "3.8.18"
  }
 },
 "nbformat": 4,
 "nbformat_minor": 5
}
