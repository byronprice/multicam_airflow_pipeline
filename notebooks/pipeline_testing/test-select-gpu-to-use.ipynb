{
 "cells": [
  {
   "cell_type": "code",
   "execution_count": 15,
   "id": "f00ba25e",
   "metadata": {},
   "outputs": [],
   "source": [
    "import subprocess\n",
    "import os"
   ]
  },
  {
   "cell_type": "code",
   "execution_count": 16,
   "id": "93f5196a",
   "metadata": {},
   "outputs": [],
   "source": [
    "def get_gpu_memory_usage(gpu_id):\n",
    "    \"\"\"\n",
    "    Returns the memory usage of a specified GPU.\n",
    "    \"\"\"\n",
    "    result = subprocess.run(\n",
    "        [\"nvidia-smi\", \"--query-gpu=memory.used\", \"--format=csv,noheader,nounits\", \"-i\", str(gpu_id)],\n",
    "        capture_output=True,\n",
    "        text=True\n",
    "    )\n",
    "    return int(result.stdout.strip())"
   ]
  },
  {
   "cell_type": "code",
   "execution_count": 23,
   "id": "9e3627a8",
   "metadata": {},
   "outputs": [],
   "source": [
    "def get_cuda_visible_device_with_lowest_memory():\n",
    "    \"\"\"\n",
    "    Finds the GPU with the lowest memory usage and sets CUDA_VISIBLE_DEVICES to that GPU.\n",
    "    \"\"\"\n",
    "    # Get the number of GPUs\n",
    "    result = subprocess.run(\n",
    "        [\"nvidia-smi\", \"--query-gpu=name\", \"--format=csv,noheader\"],\n",
    "        capture_output=True,\n",
    "        text=True\n",
    "    )\n",
    "    gpus = result.stdout.strip().split(\"\\n\")\n",
    "    num_gpus = len(gpus)\n",
    "\n",
    "    lowest_memory_usage = None\n",
    "    best_gpu = None\n",
    "\n",
    "    for i in range(num_gpus):\n",
    "        mem_usage = get_gpu_memory_usage(i)\n",
    "        if lowest_memory_usage is None or mem_usage < lowest_memory_usage:\n",
    "            lowest_memory_usage = mem_usage\n",
    "            best_gpu = i\n",
    "\n",
    "    return best_gpu"
   ]
  },
  {
   "cell_type": "code",
   "execution_count": 24,
   "id": "00a9a18b",
   "metadata": {},
   "outputs": [],
   "source": [
    "# Call the function\n",
    "best_gpu = get_cuda_visible_device_with_lowest_memory()"
   ]
  },
  {
   "cell_type": "code",
   "execution_count": 25,
   "id": "cb3a8f19",
   "metadata": {},
   "outputs": [
    {
     "name": "stdout",
     "output_type": "stream",
     "text": [
      "0\n"
     ]
    }
   ],
   "source": [
    "print(best_gpu)"
   ]
  },
  {
   "cell_type": "code",
   "execution_count": null,
   "id": "5e774c71",
   "metadata": {},
   "outputs": [],
   "source": []
  }
 ],
 "metadata": {
  "kernelspec": {
   "display_name": "mmdeploy",
   "language": "python",
   "name": "mmdeploy"
  },
  "language_info": {
   "codemirror_mode": {
    "name": "ipython",
    "version": 3
   },
   "file_extension": ".py",
   "mimetype": "text/x-python",
   "name": "python",
   "nbconvert_exporter": "python",
   "pygments_lexer": "ipython3",
   "version": "3.8.18"
  }
 },
 "nbformat": 4,
 "nbformat_minor": 5
}
