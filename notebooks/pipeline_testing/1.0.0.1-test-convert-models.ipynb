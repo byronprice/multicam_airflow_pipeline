{
 "cells": [
  {
   "cell_type": "markdown",
   "id": "a5469971",
   "metadata": {},
   "source": [
    "#### Duration: nearly instant"
   ]
  },
  {
   "cell_type": "code",
   "execution_count": 1,
   "id": "d2da23c9",
   "metadata": {},
   "outputs": [],
   "source": [
    "%load_ext autoreload\n",
    "%autoreload 2"
   ]
  },
  {
   "cell_type": "code",
   "execution_count": 2,
   "id": "900a1f1a",
   "metadata": {},
   "outputs": [
    {
     "name": "stdout",
     "output_type": "stream",
     "text": [
      "/n/groups/datta/tim_sainburg/conda_envs/mmdeploy/bin/python3\n"
     ]
    }
   ],
   "source": [
    "from pathlib import Path\n",
    "import sys\n",
    "import logging\n",
    "logging.basicConfig(level=logging.INFO)\n",
    "print(sys.executable)"
   ]
  },
  {
   "cell_type": "markdown",
   "id": "d4930f63",
   "metadata": {},
   "source": [
    "### Get recording info (google sheets)"
   ]
  },
  {
   "cell_type": "code",
   "execution_count": 3,
   "id": "63237b3a",
   "metadata": {},
   "outputs": [],
   "source": [
    "import requests\n",
    "import pandas as pd\n",
    "from io import BytesIO"
   ]
  },
  {
   "cell_type": "code",
   "execution_count": 4,
   "id": "5909c615",
   "metadata": {},
   "outputs": [],
   "source": [
    "# spreadsheet_url = 'https://docs.google.com/spreadsheet/ccc?key=14HIqUaSl_n-91hpAvmACY_iVY9nLKdlA6qklhxfZon0&output=csv&gid=0'\n",
    "spreadsheet_url = \"https://docs.google.com/spreadsheet/ccc?key=1jACsUmxuJ9Une59qmvzZGc1qXezKhKzD1zho2sEfcrU&output=csv&gid=0\"\n",
    "response = requests.get(spreadsheet_url)\n",
    "recording_df = pd.read_csv(BytesIO(response.content))"
   ]
  },
  {
   "cell_type": "code",
   "execution_count": 5,
   "id": "49df48f5",
   "metadata": {},
   "outputs": [
    {
     "data": {
      "text/html": [
       "<div>\n",
       "<style scoped>\n",
       "    .dataframe tbody tr th:only-of-type {\n",
       "        vertical-align: middle;\n",
       "    }\n",
       "\n",
       "    .dataframe tbody tr th {\n",
       "        vertical-align: top;\n",
       "    }\n",
       "\n",
       "    .dataframe thead th {\n",
       "        text-align: right;\n",
       "    }\n",
       "</style>\n",
       "<table border=\"1\" class=\"dataframe\">\n",
       "  <thead>\n",
       "    <tr style=\"text-align: right;\">\n",
       "      <th></th>\n",
       "      <th>Subject</th>\n",
       "      <th>duration_m</th>\n",
       "      <th>video_recording_id</th>\n",
       "      <th>ephys_id</th>\n",
       "      <th>calibration_id</th>\n",
       "      <th>video_location_on_o2</th>\n",
       "      <th>ephys_location_on_o2</th>\n",
       "      <th>calibration_location_on_o2</th>\n",
       "      <th>samplerate</th>\n",
       "      <th>username</th>\n",
       "      <th>n_ephys_streams</th>\n",
       "      <th>max_video_duration_m</th>\n",
       "    </tr>\n",
       "  </thead>\n",
       "  <tbody>\n",
       "    <tr>\n",
       "      <th>0</th>\n",
       "      <td>M04002</td>\n",
       "      <td>10</td>\n",
       "      <td>24-05-01-13-26-43-110846</td>\n",
       "      <td>2024-05-01_13-26-37</td>\n",
       "      <td>24-05-01-13-45-07-825493</td>\n",
       "      <td>/n/groups/datta/tim_sainburg/datasets/chronic2...</td>\n",
       "      <td>/n/groups/datta/tim_sainburg/datasets/chronic2...</td>\n",
       "      <td>/n/groups/datta/tim_sainburg/datasets/chronic2...</td>\n",
       "      <td>150</td>\n",
       "      <td>tis697</td>\n",
       "      <td>1</td>\n",
       "      <td>10</td>\n",
       "    </tr>\n",
       "  </tbody>\n",
       "</table>\n",
       "</div>"
      ],
      "text/plain": [
       "  Subject  duration_m        video_recording_id             ephys_id  \\\n",
       "0  M04002          10  24-05-01-13-26-43-110846  2024-05-01_13-26-37   \n",
       "\n",
       "             calibration_id  \\\n",
       "0  24-05-01-13-45-07-825493   \n",
       "\n",
       "                                video_location_on_o2  \\\n",
       "0  /n/groups/datta/tim_sainburg/datasets/chronic2...   \n",
       "\n",
       "                                ephys_location_on_o2  \\\n",
       "0  /n/groups/datta/tim_sainburg/datasets/chronic2...   \n",
       "\n",
       "                          calibration_location_on_o2  samplerate username  \\\n",
       "0  /n/groups/datta/tim_sainburg/datasets/chronic2...         150   tis697   \n",
       "\n",
       "   n_ephys_streams  max_video_duration_m  \n",
       "0                1                    10  "
      ]
     },
     "execution_count": 5,
     "metadata": {},
     "output_type": "execute_result"
    }
   ],
   "source": [
    "recording_df[:3]"
   ]
  },
  {
   "cell_type": "markdown",
   "id": "a3d7cdc7",
   "metadata": {},
   "source": [
    "### Run sync"
   ]
  },
  {
   "cell_type": "code",
   "execution_count": 6,
   "id": "5d8a95e4",
   "metadata": {},
   "outputs": [],
   "source": [
    "for idx, recording_row in recording_df.iterrows():\n",
    "    break"
   ]
  },
  {
   "cell_type": "code",
   "execution_count": null,
   "id": "fe329d0c",
   "metadata": {},
   "outputs": [],
   "source": []
  },
  {
   "cell_type": "code",
   "execution_count": 7,
   "id": "70da145f",
   "metadata": {},
   "outputs": [],
   "source": [
    "output_directory = Path(\"/n/groups/datta/tim_sainburg/datasets/scratch/\") / \"240806-3d-pipeline\""
   ]
  },
  {
   "cell_type": "code",
   "execution_count": 13,
   "id": "8bc38bb1",
   "metadata": {},
   "outputs": [],
   "source": [
    "output_directory_tensorrt = output_directory / 'tensorrt'\n",
    "output_directory_tensorrt.mkdir(parents=True, exist_ok=True)"
   ]
  },
  {
   "cell_type": "code",
   "execution_count": 14,
   "id": "298cacc0",
   "metadata": {},
   "outputs": [
    {
     "name": "stdout",
     "output_type": "stream",
     "text": [
      "rtmdet_tiny_8xb32-300e_coco_chronic_24-05-04-17-51-58_216661\r\n",
      "rtmpose-m_8xb64-210e_ap10k-256x256_24-05-04-21-35-13_305524\r\n"
     ]
    }
   ],
   "source": [
    "!ls /n/groups/datta/tim_sainburg/datasets/scratch/240806-3d-pipeline/tensorrt/"
   ]
  },
  {
   "cell_type": "code",
   "execution_count": 15,
   "id": "11e6301e",
   "metadata": {},
   "outputs": [
    {
     "name": "stdout",
     "output_type": "stream",
     "text": [
      "/n/groups/datta/tim_sainburg/datasets/scratch/240806-3d-pipeline/tensorrt\n"
     ]
    }
   ],
   "source": [
    "print(output_directory_tensorrt)"
   ]
  },
  {
   "cell_type": "code",
   "execution_count": 16,
   "id": "14f5d2d6",
   "metadata": {
    "scrolled": true
   },
   "outputs": [
    {
     "name": "stderr",
     "output_type": "stream",
     "text": [
      "INFO:multicamera_airflow_pipeline.tim_240731.keypoints.tensorrt:Python interpreter binary location: /n/groups/datta/tim_sainburg/conda_envs/mmdeploy/bin/python3\n"
     ]
    }
   ],
   "source": [
    "from multicamera_airflow_pipeline.tim_240731.keypoints.tensorrt import RTMModelConverter"
   ]
  },
  {
   "cell_type": "code",
   "execution_count": 17,
   "id": "ca51466b",
   "metadata": {},
   "outputs": [],
   "source": [
    "# https://o2portal.rc.hms.harvard.edu/node/compute-g-17-148.o2.rc.hms.harvard.edu/59141/notebooks/tim_sainburg/projects/23-09-29-peromoseq/notebooks/keypoints/mmpose/24-01-11-deploy-2d-predictions-on-local/24-05-08-convert-pose-model.ipynb\n",
    "rtmpose_model_name = 'rtmpose-m_8xb64-210e_ap10k-256x256_24-05-04-21-35-13_305524'\n",
    "path_to_rmpose_config = Path('/n/groups/datta/tim_sainburg/projects/24-01-05-multicamera_keypoints_mm2d/models/rtmpose/rtmpose-m_8xb64-210e_ap10k-256x256_24-05-04-21-35-13_305524/config.py')\n",
    "path_to_rmpose_checkpoint = Path('/n/groups/datta/tim_sainburg/projects/24-01-05-multicamera_keypoints_mm2d/models/rtmpose/rtmpose-m_8xb64-210e_ap10k-256x256_24-05-04-21-35-13_305524/best_PCK_epoch_200.pth')"
   ]
  },
  {
   "cell_type": "code",
   "execution_count": 18,
   "id": "af9eaaaa",
   "metadata": {},
   "outputs": [],
   "source": [
    "# https://o2portal.rc.hms.harvard.edu/node/compute-g-17-148.o2.rc.hms.harvard.edu/59141/notebooks/tim_sainburg/projects/23-09-29-peromoseq/notebooks/keypoints/mmpose/24-01-11-deploy-2d-predictions-on-local/240508-convert-detection-model-fp32.ipynb\n",
    "rtmdetection_model_name = 'rtmdet_tiny_8xb32-300e_coco_chronic_24-05-04-17-51-58_216661'\n",
    "path_to_rtmdetection_config = Path('/n/groups/datta/tim_sainburg/projects/24-01-05-multicamera_keypoints_mm2d/models/rtmdet/rtmdet_tiny_8xb32-300e_coco_chronic_24-05-04-17-51-58_216661/config.py')\n",
    "path_to_rtmdetection_checkpoint = Path('/n/groups/datta/tim_sainburg/projects/24-01-05-multicamera_keypoints_mm2d/models/rtmdet/rtmdet_tiny_8xb32-300e_coco_chronic_24-05-04-17-51-58_216661/epoch_400.pth')"
   ]
  },
  {
   "cell_type": "code",
   "execution_count": 19,
   "id": "223c260d",
   "metadata": {},
   "outputs": [
    {
     "name": "stderr",
     "output_type": "stream",
     "text": [
      "INFO:multicamera_airflow_pipeline.tim_240731.keypoints.tensorrt:Using CUDA device: NVIDIA_L40S\n"
     ]
    }
   ],
   "source": [
    "model_converter = RTMModelConverter(\n",
    "    path_to_rmpose_config = path_to_rmpose_config,\n",
    "    path_to_rmpose_checkpoint = path_to_rmpose_checkpoint,\n",
    "    path_to_rtmdetection_config = path_to_rtmdetection_config,\n",
    "    path_to_rtmdetection_checkpoint = path_to_rtmdetection_checkpoint,\n",
    "    tensorrt_output_directory = output_directory_tensorrt,\n",
    "    rtmdetection_model_name = rtmdetection_model_name,\n",
    "    rtmpose_model_name = rtmpose_model_name,\n",
    ")"
   ]
  },
  {
   "cell_type": "code",
   "execution_count": 20,
   "id": "a097fb17",
   "metadata": {},
   "outputs": [
    {
     "name": "stdout",
     "output_type": "stream",
     "text": [
      "08/13 09:04:07 - mmengine - \u001b[5m\u001b[4m\u001b[33mWARNING\u001b[0m - Failed to search registry with scope \"mmdet\" in the \"Codebases\" registry tree. As a workaround, the current \"Codebases\" registry in \"mmdeploy\" is used to build instance. This may cause unexpected failure when running the built modules. Please check whether \"mmdet\" is a correct scope, or whether the registry is initialized.\n",
      "08/13 09:04:07 - mmengine - \u001b[5m\u001b[4m\u001b[33mWARNING\u001b[0m - Failed to search registry with scope \"mmdet\" in the \"mmdet_tasks\" registry tree. As a workaround, the current \"mmdet_tasks\" registry in \"mmdeploy\" is used to build instance. This may cause unexpected failure when running the built modules. Please check whether \"mmdet\" is a correct scope, or whether the registry is initialized.\n",
      "08/13 09:04:11 - mmengine - \u001b[4m\u001b[97mINFO\u001b[0m - Start pipeline mmdeploy.apis.pytorch2onnx.torch2onnx in subprocess\n",
      "08/13 09:04:11 - mmengine - \u001b[5m\u001b[4m\u001b[33mWARNING\u001b[0m - Failed to search registry with scope \"mmdet\" in the \"Codebases\" registry tree. As a workaround, the current \"Codebases\" registry in \"mmdeploy\" is used to build instance. This may cause unexpected failure when running the built modules. Please check whether \"mmdet\" is a correct scope, or whether the registry is initialized.\n",
      "08/13 09:04:11 - mmengine - \u001b[5m\u001b[4m\u001b[33mWARNING\u001b[0m - Failed to search registry with scope \"mmdet\" in the \"mmdet_tasks\" registry tree. As a workaround, the current \"mmdet_tasks\" registry in \"mmdeploy\" is used to build instance. This may cause unexpected failure when running the built modules. Please check whether \"mmdet\" is a correct scope, or whether the registry is initialized.\n",
      "Loads checkpoint by local backend from path: /n/groups/datta/tim_sainburg/projects/24-01-05-multicamera_keypoints_mm2d/models/rtmdet/rtmdet_tiny_8xb32-300e_coco_chronic_24-05-04-17-51-58_216661/epoch_400.pth\n",
      "08/13 09:04:12 - mmengine - \u001b[5m\u001b[4m\u001b[33mWARNING\u001b[0m - DeprecationWarning: get_onnx_config will be deprecated in the future. \n",
      "08/13 09:04:12 - mmengine - \u001b[4m\u001b[97mINFO\u001b[0m - Export PyTorch model to ONNX: /n/groups/datta/tim_sainburg/datasets/scratch/240806-3d-pipeline/tensorrt/rtmdet_tiny_8xb32-300e_coco_chronic_24-05-04-17-51-58_216661/NVIDIA_L40S/end2end.onnx.\n",
      "08/13 09:04:12 - mmengine - \u001b[5m\u001b[4m\u001b[33mWARNING\u001b[0m - Can not find torch.nn.functional._scaled_dot_product_attention, function rewrite will not be applied\n",
      "08/13 09:04:12 - mmengine - \u001b[5m\u001b[4m\u001b[33mWARNING\u001b[0m - Can not find mmdet.models.utils.transformer.PatchMerging.forward, function rewrite will not be applied\n",
      "/n/groups/datta/tim_sainburg/conda_envs/mmdeploy/lib/python3.10/site-packages/mmdeploy/codebase/mmdet/models/detectors/single_stage.py:80: TracerWarning: Iterating over a tensor might cause the trace to be incorrect. Passing a tensor of different shape won't change the number of iterations executed (and might lead to errors or silently give incorrect results).\n",
      "  img_shape = [int(val) for val in img_shape]\n",
      "/n/groups/datta/tim_sainburg/conda_envs/mmdeploy/lib/python3.10/site-packages/mmdeploy/codebase/mmdet/models/detectors/single_stage.py:80: TracerWarning: Converting a tensor to a Python integer might cause the trace to be incorrect. We can't record the data flow of Python values, so this value will be treated as a constant in the future. This means that the trace might not generalize to other inputs!\n",
      "  img_shape = [int(val) for val in img_shape]\n",
      "/n/groups/datta/tim_sainburg/conda_envs/mmdeploy/lib/python3.10/site-packages/mmdeploy/core/optimizers/function_marker.py:160: TracerWarning: Converting a tensor to a Python integer might cause the trace to be incorrect. We can't record the data flow of Python values, so this value will be treated as a constant in the future. This means that the trace might not generalize to other inputs!\n",
      "  ys_shape = tuple(int(s) for s in ys.shape)\n",
      "/n/groups/datta/tim_sainburg/conda_envs/mmdeploy/lib/python3.10/site-packages/torch/functional.py:504: UserWarning: torch.meshgrid: in an upcoming release, it will be required to pass the indexing argument. (Triggered internally at /opt/conda/conda-bld/pytorch_1699449201336/work/aten/src/ATen/native/TensorShape.cpp:3526.)\n",
      "  return _VF.meshgrid(tensors, **kwargs)  # type: ignore[attr-defined]\n",
      "/n/groups/datta/tim_sainburg/conda_envs/mmdeploy/lib/python3.10/site-packages/mmdeploy/mmcv/ops/nms.py:474: TracerWarning: Converting a tensor to a Python integer might cause the trace to be incorrect. We can't record the data flow of Python values, so this value will be treated as a constant in the future. This means that the trace might not generalize to other inputs!\n",
      "  int(scores.shape[-1]),\n",
      "/n/groups/datta/tim_sainburg/conda_envs/mmdeploy/lib/python3.10/site-packages/mmdeploy/mmcv/ops/nms.py:148: TracerWarning: Converting a tensor to a Python boolean might cause the trace to be incorrect. We can't record the data flow of Python values, so this value will be treated as a constant in the future. This means that the trace might not generalize to other inputs!\n",
      "  out_boxes = min(num_boxes, after_topk)\n",
      "[W shape_type_inference.cpp:1974] Warning: The shape inference of mmdeploy::TRTBatchedNMS type is missing, so it may result in wrong shape inference for the exported graph. Please consider adding it in symbolic function. (function UpdateReliable)\n",
      "[W shape_type_inference.cpp:1974] Warning: The shape inference of mmdeploy::TRTBatchedNMS type is missing, so it may result in wrong shape inference for the exported graph. Please consider adding it in symbolic function. (function UpdateReliable)\n",
      "08/13 09:04:14 - mmengine - \u001b[4m\u001b[97mINFO\u001b[0m - Execute onnx optimize passes.\n",
      "08/13 09:04:14 - mmengine - \u001b[5m\u001b[4m\u001b[33mWARNING\u001b[0m - Can not optimize model, please build torchscipt extension.\n",
      "More details: https://github.com/open-mmlab/mmdeploy/tree/main/docs/en/experimental/onnx_optimizer.md\n",
      "08/13 09:04:14 - mmengine - \u001b[4m\u001b[97mINFO\u001b[0m - Finish pipeline mmdeploy.apis.pytorch2onnx.torch2onnx\n",
      "08/13 09:04:18 - mmengine - \u001b[4m\u001b[97mINFO\u001b[0m - Start pipeline mmdeploy.apis.utils.utils.to_backend in subprocess\n",
      "08/13 09:04:18 - mmengine - \u001b[4m\u001b[97mINFO\u001b[0m - Successfully loaded tensorrt plugins from /n/groups/datta/tim_sainburg/conda_envs/mmdeploy/lib/python3.10/site-packages/mmdeploy/lib/libmmdeploy_tensorrt_ops.so\n",
      "[08/13/2024-09:04:18] [TRT] [I] [MemUsageChange] Init CUDA: CPU +14, GPU +0, now: CPU 142, GPU 1032 (MiB)\n",
      "[08/13/2024-09:04:23] [TRT] [I] [MemUsageChange] Init builder kernel library: CPU +1453, GPU +268, now: CPU 1672, GPU 1300 (MiB)\n",
      "[08/13/2024-09:04:23] [TRT] [I] ----------------------------------------------------------------\n",
      "[08/13/2024-09:04:23] [TRT] [I] Input filename:   /n/groups/datta/tim_sainburg/datasets/scratch/240806-3d-pipeline/tensorrt/rtmdet_tiny_8xb32-300e_coco_chronic_24-05-04-17-51-58_216661/NVIDIA_L40S/end2end.onnx\n",
      "[08/13/2024-09:04:23] [TRT] [I] ONNX IR version:  0.0.6\n",
      "[08/13/2024-09:04:23] [TRT] [I] Opset version:    11\n",
      "[08/13/2024-09:04:23] [TRT] [I] Producer name:    pytorch\n",
      "[08/13/2024-09:04:23] [TRT] [I] Producer version: 2.1.1\n",
      "[08/13/2024-09:04:23] [TRT] [I] Domain:           \n",
      "[08/13/2024-09:04:23] [TRT] [I] Model version:    0\n",
      "[08/13/2024-09:04:23] [TRT] [I] Doc string:       \n",
      "[08/13/2024-09:04:23] [TRT] [I] ----------------------------------------------------------------\n",
      "[08/13/2024-09:04:23] [TRT] [W] onnx2trt_utils.cpp:374: Your ONNX model has been generated with INT64 weights, while TensorRT does not natively support INT64. Attempting to cast down to INT32.\n",
      "[08/13/2024-09:04:23] [TRT] [I] No importer registered for op: TRTBatchedNMS. Attempting to import as plugin.\n",
      "[08/13/2024-09:04:23] [TRT] [I] Searching for plugin: TRTBatchedNMS, plugin_version: 1, plugin_namespace: \n",
      "[08/13/2024-09:04:23] [TRT] [I] Successfully created plugin: TRTBatchedNMS\n",
      "[08/13/2024-09:04:24] [TRT] [I] Graph optimization time: 0.0345021 seconds.\n",
      "[08/13/2024-09:04:24] [TRT] [I] [MemUsageChange] Init cuBLAS/cuBLASLt: CPU +6, GPU +10, now: CPU 1705, GPU 1310 (MiB)\n",
      "[08/13/2024-09:04:24] [TRT] [I] [MemUsageChange] Init cuDNN: CPU +2, GPU +10, now: CPU 1707, GPU 1320 (MiB)\n",
      "[08/13/2024-09:04:24] [TRT] [I] Local timing cache in use. Profiling results in this builder pass will not be stored.\n",
      "[08/13/2024-09:05:45] [TRT] [I] Detected 1 inputs and 2 output network tensors.\n",
      "[08/13/2024-09:05:45] [TRT] [I] Total Host Persistent Memory: 449168\n",
      "[08/13/2024-09:05:45] [TRT] [I] Total Device Persistent Memory: 0\n",
      "[08/13/2024-09:05:45] [TRT] [I] Total Scratch Memory: 101888\n",
      "[08/13/2024-09:05:45] [TRT] [I] [MemUsageStats] Peak memory usage of TRT CPU/GPU memory allocators: CPU 7 MiB, GPU 29 MiB\n",
      "[08/13/2024-09:05:45] [TRT] [I] [BlockAssignment] Started assigning block shifts. This will take 250 steps to complete.\n",
      "[08/13/2024-09:05:45] [TRT] [I] [BlockAssignment] Algorithm ShiftNTopDown took 13.7225ms to assign 11 blocks to 250 nodes requiring 7015936 bytes.\n",
      "[08/13/2024-09:05:45] [TRT] [I] Total Activation Memory: 7014400\n"
     ]
    },
    {
     "name": "stdout",
     "output_type": "stream",
     "text": [
      "[08/13/2024-09:05:45] [TRT] [I] [MemUsageChange] Init cuBLAS/cuBLASLt: CPU +0, GPU +8, now: CPU 1926, GPU 1370 (MiB)\n",
      "[08/13/2024-09:05:45] [TRT] [I] [MemUsageChange] Init cuDNN: CPU +0, GPU +10, now: CPU 1926, GPU 1380 (MiB)\n",
      "[08/13/2024-09:05:45] [TRT] [I] [MemUsageChange] TensorRT-managed allocation in building engine: CPU +3, GPU +29, now: CPU 3, GPU 29 (MiB)\n",
      "08/13 09:05:46 - mmengine - \u001b[4m\u001b[97mINFO\u001b[0m - Finish pipeline mmdeploy.apis.utils.utils.to_backend\n",
      "08/13 09:05:46 - mmengine - \u001b[4m\u001b[97mINFO\u001b[0m - visualize tensorrt model start.\n",
      "08/13 09:05:52 - mmengine - \u001b[5m\u001b[4m\u001b[33mWARNING\u001b[0m - Failed to search registry with scope \"mmdet\" in the \"Codebases\" registry tree. As a workaround, the current \"Codebases\" registry in \"mmdeploy\" is used to build instance. This may cause unexpected failure when running the built modules. Please check whether \"mmdet\" is a correct scope, or whether the registry is initialized.\n",
      "08/13 09:05:52 - mmengine - \u001b[5m\u001b[4m\u001b[33mWARNING\u001b[0m - Failed to search registry with scope \"mmdet\" in the \"mmdet_tasks\" registry tree. As a workaround, the current \"mmdet_tasks\" registry in \"mmdeploy\" is used to build instance. This may cause unexpected failure when running the built modules. Please check whether \"mmdet\" is a correct scope, or whether the registry is initialized.\n",
      "08/13 09:05:52 - mmengine - \u001b[5m\u001b[4m\u001b[33mWARNING\u001b[0m - Failed to search registry with scope \"mmdet\" in the \"backend_detectors\" registry tree. As a workaround, the current \"backend_detectors\" registry in \"mmdeploy\" is used to build instance. This may cause unexpected failure when running the built modules. Please check whether \"mmdet\" is a correct scope, or whether the registry is initialized.\n",
      "08/13 09:05:52 - mmengine - \u001b[4m\u001b[97mINFO\u001b[0m - Successfully loaded tensorrt plugins from /n/groups/datta/tim_sainburg/conda_envs/mmdeploy/lib/python3.10/site-packages/mmdeploy/lib/libmmdeploy_tensorrt_ops.so\n",
      "08/13 09:05:52 - mmengine - \u001b[4m\u001b[97mINFO\u001b[0m - Successfully loaded tensorrt plugins from /n/groups/datta/tim_sainburg/conda_envs/mmdeploy/lib/python3.10/site-packages/mmdeploy/lib/libmmdeploy_tensorrt_ops.so\n",
      "08/13 09:05:52 - mmengine - \u001b[5m\u001b[4m\u001b[33mWARNING\u001b[0m - render and display result skipped for headless device, exception no display name and no $DISPLAY environment variable\n",
      "08/13 09:05:53 - mmengine - \u001b[4m\u001b[97mINFO\u001b[0m - visualize tensorrt model success.\n",
      "08/13 09:05:53 - mmengine - \u001b[4m\u001b[97mINFO\u001b[0m - visualize pytorch model start.\n",
      "08/13 09:05:57 - mmengine - \u001b[5m\u001b[4m\u001b[33mWARNING\u001b[0m - Failed to search registry with scope \"mmdet\" in the \"Codebases\" registry tree. As a workaround, the current \"Codebases\" registry in \"mmdeploy\" is used to build instance. This may cause unexpected failure when running the built modules. Please check whether \"mmdet\" is a correct scope, or whether the registry is initialized.\n",
      "08/13 09:05:57 - mmengine - \u001b[5m\u001b[4m\u001b[33mWARNING\u001b[0m - Failed to search registry with scope \"mmdet\" in the \"mmdet_tasks\" registry tree. As a workaround, the current \"mmdet_tasks\" registry in \"mmdeploy\" is used to build instance. This may cause unexpected failure when running the built modules. Please check whether \"mmdet\" is a correct scope, or whether the registry is initialized.\n",
      "/n/groups/datta/tim_sainburg/conda_envs/mmdeploy/lib/python3.10/site-packages/torch/functional.py:504: UserWarning: torch.meshgrid: in an upcoming release, it will be required to pass the indexing argument. (Triggered internally at /opt/conda/conda-bld/pytorch_1699449201336/work/aten/src/ATen/native/TensorShape.cpp:3526.)\n",
      "  return _VF.meshgrid(tensors, **kwargs)  # type: ignore[attr-defined]\n",
      "Loads checkpoint by local backend from path: /n/groups/datta/tim_sainburg/projects/24-01-05-multicamera_keypoints_mm2d/models/rtmdet/rtmdet_tiny_8xb32-300e_coco_chronic_24-05-04-17-51-58_216661/epoch_400.pth\n",
      "08/13 09:05:58 - mmengine - \u001b[5m\u001b[4m\u001b[33mWARNING\u001b[0m - render and display result skipped for headless device, exception no display name and no $DISPLAY environment variable\n",
      "08/13 09:05:58 - mmengine - \u001b[4m\u001b[97mINFO\u001b[0m - visualize pytorch model success.\n",
      "08/13 09:05:58 - mmengine - \u001b[4m\u001b[97mINFO\u001b[0m - All process success.\n"
     ]
    },
    {
     "name": "stderr",
     "output_type": "stream",
     "text": [
      "INFO:multicamera_airflow_pipeline.tim_240731.keypoints.tensorrt:Finished converting detection model to tensorrt.\n",
      "INFO:multicamera_airflow_pipeline.tim_240731.keypoints.tensorrt:model output at: /n/groups/datta/tim_sainburg/datasets/scratch/240806-3d-pipeline/tensorrt/rtmdet_tiny_8xb32-300e_coco_chronic_24-05-04-17-51-58_216661/NVIDIA_L40S\n"
     ]
    },
    {
     "name": "stdout",
     "output_type": "stream",
     "text": [
      "08/13 09:06:08 - mmengine - \u001b[5m\u001b[4m\u001b[33mWARNING\u001b[0m - Failed to search registry with scope \"mmpose\" in the \"Codebases\" registry tree. As a workaround, the current \"Codebases\" registry in \"mmdeploy\" is used to build instance. This may cause unexpected failure when running the built modules. Please check whether \"mmpose\" is a correct scope, or whether the registry is initialized.\n",
      "08/13 09:06:08 - mmengine - \u001b[5m\u001b[4m\u001b[33mWARNING\u001b[0m - Failed to search registry with scope \"mmpose\" in the \"mmpose_tasks\" registry tree. As a workaround, the current \"mmpose_tasks\" registry in \"mmdeploy\" is used to build instance. This may cause unexpected failure when running the built modules. Please check whether \"mmpose\" is a correct scope, or whether the registry is initialized.\n",
      "08/13 09:06:11 - mmengine - \u001b[4m\u001b[97mINFO\u001b[0m - Start pipeline mmdeploy.apis.pytorch2onnx.torch2onnx in subprocess\n",
      "08/13 09:06:12 - mmengine - \u001b[5m\u001b[4m\u001b[33mWARNING\u001b[0m - Failed to search registry with scope \"mmpose\" in the \"Codebases\" registry tree. As a workaround, the current \"Codebases\" registry in \"mmdeploy\" is used to build instance. This may cause unexpected failure when running the built modules. Please check whether \"mmpose\" is a correct scope, or whether the registry is initialized.\n",
      "08/13 09:06:12 - mmengine - \u001b[5m\u001b[4m\u001b[33mWARNING\u001b[0m - Failed to search registry with scope \"mmpose\" in the \"mmpose_tasks\" registry tree. As a workaround, the current \"mmpose_tasks\" registry in \"mmdeploy\" is used to build instance. This may cause unexpected failure when running the built modules. Please check whether \"mmpose\" is a correct scope, or whether the registry is initialized.\n",
      "Loads checkpoint by local backend from path: /n/groups/datta/tim_sainburg/projects/24-01-05-multicamera_keypoints_mm2d/models/rtmpose/rtmpose-m_8xb64-210e_ap10k-256x256_24-05-04-21-35-13_305524/best_PCK_epoch_200.pth\n",
      "08/13 09:06:12 - mmengine - \u001b[5m\u001b[4m\u001b[33mWARNING\u001b[0m - DeprecationWarning: get_onnx_config will be deprecated in the future. \n",
      "08/13 09:06:12 - mmengine - \u001b[4m\u001b[97mINFO\u001b[0m - Export PyTorch model to ONNX: /n/groups/datta/tim_sainburg/datasets/scratch/240806-3d-pipeline/tensorrt/rtmpose-m_8xb64-210e_ap10k-256x256_24-05-04-21-35-13_305524/NVIDIA_L40S/end2end.onnx.\n",
      "08/13 09:06:12 - mmengine - \u001b[5m\u001b[4m\u001b[33mWARNING\u001b[0m - Can not find models.yolox_pose_head.YOLOXPoseHead.predict, function rewrite will not be applied\n",
      "08/13 09:06:12 - mmengine - \u001b[5m\u001b[4m\u001b[33mWARNING\u001b[0m - Can not find models.yolox_pose_head.YOLOXPoseHead.predict_by_feat, function rewrite will not be applied\n",
      "08/13 09:06:12 - mmengine - \u001b[5m\u001b[4m\u001b[33mWARNING\u001b[0m - Can not find torch.nn.functional._scaled_dot_product_attention, function rewrite will not be applied\n",
      "08/13 09:06:12 - mmengine - \u001b[5m\u001b[4m\u001b[33mWARNING\u001b[0m - Can not find mmdet.models.utils.transformer.PatchMerging.forward, function rewrite will not be applied\n",
      "08/13 09:06:13 - mmengine - \u001b[4m\u001b[97mINFO\u001b[0m - Execute onnx optimize passes.\n",
      "08/13 09:06:13 - mmengine - \u001b[5m\u001b[4m\u001b[33mWARNING\u001b[0m - Can not optimize model, please build torchscipt extension.\n",
      "More details: https://github.com/open-mmlab/mmdeploy/tree/main/docs/en/experimental/onnx_optimizer.md\n",
      "08/13 09:06:14 - mmengine - \u001b[4m\u001b[97mINFO\u001b[0m - Finish pipeline mmdeploy.apis.pytorch2onnx.torch2onnx\n",
      "08/13 09:06:18 - mmengine - \u001b[4m\u001b[97mINFO\u001b[0m - Start pipeline mmdeploy.apis.utils.utils.to_backend in subprocess\n",
      "08/13 09:06:18 - mmengine - \u001b[4m\u001b[97mINFO\u001b[0m - Successfully loaded tensorrt plugins from /n/groups/datta/tim_sainburg/conda_envs/mmdeploy/lib/python3.10/site-packages/mmdeploy/lib/libmmdeploy_tensorrt_ops.so\n",
      "[08/13/2024-09:06:18] [TRT] [I] [MemUsageChange] Init CUDA: CPU +14, GPU +0, now: CPU 142, GPU 1032 (MiB)\n",
      "[08/13/2024-09:06:23] [TRT] [I] [MemUsageChange] Init builder kernel library: CPU +1453, GPU +268, now: CPU 1672, GPU 1300 (MiB)\n",
      "[08/13/2024-09:06:23] [TRT] [I] ----------------------------------------------------------------\n",
      "[08/13/2024-09:06:23] [TRT] [I] Input filename:   /n/groups/datta/tim_sainburg/datasets/scratch/240806-3d-pipeline/tensorrt/rtmpose-m_8xb64-210e_ap10k-256x256_24-05-04-21-35-13_305524/NVIDIA_L40S/end2end.onnx\n",
      "[08/13/2024-09:06:23] [TRT] [I] ONNX IR version:  0.0.6\n",
      "[08/13/2024-09:06:23] [TRT] [I] Opset version:    11\n",
      "[08/13/2024-09:06:23] [TRT] [I] Producer name:    pytorch\n",
      "[08/13/2024-09:06:23] [TRT] [I] Producer version: 2.1.1\n",
      "[08/13/2024-09:06:23] [TRT] [I] Domain:           \n",
      "[08/13/2024-09:06:23] [TRT] [I] Model version:    0\n",
      "[08/13/2024-09:06:23] [TRT] [I] Doc string:       \n",
      "[08/13/2024-09:06:23] [TRT] [I] ----------------------------------------------------------------\n",
      "[08/13/2024-09:06:23] [TRT] [W] onnx2trt_utils.cpp:374: Your ONNX model has been generated with INT64 weights, while TensorRT does not natively support INT64. Attempting to cast down to INT32.\n",
      "[08/13/2024-09:06:23] [TRT] [I] Graph optimization time: 0.0330589 seconds.\n",
      "[08/13/2024-09:06:23] [TRT] [I] Local timing cache in use. Profiling results in this builder pass will not be stored.\n",
      "[08/13/2024-09:08:34] [TRT] [I] Detected 1 inputs and 2 output network tensors.\n",
      "[08/13/2024-09:08:35] [TRT] [I] Total Host Persistent Memory: 397344\n",
      "[08/13/2024-09:08:35] [TRT] [I] Total Device Persistent Memory: 6656\n",
      "[08/13/2024-09:08:35] [TRT] [I] Total Scratch Memory: 1573888\n",
      "[08/13/2024-09:08:35] [TRT] [I] [MemUsageStats] Peak memory usage of TRT CPU/GPU memory allocators: CPU 19 MiB, GPU 66 MiB\n",
      "[08/13/2024-09:08:35] [TRT] [I] [BlockAssignment] Started assigning block shifts. This will take 211 steps to complete.\n",
      "[08/13/2024-09:08:35] [TRT] [I] [BlockAssignment] Algorithm ShiftNTopDown took 7.59801ms to assign 8 blocks to 211 nodes requiring 33082368 bytes.\n",
      "[08/13/2024-09:08:35] [TRT] [I] Total Activation Memory: 33081344\n",
      "[08/13/2024-09:08:35] [TRT] [I] [MemUsageChange] TensorRT-managed allocation in building engine: CPU +5, GPU +66, now: CPU 5, GPU 66 (MiB)\n",
      "08/13 09:08:35 - mmengine - \u001b[4m\u001b[97mINFO\u001b[0m - Finish pipeline mmdeploy.apis.utils.utils.to_backend\n",
      "08/13 09:08:36 - mmengine - \u001b[4m\u001b[97mINFO\u001b[0m - visualize tensorrt model start.\n",
      "08/13 09:08:42 - mmengine - \u001b[5m\u001b[4m\u001b[33mWARNING\u001b[0m - Failed to search registry with scope \"mmpose\" in the \"Codebases\" registry tree. As a workaround, the current \"Codebases\" registry in \"mmdeploy\" is used to build instance. This may cause unexpected failure when running the built modules. Please check whether \"mmpose\" is a correct scope, or whether the registry is initialized.\n",
      "08/13 09:08:42 - mmengine - \u001b[5m\u001b[4m\u001b[33mWARNING\u001b[0m - Failed to search registry with scope \"mmpose\" in the \"mmpose_tasks\" registry tree. As a workaround, the current \"mmpose_tasks\" registry in \"mmdeploy\" is used to build instance. This may cause unexpected failure when running the built modules. Please check whether \"mmpose\" is a correct scope, or whether the registry is initialized.\n",
      "08/13 09:08:42 - mmengine - \u001b[5m\u001b[4m\u001b[33mWARNING\u001b[0m - Failed to search registry with scope \"mmpose\" in the \"backend_segmentors\" registry tree. As a workaround, the current \"backend_segmentors\" registry in \"mmdeploy\" is used to build instance. This may cause unexpected failure when running the built modules. Please check whether \"mmpose\" is a correct scope, or whether the registry is initialized.\n",
      "08/13 09:08:42 - mmengine - \u001b[4m\u001b[97mINFO\u001b[0m - Successfully loaded tensorrt plugins from /n/groups/datta/tim_sainburg/conda_envs/mmdeploy/lib/python3.10/site-packages/mmdeploy/lib/libmmdeploy_tensorrt_ops.so\n",
      "08/13 09:08:42 - mmengine - \u001b[4m\u001b[97mINFO\u001b[0m - Successfully loaded tensorrt plugins from /n/groups/datta/tim_sainburg/conda_envs/mmdeploy/lib/python3.10/site-packages/mmdeploy/lib/libmmdeploy_tensorrt_ops.so\n",
      "08/13 09:08:43 - mmengine - \u001b[5m\u001b[4m\u001b[33mWARNING\u001b[0m - render and display result skipped for headless device, exception no display name and no $DISPLAY environment variable\n",
      "08/13 09:08:44 - mmengine - \u001b[4m\u001b[97mINFO\u001b[0m - visualize tensorrt model success.\n",
      "08/13 09:08:44 - mmengine - \u001b[4m\u001b[97mINFO\u001b[0m - visualize pytorch model start.\n",
      "08/13 09:08:48 - mmengine - \u001b[5m\u001b[4m\u001b[33mWARNING\u001b[0m - Failed to search registry with scope \"mmpose\" in the \"Codebases\" registry tree. As a workaround, the current \"Codebases\" registry in \"mmdeploy\" is used to build instance. This may cause unexpected failure when running the built modules. Please check whether \"mmpose\" is a correct scope, or whether the registry is initialized.\n",
      "08/13 09:08:48 - mmengine - \u001b[5m\u001b[4m\u001b[33mWARNING\u001b[0m - Failed to search registry with scope \"mmpose\" in the \"mmpose_tasks\" registry tree. As a workaround, the current \"mmpose_tasks\" registry in \"mmdeploy\" is used to build instance. This may cause unexpected failure when running the built modules. Please check whether \"mmpose\" is a correct scope, or whether the registry is initialized.\n"
     ]
    },
    {
     "name": "stdout",
     "output_type": "stream",
     "text": [
      "Loads checkpoint by local backend from path: /n/groups/datta/tim_sainburg/projects/24-01-05-multicamera_keypoints_mm2d/models/rtmpose/rtmpose-m_8xb64-210e_ap10k-256x256_24-05-04-21-35-13_305524/best_PCK_epoch_200.pth\n",
      "08/13 09:08:48 - mmengine - \u001b[5m\u001b[4m\u001b[33mWARNING\u001b[0m - render and display result skipped for headless device, exception no display name and no $DISPLAY environment variable\n",
      "08/13 09:08:49 - mmengine - \u001b[4m\u001b[97mINFO\u001b[0m - visualize pytorch model success.\n",
      "08/13 09:08:49 - mmengine - \u001b[4m\u001b[97mINFO\u001b[0m - All process success.\n"
     ]
    },
    {
     "name": "stderr",
     "output_type": "stream",
     "text": [
      "INFO:multicamera_airflow_pipeline.tim_240731.keypoints.tensorrt:Finished converting pose model to tensorrt.\n",
      "INFO:multicamera_airflow_pipeline.tim_240731.keypoints.tensorrt:model output at: /n/groups/datta/tim_sainburg/datasets/scratch/240806-3d-pipeline/tensorrt/rtmpose-m_8xb64-210e_ap10k-256x256_24-05-04-21-35-13_305524/NVIDIA_L40S\n"
     ]
    }
   ],
   "source": [
    "model_converter.run()"
   ]
  },
  {
   "cell_type": "code",
   "execution_count": 21,
   "id": "260c0623",
   "metadata": {},
   "outputs": [
    {
     "name": "stdout",
     "output_type": "stream",
     "text": [
      "rtmdet_tiny_8xb32-300e_coco_chronic_24-05-04-17-51-58_216661\r\n",
      "rtmpose-m_8xb64-210e_ap10k-256x256_24-05-04-21-35-13_305524\r\n"
     ]
    }
   ],
   "source": [
    "!ls {output_directory_tensorrt.as_posix()}"
   ]
  },
  {
   "cell_type": "code",
   "execution_count": 16,
   "id": "2fda1488",
   "metadata": {},
   "outputs": [
    {
     "data": {
      "text/plain": [
       "PosixPath('/n/groups/datta/tim_sainburg/datasets/scratch/240806-3d-pipeline/tensorrt-2')"
      ]
     },
     "execution_count": 16,
     "metadata": {},
     "output_type": "execute_result"
    }
   ],
   "source": [
    "output_directory_tensorrt"
   ]
  },
  {
   "cell_type": "code",
   "execution_count": 23,
   "id": "6841d979",
   "metadata": {},
   "outputs": [
    {
     "name": "stdout",
     "output_type": "stream",
     "text": [
      "deploy.json  end2end.engine  output_pytorch.jpg   pipeline.json\r\n",
      "detail.json  end2end.onnx    output_tensorrt.jpg\r\n"
     ]
    }
   ],
   "source": [
    "!ls {output_directory_tensorrt / \"rtmdet_tiny_8xb32-300e_coco_chronic_24-05-04-17-51-58_216661/NVIDIA_L40S\"}"
   ]
  },
  {
   "cell_type": "code",
   "execution_count": 24,
   "id": "41f0e798",
   "metadata": {},
   "outputs": [
    {
     "name": "stdout",
     "output_type": "stream",
     "text": [
      "deploy.json  end2end.engine  output_pytorch.jpg   pipeline.json\r\n",
      "detail.json  end2end.onnx    output_tensorrt.jpg\r\n"
     ]
    }
   ],
   "source": [
    "!ls {output_directory_tensorrt / \"rtmpose-m_8xb64-210e_ap10k-256x256_24-05-04-21-35-13_305524/NVIDIA_L40S\"}"
   ]
  },
  {
   "cell_type": "code",
   "execution_count": null,
   "id": "df7fa09f",
   "metadata": {},
   "outputs": [],
   "source": []
  }
 ],
 "metadata": {
  "kernelspec": {
   "display_name": "mmdeploy_tensorrt",
   "language": "python",
   "name": "mmdeploy_tensorrt"
  },
  "language_info": {
   "codemirror_mode": {
    "name": "ipython",
    "version": 3
   },
   "file_extension": ".py",
   "mimetype": "text/x-python",
   "name": "python",
   "nbconvert_exporter": "python",
   "pygments_lexer": "ipython3",
   "version": "3.8.19"
  }
 },
 "nbformat": 4,
 "nbformat_minor": 5
}
