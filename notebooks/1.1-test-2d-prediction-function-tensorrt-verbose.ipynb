{
 "cells": [
  {
   "cell_type": "code",
   "execution_count": 1,
   "id": "95f7c25c",
   "metadata": {},
   "outputs": [],
   "source": [
    "import os\n",
    "os.environ[\"CUDA_DEVICE_ORDER\"]=\"PCI_BUS_ID\"   # see issue #152\n",
    "os.environ[\"CUDA_VISIBLE_DEVICES\"]=\"0\""
   ]
  },
  {
   "cell_type": "code",
   "execution_count": 2,
   "id": "52e8cd58",
   "metadata": {},
   "outputs": [
    {
     "data": {
      "text/plain": [
       "'/n/groups/datta/tim_sainburg/conda_envs/mmdeploy/bin/python3'"
      ]
     },
     "execution_count": 2,
     "metadata": {},
     "output_type": "execute_result"
    }
   ],
   "source": [
    "import sys\n",
    "sys.executable"
   ]
  },
  {
   "cell_type": "markdown",
   "id": "774638dc",
   "metadata": {},
   "source": [
    "### important\n",
    "- must be `module load cuda/11.7`"
   ]
  },
  {
   "cell_type": "markdown",
   "id": "6f361e85",
   "metadata": {},
   "source": [
    "##### Duration: ???"
   ]
  },
  {
   "cell_type": "code",
   "execution_count": 3,
   "id": "d2da23c9",
   "metadata": {},
   "outputs": [],
   "source": [
    "%load_ext autoreload\n",
    "%autoreload 2"
   ]
  },
  {
   "cell_type": "code",
   "execution_count": 4,
   "id": "900a1f1a",
   "metadata": {},
   "outputs": [
    {
     "name": "stdout",
     "output_type": "stream",
     "text": [
      "/n/groups/datta/tim_sainburg/conda_envs/mmdeploy/bin/python3\n"
     ]
    }
   ],
   "source": [
    "from pathlib import Path\n",
    "import sys\n",
    "import logging\n",
    "logging.basicConfig(level=logging.INFO)\n",
    "print(sys.executable)"
   ]
  },
  {
   "cell_type": "code",
   "execution_count": 5,
   "id": "c273f6e6",
   "metadata": {},
   "outputs": [
    {
     "name": "stderr",
     "output_type": "stream",
     "text": [
      "INFO:multicamera_airflow_pipeline.tim_240731.keypoints.predict_2D:Python interpreter binary location: /n/groups/datta/tim_sainburg/conda_envs/mmdeploy/bin/python3\n"
     ]
    }
   ],
   "source": [
    "from multicamera_airflow_pipeline.tim_240731.keypoints.predict_2D import Inferencer2D"
   ]
  },
  {
   "cell_type": "markdown",
   "id": "d4930f63",
   "metadata": {},
   "source": [
    "### Get recording info (google sheets)"
   ]
  },
  {
   "cell_type": "code",
   "execution_count": 6,
   "id": "63237b3a",
   "metadata": {},
   "outputs": [],
   "source": [
    "import requests\n",
    "import pandas as pd\n",
    "from io import BytesIO"
   ]
  },
  {
   "cell_type": "code",
   "execution_count": 7,
   "id": "5909c615",
   "metadata": {},
   "outputs": [],
   "source": [
    "# spreadsheet_url = 'https://docs.google.com/spreadsheet/ccc?key=14HIqUaSl_n-91hpAvmACY_iVY9nLKdlA6qklhxfZon0&output=csv&gid=0'\n",
    "spreadsheet_url = \"https://docs.google.com/spreadsheet/ccc?key=1jACsUmxuJ9Une59qmvzZGc1qXezKhKzD1zho2sEfcrU&output=csv&gid=0\"\n",
    "response = requests.get(spreadsheet_url)\n",
    "recording_df = pd.read_csv(BytesIO(response.content))"
   ]
  },
  {
   "cell_type": "code",
   "execution_count": 8,
   "id": "49df48f5",
   "metadata": {},
   "outputs": [
    {
     "data": {
      "text/html": [
       "<div>\n",
       "<style scoped>\n",
       "    .dataframe tbody tr th:only-of-type {\n",
       "        vertical-align: middle;\n",
       "    }\n",
       "\n",
       "    .dataframe tbody tr th {\n",
       "        vertical-align: top;\n",
       "    }\n",
       "\n",
       "    .dataframe thead th {\n",
       "        text-align: right;\n",
       "    }\n",
       "</style>\n",
       "<table border=\"1\" class=\"dataframe\">\n",
       "  <thead>\n",
       "    <tr style=\"text-align: right;\">\n",
       "      <th></th>\n",
       "      <th>Subject</th>\n",
       "      <th>duration_m</th>\n",
       "      <th>video_recording_id</th>\n",
       "      <th>ephys_id</th>\n",
       "      <th>calibration_id</th>\n",
       "      <th>video_location_on_o2</th>\n",
       "      <th>ephys_location_on_o2</th>\n",
       "      <th>calibration_location_on_o2</th>\n",
       "      <th>samplerate</th>\n",
       "      <th>username</th>\n",
       "      <th>n_ephys_streams</th>\n",
       "      <th>max_video_duration_m</th>\n",
       "    </tr>\n",
       "  </thead>\n",
       "  <tbody>\n",
       "    <tr>\n",
       "      <th>0</th>\n",
       "      <td>M04002</td>\n",
       "      <td>10</td>\n",
       "      <td>24-05-01-13-26-43-110846</td>\n",
       "      <td>2024-05-01_13-26-37</td>\n",
       "      <td>24-05-01-13-45-07-825493</td>\n",
       "      <td>/n/groups/datta/tim_sainburg/datasets/chronic2...</td>\n",
       "      <td>/n/groups/datta/tim_sainburg/datasets/chronic2...</td>\n",
       "      <td>/n/groups/datta/tim_sainburg/datasets/chronic2...</td>\n",
       "      <td>150</td>\n",
       "      <td>tis697</td>\n",
       "      <td>1</td>\n",
       "      <td>10</td>\n",
       "    </tr>\n",
       "  </tbody>\n",
       "</table>\n",
       "</div>"
      ],
      "text/plain": [
       "  Subject  duration_m        video_recording_id             ephys_id  \\\n",
       "0  M04002          10  24-05-01-13-26-43-110846  2024-05-01_13-26-37   \n",
       "\n",
       "             calibration_id  \\\n",
       "0  24-05-01-13-45-07-825493   \n",
       "\n",
       "                                video_location_on_o2  \\\n",
       "0  /n/groups/datta/tim_sainburg/datasets/chronic2...   \n",
       "\n",
       "                                ephys_location_on_o2  \\\n",
       "0  /n/groups/datta/tim_sainburg/datasets/chronic2...   \n",
       "\n",
       "                          calibration_location_on_o2  samplerate username  \\\n",
       "0  /n/groups/datta/tim_sainburg/datasets/chronic2...         150   tis697   \n",
       "\n",
       "   n_ephys_streams  max_video_duration_m  \n",
       "0                1                    10  "
      ]
     },
     "execution_count": 8,
     "metadata": {},
     "output_type": "execute_result"
    }
   ],
   "source": [
    "recording_df[:3]"
   ]
  },
  {
   "cell_type": "markdown",
   "id": "a3d7cdc7",
   "metadata": {},
   "source": [
    "### Run 2D prediction"
   ]
  },
  {
   "cell_type": "code",
   "execution_count": 9,
   "id": "5d8a95e4",
   "metadata": {},
   "outputs": [],
   "source": [
    "for idx, recording_row in recording_df.iterrows():\n",
    "    break"
   ]
  },
  {
   "cell_type": "code",
   "execution_count": 10,
   "id": "8bc38bb1",
   "metadata": {},
   "outputs": [],
   "source": [
    "output_directory = Path(\"/n/groups/datta/tim_sainburg/datasets/scratch/\") / \"240806-3d-pipeline\""
   ]
  },
  {
   "cell_type": "code",
   "execution_count": 11,
   "id": "5193fb79",
   "metadata": {},
   "outputs": [],
   "source": [
    "output_directory_2D = output_directory/ \"2D_predictions\" "
   ]
  },
  {
   "cell_type": "code",
   "execution_count": 12,
   "id": "248ec752",
   "metadata": {},
   "outputs": [],
   "source": [
    "output_directory_2D.mkdir(parents=True, exist_ok=True)"
   ]
  },
  {
   "cell_type": "code",
   "execution_count": 13,
   "id": "aa447fe6",
   "metadata": {},
   "outputs": [
    {
     "data": {
      "text/plain": [
       "'/n/groups/datta/tim_sainburg/datasets/chronic24/video/M04002/'"
      ]
     },
     "execution_count": 13,
     "metadata": {},
     "output_type": "execute_result"
    }
   ],
   "source": [
    "recording_row.video_location_on_o2"
   ]
  },
  {
   "cell_type": "code",
   "execution_count": 14,
   "id": "7151ee66",
   "metadata": {},
   "outputs": [],
   "source": [
    "video_directory = Path(recording_row.video_location_on_o2) / recording_row.video_recording_id"
   ]
  },
  {
   "cell_type": "code",
   "execution_count": 15,
   "id": "0e98aee7",
   "metadata": {},
   "outputs": [],
   "source": [
    "pose_checkpoint = \"/n/groups/datta/tim_sainburg/projects/24-01-05-multicamera_keypoints_mm2d/models/rtmpose/rtmpose-m_8xb64-210e_ap10k-256x256_24-05-04-21-35-13_305524/best_PCK_epoch_200.pth\"\n",
    "pose_config = '/n/groups/datta/tim_sainburg/projects/24-01-05-multicamera_keypoints_mm2d/models/rtmpose/rtmpose-m_8xb64-210e_ap10k-256x256_24-05-04-21-35-13_305524/config.py'\n",
    "det_checkpoint = '/n/groups/datta/tim_sainburg/projects/24-01-05-multicamera_keypoints_mm2d/models/rtmdet/rtmdet_tiny_8xb32-300e_coco_chronic_24-05-04-17-51-58_216661/epoch_400.pth'\n",
    "det_config = '/n/groups/datta/tim_sainburg/projects/24-01-05-multicamera_keypoints_mm2d/models/rtmdet/rtmdet_tiny_8xb32-300e_coco_chronic_24-05-04-17-51-58_216661/config.py'"
   ]
  },
  {
   "cell_type": "code",
   "execution_count": 16,
   "id": "47707612",
   "metadata": {},
   "outputs": [],
   "source": [
    "tensorrt_path = \"/n/groups/datta/tim_sainburg/datasets/scratch/240806-3d-pipeline/tensorrt\"\n",
    "rtmpose_model_name = 'rtmpose-m_8xb64-210e_ap10k-256x256_24-05-04-21-35-13_305524'\n",
    "rtmdetection_model_name = 'rtmdet_tiny_8xb32-300e_coco_chronic_24-05-04-17-51-58_216661'"
   ]
  },
  {
   "cell_type": "code",
   "execution_count": 17,
   "id": "eec48f17",
   "metadata": {},
   "outputs": [],
   "source": [
    "output_directory_predictions = output_directory_2D / recording_row.video_recording_id"
   ]
  },
  {
   "cell_type": "code",
   "execution_count": 18,
   "id": "6b2ec243",
   "metadata": {},
   "outputs": [
    {
     "name": "stderr",
     "output_type": "stream",
     "text": [
      "INFO:multicamera_airflow_pipeline.tim_240731.keypoints.predict_2D:Using CUDA device: NVIDIA_L40S\n",
      "INFO:multicamera_airflow_pipeline.tim_240731.keypoints.predict_2D:Using tensorrt, loading models\n",
      "loading libmmdeploy_trt_net.so ...\n",
      "loading libmmdeploy_ort_net.so ...\n",
      "INFO:multicamera_airflow_pipeline.tim_240731.keypoints.predict_2D:Init completed\n"
     ]
    }
   ],
   "source": [
    "inferencer = Inferencer2D(\n",
    "    video_directory,\n",
    "    output_directory_predictions = output_directory_predictions,\n",
    "    pose_estimator_config = pose_config,\n",
    "    pose_estimator_checkpoint = pose_checkpoint,\n",
    "    detector_config = det_config,\n",
    "    detector_checkpoint = det_checkpoint,\n",
    "    tensorrt_rtmdetection_model_name = rtmdetection_model_name,\n",
    "    tensorrt_rtmpose_model_name = rtmpose_model_name,\n",
    "    tensorrt_model_directory = tensorrt_path,\n",
    "    \n",
    "    use_tensorrt = True,\n",
    ")"
   ]
  },
  {
   "cell_type": "markdown",
   "id": "e7ba556f",
   "metadata": {},
   "source": [
    "### Load pose models"
   ]
  },
  {
   "cell_type": "code",
   "execution_count": 19,
   "id": "cef14621",
   "metadata": {},
   "outputs": [],
   "source": [
    "from motpy import Detection, MultiObjectTracker\n",
    "from mmdet.apis import init_detector, inference_detector\n",
    "from mmpose.utils import adapt_mmdet_pipeline\n",
    "from mmpose.apis import inference_topdown, init_model as init_pose_estimator"
   ]
  },
  {
   "cell_type": "code",
   "execution_count": 20,
   "id": "52f18f7f",
   "metadata": {},
   "outputs": [
    {
     "name": "stdout",
     "output_type": "stream",
     "text": [
      "Loads checkpoint by local backend from path: /n/groups/datta/tim_sainburg/projects/24-01-05-multicamera_keypoints_mm2d/models/rtmpose/rtmpose-m_8xb64-210e_ap10k-256x256_24-05-04-21-35-13_305524/best_PCK_epoch_200.pth\n"
     ]
    }
   ],
   "source": [
    "pose_estimator = init_pose_estimator(\n",
    "    inferencer.pose_estimator_config.as_posix(),\n",
    "    inferencer.pose_estimator_checkpoint.as_posix(),\n",
    "    device=\"cuda\",\n",
    "    cfg_options=dict(model=dict(test_cfg=dict(output_heatmaps=False))),\n",
    ")"
   ]
  },
  {
   "cell_type": "code",
   "execution_count": 21,
   "id": "e16e778b",
   "metadata": {},
   "outputs": [
    {
     "name": "stdout",
     "output_type": "stream",
     "text": [
      "Loads checkpoint by local backend from path: /n/groups/datta/tim_sainburg/projects/24-01-05-multicamera_keypoints_mm2d/models/rtmdet/rtmdet_tiny_8xb32-300e_coco_chronic_24-05-04-17-51-58_216661/epoch_400.pth\n"
     ]
    }
   ],
   "source": [
    "detector = init_detector(\n",
    "    inferencer.detector_config.as_posix(), inferencer.detector_checkpoint.as_posix(), device=\"cuda\"\n",
    ")"
   ]
  },
  {
   "cell_type": "markdown",
   "id": "99b45339",
   "metadata": {},
   "source": [
    "### Load tensortt models"
   ]
  },
  {
   "cell_type": "code",
   "execution_count": 22,
   "id": "fab1846d",
   "metadata": {},
   "outputs": [],
   "source": [
    "import tensorrt\n",
    "from mmdeploy_runtime import Detector, PoseDetector"
   ]
  },
  {
   "cell_type": "code",
   "execution_count": 25,
   "id": "8f669ee2",
   "metadata": {
    "scrolled": true
   },
   "outputs": [
    {
     "name": "stdout",
     "output_type": "stream",
     "text": [
      "[2024-08-13 09:20:55.248] [mmdeploy] [info] [model.cpp:35] [DirectoryModel] Load model: \"/n/groups/datta/tim_sainburg/datasets/scratch/240806-3d-pipeline/tensorrt/rtmdet_tiny_8xb32-300e_coco_chronic_24-05-04-17-51-58_216661/NVIDIA_L40S\"\n"
     ]
    }
   ],
   "source": [
    "tensortt_detector = inferencer.Detector(\n",
    "    model_path=inferencer.tensorrt_detection_model_path.as_posix(), device_name=\"cuda\"\n",
    ")"
   ]
  },
  {
   "cell_type": "code",
   "execution_count": 26,
   "id": "d0c0c451",
   "metadata": {},
   "outputs": [
    {
     "name": "stdout",
     "output_type": "stream",
     "text": [
      "[2024-08-13 09:20:59.155] [mmdeploy] [info] [model.cpp:35] [DirectoryModel] Load model: \"/n/groups/datta/tim_sainburg/datasets/scratch/240806-3d-pipeline/tensorrt/rtmpose-m_8xb64-210e_ap10k-256x256_24-05-04-21-35-13_305524/NVIDIA_L40S\"\n"
     ]
    }
   ],
   "source": [
    "tensortt_pose_estimator = inferencer.PoseDetector(\n",
    "    model_path=inferencer.tensorrt_pose_estimator_path.as_posix(), device_name=\"cuda\"\n",
    ")"
   ]
  },
  {
   "cell_type": "markdown",
   "id": "d9234643",
   "metadata": {},
   "source": [
    "### Test run"
   ]
  },
  {
   "cell_type": "code",
   "execution_count": 28,
   "id": "24de6d28",
   "metadata": {},
   "outputs": [
    {
     "data": {
      "text/plain": [
       "PosixPath('/n/groups/datta/tim_sainburg/datasets/chronic24/video/M04002/24-05-01-13-26-43-110846')"
      ]
     },
     "execution_count": 28,
     "metadata": {},
     "output_type": "execute_result"
    }
   ],
   "source": [
    "inferencer.recording_directory"
   ]
  },
  {
   "cell_type": "code",
   "execution_count": 29,
   "id": "67a11723",
   "metadata": {},
   "outputs": [],
   "source": [
    "inferencer.all_videos = list(inferencer.recording_directory.glob(\"*.mp4\"))"
   ]
  },
  {
   "cell_type": "code",
   "execution_count": 30,
   "id": "6b6c0216",
   "metadata": {},
   "outputs": [],
   "source": [
    "video_path = inferencer.all_videos[0]"
   ]
  },
  {
   "cell_type": "code",
   "execution_count": 31,
   "id": "55d291a5",
   "metadata": {},
   "outputs": [],
   "source": [
    "import cv2\n",
    "import numpy as np\n",
    "from tqdm.auto import tqdm"
   ]
  },
  {
   "cell_type": "code",
   "execution_count": 32,
   "id": "303695ce",
   "metadata": {},
   "outputs": [],
   "source": [
    "detection_interval=5\n",
    "n_animals=1\n",
    "total_frames=None\n",
    "use_motpy=True\n",
    "n_motpy_tracks=3\n",
    "use_tensorrt=False\n",
    "n_keypoints = 25"
   ]
  },
  {
   "cell_type": "code",
   "execution_count": 33,
   "id": "bd2f4d86",
   "metadata": {},
   "outputs": [],
   "source": [
    "video = cv2.VideoCapture(video_path.as_posix())"
   ]
  },
  {
   "cell_type": "code",
   "execution_count": 34,
   "id": "8e5d9171",
   "metadata": {},
   "outputs": [],
   "source": [
    "total_frames = 90000"
   ]
  },
  {
   "cell_type": "code",
   "execution_count": 35,
   "id": "6e0eb891",
   "metadata": {},
   "outputs": [],
   "source": [
    "if total_frames is None:\n",
    "    total_frames = int(video.get(cv2.CAP_PROP_FRAME_COUNT))\n",
    "if total_frames < 0:\n",
    "    logger.info(f\"Manually counting frames for {video_path}\")\n",
    "    # count frames manually\n",
    "    total_frames = 0\n",
    "    with tqdm(desc=\"counting frames\") as pbar:\n",
    "        while True:\n",
    "            ret, frame = video.read()\n",
    "            if not ret:\n",
    "                break\n",
    "            total_frames += 1\n",
    "            pbar.update(1)\n",
    "    logger.info(f\"Total frames: {total_frames}\")\n",
    "    # release and reallocate video\n",
    "    video.release()\n",
    "    video = cv2.VideoCapture(video_path.as_posix())\n"
   ]
  },
  {
   "cell_type": "code",
   "execution_count": 36,
   "id": "678edadc",
   "metadata": {},
   "outputs": [],
   "source": [
    "# allocate arrays\n",
    "detection_coords = np.zeros((total_frames, n_animals, 4))\n",
    "detection_conf = np.zeros((total_frames, n_animals, 1))\n",
    "keypoint_coords = np.zeros((total_frames, n_animals, n_keypoints, 2))\n",
    "keypoint_conf = np.zeros((total_frames, n_animals, n_keypoints))"
   ]
  },
  {
   "cell_type": "code",
   "execution_count": 37,
   "id": "a570ddcd",
   "metadata": {},
   "outputs": [],
   "source": [
    "tracker = MultiObjectTracker(dt=0.1)\n",
    "animal_ids = {str(i): i for i in range(n_animals)}\n",
    "bboxes_motpy = np.zeros((n_animals, 4))\n",
    "confs_motpy = np.zeros((n_animals, 1))\n",
    "detection_changes = np.zeros((total_frames, n_animals, 1))\n",
    "missing_detections = np.zeros((total_frames, n_animals, 1))"
   ]
  },
  {
   "cell_type": "code",
   "execution_count": 38,
   "id": "06684e3c",
   "metadata": {},
   "outputs": [
    {
     "data": {
      "application/vnd.jupyter.widget-view+json": {
       "model_id": "59326f900bd34087b810ed2f491e39ef",
       "version_major": 2,
       "version_minor": 0
      },
      "text/plain": [
       "  0%|          | 0/90000 [00:00<?, ?it/s]"
      ]
     },
     "metadata": {},
     "output_type": "display_data"
    }
   ],
   "source": [
    "n_frames = 0\n",
    "for frame_id in tqdm(range(total_frames), leave=False):\n",
    "    success, frame = video.read()\n",
    "    if not success:\n",
    "        break\n",
    "    break"
   ]
  },
  {
   "cell_type": "code",
   "execution_count": 39,
   "id": "79991594",
   "metadata": {},
   "outputs": [
    {
     "name": "stderr",
     "output_type": "stream",
     "text": [
      "/n/groups/datta/tim_sainburg/conda_envs/mmdeploy/lib/python3.10/site-packages/torch/functional.py:504: UserWarning: torch.meshgrid: in an upcoming release, it will be required to pass the indexing argument. (Triggered internally at /opt/conda/conda-bld/pytorch_1699449201336/work/aten/src/ATen/native/TensorShape.cpp:3526.)\n",
      "  return _VF.meshgrid(tensors, **kwargs)  # type: ignore[attr-defined]\n"
     ]
    }
   ],
   "source": [
    "result = inference_detector(detector, frame)"
   ]
  },
  {
   "cell_type": "code",
   "execution_count": 43,
   "id": "3a8465b3",
   "metadata": {
    "scrolled": true
   },
   "outputs": [
    {
     "data": {
      "text/plain": [
       "<DetDataSample(\n",
       "\n",
       "    META INFORMATION\n",
       "    img_path: None\n",
       "    batch_input_shape: (640, 640)\n",
       "    ori_shape: (1200, 1220)\n",
       "    scale_factor: (0.5245901639344263, 0.525)\n",
       "    img_shape: (640, 640)\n",
       "    img_id: 0\n",
       "    pad_shape: (640, 640)\n",
       "\n",
       "    DATA FIELDS\n",
       "    ignored_instances: <InstanceData(\n",
       "        \n",
       "            META INFORMATION\n",
       "        \n",
       "            DATA FIELDS\n",
       "            bboxes: tensor([], device='cuda:0', size=(0, 4))\n",
       "            labels: tensor([], device='cuda:0', dtype=torch.int64)\n",
       "        ) at 0x7f76b2351330>\n",
       "    pred_instances: <InstanceData(\n",
       "        \n",
       "            META INFORMATION\n",
       "        \n",
       "            DATA FIELDS\n",
       "            bboxes: tensor([[ 846.0789,  398.0099, 1081.8961,  667.3137],\n",
       "                        [ 784.1358,  493.8185, 1100.8638,  859.5247],\n",
       "                        [ 716.9078,  381.5644, 1052.2516,  671.4828],\n",
       "                        ...,\n",
       "                        [ 702.6973,  226.9485,  928.8355,  413.5803],\n",
       "                        [ 614.6066,  523.6096,  996.7943,  894.4401],\n",
       "                        [ 588.4063, 1131.8323,  756.8227, 1216.9504]], device='cuda:0')\n",
       "            scores: tensor([0.9092, 0.0210, 0.0201, 0.0194, 0.0178, 0.0126, 0.0122, 0.0112, 0.0105,\n",
       "                        0.0103, 0.0099, 0.0099, 0.0095, 0.0094, 0.0093, 0.0090, 0.0090, 0.0084,\n",
       "                        0.0084, 0.0083, 0.0081, 0.0081, 0.0080, 0.0080, 0.0078, 0.0077, 0.0075,\n",
       "                        0.0074, 0.0072, 0.0072, 0.0071, 0.0070, 0.0070, 0.0070, 0.0069, 0.0068,\n",
       "                        0.0068, 0.0067, 0.0067, 0.0066, 0.0066, 0.0066, 0.0065, 0.0064, 0.0063,\n",
       "                        0.0063, 0.0063, 0.0062, 0.0062, 0.0062, 0.0061, 0.0059, 0.0058, 0.0057,\n",
       "                        0.0057, 0.0056, 0.0056, 0.0056, 0.0056, 0.0055, 0.0055, 0.0055, 0.0055,\n",
       "                        0.0054, 0.0054, 0.0054, 0.0054, 0.0053, 0.0053, 0.0052, 0.0052, 0.0052,\n",
       "                        0.0052, 0.0052, 0.0051, 0.0051, 0.0051, 0.0051, 0.0051, 0.0051, 0.0050,\n",
       "                        0.0050, 0.0049, 0.0049, 0.0049, 0.0049, 0.0048, 0.0048, 0.0048, 0.0048,\n",
       "                        0.0047, 0.0047, 0.0047, 0.0046, 0.0046, 0.0046, 0.0046, 0.0045, 0.0045,\n",
       "                        0.0044, 0.0044, 0.0044, 0.0044, 0.0043, 0.0043, 0.0042, 0.0042, 0.0041,\n",
       "                        0.0041, 0.0041, 0.0041, 0.0041, 0.0040, 0.0040, 0.0040, 0.0040, 0.0039,\n",
       "                        0.0039, 0.0038, 0.0038, 0.0038, 0.0038, 0.0037, 0.0037, 0.0037, 0.0037,\n",
       "                        0.0036, 0.0036, 0.0036, 0.0036, 0.0035, 0.0035, 0.0035, 0.0035, 0.0035,\n",
       "                        0.0035, 0.0035, 0.0034, 0.0034, 0.0034, 0.0034, 0.0034, 0.0034, 0.0034,\n",
       "                        0.0033, 0.0033, 0.0033, 0.0033, 0.0033, 0.0033, 0.0033, 0.0033, 0.0033,\n",
       "                        0.0033, 0.0033, 0.0033, 0.0033, 0.0032, 0.0032, 0.0032, 0.0032, 0.0032,\n",
       "                        0.0032, 0.0032, 0.0032, 0.0031, 0.0031, 0.0031, 0.0031, 0.0031, 0.0031,\n",
       "                        0.0031, 0.0031, 0.0031, 0.0031, 0.0031, 0.0030, 0.0030, 0.0030, 0.0030,\n",
       "                        0.0030, 0.0030, 0.0030, 0.0030, 0.0030, 0.0030, 0.0030, 0.0030, 0.0029,\n",
       "                        0.0029, 0.0029, 0.0029, 0.0029, 0.0029, 0.0029, 0.0029, 0.0029, 0.0029,\n",
       "                        0.0029, 0.0029, 0.0029, 0.0029, 0.0028, 0.0028, 0.0028, 0.0028, 0.0028,\n",
       "                        0.0028, 0.0028, 0.0028, 0.0028, 0.0028, 0.0027, 0.0027, 0.0027, 0.0027,\n",
       "                        0.0027, 0.0027, 0.0027, 0.0027, 0.0027, 0.0027, 0.0027, 0.0027, 0.0027,\n",
       "                        0.0026, 0.0026, 0.0026, 0.0026, 0.0026, 0.0026, 0.0026, 0.0026, 0.0026,\n",
       "                        0.0026, 0.0026, 0.0026, 0.0025, 0.0025, 0.0025, 0.0025, 0.0025, 0.0025,\n",
       "                        0.0025, 0.0025, 0.0025, 0.0025, 0.0025, 0.0025, 0.0025, 0.0024, 0.0024,\n",
       "                        0.0024, 0.0024, 0.0024, 0.0024, 0.0024, 0.0024, 0.0024, 0.0024, 0.0024,\n",
       "                        0.0024, 0.0024, 0.0024, 0.0023, 0.0023, 0.0023, 0.0023, 0.0023, 0.0023,\n",
       "                        0.0023, 0.0023, 0.0023, 0.0023, 0.0023, 0.0022, 0.0022, 0.0022, 0.0022,\n",
       "                        0.0022, 0.0022, 0.0022, 0.0022, 0.0022, 0.0022, 0.0022, 0.0022, 0.0022,\n",
       "                        0.0022, 0.0022, 0.0022, 0.0022, 0.0022, 0.0022, 0.0022, 0.0022, 0.0022,\n",
       "                        0.0021, 0.0021, 0.0021], device='cuda:0')\n",
       "            labels: tensor([0, 0, 0, 0, 0, 0, 0, 0, 0, 0, 0, 0, 0, 0, 0, 0, 0, 0, 0, 0, 0, 0, 0, 0,\n",
       "                        0, 0, 0, 0, 0, 0, 0, 0, 0, 0, 0, 0, 0, 0, 0, 0, 0, 0, 0, 0, 0, 0, 0, 0,\n",
       "                        0, 0, 0, 0, 0, 0, 0, 0, 0, 0, 0, 0, 0, 0, 0, 0, 0, 0, 0, 0, 0, 0, 0, 0,\n",
       "                        0, 0, 0, 0, 0, 0, 0, 0, 0, 0, 0, 0, 0, 0, 0, 0, 0, 0, 0, 0, 0, 0, 0, 0,\n",
       "                        0, 0, 0, 0, 0, 0, 0, 0, 0, 0, 0, 0, 0, 0, 0, 0, 0, 0, 0, 0, 0, 0, 0, 0,\n",
       "                        0, 0, 0, 0, 0, 0, 0, 0, 0, 0, 0, 0, 0, 0, 0, 0, 0, 0, 0, 0, 0, 0, 0, 0,\n",
       "                        0, 0, 0, 0, 0, 0, 0, 0, 0, 0, 0, 0, 0, 0, 0, 0, 0, 0, 0, 0, 0, 0, 0, 0,\n",
       "                        0, 0, 0, 0, 0, 0, 0, 0, 0, 0, 0, 0, 0, 0, 0, 0, 0, 0, 0, 0, 0, 0, 0, 0,\n",
       "                        0, 0, 0, 0, 0, 0, 0, 0, 0, 0, 0, 0, 0, 0, 0, 0, 0, 0, 0, 0, 0, 0, 0, 0,\n",
       "                        0, 0, 0, 0, 0, 0, 0, 0, 0, 0, 0, 0, 0, 0, 0, 0, 0, 0, 0, 0, 0, 0, 0, 0,\n",
       "                        0, 0, 0, 0, 0, 0, 0, 0, 0, 0, 0, 0, 0, 0, 0, 0, 0, 0, 0, 0, 0, 0, 0, 0,\n",
       "                        0, 0, 0, 0, 0, 0, 0, 0, 0, 0, 0, 0, 0, 0, 0, 0, 0, 0, 0, 0, 0, 0, 0, 0,\n",
       "                        0, 0, 0, 0, 0, 0, 0, 0, 0, 0, 0, 0], device='cuda:0')\n",
       "        ) at 0x7f76b23513f0>\n",
       "    gt_instances: <InstanceData(\n",
       "        \n",
       "            META INFORMATION\n",
       "        \n",
       "            DATA FIELDS\n",
       "            bboxes: tensor([], device='cuda:0', size=(0, 4))\n",
       "            labels: tensor([], device='cuda:0', dtype=torch.int64)\n",
       "        ) at 0x7f76b23522f0>\n",
       ") at 0x7f76b2352860>"
      ]
     },
     "execution_count": 43,
     "metadata": {},
     "output_type": "execute_result"
    }
   ],
   "source": [
    "result"
   ]
  },
  {
   "cell_type": "code",
   "execution_count": 44,
   "id": "42657ef6",
   "metadata": {},
   "outputs": [],
   "source": [
    "bboxes = result.pred_instances[\"bboxes\"][:n_motpy_tracks].cpu().numpy()\n",
    "conf = result.pred_instances[\"scores\"][:n_motpy_tracks].cpu().numpy()"
   ]
  },
  {
   "cell_type": "code",
   "execution_count": 65,
   "id": "17fbfa4c",
   "metadata": {},
   "outputs": [
    {
     "data": {
      "text/plain": [
       "((3, 4), (3,))"
      ]
     },
     "execution_count": 65,
     "metadata": {},
     "output_type": "execute_result"
    }
   ],
   "source": [
    "bboxes.shape, conf.shape"
   ]
  },
  {
   "cell_type": "code",
   "execution_count": 63,
   "id": "abdd394b",
   "metadata": {},
   "outputs": [],
   "source": [
    "bboxes, labels, test = tensortt_detector(frame)\n",
    "conf = bboxes[:n_motpy_tracks,4]\n",
    "bboxes = bboxes[:n_motpy_tracks,:4]"
   ]
  },
  {
   "cell_type": "code",
   "execution_count": 66,
   "id": "68111c5f",
   "metadata": {},
   "outputs": [],
   "source": [
    "# attach current tracked frame to previous frames\n",
    "tracker.step(\n",
    "    detections=[Detection(box=bboxes[i], score=conf[i]) for i in range(n_motpy_tracks)]\n",
    ")\n",
    "tracks = tracker.active_tracks()\n",
    "track_ids = {i.id: j for j, i in enumerate(tracks)}\n",
    "track_ids_idx = list(track_ids.keys())\n",
    "track_score_rank = np.argsort([i.score for i in tracks])[::-1]\n",
    "\n",
    "# get tracking point for each individual animal\n",
    "for animal_id in list(animal_ids.keys()):\n",
    "    # if the id is still being tracked, keep it\n",
    "    if animal_id in track_ids:\n",
    "        track = tracks[track_ids[animal_id]]\n",
    "    else:\n",
    "        tracking_missed = True\n",
    "        for rank in track_score_rank:\n",
    "            if track_ids_idx[rank] not in animal_ids:\n",
    "                track = tracks[rank]\n",
    "\n",
    "                # add the new id\n",
    "                animal_ids[track.id] = animal_ids[animal_id]\n",
    "                detection_changes[frame_id, animal_ids[animal_id]] = 1\n",
    "                # remove the previous id\n",
    "                del animal_ids[animal_id]\n",
    "                animal_id = track.id\n",
    "                tracking_missed = False\n",
    "                break\n",
    "\n",
    "    if not tracking_missed:\n",
    "        bboxes_motpy[animal_ids[animal_id]] = track.box\n",
    "        confs_motpy[animal_ids[animal_id]] = track.score\n",
    "    else:\n",
    "        missing_detections[frame_id, animal_ids[animal_id]] = 1"
   ]
  },
  {
   "cell_type": "code",
   "execution_count": 67,
   "id": "1b427ef1",
   "metadata": {},
   "outputs": [],
   "source": [
    "detection_coords[frame_id] = bboxes_motpy\n",
    "detection_conf[frame_id] = confs_motpy"
   ]
  },
  {
   "cell_type": "code",
   "execution_count": 92,
   "id": "15a3d9e1",
   "metadata": {},
   "outputs": [],
   "source": [
    "### non tensorrt version\n",
    "predictions = inference_topdown(pose_estimator, img=frame, bboxes=bboxes_motpy)\n",
    "for i in range(n_animals):\n",
    "    keypoint_coords[frame_id, i, :, :2] = predictions[i].pred_instances.keypoints[\n",
    "        0\n",
    "    ]\n",
    "    keypoint_conf[frame_id, i] = predictions[i].pred_instances.keypoint_scores[0]"
   ]
  },
  {
   "cell_type": "code",
   "execution_count": 93,
   "id": "7c087360",
   "metadata": {},
   "outputs": [
    {
     "data": {
      "text/plain": [
       "(25, 2)"
      ]
     },
     "execution_count": 93,
     "metadata": {},
     "output_type": "execute_result"
    }
   ],
   "source": [
    "keypoint_coords[frame_id, i, :, :2].shape"
   ]
  },
  {
   "cell_type": "code",
   "execution_count": 94,
   "id": "02fb6c10",
   "metadata": {},
   "outputs": [
    {
     "data": {
      "text/plain": [
       "(25,)"
      ]
     },
     "execution_count": 94,
     "metadata": {},
     "output_type": "execute_result"
    }
   ],
   "source": [
    "keypoint_conf[frame_id, i].shape"
   ]
  },
  {
   "cell_type": "code",
   "execution_count": 95,
   "id": "7a14d0e6",
   "metadata": {},
   "outputs": [
    {
     "data": {
      "text/plain": [
       "[<matplotlib.lines.Line2D at 0x7f74f87a7fa0>]"
      ]
     },
     "execution_count": 95,
     "metadata": {},
     "output_type": "execute_result"
    },
    {
     "data": {
      "image/png": "[encoded data removed]",
      "text/plain": [
       "<Figure size 640x480 with 1 Axes>"
      ]
     },
     "metadata": {},
     "output_type": "display_data"
    }
   ],
   "source": [
    "plt.plot(keypoint_conf[frame_id].T)"
   ]
  },
  {
   "cell_type": "code",
   "execution_count": 96,
   "id": "4a8073b9",
   "metadata": {},
   "outputs": [
    {
     "data": {
      "text/plain": [
       "<matplotlib.collections.PathCollection at 0x7f74f86396c0>"
      ]
     },
     "execution_count": 96,
     "metadata": {},
     "output_type": "execute_result"
    },
    {
     "data": {
      "image/png": "[encoded data removed]",
      "text/plain": [
       "<Figure size 640x480 with 1 Axes>"
      ]
     },
     "metadata": {},
     "output_type": "display_data"
    }
   ],
   "source": [
    "plt.scatter(keypoint_coords[frame_id][0,:,0], keypoint_coords[frame_id][0,:,1])"
   ]
  },
  {
   "cell_type": "code",
   "execution_count": 97,
   "id": "69e579e3",
   "metadata": {},
   "outputs": [],
   "source": [
    "# tensorrt version\n",
    "poses = tensortt_pose_estimator(frame, bboxes_motpy.astype(int))\n",
    "keypoint_coords[frame_id] = poses[:n_animals, :, :2]\n",
    "keypoint_conf[frame_id] = poses[:n_animals, :, 2]"
   ]
  },
  {
   "cell_type": "code",
   "execution_count": 98,
   "id": "61da1b91",
   "metadata": {},
   "outputs": [
    {
     "data": {
      "text/plain": [
       "(1, 25, 2)"
      ]
     },
     "execution_count": 98,
     "metadata": {},
     "output_type": "execute_result"
    }
   ],
   "source": [
    "keypoint_coords[frame_id].shape"
   ]
  },
  {
   "cell_type": "code",
   "execution_count": 99,
   "id": "fb879b3e",
   "metadata": {},
   "outputs": [
    {
     "data": {
      "text/plain": [
       "array([[913.3359375 , 465.14453125]])"
      ]
     },
     "execution_count": 99,
     "metadata": {},
     "output_type": "execute_result"
    }
   ],
   "source": [
    "keypoint_coords[0,:,0]"
   ]
  },
  {
   "cell_type": "code",
   "execution_count": 100,
   "id": "557646e2",
   "metadata": {},
   "outputs": [
    {
     "data": {
      "text/plain": [
       "<matplotlib.collections.PathCollection at 0x7f74f869bd30>"
      ]
     },
     "execution_count": 100,
     "metadata": {},
     "output_type": "execute_result"
    },
    {
     "data": {
      "image/png": "[encoded data removed]",
      "text/plain": [
       "<Figure size 640x480 with 1 Axes>"
      ]
     },
     "metadata": {},
     "output_type": "display_data"
    }
   ],
   "source": [
    "plt.scatter(keypoint_coords[frame_id][0,:,0], keypoint_coords[frame_id][0,:,1])"
   ]
  },
  {
   "cell_type": "code",
   "execution_count": 101,
   "id": "59bfe178",
   "metadata": {},
   "outputs": [],
   "source": [
    "import matplotlib.pyplot as plt"
   ]
  },
  {
   "cell_type": "code",
   "execution_count": 84,
   "id": "d844073d",
   "metadata": {},
   "outputs": [
    {
     "data": {
      "text/plain": [
       "[<matplotlib.lines.Line2D at 0x7f75182cba00>]"
      ]
     },
     "execution_count": 84,
     "metadata": {},
     "output_type": "execute_result"
    },
    {
     "data": {
      "image/png": "[encoded data removed]",
      "text/plain": [
       "<Figure size 640x480 with 1 Axes>"
      ]
     },
     "metadata": {},
     "output_type": "display_data"
    }
   ],
   "source": [
    "plt.plot(keypoint_conf[frame_id].T)"
   ]
  },
  {
   "cell_type": "code",
   "execution_count": 79,
   "id": "fb2d7bd2",
   "metadata": {},
   "outputs": [
    {
     "data": {
      "text/plain": [
       "(1, 25)"
      ]
     },
     "execution_count": 79,
     "metadata": {},
     "output_type": "execute_result"
    }
   ],
   "source": [
    "keypoint_conf[frame_id].shape"
   ]
  },
  {
   "cell_type": "code",
   "execution_count": null,
   "id": "dc0062c1",
   "metadata": {},
   "outputs": [],
   "source": []
  },
  {
   "cell_type": "markdown",
   "id": "141665cd",
   "metadata": {},
   "source": [
    "### Test run"
   ]
  },
  {
   "cell_type": "code",
   "execution_count": 13,
   "id": "1a153dfd",
   "metadata": {},
   "outputs": [
    {
     "name": "stdout",
     "output_type": "stream",
     "text": [
      "Loads checkpoint by local backend from path: /n/groups/datta/tim_sainburg/projects/24-01-05-multicamera_keypoints_mm2d/models/rtmpose/rtmpose-m_8xb64-210e_ap10k-256x256_24-05-04-21-35-13_305524/best_PCK_epoch_200.pth\n",
      "Loads checkpoint by local backend from path: /n/groups/datta/tim_sainburg/projects/24-01-05-multicamera_keypoints_mm2d/models/rtmdet/rtmdet_tiny_8xb32-300e_coco_chronic_24-05-04-17-51-58_216661/epoch_400.pth\n"
     ]
    },
    {
     "data": {
      "application/vnd.jupyter.widget-view+json": {
       "model_id": "b69584e3847149b4affc4b2f86534a1a",
       "version_major": 2,
       "version_minor": 0
      },
      "text/plain": [
       "  0%|          | 0/12 [00:00<?, ?it/s]"
      ]
     },
     "metadata": {},
     "output_type": "display_data"
    },
    {
     "name": "stderr",
     "output_type": "stream",
     "text": [
      "INFO:multicamera_airflow_pipeline.tim_240731.keypoints.predict_2D:Manually counting frames for /n/groups/datta/tim_sainburg/datasets/chronic24/video/M04002/24-05-01-13-26-43-110846/24-05-01-13-26-43-110846.BackBottom.0.mp4\n",
      "INFO:multicamera_airflow_pipeline.tim_240731.keypoints.predict_2D:Total frames: 90000\n"
     ]
    },
    {
     "data": {
      "application/vnd.jupyter.widget-view+json": {
       "model_id": "",
       "version_major": 2,
       "version_minor": 0
      },
      "text/plain": [
       "  0%|          | 0/90000 [00:00<?, ?it/s]"
      ]
     },
     "metadata": {},
     "output_type": "display_data"
    },
    {
     "name": "stdout",
     "output_type": "stream",
     "text": [
      "07/31 17:08:44 - mmengine - \u001b[5m\u001b[4m\u001b[33mWARNING\u001b[0m - The current default scope \"mmdet\" is not \"mmpose\", `init_default_scope` will force set the currentdefault scope to \"mmpose\".\n"
     ]
    },
    {
     "name": "stderr",
     "output_type": "stream",
     "text": [
      "/n/groups/datta/tim_sainburg/conda_envs/mmdeploy/lib/python3.10/site-packages/torch/functional.py:504: UserWarning: torch.meshgrid: in an upcoming release, it will be required to pass the indexing argument. (Triggered internally at /opt/conda/conda-bld/pytorch_1699449201336/work/aten/src/ATen/native/TensorShape.cpp:3526.)\n",
      "  return _VF.meshgrid(tensors, **kwargs)  # type: ignore[attr-defined]\n",
      "INFO:multicamera_airflow_pipeline.tim_240731.keypoints.predict_2D:Manually counting frames for /n/groups/datta/tim_sainburg/datasets/chronic24/video/M04002/24-05-01-13-26-43-110846/24-05-01-13-26-43-110846.BackBottom.90000.mp4\n",
      "INFO:multicamera_airflow_pipeline.tim_240731.keypoints.predict_2D:Total frames: 9\n"
     ]
    },
    {
     "data": {
      "application/vnd.jupyter.widget-view+json": {
       "model_id": "",
       "version_major": 2,
       "version_minor": 0
      },
      "text/plain": [
       "  0%|          | 0/9 [00:00<?, ?it/s]"
      ]
     },
     "metadata": {},
     "output_type": "display_data"
    },
    {
     "name": "stderr",
     "output_type": "stream",
     "text": [
      "INFO:multicamera_airflow_pipeline.tim_240731.keypoints.predict_2D:Manually counting frames for /n/groups/datta/tim_sainburg/datasets/chronic24/video/M04002/24-05-01-13-26-43-110846/24-05-01-13-26-43-110846.BackLeft.0.mp4\n",
      "INFO:multicamera_airflow_pipeline.tim_240731.keypoints.predict_2D:Total frames: 90000\n"
     ]
    },
    {
     "data": {
      "application/vnd.jupyter.widget-view+json": {
       "model_id": "",
       "version_major": 2,
       "version_minor": 0
      },
      "text/plain": [
       "  0%|          | 0/90000 [00:00<?, ?it/s]"
      ]
     },
     "metadata": {},
     "output_type": "display_data"
    },
    {
     "name": "stderr",
     "output_type": "stream",
     "text": [
      "INFO:multicamera_airflow_pipeline.tim_240731.keypoints.predict_2D:Manually counting frames for /n/groups/datta/tim_sainburg/datasets/chronic24/video/M04002/24-05-01-13-26-43-110846/24-05-01-13-26-43-110846.BackLeft.90000.mp4\n",
      "INFO:multicamera_airflow_pipeline.tim_240731.keypoints.predict_2D:Total frames: 9\n"
     ]
    },
    {
     "data": {
      "application/vnd.jupyter.widget-view+json": {
       "model_id": "",
       "version_major": 2,
       "version_minor": 0
      },
      "text/plain": [
       "  0%|          | 0/9 [00:00<?, ?it/s]"
      ]
     },
     "metadata": {},
     "output_type": "display_data"
    },
    {
     "name": "stderr",
     "output_type": "stream",
     "text": [
      "INFO:multicamera_airflow_pipeline.tim_240731.keypoints.predict_2D:Manually counting frames for /n/groups/datta/tim_sainburg/datasets/chronic24/video/M04002/24-05-01-13-26-43-110846/24-05-01-13-26-43-110846.BackRight.0.mp4\n",
      "INFO:multicamera_airflow_pipeline.tim_240731.keypoints.predict_2D:Total frames: 90000\n"
     ]
    },
    {
     "data": {
      "application/vnd.jupyter.widget-view+json": {
       "model_id": "",
       "version_major": 2,
       "version_minor": 0
      },
      "text/plain": [
       "  0%|          | 0/90000 [00:00<?, ?it/s]"
      ]
     },
     "metadata": {},
     "output_type": "display_data"
    },
    {
     "name": "stderr",
     "output_type": "stream",
     "text": [
      "INFO:multicamera_airflow_pipeline.tim_240731.keypoints.predict_2D:Manually counting frames for /n/groups/datta/tim_sainburg/datasets/chronic24/video/M04002/24-05-01-13-26-43-110846/24-05-01-13-26-43-110846.BackRight.90000.mp4\n",
      "INFO:multicamera_airflow_pipeline.tim_240731.keypoints.predict_2D:Total frames: 9\n"
     ]
    },
    {
     "data": {
      "application/vnd.jupyter.widget-view+json": {
       "model_id": "",
       "version_major": 2,
       "version_minor": 0
      },
      "text/plain": [
       "  0%|          | 0/9 [00:00<?, ?it/s]"
      ]
     },
     "metadata": {},
     "output_type": "display_data"
    },
    {
     "name": "stderr",
     "output_type": "stream",
     "text": [
      "INFO:multicamera_airflow_pipeline.tim_240731.keypoints.predict_2D:Manually counting frames for /n/groups/datta/tim_sainburg/datasets/chronic24/video/M04002/24-05-01-13-26-43-110846/24-05-01-13-26-43-110846.FrontBottom.0.mp4\n",
      "INFO:multicamera_airflow_pipeline.tim_240731.keypoints.predict_2D:Total frames: 90000\n"
     ]
    },
    {
     "data": {
      "application/vnd.jupyter.widget-view+json": {
       "model_id": "",
       "version_major": 2,
       "version_minor": 0
      },
      "text/plain": [
       "  0%|          | 0/90000 [00:00<?, ?it/s]"
      ]
     },
     "metadata": {},
     "output_type": "display_data"
    },
    {
     "name": "stderr",
     "output_type": "stream",
     "text": [
      "INFO:multicamera_airflow_pipeline.tim_240731.keypoints.predict_2D:Manually counting frames for /n/groups/datta/tim_sainburg/datasets/chronic24/video/M04002/24-05-01-13-26-43-110846/24-05-01-13-26-43-110846.FrontBottom.90000.mp4\n",
      "INFO:multicamera_airflow_pipeline.tim_240731.keypoints.predict_2D:Total frames: 9\n"
     ]
    },
    {
     "data": {
      "application/vnd.jupyter.widget-view+json": {
       "model_id": "",
       "version_major": 2,
       "version_minor": 0
      },
      "text/plain": [
       "  0%|          | 0/9 [00:00<?, ?it/s]"
      ]
     },
     "metadata": {},
     "output_type": "display_data"
    },
    {
     "name": "stderr",
     "output_type": "stream",
     "text": [
      "INFO:multicamera_airflow_pipeline.tim_240731.keypoints.predict_2D:Manually counting frames for /n/groups/datta/tim_sainburg/datasets/chronic24/video/M04002/24-05-01-13-26-43-110846/24-05-01-13-26-43-110846.FrontLeft.0.mp4\n",
      "INFO:multicamera_airflow_pipeline.tim_240731.keypoints.predict_2D:Total frames: 90000\n"
     ]
    },
    {
     "data": {
      "application/vnd.jupyter.widget-view+json": {
       "model_id": "",
       "version_major": 2,
       "version_minor": 0
      },
      "text/plain": [
       "  0%|          | 0/90000 [00:00<?, ?it/s]"
      ]
     },
     "metadata": {},
     "output_type": "display_data"
    },
    {
     "name": "stderr",
     "output_type": "stream",
     "text": [
      "INFO:multicamera_airflow_pipeline.tim_240731.keypoints.predict_2D:Manually counting frames for /n/groups/datta/tim_sainburg/datasets/chronic24/video/M04002/24-05-01-13-26-43-110846/24-05-01-13-26-43-110846.FrontLeft.90000.mp4\n",
      "INFO:multicamera_airflow_pipeline.tim_240731.keypoints.predict_2D:Total frames: 9\n"
     ]
    },
    {
     "data": {
      "application/vnd.jupyter.widget-view+json": {
       "model_id": "",
       "version_major": 2,
       "version_minor": 0
      },
      "text/plain": [
       "  0%|          | 0/9 [00:00<?, ?it/s]"
      ]
     },
     "metadata": {},
     "output_type": "display_data"
    },
    {
     "name": "stderr",
     "output_type": "stream",
     "text": [
      "INFO:multicamera_airflow_pipeline.tim_240731.keypoints.predict_2D:Manually counting frames for /n/groups/datta/tim_sainburg/datasets/chronic24/video/M04002/24-05-01-13-26-43-110846/24-05-01-13-26-43-110846.FrontRight.0.mp4\n",
      "INFO:multicamera_airflow_pipeline.tim_240731.keypoints.predict_2D:Total frames: 90000\n"
     ]
    },
    {
     "data": {
      "application/vnd.jupyter.widget-view+json": {
       "model_id": "",
       "version_major": 2,
       "version_minor": 0
      },
      "text/plain": [
       "  0%|          | 0/90000 [00:00<?, ?it/s]"
      ]
     },
     "metadata": {},
     "output_type": "display_data"
    },
    {
     "name": "stderr",
     "output_type": "stream",
     "text": [
      "INFO:multicamera_airflow_pipeline.tim_240731.keypoints.predict_2D:Manually counting frames for /n/groups/datta/tim_sainburg/datasets/chronic24/video/M04002/24-05-01-13-26-43-110846/24-05-01-13-26-43-110846.FrontRight.90000.mp4\n",
      "INFO:multicamera_airflow_pipeline.tim_240731.keypoints.predict_2D:Total frames: 9\n"
     ]
    },
    {
     "data": {
      "application/vnd.jupyter.widget-view+json": {
       "model_id": "",
       "version_major": 2,
       "version_minor": 0
      },
      "text/plain": [
       "  0%|          | 0/9 [00:00<?, ?it/s]"
      ]
     },
     "metadata": {},
     "output_type": "display_data"
    }
   ],
   "source": [
    "inferencer.run()"
   ]
  },
  {
   "cell_type": "code",
   "execution_count": null,
   "id": "0e5c69e4",
   "metadata": {},
   "outputs": [],
   "source": []
  }
 ],
 "metadata": {
  "kernelspec": {
   "display_name": "mmdeploy",
   "language": "python",
   "name": "mmdeploy"
  },
  "language_info": {
   "codemirror_mode": {
    "name": "ipython",
    "version": 3
   },
   "file_extension": ".py",
   "mimetype": "text/x-python",
   "name": "python",
   "nbconvert_exporter": "python",
   "pygments_lexer": "ipython3",
   "version": "3.10.13"
  }
 },
 "nbformat": 4,
 "nbformat_minor": 5
}
